{
 "cells": [
  {
   "cell_type": "markdown",
   "source": [
    "things to do tonite\r\n",
    "\r\n",
    "rubik :\r\n",
    "\r\n",
    "* bikin early stopper\r\n",
    "* bikin pipeline input\r\n"
   ],
   "metadata": {}
  },
  {
   "cell_type": "markdown",
   "source": [
    "# Perkenalan dan sumber masalah"
   ],
   "metadata": {}
  },
  {
   "cell_type": "markdown",
   "source": [
    "source data : <https://data.mendeley.com/datasets/4drtyfjtfy/1?ref=hackernoon.com>"
   ],
   "metadata": {}
  },
  {
   "cell_type": "markdown",
   "source": [
    "# Library"
   ],
   "metadata": {}
  },
  {
   "cell_type": "code",
   "execution_count": 1,
   "source": [
    "import pandas as pd\r\n",
    "import numpy as np\r\n",
    "import PIL\r\n",
    "import tensorflow as tf\r\n",
    "from tensorflow import keras\r\n",
    "import matplotlib.pyplot as plt\r\n",
    "from tensorflow.keras import layers\r\n",
    "from tensorflow.keras.models import Sequential\r\n",
    "from tensorflow.keras.preprocessing.image import ImageDataGenerator, img_to_array, load_img, array_to_img\r\n",
    "from tensorflow.keras.preprocessing import image_dataset_from_directory"
   ],
   "outputs": [],
   "metadata": {}
  },
  {
   "cell_type": "markdown",
   "source": [
    "# Data Loading"
   ],
   "metadata": {}
  },
  {
   "cell_type": "code",
   "execution_count": 2,
   "source": [
    "train_folder=r'data/train'\r\n",
    "val_folder=r'data/val'\r\n",
    "test_folder=r'data/test'"
   ],
   "outputs": [],
   "metadata": {}
  },
  {
   "cell_type": "code",
   "execution_count": 3,
   "source": [
    "import pathlib\r\n",
    "data_dir = pathlib.Path(train_folder)\r\n",
    "image_count = len(list(data_dir.glob('*/*.jpg')))\r\n",
    "print(image_count)"
   ],
   "outputs": [
    {
     "output_type": "stream",
     "name": "stdout",
     "text": [
      "787\n"
     ]
    }
   ],
   "metadata": {}
  },
  {
   "cell_type": "code",
   "execution_count": 4,
   "source": [
    "IMG_WIDTH=317\r\n",
    "IMG_HEIGHT=167\r\n",
    "IMG_SIZE=(IMG_WIDTH,IMG_HEIGHT)\r\n",
    "batch_size=4"
   ],
   "outputs": [],
   "metadata": {}
  },
  {
   "cell_type": "code",
   "execution_count": 5,
   "source": [
    "train_dataset = image_dataset_from_directory(\r\n",
    "    train_folder,\r\n",
    "    shuffle=True,\r\n",
    "    batch_size=batch_size,\r\n",
    "    image_size=IMG_SIZE\r\n",
    "    )"
   ],
   "outputs": [
    {
     "output_type": "stream",
     "name": "stdout",
     "text": [
      "Found 787 files belonging to 4 classes.\n"
     ]
    }
   ],
   "metadata": {}
  },
  {
   "cell_type": "code",
   "execution_count": 6,
   "source": [
    "val_dataset = tf.keras.preprocessing.image_dataset_from_directory(\r\n",
    "  val_folder,\r\n",
    "  image_size=IMG_SIZE,\r\n",
    "  batch_size=batch_size)"
   ],
   "outputs": [
    {
     "output_type": "stream",
     "name": "stdout",
     "text": [
      "Found 225 files belonging to 4 classes.\n"
     ]
    }
   ],
   "metadata": {}
  },
  {
   "cell_type": "markdown",
   "source": [
    "# Data Preprocessing"
   ],
   "metadata": {}
  },
  {
   "cell_type": "code",
   "execution_count": 7,
   "source": [
    "class_names = train_dataset.class_names\r\n",
    "print(class_names)"
   ],
   "outputs": [
    {
     "output_type": "stream",
     "name": "stdout",
     "text": [
      "['cloudy', 'rain', 'snine', 'sunrise']\n"
     ]
    }
   ],
   "metadata": {}
  },
  {
   "cell_type": "code",
   "execution_count": 8,
   "source": [
    "for image_batch, labels_batch in train_dataset:\r\n",
    "  print(image_batch.shape)\r\n",
    "  print(labels_batch.shape)\r\n",
    "  break"
   ],
   "outputs": [
    {
     "output_type": "stream",
     "name": "stdout",
     "text": [
      "(4, 317, 167, 3)\n",
      "(4,)\n"
     ]
    }
   ],
   "metadata": {}
  },
  {
   "cell_type": "code",
   "execution_count": 9,
   "source": [
    "AUTOTUNE = tf.data.AUTOTUNE\r\n",
    "\r\n",
    "train_ds = train_dataset.cache().shuffle(99).prefetch(buffer_size=AUTOTUNE)\r\n",
    "val_ds = val_dataset.cache().prefetch(buffer_size=AUTOTUNE)"
   ],
   "outputs": [],
   "metadata": {}
  },
  {
   "cell_type": "code",
   "execution_count": 10,
   "source": [
    "normalization_layer = layers.experimental.preprocessing.Rescaling(1./255)"
   ],
   "outputs": [],
   "metadata": {}
  },
  {
   "cell_type": "code",
   "execution_count": 11,
   "source": [
    "normalized_dataset = train_dataset.map(lambda x, y: (normalization_layer(x), y))\r\n",
    "image_batch, labels_batch = next(iter(normalized_dataset))\r\n",
    "first_image = image_batch[0]\r\n",
    "# Notice the pixels values are now in `[0,1]`.\r\n",
    "print(np.min(first_image), np.max(first_image))"
   ],
   "outputs": [
    {
     "output_type": "stream",
     "name": "stdout",
     "text": [
      "0.0 1.0\n"
     ]
    }
   ],
   "metadata": {}
  },
  {
   "cell_type": "markdown",
   "source": [
    "# Model"
   ],
   "metadata": {}
  },
  {
   "cell_type": "markdown",
   "source": [
    "## Base Model"
   ],
   "metadata": {}
  },
  {
   "cell_type": "markdown",
   "source": [
    "Mantra Mantra"
   ],
   "metadata": {}
  },
  {
   "cell_type": "code",
   "execution_count": 12,
   "source": [
    "keras.backend.clear_session()"
   ],
   "outputs": [],
   "metadata": {}
  },
  {
   "cell_type": "code",
   "execution_count": 13,
   "source": [
    "np.random.seed(69)\r\n",
    "tf.random.set_seed(69)"
   ],
   "outputs": [],
   "metadata": {}
  },
  {
   "cell_type": "markdown",
   "source": [
    "### Data Augmentation layer"
   ],
   "metadata": {}
  },
  {
   "cell_type": "code",
   "execution_count": 14,
   "source": [
    "img_aug = keras.Sequential(\r\n",
    "  [\r\n",
    "    layers.experimental.preprocessing.RandomFlip(\"horizontal\", input_shape=(IMG_WIDTH, IMG_HEIGHT, 3)),\r\n",
    "    layers.experimental.preprocessing.RandomRotation(0.1),\r\n",
    "    layers.experimental.preprocessing.RandomZoom(0.1),\r\n",
    "  ]\r\n",
    ")"
   ],
   "outputs": [],
   "metadata": {}
  },
  {
   "cell_type": "markdown",
   "source": [
    "> for simplicity, img_aug layer will be applied in every layer in every model"
   ],
   "metadata": {}
  },
  {
   "cell_type": "code",
   "execution_count": 15,
   "source": [
    "num_classes = 4\r\n",
    "\r\n",
    "model = Sequential([\r\n",
    "    img_aug,\r\n",
    "    layers.InputLayer(input_shape=(IMG_WIDTH,IMG_HEIGHT, 3)),\r\n",
    "    layers.Conv2D(16, 3, padding='same', activation='relu'),\r\n",
    "    layers.MaxPooling2D(),\r\n",
    "    layers.Conv2D(32, 3, padding='same', activation='relu'),\r\n",
    "    layers.MaxPooling2D(),\r\n",
    "    layers.Conv2D(64, 3, padding='same', activation='relu'),\r\n",
    "    layers.MaxPooling2D(),\r\n",
    "    layers.Dropout(0.3),\r\n",
    "    layers.Flatten(),\r\n",
    "    layers.Dense(128, activation='relu'),\r\n",
    "    layers.Dense(num_classes)\r\n",
    "])"
   ],
   "outputs": [],
   "metadata": {}
  },
  {
   "cell_type": "code",
   "execution_count": 16,
   "source": [
    "model.compile(optimizer='adam',\r\n",
    "              loss=tf.keras.losses.SparseCategoricalCrossentropy(from_logits=True),\r\n",
    "              metrics=['accuracy'])"
   ],
   "outputs": [],
   "metadata": {}
  },
  {
   "cell_type": "code",
   "execution_count": 17,
   "source": [
    "model.summary()"
   ],
   "outputs": [
    {
     "output_type": "stream",
     "name": "stdout",
     "text": [
      "Model: \"sequential_1\"\n",
      "_________________________________________________________________\n",
      "Layer (type)                 Output Shape              Param #   \n",
      "=================================================================\n",
      "sequential (Sequential)      (None, 317, 167, 3)       0         \n",
      "_________________________________________________________________\n",
      "input_1 (InputLayer)         multiple                  0         \n",
      "_________________________________________________________________\n",
      "conv2d (Conv2D)              (None, 317, 167, 16)      448       \n",
      "_________________________________________________________________\n",
      "max_pooling2d (MaxPooling2D) (None, 158, 83, 16)       0         \n",
      "_________________________________________________________________\n",
      "conv2d_1 (Conv2D)            (None, 158, 83, 32)       4640      \n",
      "_________________________________________________________________\n",
      "max_pooling2d_1 (MaxPooling2 (None, 79, 41, 32)        0         \n",
      "_________________________________________________________________\n",
      "conv2d_2 (Conv2D)            (None, 79, 41, 64)        18496     \n",
      "_________________________________________________________________\n",
      "max_pooling2d_2 (MaxPooling2 (None, 39, 20, 64)        0         \n",
      "_________________________________________________________________\n",
      "dropout (Dropout)            (None, 39, 20, 64)        0         \n",
      "_________________________________________________________________\n",
      "flatten (Flatten)            (None, 49920)             0         \n",
      "_________________________________________________________________\n",
      "dense (Dense)                (None, 128)               6389888   \n",
      "_________________________________________________________________\n",
      "dense_1 (Dense)              (None, 4)                 516       \n",
      "=================================================================\n",
      "Total params: 6,413,988\n",
      "Trainable params: 6,413,988\n",
      "Non-trainable params: 0\n",
      "_________________________________________________________________\n"
     ]
    }
   ],
   "metadata": {}
  },
  {
   "cell_type": "markdown",
   "source": [
    "### Setup Early Stoping"
   ],
   "metadata": {}
  },
  {
   "cell_type": "code",
   "execution_count": 18,
   "source": [
    "from tensorflow.keras.callbacks import EarlyStopping\r\n",
    "\r\n",
    "es = EarlyStopping(monitor='val_accuracy', mode='max', patience=10, baseline=0.75, restore_best_weights=True)\r\n"
   ],
   "outputs": [],
   "metadata": {}
  },
  {
   "cell_type": "code",
   "execution_count": 19,
   "source": [
    "epochs=100\r\n",
    "\r\n",
    "history = model.fit(\r\n",
    "    train_dataset,\r\n",
    "    validation_data=val_dataset,\r\n",
    "    epochs=epochs,\r\n",
    "    callbacks=[es],\r\n",
    ")"
   ],
   "outputs": [
    {
     "output_type": "stream",
     "name": "stdout",
     "text": [
      "Epoch 1/100\n",
      "197/197 [==============================] - 7s 18ms/step - loss: 16.2913 - accuracy: 0.6239 - val_loss: 1.1094 - val_accuracy: 0.7378\n",
      "Epoch 2/100\n",
      "197/197 [==============================] - 3s 15ms/step - loss: 0.8500 - accuracy: 0.6518 - val_loss: 0.9022 - val_accuracy: 0.7289\n",
      "Epoch 3/100\n",
      "197/197 [==============================] - 3s 16ms/step - loss: 0.8614 - accuracy: 0.6798 - val_loss: 0.9140 - val_accuracy: 0.7244\n",
      "Epoch 4/100\n",
      "197/197 [==============================] - 3s 16ms/step - loss: 1.1076 - accuracy: 0.5934 - val_loss: 0.8446 - val_accuracy: 0.6667\n",
      "Epoch 5/100\n",
      "197/197 [==============================] - 3s 17ms/step - loss: 0.9895 - accuracy: 0.5527 - val_loss: 1.0263 - val_accuracy: 0.5422\n",
      "Epoch 6/100\n",
      "197/197 [==============================] - 4s 20ms/step - loss: 0.9302 - accuracy: 0.6061 - val_loss: 1.3479 - val_accuracy: 0.5778\n"
     ]
    }
   ],
   "metadata": {}
  },
  {
   "cell_type": "markdown",
   "source": [
    "## Base Model Evaluation"
   ],
   "metadata": {}
  },
  {
   "cell_type": "markdown",
   "source": [
    "### Classification report Matrix"
   ],
   "metadata": {}
  },
  {
   "cell_type": "code",
   "execution_count": 20,
   "source": [
    "from sklearn.metrics import classification_report"
   ],
   "outputs": [],
   "metadata": {}
  },
  {
   "cell_type": "code",
   "execution_count": 21,
   "source": [
    "test_generator = ImageDataGenerator()\r\n",
    "test_data_generator = test_generator.flow_from_directory(\r\n",
    "    test_folder, # Put your path here\r\n",
    "     target_size=(IMG_WIDTH, IMG_HEIGHT),\r\n",
    "    batch_size=4,\r\n",
    "    shuffle=False)\r\n",
    "test_steps_per_epoch = np.math.ceil(test_data_generator.samples / test_data_generator.batch_size)\r\n",
    "\r\n",
    "predictions = model.predict(test_data_generator, steps=test_steps_per_epoch)\r\n",
    "# Get most likely class\r\n",
    "predicted_classes = np.argmax(predictions, axis=1)"
   ],
   "outputs": [
    {
     "output_type": "stream",
     "name": "stdout",
     "text": [
      "Found 113 images belonging to 4 classes.\n"
     ]
    }
   ],
   "metadata": {}
  },
  {
   "cell_type": "code",
   "execution_count": 22,
   "source": [
    "true_classes = test_data_generator.classes\r\n",
    "class_labels = list(test_data_generator.class_indices.keys())   "
   ],
   "outputs": [],
   "metadata": {}
  },
  {
   "cell_type": "code",
   "execution_count": 23,
   "source": [
    "report = classification_report(true_classes, predicted_classes, target_names=class_labels)\r\n",
    "print(report)    "
   ],
   "outputs": [
    {
     "output_type": "stream",
     "name": "stdout",
     "text": [
      "              precision    recall  f1-score   support\n",
      "\n",
      "      cloudy       0.54      0.90      0.68        30\n",
      "        rain       1.00      0.09      0.17        22\n",
      "       shine       0.88      0.60      0.71        25\n",
      "     sunrise       0.82      1.00      0.90        36\n",
      "\n",
      "    accuracy                           0.71       113\n",
      "   macro avg       0.81      0.65      0.61       113\n",
      "weighted avg       0.79      0.71      0.66       113\n",
      "\n"
     ]
    }
   ],
   "metadata": {}
  },
  {
   "cell_type": "markdown",
   "source": [
    "### Result Per Epoch"
   ],
   "metadata": {}
  },
  {
   "cell_type": "code",
   "execution_count": 24,
   "source": [
    "pd.DataFrame(history.history).plot(figsize=(8, 5))\r\n",
    "plt.grid(True)\r\n",
    "plt.gca(),plt.ylim(0, 5)\r\n",
    "plt.show()"
   ],
   "outputs": [
    {
     "output_type": "display_data",
     "data": {
      "image/png": "[encoded data removed]",
      "text/plain": [
       "<Figure size 800x500 with 1 Axes>"
      ]
     },
     "metadata": {}
    }
   ],
   "metadata": {}
  },
  {
   "cell_type": "markdown",
   "source": [
    "## Transfer Learning with VGG16"
   ],
   "metadata": {}
  },
  {
   "cell_type": "code",
   "execution_count": 198,
   "source": [
    "keras.backend.clear_session()"
   ],
   "outputs": [],
   "metadata": {}
  },
  {
   "cell_type": "code",
   "execution_count": 199,
   "source": [
    "np.random.seed(69)\r\n",
    "tf.random.set_seed(69)"
   ],
   "outputs": [],
   "metadata": {}
  },
  {
   "cell_type": "code",
   "execution_count": 200,
   "source": [
    "from keras.models import Sequential\r\n",
    "from keras.layers import Dense\r\n",
    "from keras.applications.vgg16 import VGG16\r\n",
    "from keras.preprocessing import image\r\n",
    "from keras.applications.vgg16 import preprocess_input\r\n",
    "from keras.applications.vgg16 import decode_predictions"
   ],
   "outputs": [],
   "metadata": {}
  },
  {
   "cell_type": "markdown",
   "source": [
    "## Data Preprocessing"
   ],
   "metadata": {}
  },
  {
   "cell_type": "markdown",
   "source": [
    "### resize the dataset to 224 X 224"
   ],
   "metadata": {}
  },
  {
   "cell_type": "code",
   "execution_count": 201,
   "source": [
    "IMG_SIZE = (224, 224)"
   ],
   "outputs": [],
   "metadata": {}
  },
  {
   "cell_type": "code",
   "execution_count": 202,
   "source": [
    "train_dataset = image_dataset_from_directory(\r\n",
    "    train_folder,\r\n",
    "    shuffle=True,\r\n",
    "    batch_size=batch_size,\r\n",
    "    image_size=IMG_SIZE\r\n",
    "    )"
   ],
   "outputs": [
    {
     "output_type": "stream",
     "name": "stdout",
     "text": [
      "Found 787 files belonging to 4 classes.\n"
     ]
    }
   ],
   "metadata": {}
  },
  {
   "cell_type": "code",
   "execution_count": 203,
   "source": [
    "train_dataset"
   ],
   "outputs": [
    {
     "output_type": "execute_result",
     "data": {
      "text/plain": [
       "<BatchDataset shapes: ((None, 224, 224, 3), (None,)), types: (tf.float32, tf.int32)>"
      ]
     },
     "metadata": {},
     "execution_count": 203
    }
   ],
   "metadata": {}
  },
  {
   "cell_type": "code",
   "execution_count": 204,
   "source": [
    "val_dataset = tf.keras.preprocessing.image_dataset_from_directory(\r\n",
    "  val_folder,\r\n",
    "  image_size=IMG_SIZE,\r\n",
    "  batch_size=batch_size)"
   ],
   "outputs": [
    {
     "output_type": "stream",
     "name": "stdout",
     "text": [
      "Found 225 files belonging to 4 classes.\n"
     ]
    }
   ],
   "metadata": {}
  },
  {
   "cell_type": "code",
   "execution_count": 205,
   "source": [
    "val_dataset"
   ],
   "outputs": [
    {
     "output_type": "execute_result",
     "data": {
      "text/plain": [
       "<BatchDataset shapes: ((None, 224, 224, 3), (None,)), types: (tf.float32, tf.int32)>"
      ]
     },
     "metadata": {},
     "execution_count": 205
    }
   ],
   "metadata": {}
  },
  {
   "cell_type": "code",
   "execution_count": 206,
   "source": [
    "val_batches = tf.data.experimental.cardinality(val_dataset)\r\n",
    "test_dataset = val_dataset.take(val_batches // 5)\r\n",
    "val_dataset = val_dataset.skip(val_batches // 5)"
   ],
   "outputs": [],
   "metadata": {}
  },
  {
   "cell_type": "code",
   "execution_count": 207,
   "source": [
    "print('Number of validation batches: %d' % tf.data.experimental.cardinality(validation_dataset))\r\n",
    "print('Number of test batches: %d' % tf.data.experimental.cardinality(test_dataset))"
   ],
   "outputs": [
    {
     "output_type": "stream",
     "name": "stdout",
     "text": [
      "Number of validation batches: 46\n",
      "Number of test batches: 11\n"
     ]
    }
   ],
   "metadata": {}
  },
  {
   "cell_type": "code",
   "execution_count": 209,
   "source": [
    "AUTOTUNE = tf.data.AUTOTUNE\r\n",
    "\r\n",
    "train_dataset = train_dataset.prefetch(buffer_size=AUTOTUNE)\r\n",
    "val_dataset = val_dataset.prefetch(buffer_size=AUTOTUNE)\r\n",
    "test_dataset = test_dataset.prefetch(buffer_size=AUTOTUNE)"
   ],
   "outputs": [],
   "metadata": {}
  },
  {
   "cell_type": "code",
   "execution_count": 226,
   "source": [
    "train_dataset"
   ],
   "outputs": [
    {
     "output_type": "execute_result",
     "data": {
      "text/plain": [
       "<PrefetchDataset shapes: ((None, 224, 224, 3), (None,)), types: (tf.float32, tf.int32)>"
      ]
     },
     "metadata": {},
     "execution_count": 226
    }
   ],
   "metadata": {}
  },
  {
   "cell_type": "markdown",
   "source": [
    "### Image Augmentation"
   ],
   "metadata": {}
  },
  {
   "cell_type": "code",
   "execution_count": 210,
   "source": [
    "img_aug = keras.Sequential(\r\n",
    "  [\r\n",
    "    layers.experimental.preprocessing.RandomFlip(\"horizontal\", input_shape=(224, 224, 3)),\r\n",
    "    layers.experimental.preprocessing.RandomRotation(0.1),\r\n",
    "    layers.experimental.preprocessing.RandomZoom(0.1),\r\n",
    "  ]\r\n",
    ")"
   ],
   "outputs": [],
   "metadata": {}
  },
  {
   "cell_type": "code",
   "execution_count": 211,
   "source": [
    "IMG_SHAPE = IMG_SIZE + (3,)"
   ],
   "outputs": [],
   "metadata": {}
  },
  {
   "cell_type": "code",
   "execution_count": 212,
   "source": [
    "IMG_SHAPE"
   ],
   "outputs": [
    {
     "output_type": "execute_result",
     "data": {
      "text/plain": [
       "(224, 224, 3)"
      ]
     },
     "metadata": {},
     "execution_count": 212
    }
   ],
   "metadata": {}
  },
  {
   "cell_type": "code",
   "execution_count": 213,
   "source": [
    "model_vgg16 = VGG16(input_shape=IMG_SHAPE, weights='imagenet', include_top=False)"
   ],
   "outputs": [],
   "metadata": {}
  },
  {
   "cell_type": "code",
   "execution_count": 214,
   "source": [
    "image_batch, label_batch = next(iter(train_dataset))\r\n",
    "feature_batch = model_vgg16(image_batch)\r\n",
    "print(feature_batch.shape)"
   ],
   "outputs": [
    {
     "output_type": "stream",
     "name": "stdout",
     "text": [
      "(4, 7, 7, 512)\n"
     ]
    }
   ],
   "metadata": {}
  },
  {
   "cell_type": "code",
   "execution_count": 215,
   "source": [
    "model_vgg16.trainable = False"
   ],
   "outputs": [],
   "metadata": {}
  },
  {
   "cell_type": "code",
   "execution_count": 216,
   "source": [
    "model_vgg16.summary()"
   ],
   "outputs": [
    {
     "output_type": "stream",
     "name": "stdout",
     "text": [
      "Model: \"vgg16\"\n",
      "_________________________________________________________________\n",
      "Layer (type)                 Output Shape              Param #   \n",
      "=================================================================\n",
      "input_1 (InputLayer)         [(None, 224, 224, 3)]     0         \n",
      "_________________________________________________________________\n",
      "block1_conv1 (Conv2D)        (None, 224, 224, 64)      1792      \n",
      "_________________________________________________________________\n",
      "block1_conv2 (Conv2D)        (None, 224, 224, 64)      36928     \n",
      "_________________________________________________________________\n",
      "block1_pool (MaxPooling2D)   (None, 112, 112, 64)      0         \n",
      "_________________________________________________________________\n",
      "block2_conv1 (Conv2D)        (None, 112, 112, 128)     73856     \n",
      "_________________________________________________________________\n",
      "block2_conv2 (Conv2D)        (None, 112, 112, 128)     147584    \n",
      "_________________________________________________________________\n",
      "block2_pool (MaxPooling2D)   (None, 56, 56, 128)       0         \n",
      "_________________________________________________________________\n",
      "block3_conv1 (Conv2D)        (None, 56, 56, 256)       295168    \n",
      "_________________________________________________________________\n",
      "block3_conv2 (Conv2D)        (None, 56, 56, 256)       590080    \n",
      "_________________________________________________________________\n",
      "block3_conv3 (Conv2D)        (None, 56, 56, 256)       590080    \n",
      "_________________________________________________________________\n",
      "block3_pool (MaxPooling2D)   (None, 28, 28, 256)       0         \n",
      "_________________________________________________________________\n",
      "block4_conv1 (Conv2D)        (None, 28, 28, 512)       1180160   \n",
      "_________________________________________________________________\n",
      "block4_conv2 (Conv2D)        (None, 28, 28, 512)       2359808   \n",
      "_________________________________________________________________\n",
      "block4_conv3 (Conv2D)        (None, 28, 28, 512)       2359808   \n",
      "_________________________________________________________________\n",
      "block4_pool (MaxPooling2D)   (None, 14, 14, 512)       0         \n",
      "_________________________________________________________________\n",
      "block5_conv1 (Conv2D)        (None, 14, 14, 512)       2359808   \n",
      "_________________________________________________________________\n",
      "block5_conv2 (Conv2D)        (None, 14, 14, 512)       2359808   \n",
      "_________________________________________________________________\n",
      "block5_conv3 (Conv2D)        (None, 14, 14, 512)       2359808   \n",
      "_________________________________________________________________\n",
      "block5_pool (MaxPooling2D)   (None, 7, 7, 512)         0         \n",
      "=================================================================\n",
      "Total params: 14,714,688\n",
      "Trainable params: 0\n",
      "Non-trainable params: 14,714,688\n",
      "_________________________________________________________________\n"
     ]
    }
   ],
   "metadata": {}
  },
  {
   "cell_type": "code",
   "execution_count": 217,
   "source": [
    "global_average_layer = tf.keras.layers.GlobalAveragePooling2D()\r\n",
    "feature_batch_average = global_average_layer(feature_batch)\r\n",
    "print(feature_batch_average.shape)"
   ],
   "outputs": [
    {
     "output_type": "stream",
     "name": "stdout",
     "text": [
      "(4, 512)\n"
     ]
    }
   ],
   "metadata": {}
  },
  {
   "cell_type": "code",
   "execution_count": 218,
   "source": [
    "prediction_layer = tf.keras.layers.Dense(1)\r\n",
    "prediction_batch = prediction_layer(feature_batch_average)\r\n",
    "print(prediction_batch.shape)"
   ],
   "outputs": [
    {
     "output_type": "stream",
     "name": "stdout",
     "text": [
      "(4, 1)\n"
     ]
    }
   ],
   "metadata": {}
  },
  {
   "cell_type": "code",
   "execution_count": 242,
   "source": [
    "inputs = tf.keras.Input(shape=(224, 224, 3))\r\n",
    "x = img_aug(inputs)\r\n",
    "x = model_vgg16(x, training=False)\r\n",
    "x = layers.Conv2D(16, 3, padding='same', activation='relu')(x)\r\n",
    "x = layers.MaxPooling2D((2,2), padding='same')(x)\r\n",
    "x = layers.Conv2D(32, 3, padding='same', activation='relu')(x)\r\n",
    "x = layers.MaxPooling2D((2,2), padding='same')(x)\r\n",
    "x = layers.Conv2D(64, 3, padding='same', activation='relu')(x)\r\n",
    "x = layers.MaxPooling2D((2,2), padding='same')(x)\r\n",
    "x = tf.keras.layers.Dropout(0.3)(x)\r\n",
    "x = layers.Flatten()(x)\r\n",
    "x = layers.Dense(128, activation='relu')(x)\r\n",
    "outputs = layers.Dense(4)(x)\r\n",
    "model = tf.keras.Model(inputs, outputs)"
   ],
   "outputs": [],
   "metadata": {}
  },
  {
   "cell_type": "code",
   "execution_count": 244,
   "source": [
    "model.compile(optimizer=tf.keras.optimizers.Adam(learning_rate=0.0001),\r\n",
    "              loss=tf.keras.losses.sparse_categorical_crossentropy,\r\n",
    "              metrics=['accuracy'])"
   ],
   "outputs": [],
   "metadata": {}
  },
  {
   "cell_type": "code",
   "execution_count": 245,
   "source": [
    "model.summary()"
   ],
   "outputs": [
    {
     "output_type": "stream",
     "name": "stdout",
     "text": [
      "Model: \"model_3\"\n",
      "_________________________________________________________________\n",
      "Layer (type)                 Output Shape              Param #   \n",
      "=================================================================\n",
      "input_7 (InputLayer)         [(None, 224, 224, 3)]     0         \n",
      "_________________________________________________________________\n",
      "sequential (Sequential)      (None, 224, 224, 3)       0         \n",
      "_________________________________________________________________\n",
      "vgg16 (Functional)           (None, 7, 7, 512)         14714688  \n",
      "_________________________________________________________________\n",
      "conv2d_13 (Conv2D)           (None, 7, 7, 16)          73744     \n",
      "_________________________________________________________________\n",
      "max_pooling2d_12 (MaxPooling (None, 4, 4, 16)          0         \n",
      "_________________________________________________________________\n",
      "conv2d_14 (Conv2D)           (None, 4, 4, 32)          4640      \n",
      "_________________________________________________________________\n",
      "max_pooling2d_13 (MaxPooling (None, 2, 2, 32)          0         \n",
      "_________________________________________________________________\n",
      "conv2d_15 (Conv2D)           (None, 2, 2, 64)          18496     \n",
      "_________________________________________________________________\n",
      "max_pooling2d_14 (MaxPooling (None, 1, 1, 64)          0         \n",
      "_________________________________________________________________\n",
      "dropout_3 (Dropout)          (None, 1, 1, 64)          0         \n",
      "_________________________________________________________________\n",
      "flatten_3 (Flatten)          (None, 64)                0         \n",
      "_________________________________________________________________\n",
      "dense_7 (Dense)              (None, 128)               8320      \n",
      "_________________________________________________________________\n",
      "dense_8 (Dense)              (None, 4)                 516       \n",
      "=================================================================\n",
      "Total params: 14,820,404\n",
      "Trainable params: 105,716\n",
      "Non-trainable params: 14,714,688\n",
      "_________________________________________________________________\n"
     ]
    }
   ],
   "metadata": {}
  },
  {
   "cell_type": "code",
   "execution_count": 246,
   "source": [
    "len(model.trainable_variables)"
   ],
   "outputs": [
    {
     "output_type": "execute_result",
     "data": {
      "text/plain": [
       "10"
      ]
     },
     "metadata": {},
     "execution_count": 246
    }
   ],
   "metadata": {}
  },
  {
   "cell_type": "code",
   "execution_count": 247,
   "source": [
    "val_dataset"
   ],
   "outputs": [
    {
     "output_type": "execute_result",
     "data": {
      "text/plain": [
       "<PrefetchDataset shapes: ((None, 224, 224, 3), (None,)), types: (tf.float32, tf.int32)>"
      ]
     },
     "metadata": {},
     "execution_count": 247
    }
   ],
   "metadata": {}
  },
  {
   "cell_type": "code",
   "execution_count": 248,
   "source": [
    "initial_epochs = 100\r\n",
    "\r\n",
    "loss0, accuracy0 = model.evaluate(val_dataset)"
   ],
   "outputs": [
    {
     "output_type": "stream",
     "name": "stdout",
     "text": [
      "46/46 [==============================] - 1s 19ms/step - loss: 5.5280 - accuracy: 0.1602\n"
     ]
    }
   ],
   "metadata": {}
  },
  {
   "cell_type": "code",
   "execution_count": 249,
   "source": [
    "print(\"initial loss: {:.2f}\".format(loss0))\r\n",
    "print(\"initial accuracy: {:.2f}\".format(accuracy0))"
   ],
   "outputs": [
    {
     "output_type": "stream",
     "name": "stdout",
     "text": [
      "initial loss: 5.53\n",
      "initial accuracy: 0.16\n"
     ]
    }
   ],
   "metadata": {}
  },
  {
   "cell_type": "code",
   "execution_count": 250,
   "source": [
    "es = EarlyStopping(monitor='val_accuracy', mode='max', patience=10,  restore_best_weights=True)\r\n"
   ],
   "outputs": [],
   "metadata": {}
  },
  {
   "cell_type": "code",
   "execution_count": 251,
   "source": [
    "history = model.fit(train_dataset,\r\n",
    "                    epochs=initial_epochs,\r\n",
    "                    validation_data=val_dataset,\r\n",
    "                    callbacks=[es],)"
   ],
   "outputs": [
    {
     "output_type": "stream",
     "name": "stdout",
     "text": [
      "Epoch 1/100\n",
      "197/197 [==============================] - 7s 29ms/step - loss: 6.3174 - accuracy: 0.2922 - val_loss: 1.6578 - val_accuracy: 0.3315\n",
      "Epoch 2/100\n",
      "197/197 [==============================] - 6s 30ms/step - loss: 2.4653 - accuracy: 0.2745 - val_loss: 1.4793 - val_accuracy: 0.3425\n",
      "Epoch 3/100\n",
      "197/197 [==============================] - 6s 32ms/step - loss: 2.0523 - accuracy: 0.3126 - val_loss: 1.3804 - val_accuracy: 0.3204\n",
      "Epoch 4/100\n",
      "197/197 [==============================] - 6s 31ms/step - loss: 1.6731 - accuracy: 0.3240 - val_loss: 1.3843 - val_accuracy: 0.3481\n",
      "Epoch 5/100\n",
      "197/197 [==============================] - 6s 32ms/step - loss: 1.6966 - accuracy: 0.3316 - val_loss: 1.3863 - val_accuracy: 0.4696\n",
      "Epoch 6/100\n",
      "197/197 [==============================] - 6s 32ms/step - loss: 1.5662 - accuracy: 0.3151 - val_loss: 1.3863 - val_accuracy: 0.4696\n",
      "Epoch 7/100\n",
      "197/197 [==============================] - 6s 31ms/step - loss: 1.4976 - accuracy: 0.3367 - val_loss: 1.3863 - val_accuracy: 0.3867\n",
      "Epoch 8/100\n",
      "197/197 [==============================] - 6s 32ms/step - loss: 1.4455 - accuracy: 0.3532 - val_loss: 1.3850 - val_accuracy: 0.3425\n",
      "Epoch 9/100\n",
      "197/197 [==============================] - 6s 31ms/step - loss: 1.5328 - accuracy: 0.3583 - val_loss: 1.3863 - val_accuracy: 0.3867\n",
      "Epoch 10/100\n",
      "197/197 [==============================] - 6s 31ms/step - loss: 1.4046 - accuracy: 0.3571 - val_loss: 1.3863 - val_accuracy: 0.3646\n",
      "Epoch 11/100\n",
      "197/197 [==============================] - 6s 31ms/step - loss: 1.3847 - accuracy: 0.3482 - val_loss: 1.3863 - val_accuracy: 0.3646\n",
      "Epoch 12/100\n",
      "197/197 [==============================] - 6s 30ms/step - loss: 1.3821 - accuracy: 0.3621 - val_loss: 1.3863 - val_accuracy: 0.3591\n",
      "Epoch 13/100\n",
      "197/197 [==============================] - 6s 31ms/step - loss: 1.4242 - accuracy: 0.3698 - val_loss: 1.3863 - val_accuracy: 0.3481\n",
      "Epoch 14/100\n",
      "197/197 [==============================] - 6s 31ms/step - loss: 1.4182 - accuracy: 0.3431 - val_loss: 1.3863 - val_accuracy: 0.3260\n",
      "Epoch 15/100\n",
      "197/197 [==============================] - 6s 32ms/step - loss: 1.4008 - accuracy: 0.3443 - val_loss: 1.3863 - val_accuracy: 0.3260\n"
     ]
    }
   ],
   "metadata": {}
  },
  {
   "cell_type": "code",
   "execution_count": 253,
   "source": [
    "test_generator = ImageDataGenerator()\r\n",
    "test_data_generator = test_generator.flow_from_directory(\r\n",
    "    test_folder, # Put your path here\r\n",
    "     target_size=(224, 224),\r\n",
    "    batch_size=4,\r\n",
    "    shuffle=False)\r\n",
    "test_steps_per_epoch = np.math.ceil(test_data_generator.samples / test_data_generator.batch_size)\r\n",
    "\r\n",
    "predictions = model.predict(test_data_generator, steps=test_steps_per_epoch)\r\n",
    "# Get most likely class\r\n",
    "predicted_classes = np.argmax(predictions, axis=1)"
   ],
   "outputs": [
    {
     "output_type": "stream",
     "name": "stdout",
     "text": [
      "Found 113 images belonging to 4 classes.\n"
     ]
    }
   ],
   "metadata": {}
  },
  {
   "cell_type": "code",
   "execution_count": 254,
   "source": [
    "true_classes = test_data_generator.classes\r\n",
    "class_labels = list(test_data_generator.class_indices.keys())   "
   ],
   "outputs": [],
   "metadata": {}
  },
  {
   "cell_type": "code",
   "execution_count": 255,
   "source": [
    "report = classification_report(true_classes, predicted_classes, target_names=class_labels)\r\n",
    "print(report)    "
   ],
   "outputs": [
    {
     "output_type": "stream",
     "name": "stdout",
     "text": [
      "              precision    recall  f1-score   support\n",
      "\n",
      "      cloudy       0.68      0.43      0.53        30\n",
      "        rain       0.20      0.05      0.07        22\n",
      "       shine       0.00      0.00      0.00        25\n",
      "     sunrise       0.40      0.94      0.56        36\n",
      "\n",
      "    accuracy                           0.42       113\n",
      "   macro avg       0.32      0.36      0.29       113\n",
      "weighted avg       0.35      0.42      0.33       113\n",
      "\n"
     ]
    }
   ],
   "metadata": {}
  },
  {
   "cell_type": "code",
   "execution_count": 257,
   "source": [
    "pd.DataFrame(history.history).plot(figsize=(8, 5))\r\n",
    "plt.grid(True)\r\n",
    "plt.gca(),plt.ylim(0, 5)\r\n",
    "plt.show()"
   ],
   "outputs": [
    {
     "output_type": "display_data",
     "data": {
      "image/png": "[encoded data removed]",
      "text/plain": [
       "<Figure size 800x500 with 1 Axes>"
      ]
     },
     "metadata": {}
    }
   ],
   "metadata": {}
  }
 ],
 "metadata": {
  "orig_nbformat": 4,
  "language_info": {
   "name": "python",
   "version": "3.8.11",
   "mimetype": "text/x-python",
   "codemirror_mode": {
    "name": "ipython",
    "version": 3
   },
   "pygments_lexer": "ipython3",
   "nbconvert_exporter": "python",
   "file_extension": ".py"
  },
  "kernelspec": {
   "name": "python3",
   "display_name": "Python 3.8.11 64-bit ('tflow': conda)"
  },
  "interpreter": {
   "hash": "ebd10218da585834833dfe259ad55586840ba24f9b552684ad94dc0527cf72a6"
  }
 },
 "nbformat": 4,
 "nbformat_minor": 2
}