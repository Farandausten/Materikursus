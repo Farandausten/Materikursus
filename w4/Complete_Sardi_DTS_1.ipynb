{
  "nbformat": 4,
  "nbformat_minor": 0,
  "metadata": {
    "colab": {
      "name": "Complete_Sardi_DTS.ipynb",
      "provenance": [],
      "collapsed_sections": [
        "vy_AoAcD37NU"
      ]
    },
    "kernelspec": {
      "name": "python3",
      "display_name": "Python 3"
    },
    "language_info": {
      "name": "python"
    }
  },
  "cells": [
    {
      "cell_type": "markdown",
      "metadata": {
        "id": "YbL9OMvnJupo"
      },
      "source": [
        "#DECISION TREE"
      ]
    },
    {
      "cell_type": "code",
      "metadata": {
        "id": "v1bicuKtbDis"
      },
      "source": [
        "import pandas as pd\n",
        "import numpy as np\n",
        "df=pd.read_csv('https://archive.ics.uci.edu/ml/machine-learning-databases/voting-records/house-votes-84.data', \n",
        "                        names = ['party', 'handicapped-infants', 'water-project-cost-sharing', 'adoption-of-the-budget-resolution', \n",
        "                                 'physician-fee-freeze', 'el-salvador-aid', 'religious-groups-in-schools', 'anti-satellite-test-ban', \n",
        "                                 'aid-to-nicaraguan-contras', 'mx-missile', 'immigration','synfuels-corporation-cutback', 'education-spending',\n",
        "                                 'superfund-right-to-sue','crime','duty-free-exports','export-administration-act-south-africa'])"
      ],
      "execution_count": null,
      "outputs": []
    },
    {
      "cell_type": "code",
      "metadata": {
        "colab": {
          "base_uri": "https://localhost:8080/",
          "height": 212
        },
        "id": "n6bNSxbqb6ld",
        "outputId": "7a555dd1-ab6f-4f0d-9d8b-faebff0e70f2"
      },
      "source": [
        "df.head(3)"
      ],
      "execution_count": null,
      "outputs": [
        {
          "output_type": "execute_result",
          "data": {
            "text/html": [
              "<div>\n",
              "<style scoped>\n",
              "    .dataframe tbody tr th:only-of-type {\n",
              "        vertical-align: middle;\n",
              "    }\n",
              "\n",
              "    .dataframe tbody tr th {\n",
              "        vertical-align: top;\n",
              "    }\n",
              "\n",
              "    .dataframe thead th {\n",
              "        text-align: right;\n",
              "    }\n",
              "</style>\n",
              "<table border=\"1\" class=\"dataframe\">\n",
              "  <thead>\n",
              "    <tr style=\"text-align: right;\">\n",
              "      <th></th>\n",
              "      <th>party</th>\n",
              "      <th>handicapped-infants</th>\n",
              "      <th>water-project-cost-sharing</th>\n",
              "      <th>adoption-of-the-budget-resolution</th>\n",
              "      <th>physician-fee-freeze</th>\n",
              "      <th>el-salvador-aid</th>\n",
              "      <th>religious-groups-in-schools</th>\n",
              "      <th>anti-satellite-test-ban</th>\n",
              "      <th>aid-to-nicaraguan-contras</th>\n",
              "      <th>mx-missile</th>\n",
              "      <th>immigration</th>\n",
              "      <th>synfuels-corporation-cutback</th>\n",
              "      <th>education-spending</th>\n",
              "      <th>superfund-right-to-sue</th>\n",
              "      <th>crime</th>\n",
              "      <th>duty-free-exports</th>\n",
              "      <th>export-administration-act-south-africa</th>\n",
              "    </tr>\n",
              "  </thead>\n",
              "  <tbody>\n",
              "    <tr>\n",
              "      <th>0</th>\n",
              "      <td>republican</td>\n",
              "      <td>n</td>\n",
              "      <td>y</td>\n",
              "      <td>n</td>\n",
              "      <td>y</td>\n",
              "      <td>y</td>\n",
              "      <td>y</td>\n",
              "      <td>n</td>\n",
              "      <td>n</td>\n",
              "      <td>n</td>\n",
              "      <td>y</td>\n",
              "      <td>?</td>\n",
              "      <td>y</td>\n",
              "      <td>y</td>\n",
              "      <td>y</td>\n",
              "      <td>n</td>\n",
              "      <td>y</td>\n",
              "    </tr>\n",
              "    <tr>\n",
              "      <th>1</th>\n",
              "      <td>republican</td>\n",
              "      <td>n</td>\n",
              "      <td>y</td>\n",
              "      <td>n</td>\n",
              "      <td>y</td>\n",
              "      <td>y</td>\n",
              "      <td>y</td>\n",
              "      <td>n</td>\n",
              "      <td>n</td>\n",
              "      <td>n</td>\n",
              "      <td>n</td>\n",
              "      <td>n</td>\n",
              "      <td>y</td>\n",
              "      <td>y</td>\n",
              "      <td>y</td>\n",
              "      <td>n</td>\n",
              "      <td>?</td>\n",
              "    </tr>\n",
              "    <tr>\n",
              "      <th>2</th>\n",
              "      <td>democrat</td>\n",
              "      <td>?</td>\n",
              "      <td>y</td>\n",
              "      <td>y</td>\n",
              "      <td>?</td>\n",
              "      <td>y</td>\n",
              "      <td>y</td>\n",
              "      <td>n</td>\n",
              "      <td>n</td>\n",
              "      <td>n</td>\n",
              "      <td>n</td>\n",
              "      <td>y</td>\n",
              "      <td>n</td>\n",
              "      <td>y</td>\n",
              "      <td>y</td>\n",
              "      <td>n</td>\n",
              "      <td>n</td>\n",
              "    </tr>\n",
              "  </tbody>\n",
              "</table>\n",
              "</div>"
            ],
            "text/plain": [
              "        party  ... export-administration-act-south-africa\n",
              "0  republican  ...                                      y\n",
              "1  republican  ...                                      ?\n",
              "2    democrat  ...                                      n\n",
              "\n",
              "[3 rows x 17 columns]"
            ]
          },
          "metadata": {
            "tags": []
          },
          "execution_count": 8
        }
      ]
    },
    {
      "cell_type": "code",
      "metadata": {
        "colab": {
          "base_uri": "https://localhost:8080/",
          "height": 274
        },
        "id": "5d0b506ycHi0",
        "outputId": "85e805f4-4087-4339-a890-048560aee0ef"
      },
      "source": [
        "df.tail()"
      ],
      "execution_count": null,
      "outputs": [
        {
          "output_type": "execute_result",
          "data": {
            "text/html": [
              "<div>\n",
              "<style scoped>\n",
              "    .dataframe tbody tr th:only-of-type {\n",
              "        vertical-align: middle;\n",
              "    }\n",
              "\n",
              "    .dataframe tbody tr th {\n",
              "        vertical-align: top;\n",
              "    }\n",
              "\n",
              "    .dataframe thead th {\n",
              "        text-align: right;\n",
              "    }\n",
              "</style>\n",
              "<table border=\"1\" class=\"dataframe\">\n",
              "  <thead>\n",
              "    <tr style=\"text-align: right;\">\n",
              "      <th></th>\n",
              "      <th>party</th>\n",
              "      <th>handicapped-infants</th>\n",
              "      <th>water-project-cost-sharing</th>\n",
              "      <th>adoption-of-the-budget-resolution</th>\n",
              "      <th>physician-fee-freeze</th>\n",
              "      <th>el-salvador-aid</th>\n",
              "      <th>religious-groups-in-schools</th>\n",
              "      <th>anti-satellite-test-ban</th>\n",
              "      <th>aid-to-nicaraguan-contras</th>\n",
              "      <th>mx-missile</th>\n",
              "      <th>immigration</th>\n",
              "      <th>synfuels-corporation-cutback</th>\n",
              "      <th>education-spending</th>\n",
              "      <th>superfund-right-to-sue</th>\n",
              "      <th>crime</th>\n",
              "      <th>duty-free-exports</th>\n",
              "      <th>export-administration-act-south-africa</th>\n",
              "    </tr>\n",
              "  </thead>\n",
              "  <tbody>\n",
              "    <tr>\n",
              "      <th>430</th>\n",
              "      <td>republican</td>\n",
              "      <td>n</td>\n",
              "      <td>n</td>\n",
              "      <td>y</td>\n",
              "      <td>y</td>\n",
              "      <td>y</td>\n",
              "      <td>y</td>\n",
              "      <td>n</td>\n",
              "      <td>n</td>\n",
              "      <td>y</td>\n",
              "      <td>y</td>\n",
              "      <td>n</td>\n",
              "      <td>y</td>\n",
              "      <td>y</td>\n",
              "      <td>y</td>\n",
              "      <td>n</td>\n",
              "      <td>y</td>\n",
              "    </tr>\n",
              "    <tr>\n",
              "      <th>431</th>\n",
              "      <td>democrat</td>\n",
              "      <td>n</td>\n",
              "      <td>n</td>\n",
              "      <td>y</td>\n",
              "      <td>n</td>\n",
              "      <td>n</td>\n",
              "      <td>n</td>\n",
              "      <td>y</td>\n",
              "      <td>y</td>\n",
              "      <td>y</td>\n",
              "      <td>y</td>\n",
              "      <td>n</td>\n",
              "      <td>n</td>\n",
              "      <td>n</td>\n",
              "      <td>n</td>\n",
              "      <td>n</td>\n",
              "      <td>y</td>\n",
              "    </tr>\n",
              "    <tr>\n",
              "      <th>432</th>\n",
              "      <td>republican</td>\n",
              "      <td>n</td>\n",
              "      <td>?</td>\n",
              "      <td>n</td>\n",
              "      <td>y</td>\n",
              "      <td>y</td>\n",
              "      <td>y</td>\n",
              "      <td>n</td>\n",
              "      <td>n</td>\n",
              "      <td>n</td>\n",
              "      <td>n</td>\n",
              "      <td>y</td>\n",
              "      <td>y</td>\n",
              "      <td>y</td>\n",
              "      <td>y</td>\n",
              "      <td>n</td>\n",
              "      <td>y</td>\n",
              "    </tr>\n",
              "    <tr>\n",
              "      <th>433</th>\n",
              "      <td>republican</td>\n",
              "      <td>n</td>\n",
              "      <td>n</td>\n",
              "      <td>n</td>\n",
              "      <td>y</td>\n",
              "      <td>y</td>\n",
              "      <td>y</td>\n",
              "      <td>?</td>\n",
              "      <td>?</td>\n",
              "      <td>?</td>\n",
              "      <td>?</td>\n",
              "      <td>n</td>\n",
              "      <td>y</td>\n",
              "      <td>y</td>\n",
              "      <td>y</td>\n",
              "      <td>n</td>\n",
              "      <td>y</td>\n",
              "    </tr>\n",
              "    <tr>\n",
              "      <th>434</th>\n",
              "      <td>republican</td>\n",
              "      <td>n</td>\n",
              "      <td>y</td>\n",
              "      <td>n</td>\n",
              "      <td>y</td>\n",
              "      <td>y</td>\n",
              "      <td>y</td>\n",
              "      <td>n</td>\n",
              "      <td>n</td>\n",
              "      <td>n</td>\n",
              "      <td>y</td>\n",
              "      <td>n</td>\n",
              "      <td>y</td>\n",
              "      <td>y</td>\n",
              "      <td>y</td>\n",
              "      <td>?</td>\n",
              "      <td>n</td>\n",
              "    </tr>\n",
              "  </tbody>\n",
              "</table>\n",
              "</div>"
            ],
            "text/plain": [
              "          party  ... export-administration-act-south-africa\n",
              "430  republican  ...                                      y\n",
              "431    democrat  ...                                      y\n",
              "432  republican  ...                                      y\n",
              "433  republican  ...                                      y\n",
              "434  republican  ...                                      n\n",
              "\n",
              "[5 rows x 17 columns]"
            ]
          },
          "metadata": {
            "tags": []
          },
          "execution_count": 9
        }
      ]
    },
    {
      "cell_type": "code",
      "metadata": {
        "colab": {
          "base_uri": "https://localhost:8080/"
        },
        "id": "TRORVpA_dG-K",
        "outputId": "c39c8217-4923-4ccc-dbf0-80bb0d83a736"
      },
      "source": [
        "df.info()"
      ],
      "execution_count": null,
      "outputs": [
        {
          "output_type": "stream",
          "text": [
            "<class 'pandas.core.frame.DataFrame'>\n",
            "RangeIndex: 435 entries, 0 to 434\n",
            "Data columns (total 17 columns):\n",
            " #   Column                                  Non-Null Count  Dtype \n",
            "---  ------                                  --------------  ----- \n",
            " 0   party                                   435 non-null    object\n",
            " 1   handicapped-infants                     435 non-null    object\n",
            " 2   water-project-cost-sharing              435 non-null    object\n",
            " 3   adoption-of-the-budget-resolution       435 non-null    object\n",
            " 4   physician-fee-freeze                    435 non-null    object\n",
            " 5   el-salvador-aid                         435 non-null    object\n",
            " 6   religious-groups-in-schools             435 non-null    object\n",
            " 7   anti-satellite-test-ban                 435 non-null    object\n",
            " 8   aid-to-nicaraguan-contras               435 non-null    object\n",
            " 9   mx-missile                              435 non-null    object\n",
            " 10  immigration                             435 non-null    object\n",
            " 11  synfuels-corporation-cutback            435 non-null    object\n",
            " 12  education-spending                      435 non-null    object\n",
            " 13  superfund-right-to-sue                  435 non-null    object\n",
            " 14  crime                                   435 non-null    object\n",
            " 15  duty-free-exports                       435 non-null    object\n",
            " 16  export-administration-act-south-africa  435 non-null    object\n",
            "dtypes: object(17)\n",
            "memory usage: 57.9+ KB\n"
          ],
          "name": "stdout"
        }
      ]
    },
    {
      "cell_type": "code",
      "metadata": {
        "colab": {
          "base_uri": "https://localhost:8080/",
          "height": 242
        },
        "id": "qtK8wpCqdJOC",
        "outputId": "e5677f97-7837-491b-d71a-dada94f360a9"
      },
      "source": [
        "df.describe()"
      ],
      "execution_count": null,
      "outputs": [
        {
          "output_type": "execute_result",
          "data": {
            "text/html": [
              "<div>\n",
              "<style scoped>\n",
              "    .dataframe tbody tr th:only-of-type {\n",
              "        vertical-align: middle;\n",
              "    }\n",
              "\n",
              "    .dataframe tbody tr th {\n",
              "        vertical-align: top;\n",
              "    }\n",
              "\n",
              "    .dataframe thead th {\n",
              "        text-align: right;\n",
              "    }\n",
              "</style>\n",
              "<table border=\"1\" class=\"dataframe\">\n",
              "  <thead>\n",
              "    <tr style=\"text-align: right;\">\n",
              "      <th></th>\n",
              "      <th>party</th>\n",
              "      <th>handicapped-infants</th>\n",
              "      <th>water-project-cost-sharing</th>\n",
              "      <th>adoption-of-the-budget-resolution</th>\n",
              "      <th>physician-fee-freeze</th>\n",
              "      <th>el-salvador-aid</th>\n",
              "      <th>religious-groups-in-schools</th>\n",
              "      <th>anti-satellite-test-ban</th>\n",
              "      <th>aid-to-nicaraguan-contras</th>\n",
              "      <th>mx-missile</th>\n",
              "      <th>immigration</th>\n",
              "      <th>synfuels-corporation-cutback</th>\n",
              "      <th>education-spending</th>\n",
              "      <th>superfund-right-to-sue</th>\n",
              "      <th>crime</th>\n",
              "      <th>duty-free-exports</th>\n",
              "      <th>export-administration-act-south-africa</th>\n",
              "    </tr>\n",
              "  </thead>\n",
              "  <tbody>\n",
              "    <tr>\n",
              "      <th>count</th>\n",
              "      <td>435</td>\n",
              "      <td>435</td>\n",
              "      <td>435</td>\n",
              "      <td>435</td>\n",
              "      <td>435</td>\n",
              "      <td>435</td>\n",
              "      <td>435</td>\n",
              "      <td>435</td>\n",
              "      <td>435</td>\n",
              "      <td>435</td>\n",
              "      <td>435</td>\n",
              "      <td>435</td>\n",
              "      <td>435</td>\n",
              "      <td>435</td>\n",
              "      <td>435</td>\n",
              "      <td>435</td>\n",
              "      <td>435</td>\n",
              "    </tr>\n",
              "    <tr>\n",
              "      <th>unique</th>\n",
              "      <td>2</td>\n",
              "      <td>3</td>\n",
              "      <td>3</td>\n",
              "      <td>3</td>\n",
              "      <td>3</td>\n",
              "      <td>3</td>\n",
              "      <td>3</td>\n",
              "      <td>3</td>\n",
              "      <td>3</td>\n",
              "      <td>3</td>\n",
              "      <td>3</td>\n",
              "      <td>3</td>\n",
              "      <td>3</td>\n",
              "      <td>3</td>\n",
              "      <td>3</td>\n",
              "      <td>3</td>\n",
              "      <td>3</td>\n",
              "    </tr>\n",
              "    <tr>\n",
              "      <th>top</th>\n",
              "      <td>democrat</td>\n",
              "      <td>n</td>\n",
              "      <td>y</td>\n",
              "      <td>y</td>\n",
              "      <td>n</td>\n",
              "      <td>y</td>\n",
              "      <td>y</td>\n",
              "      <td>y</td>\n",
              "      <td>y</td>\n",
              "      <td>y</td>\n",
              "      <td>y</td>\n",
              "      <td>n</td>\n",
              "      <td>n</td>\n",
              "      <td>y</td>\n",
              "      <td>y</td>\n",
              "      <td>n</td>\n",
              "      <td>y</td>\n",
              "    </tr>\n",
              "    <tr>\n",
              "      <th>freq</th>\n",
              "      <td>267</td>\n",
              "      <td>236</td>\n",
              "      <td>195</td>\n",
              "      <td>253</td>\n",
              "      <td>247</td>\n",
              "      <td>212</td>\n",
              "      <td>272</td>\n",
              "      <td>239</td>\n",
              "      <td>242</td>\n",
              "      <td>207</td>\n",
              "      <td>216</td>\n",
              "      <td>264</td>\n",
              "      <td>233</td>\n",
              "      <td>209</td>\n",
              "      <td>248</td>\n",
              "      <td>233</td>\n",
              "      <td>269</td>\n",
              "    </tr>\n",
              "  </tbody>\n",
              "</table>\n",
              "</div>"
            ],
            "text/plain": [
              "           party  ... export-administration-act-south-africa\n",
              "count        435  ...                                    435\n",
              "unique         2  ...                                      3\n",
              "top     democrat  ...                                      y\n",
              "freq         267  ...                                    269\n",
              "\n",
              "[4 rows x 17 columns]"
            ]
          },
          "metadata": {
            "tags": []
          },
          "execution_count": 12
        }
      ]
    },
    {
      "cell_type": "code",
      "metadata": {
        "colab": {
          "base_uri": "https://localhost:8080/"
        },
        "id": "LLbnrh_kcrA9",
        "outputId": "f0d63d5c-723b-4f6d-ec3e-c3fe67ac66dd"
      },
      "source": [
        "#untuk melihat kolom \n",
        "print(df.keys())"
      ],
      "execution_count": null,
      "outputs": [
        {
          "output_type": "stream",
          "text": [
            "Index(['party', 'handicapped-infants', 'water-project-cost-sharing',\n",
            "       'adoption-of-the-budget-resolution', 'physician-fee-freeze',\n",
            "       'el-salvador-aid', 'religious-groups-in-schools',\n",
            "       'anti-satellite-test-ban', 'aid-to-nicaraguan-contras', 'mx-missile',\n",
            "       'immigration', 'synfuels-corporation-cutback', 'education-spending',\n",
            "       'superfund-right-to-sue', 'crime', 'duty-free-exports',\n",
            "       'export-administration-act-south-africa'],\n",
            "      dtype='object')\n"
          ],
          "name": "stdout"
        }
      ]
    },
    {
      "cell_type": "markdown",
      "metadata": {
        "id": "8mTiRE6OhvH0"
      },
      "source": [
        "**Preprocessing (make data ready for modelling)**"
      ]
    },
    {
      "cell_type": "markdown",
      "metadata": {
        "id": "ObrjcBV6ni9L"
      },
      "source": [
        "https://towardsdatascience.com/categorical-encoding-using-label-encoding-and-one-hot-encoder-911ef77fb5bd"
      ]
    },
    {
      "cell_type": "markdown",
      "metadata": {
        "id": "wU58cGPClpr3"
      },
      "source": [
        "cara 1"
      ]
    },
    {
      "cell_type": "code",
      "metadata": {
        "id": "Blf9pPsofpaI"
      },
      "source": [
        "# a list with all missing value formats\n",
        "missing_value_formats = [\"n.a.\",\"?\",\"NA\",\"n/a\", \"na\", \"--\"]\n",
        "df = pd.read_csv('https://archive.ics.uci.edu/ml/machine-learning-databases/voting-records/house-votes-84.data', \n",
        "                        names = ['party', 'handicapped-infants', 'water-project-cost-sharing', \n",
        "                                 'adoption-of-the-budget-resolution', 'physician-fee-freeze', \n",
        "                                 'el-salvador-aid', 'religious-groups-in-schools', \n",
        "                                 'anti-satellite-test-ban', 'aid-to-nicaraguan-contras', \n",
        "                                 'mx-missile', 'immigration','synfuels-corporation-cutback', \n",
        "                                 'education-spending', 'superfund-right-to-sue','crime','duty-free-exports',\n",
        "                                 'export-administration-act-south-africa'], na_values = missing_value_formats)"
      ],
      "execution_count": null,
      "outputs": []
    },
    {
      "cell_type": "code",
      "metadata": {
        "colab": {
          "base_uri": "https://localhost:8080/",
          "height": 274
        },
        "id": "MsMRrIeXgcR-",
        "outputId": "ce81d63a-ade3-4de0-f63f-d93aee7a83fc"
      },
      "source": [
        "df.head()"
      ],
      "execution_count": null,
      "outputs": [
        {
          "output_type": "execute_result",
          "data": {
            "text/html": [
              "<div>\n",
              "<style scoped>\n",
              "    .dataframe tbody tr th:only-of-type {\n",
              "        vertical-align: middle;\n",
              "    }\n",
              "\n",
              "    .dataframe tbody tr th {\n",
              "        vertical-align: top;\n",
              "    }\n",
              "\n",
              "    .dataframe thead th {\n",
              "        text-align: right;\n",
              "    }\n",
              "</style>\n",
              "<table border=\"1\" class=\"dataframe\">\n",
              "  <thead>\n",
              "    <tr style=\"text-align: right;\">\n",
              "      <th></th>\n",
              "      <th>party</th>\n",
              "      <th>handicapped-infants</th>\n",
              "      <th>water-project-cost-sharing</th>\n",
              "      <th>adoption-of-the-budget-resolution</th>\n",
              "      <th>physician-fee-freeze</th>\n",
              "      <th>el-salvador-aid</th>\n",
              "      <th>religious-groups-in-schools</th>\n",
              "      <th>anti-satellite-test-ban</th>\n",
              "      <th>aid-to-nicaraguan-contras</th>\n",
              "      <th>mx-missile</th>\n",
              "      <th>immigration</th>\n",
              "      <th>synfuels-corporation-cutback</th>\n",
              "      <th>education-spending</th>\n",
              "      <th>superfund-right-to-sue</th>\n",
              "      <th>crime</th>\n",
              "      <th>duty-free-exports</th>\n",
              "      <th>export-administration-act-south-africa</th>\n",
              "    </tr>\n",
              "  </thead>\n",
              "  <tbody>\n",
              "    <tr>\n",
              "      <th>0</th>\n",
              "      <td>republican</td>\n",
              "      <td>n</td>\n",
              "      <td>y</td>\n",
              "      <td>n</td>\n",
              "      <td>y</td>\n",
              "      <td>y</td>\n",
              "      <td>y</td>\n",
              "      <td>n</td>\n",
              "      <td>n</td>\n",
              "      <td>n</td>\n",
              "      <td>y</td>\n",
              "      <td>NaN</td>\n",
              "      <td>y</td>\n",
              "      <td>y</td>\n",
              "      <td>y</td>\n",
              "      <td>n</td>\n",
              "      <td>y</td>\n",
              "    </tr>\n",
              "    <tr>\n",
              "      <th>1</th>\n",
              "      <td>republican</td>\n",
              "      <td>n</td>\n",
              "      <td>y</td>\n",
              "      <td>n</td>\n",
              "      <td>y</td>\n",
              "      <td>y</td>\n",
              "      <td>y</td>\n",
              "      <td>n</td>\n",
              "      <td>n</td>\n",
              "      <td>n</td>\n",
              "      <td>n</td>\n",
              "      <td>n</td>\n",
              "      <td>y</td>\n",
              "      <td>y</td>\n",
              "      <td>y</td>\n",
              "      <td>n</td>\n",
              "      <td>NaN</td>\n",
              "    </tr>\n",
              "    <tr>\n",
              "      <th>2</th>\n",
              "      <td>democrat</td>\n",
              "      <td>NaN</td>\n",
              "      <td>y</td>\n",
              "      <td>y</td>\n",
              "      <td>NaN</td>\n",
              "      <td>y</td>\n",
              "      <td>y</td>\n",
              "      <td>n</td>\n",
              "      <td>n</td>\n",
              "      <td>n</td>\n",
              "      <td>n</td>\n",
              "      <td>y</td>\n",
              "      <td>n</td>\n",
              "      <td>y</td>\n",
              "      <td>y</td>\n",
              "      <td>n</td>\n",
              "      <td>n</td>\n",
              "    </tr>\n",
              "    <tr>\n",
              "      <th>3</th>\n",
              "      <td>democrat</td>\n",
              "      <td>n</td>\n",
              "      <td>y</td>\n",
              "      <td>y</td>\n",
              "      <td>n</td>\n",
              "      <td>NaN</td>\n",
              "      <td>y</td>\n",
              "      <td>n</td>\n",
              "      <td>n</td>\n",
              "      <td>n</td>\n",
              "      <td>n</td>\n",
              "      <td>y</td>\n",
              "      <td>n</td>\n",
              "      <td>y</td>\n",
              "      <td>n</td>\n",
              "      <td>n</td>\n",
              "      <td>y</td>\n",
              "    </tr>\n",
              "    <tr>\n",
              "      <th>4</th>\n",
              "      <td>democrat</td>\n",
              "      <td>y</td>\n",
              "      <td>y</td>\n",
              "      <td>y</td>\n",
              "      <td>n</td>\n",
              "      <td>y</td>\n",
              "      <td>y</td>\n",
              "      <td>n</td>\n",
              "      <td>n</td>\n",
              "      <td>n</td>\n",
              "      <td>n</td>\n",
              "      <td>y</td>\n",
              "      <td>NaN</td>\n",
              "      <td>y</td>\n",
              "      <td>y</td>\n",
              "      <td>y</td>\n",
              "      <td>y</td>\n",
              "    </tr>\n",
              "  </tbody>\n",
              "</table>\n",
              "</div>"
            ],
            "text/plain": [
              "        party  ... export-administration-act-south-africa\n",
              "0  republican  ...                                      y\n",
              "1  republican  ...                                    NaN\n",
              "2    democrat  ...                                      n\n",
              "3    democrat  ...                                      y\n",
              "4    democrat  ...                                      y\n",
              "\n",
              "[5 rows x 17 columns]"
            ]
          },
          "metadata": {
            "tags": []
          },
          "execution_count": 104
        }
      ]
    },
    {
      "cell_type": "code",
      "metadata": {
        "id": "fRtmfwIO6Lmq"
      },
      "source": [
        "voting_data = df.copy()"
      ],
      "execution_count": null,
      "outputs": []
    },
    {
      "cell_type": "markdown",
      "metadata": {
        "id": "zKLqsqBggvoX"
      },
      "source": [
        "Cara ke 2"
      ]
    },
    {
      "cell_type": "code",
      "metadata": {
        "colab": {
          "base_uri": "https://localhost:8080/",
          "height": 274
        },
        "id": "PQOxV80MddLq",
        "outputId": "f454dcda-48eb-417a-c036-4c011c24fb95"
      },
      "source": [
        "ynmap = {'y':1,'n':0,'?':np.nan}\n",
        "partymap = {'republican':0,'democrat':1}\n",
        "voting_data['party_USA'] = voting_data['party'].map(partymap)\n",
        "voting_data.drop('party',axis=1,inplace=True)\n",
        "for column in voting_data.columns.drop('party_USA'):\n",
        "    voting_data[column+'1'] = voting_data[column].map(ynmap)\n",
        "    voting_data.drop(column,axis=1,inplace=True)\n",
        "# data_col = voting_data.columns\n",
        "voting_data.head()"
      ],
      "execution_count": null,
      "outputs": [
        {
          "output_type": "execute_result",
          "data": {
            "text/html": [
              "<div>\n",
              "<style scoped>\n",
              "    .dataframe tbody tr th:only-of-type {\n",
              "        vertical-align: middle;\n",
              "    }\n",
              "\n",
              "    .dataframe tbody tr th {\n",
              "        vertical-align: top;\n",
              "    }\n",
              "\n",
              "    .dataframe thead th {\n",
              "        text-align: right;\n",
              "    }\n",
              "</style>\n",
              "<table border=\"1\" class=\"dataframe\">\n",
              "  <thead>\n",
              "    <tr style=\"text-align: right;\">\n",
              "      <th></th>\n",
              "      <th>party_USA</th>\n",
              "      <th>handicapped-infants1</th>\n",
              "      <th>water-project-cost-sharing1</th>\n",
              "      <th>adoption-of-the-budget-resolution1</th>\n",
              "      <th>physician-fee-freeze1</th>\n",
              "      <th>el-salvador-aid1</th>\n",
              "      <th>religious-groups-in-schools1</th>\n",
              "      <th>anti-satellite-test-ban1</th>\n",
              "      <th>aid-to-nicaraguan-contras1</th>\n",
              "      <th>mx-missile1</th>\n",
              "      <th>immigration1</th>\n",
              "      <th>synfuels-corporation-cutback1</th>\n",
              "      <th>education-spending1</th>\n",
              "      <th>superfund-right-to-sue1</th>\n",
              "      <th>crime1</th>\n",
              "      <th>duty-free-exports1</th>\n",
              "      <th>export-administration-act-south-africa1</th>\n",
              "    </tr>\n",
              "  </thead>\n",
              "  <tbody>\n",
              "    <tr>\n",
              "      <th>0</th>\n",
              "      <td>0</td>\n",
              "      <td>0.0</td>\n",
              "      <td>1.0</td>\n",
              "      <td>0.0</td>\n",
              "      <td>1.0</td>\n",
              "      <td>1.0</td>\n",
              "      <td>1.0</td>\n",
              "      <td>0.0</td>\n",
              "      <td>0.0</td>\n",
              "      <td>0.0</td>\n",
              "      <td>1.0</td>\n",
              "      <td>NaN</td>\n",
              "      <td>1.0</td>\n",
              "      <td>1.0</td>\n",
              "      <td>1.0</td>\n",
              "      <td>0.0</td>\n",
              "      <td>1.0</td>\n",
              "    </tr>\n",
              "    <tr>\n",
              "      <th>1</th>\n",
              "      <td>0</td>\n",
              "      <td>0.0</td>\n",
              "      <td>1.0</td>\n",
              "      <td>0.0</td>\n",
              "      <td>1.0</td>\n",
              "      <td>1.0</td>\n",
              "      <td>1.0</td>\n",
              "      <td>0.0</td>\n",
              "      <td>0.0</td>\n",
              "      <td>0.0</td>\n",
              "      <td>0.0</td>\n",
              "      <td>0.0</td>\n",
              "      <td>1.0</td>\n",
              "      <td>1.0</td>\n",
              "      <td>1.0</td>\n",
              "      <td>0.0</td>\n",
              "      <td>NaN</td>\n",
              "    </tr>\n",
              "    <tr>\n",
              "      <th>2</th>\n",
              "      <td>1</td>\n",
              "      <td>NaN</td>\n",
              "      <td>1.0</td>\n",
              "      <td>1.0</td>\n",
              "      <td>NaN</td>\n",
              "      <td>1.0</td>\n",
              "      <td>1.0</td>\n",
              "      <td>0.0</td>\n",
              "      <td>0.0</td>\n",
              "      <td>0.0</td>\n",
              "      <td>0.0</td>\n",
              "      <td>1.0</td>\n",
              "      <td>0.0</td>\n",
              "      <td>1.0</td>\n",
              "      <td>1.0</td>\n",
              "      <td>0.0</td>\n",
              "      <td>0.0</td>\n",
              "    </tr>\n",
              "    <tr>\n",
              "      <th>3</th>\n",
              "      <td>1</td>\n",
              "      <td>0.0</td>\n",
              "      <td>1.0</td>\n",
              "      <td>1.0</td>\n",
              "      <td>0.0</td>\n",
              "      <td>NaN</td>\n",
              "      <td>1.0</td>\n",
              "      <td>0.0</td>\n",
              "      <td>0.0</td>\n",
              "      <td>0.0</td>\n",
              "      <td>0.0</td>\n",
              "      <td>1.0</td>\n",
              "      <td>0.0</td>\n",
              "      <td>1.0</td>\n",
              "      <td>0.0</td>\n",
              "      <td>0.0</td>\n",
              "      <td>1.0</td>\n",
              "    </tr>\n",
              "    <tr>\n",
              "      <th>4</th>\n",
              "      <td>1</td>\n",
              "      <td>1.0</td>\n",
              "      <td>1.0</td>\n",
              "      <td>1.0</td>\n",
              "      <td>0.0</td>\n",
              "      <td>1.0</td>\n",
              "      <td>1.0</td>\n",
              "      <td>0.0</td>\n",
              "      <td>0.0</td>\n",
              "      <td>0.0</td>\n",
              "      <td>0.0</td>\n",
              "      <td>1.0</td>\n",
              "      <td>NaN</td>\n",
              "      <td>1.0</td>\n",
              "      <td>1.0</td>\n",
              "      <td>1.0</td>\n",
              "      <td>1.0</td>\n",
              "    </tr>\n",
              "  </tbody>\n",
              "</table>\n",
              "</div>"
            ],
            "text/plain": [
              "   party_USA  ...  export-administration-act-south-africa1\n",
              "0          0  ...                                      1.0\n",
              "1          0  ...                                      NaN\n",
              "2          1  ...                                      0.0\n",
              "3          1  ...                                      1.0\n",
              "4          1  ...                                      1.0\n",
              "\n",
              "[5 rows x 17 columns]"
            ]
          },
          "metadata": {
            "tags": []
          },
          "execution_count": 5
        }
      ]
    },
    {
      "cell_type": "markdown",
      "metadata": {
        "id": "TdBeTMtRhj98"
      },
      "source": [
        "Cara 3"
      ]
    },
    {
      "cell_type": "code",
      "metadata": {
        "id": "fMO7xWIthjjU"
      },
      "source": [
        "# from sklearn.preprocessing import LabelEncoder\n",
        "# encoder = LabelEncoder()\n",
        "# data = df[\"party\"]\n",
        "# df.drop('party',axis=1,inplace=True)\n",
        "# encoder_result = encoder.fit_transform(data)\n",
        "\n",
        "# #tambahakan data ke kolom baru letakan di index 0\n",
        "# df.insert (0, \"party\", encoder_result)"
      ],
      "execution_count": null,
      "outputs": []
    },
    {
      "cell_type": "code",
      "metadata": {
        "colab": {
          "base_uri": "https://localhost:8080/"
        },
        "id": "t5UQvabGiX1L",
        "outputId": "74614114-270b-4e07-aae1-d2ff205bdab9"
      },
      "source": [
        "# print(encoder.classes_)\n",
        "# print(encoder.transform(encoder.classes_))"
      ],
      "execution_count": null,
      "outputs": [
        {
          "output_type": "stream",
          "text": [
            "['democrat' 'republican']\n",
            "[0 1]\n"
          ],
          "name": "stdout"
        }
      ]
    },
    {
      "cell_type": "code",
      "metadata": {
        "colab": {
          "base_uri": "https://localhost:8080/",
          "height": 181
        },
        "id": "AvxPgOAjiali",
        "outputId": "9ff4c0f8-4c8a-46eb-c7be-3b672d6f72c8"
      },
      "source": [
        "# df.head(2)"
      ],
      "execution_count": null,
      "outputs": [
        {
          "output_type": "execute_result",
          "data": {
            "text/html": [
              "<div>\n",
              "<style scoped>\n",
              "    .dataframe tbody tr th:only-of-type {\n",
              "        vertical-align: middle;\n",
              "    }\n",
              "\n",
              "    .dataframe tbody tr th {\n",
              "        vertical-align: top;\n",
              "    }\n",
              "\n",
              "    .dataframe thead th {\n",
              "        text-align: right;\n",
              "    }\n",
              "</style>\n",
              "<table border=\"1\" class=\"dataframe\">\n",
              "  <thead>\n",
              "    <tr style=\"text-align: right;\">\n",
              "      <th></th>\n",
              "      <th>party</th>\n",
              "      <th>handicapped-infants</th>\n",
              "      <th>water-project-cost-sharing</th>\n",
              "      <th>adoption-of-the-budget-resolution</th>\n",
              "      <th>physician-fee-freeze</th>\n",
              "      <th>el-salvador-aid</th>\n",
              "      <th>religious-groups-in-schools</th>\n",
              "      <th>anti-satellite-test-ban</th>\n",
              "      <th>aid-to-nicaraguan-contras</th>\n",
              "      <th>mx-missile</th>\n",
              "      <th>immigration</th>\n",
              "      <th>synfuels-corporation-cutback</th>\n",
              "      <th>education-spending</th>\n",
              "      <th>superfund-right-to-sue</th>\n",
              "      <th>crime</th>\n",
              "      <th>duty-free-exports</th>\n",
              "      <th>export-administration-act-south-africa</th>\n",
              "    </tr>\n",
              "  </thead>\n",
              "  <tbody>\n",
              "    <tr>\n",
              "      <th>0</th>\n",
              "      <td>1</td>\n",
              "      <td>n</td>\n",
              "      <td>y</td>\n",
              "      <td>n</td>\n",
              "      <td>y</td>\n",
              "      <td>y</td>\n",
              "      <td>y</td>\n",
              "      <td>n</td>\n",
              "      <td>n</td>\n",
              "      <td>n</td>\n",
              "      <td>y</td>\n",
              "      <td>NaN</td>\n",
              "      <td>y</td>\n",
              "      <td>y</td>\n",
              "      <td>y</td>\n",
              "      <td>n</td>\n",
              "      <td>y</td>\n",
              "    </tr>\n",
              "    <tr>\n",
              "      <th>1</th>\n",
              "      <td>1</td>\n",
              "      <td>n</td>\n",
              "      <td>y</td>\n",
              "      <td>n</td>\n",
              "      <td>y</td>\n",
              "      <td>y</td>\n",
              "      <td>y</td>\n",
              "      <td>n</td>\n",
              "      <td>n</td>\n",
              "      <td>n</td>\n",
              "      <td>n</td>\n",
              "      <td>n</td>\n",
              "      <td>y</td>\n",
              "      <td>y</td>\n",
              "      <td>y</td>\n",
              "      <td>n</td>\n",
              "      <td>NaN</td>\n",
              "    </tr>\n",
              "  </tbody>\n",
              "</table>\n",
              "</div>"
            ],
            "text/plain": [
              "   party  ... export-administration-act-south-africa\n",
              "0      1  ...                                      y\n",
              "1      1  ...                                    NaN\n",
              "\n",
              "[2 rows x 17 columns]"
            ]
          },
          "metadata": {
            "tags": []
          },
          "execution_count": 44
        }
      ]
    },
    {
      "cell_type": "code",
      "metadata": {
        "colab": {
          "base_uri": "https://localhost:8080/"
        },
        "id": "n95VnR7WmSKW",
        "outputId": "ad8053e0-b73c-4d9e-eadb-3fc0f67be66d"
      },
      "source": [
        "voting_data.isnull().sum()"
      ],
      "execution_count": null,
      "outputs": [
        {
          "output_type": "execute_result",
          "data": {
            "text/plain": [
              "party_USA                                    0\n",
              "handicapped-infants1                        12\n",
              "water-project-cost-sharing1                 48\n",
              "adoption-of-the-budget-resolution1          11\n",
              "physician-fee-freeze1                       11\n",
              "el-salvador-aid1                            15\n",
              "religious-groups-in-schools1                11\n",
              "anti-satellite-test-ban1                    14\n",
              "aid-to-nicaraguan-contras1                  15\n",
              "mx-missile1                                 22\n",
              "immigration1                                 7\n",
              "synfuels-corporation-cutback1               21\n",
              "education-spending1                         31\n",
              "superfund-right-to-sue1                     25\n",
              "crime1                                      17\n",
              "duty-free-exports1                          28\n",
              "export-administration-act-south-africa1    104\n",
              "dtype: int64"
            ]
          },
          "metadata": {
            "tags": []
          },
          "execution_count": 6
        }
      ]
    },
    {
      "cell_type": "markdown",
      "metadata": {
        "id": "4037_KlmnwSz"
      },
      "source": [
        "**Hnadling missing value**\n",
        "\n",
        "https://towardsdatascience.com/how-to-handle-missing-data-8646b18db0d4\n",
        "\n",
        "https://medium.com/@kyawsawhtoon/a-guide-to-knn-imputation-95e2dc496e\n",
        "\n",
        "https://towardsdatascience.com/how-to-deal-with-missing-data-in-python-1f74a9112d93"
      ]
    },
    {
      "cell_type": "code",
      "metadata": {
        "id": "2RB1CwM6mqzd"
      },
      "source": [
        "# #imputation for missing values\n",
        "# from sklearn.impute import KNNImputer\n",
        "# imputer = KNNImputer(n_neighbors=6)\n",
        "# data = pd.DataFrame(imputer.fit_transform(df),columns=data_col)"
      ],
      "execution_count": null,
      "outputs": []
    },
    {
      "cell_type": "markdown",
      "metadata": {
        "id": "rvbJr-s7qRcw"
      },
      "source": [
        "Handle Missing Values of Categorical Variables:\n",
        "\n",
        "https://www.analyticsvidhya.com/blog/2021/04/how-to-handle-missing-values-of-categorical-variables/"
      ]
    },
    {
      "cell_type": "code",
      "metadata": {
        "id": "UhIPDS8cp424"
      },
      "source": [
        "# filling missing values \n",
        "voting_data.fillna(voting_data.mode().iloc[0], inplace=True)"
      ],
      "execution_count": null,
      "outputs": []
    },
    {
      "cell_type": "code",
      "metadata": {
        "colab": {
          "base_uri": "https://localhost:8080/",
          "height": 274
        },
        "id": "X3gK1ppmu6YZ",
        "outputId": "5f096143-ccea-47cf-a7c5-f2f2dae17ca2"
      },
      "source": [
        "voting_data.head()"
      ],
      "execution_count": null,
      "outputs": [
        {
          "output_type": "execute_result",
          "data": {
            "text/html": [
              "<div>\n",
              "<style scoped>\n",
              "    .dataframe tbody tr th:only-of-type {\n",
              "        vertical-align: middle;\n",
              "    }\n",
              "\n",
              "    .dataframe tbody tr th {\n",
              "        vertical-align: top;\n",
              "    }\n",
              "\n",
              "    .dataframe thead th {\n",
              "        text-align: right;\n",
              "    }\n",
              "</style>\n",
              "<table border=\"1\" class=\"dataframe\">\n",
              "  <thead>\n",
              "    <tr style=\"text-align: right;\">\n",
              "      <th></th>\n",
              "      <th>party_USA</th>\n",
              "      <th>handicapped-infants1</th>\n",
              "      <th>water-project-cost-sharing1</th>\n",
              "      <th>adoption-of-the-budget-resolution1</th>\n",
              "      <th>physician-fee-freeze1</th>\n",
              "      <th>el-salvador-aid1</th>\n",
              "      <th>religious-groups-in-schools1</th>\n",
              "      <th>anti-satellite-test-ban1</th>\n",
              "      <th>aid-to-nicaraguan-contras1</th>\n",
              "      <th>mx-missile1</th>\n",
              "      <th>immigration1</th>\n",
              "      <th>synfuels-corporation-cutback1</th>\n",
              "      <th>education-spending1</th>\n",
              "      <th>superfund-right-to-sue1</th>\n",
              "      <th>crime1</th>\n",
              "      <th>duty-free-exports1</th>\n",
              "      <th>export-administration-act-south-africa1</th>\n",
              "    </tr>\n",
              "  </thead>\n",
              "  <tbody>\n",
              "    <tr>\n",
              "      <th>0</th>\n",
              "      <td>0</td>\n",
              "      <td>0.0</td>\n",
              "      <td>1.0</td>\n",
              "      <td>0.0</td>\n",
              "      <td>1.0</td>\n",
              "      <td>1.0</td>\n",
              "      <td>1.0</td>\n",
              "      <td>0.0</td>\n",
              "      <td>0.0</td>\n",
              "      <td>0.0</td>\n",
              "      <td>1.0</td>\n",
              "      <td>0.0</td>\n",
              "      <td>1.0</td>\n",
              "      <td>1.0</td>\n",
              "      <td>1.0</td>\n",
              "      <td>0.0</td>\n",
              "      <td>1.0</td>\n",
              "    </tr>\n",
              "    <tr>\n",
              "      <th>1</th>\n",
              "      <td>0</td>\n",
              "      <td>0.0</td>\n",
              "      <td>1.0</td>\n",
              "      <td>0.0</td>\n",
              "      <td>1.0</td>\n",
              "      <td>1.0</td>\n",
              "      <td>1.0</td>\n",
              "      <td>0.0</td>\n",
              "      <td>0.0</td>\n",
              "      <td>0.0</td>\n",
              "      <td>0.0</td>\n",
              "      <td>0.0</td>\n",
              "      <td>1.0</td>\n",
              "      <td>1.0</td>\n",
              "      <td>1.0</td>\n",
              "      <td>0.0</td>\n",
              "      <td>1.0</td>\n",
              "    </tr>\n",
              "    <tr>\n",
              "      <th>2</th>\n",
              "      <td>1</td>\n",
              "      <td>0.0</td>\n",
              "      <td>1.0</td>\n",
              "      <td>1.0</td>\n",
              "      <td>0.0</td>\n",
              "      <td>1.0</td>\n",
              "      <td>1.0</td>\n",
              "      <td>0.0</td>\n",
              "      <td>0.0</td>\n",
              "      <td>0.0</td>\n",
              "      <td>0.0</td>\n",
              "      <td>1.0</td>\n",
              "      <td>0.0</td>\n",
              "      <td>1.0</td>\n",
              "      <td>1.0</td>\n",
              "      <td>0.0</td>\n",
              "      <td>0.0</td>\n",
              "    </tr>\n",
              "    <tr>\n",
              "      <th>3</th>\n",
              "      <td>1</td>\n",
              "      <td>0.0</td>\n",
              "      <td>1.0</td>\n",
              "      <td>1.0</td>\n",
              "      <td>0.0</td>\n",
              "      <td>1.0</td>\n",
              "      <td>1.0</td>\n",
              "      <td>0.0</td>\n",
              "      <td>0.0</td>\n",
              "      <td>0.0</td>\n",
              "      <td>0.0</td>\n",
              "      <td>1.0</td>\n",
              "      <td>0.0</td>\n",
              "      <td>1.0</td>\n",
              "      <td>0.0</td>\n",
              "      <td>0.0</td>\n",
              "      <td>1.0</td>\n",
              "    </tr>\n",
              "    <tr>\n",
              "      <th>4</th>\n",
              "      <td>1</td>\n",
              "      <td>1.0</td>\n",
              "      <td>1.0</td>\n",
              "      <td>1.0</td>\n",
              "      <td>0.0</td>\n",
              "      <td>1.0</td>\n",
              "      <td>1.0</td>\n",
              "      <td>0.0</td>\n",
              "      <td>0.0</td>\n",
              "      <td>0.0</td>\n",
              "      <td>0.0</td>\n",
              "      <td>1.0</td>\n",
              "      <td>0.0</td>\n",
              "      <td>1.0</td>\n",
              "      <td>1.0</td>\n",
              "      <td>1.0</td>\n",
              "      <td>1.0</td>\n",
              "    </tr>\n",
              "  </tbody>\n",
              "</table>\n",
              "</div>"
            ],
            "text/plain": [
              "   party_USA  ...  export-administration-act-south-africa1\n",
              "0          0  ...                                      1.0\n",
              "1          0  ...                                      1.0\n",
              "2          1  ...                                      0.0\n",
              "3          1  ...                                      1.0\n",
              "4          1  ...                                      1.0\n",
              "\n",
              "[5 rows x 17 columns]"
            ]
          },
          "metadata": {
            "tags": []
          },
          "execution_count": 8
        }
      ]
    },
    {
      "cell_type": "code",
      "metadata": {
        "colab": {
          "base_uri": "https://localhost:8080/"
        },
        "id": "_UWVhy-Zyfv-",
        "outputId": "35fe1b00-261c-49fa-86de-349ef7755785"
      },
      "source": [
        "voting_data.isnull().sum()"
      ],
      "execution_count": null,
      "outputs": [
        {
          "output_type": "execute_result",
          "data": {
            "text/plain": [
              "party_USA                                  0\n",
              "handicapped-infants1                       0\n",
              "water-project-cost-sharing1                0\n",
              "adoption-of-the-budget-resolution1         0\n",
              "physician-fee-freeze1                      0\n",
              "el-salvador-aid1                           0\n",
              "religious-groups-in-schools1               0\n",
              "anti-satellite-test-ban1                   0\n",
              "aid-to-nicaraguan-contras1                 0\n",
              "mx-missile1                                0\n",
              "immigration1                               0\n",
              "synfuels-corporation-cutback1              0\n",
              "education-spending1                        0\n",
              "superfund-right-to-sue1                    0\n",
              "crime1                                     0\n",
              "duty-free-exports1                         0\n",
              "export-administration-act-south-africa1    0\n",
              "dtype: int64"
            ]
          },
          "metadata": {
            "tags": []
          },
          "execution_count": 8
        }
      ]
    },
    {
      "cell_type": "markdown",
      "metadata": {
        "id": "DMuWoPve0Zbq"
      },
      "source": [
        "**Declare feature vector and target variable**"
      ]
    },
    {
      "cell_type": "code",
      "metadata": {
        "id": "AJVI_lbm0lVW"
      },
      "source": [
        "X = voting_data.drop(['party_USA'], axis=1)\n",
        "\n",
        "y = voting_data['party_USA']"
      ],
      "execution_count": null,
      "outputs": []
    },
    {
      "cell_type": "markdown",
      "metadata": {
        "id": "FCdWFWMH0wtY"
      },
      "source": [
        "Split data into separate training and test set"
      ]
    },
    {
      "cell_type": "code",
      "metadata": {
        "id": "GSxYGtsv0t2Y"
      },
      "source": [
        "# split X and y into training and testing sets\n",
        "from sklearn.model_selection import train_test_split\n",
        "\n",
        "X_train, X_test, y_train, y_test = train_test_split(X, y, test_size = 0.3, random_state = 42)"
      ],
      "execution_count": null,
      "outputs": []
    },
    {
      "cell_type": "code",
      "metadata": {
        "colab": {
          "base_uri": "https://localhost:8080/"
        },
        "id": "vNlHFjii1IL3",
        "outputId": "e94a54b5-b8eb-49f4-d336-dab83338b6ca"
      },
      "source": [
        "X_train.shape, X_test.shape"
      ],
      "execution_count": null,
      "outputs": [
        {
          "output_type": "execute_result",
          "data": {
            "text/plain": [
              "((304, 16), (131, 16))"
            ]
          },
          "metadata": {
            "tags": []
          },
          "execution_count": 117
        }
      ]
    },
    {
      "cell_type": "markdown",
      "metadata": {
        "id": "u1yR0Uip1o1X"
      },
      "source": [
        "Decision Tree tidak masalah tanpa split"
      ]
    },
    {
      "cell_type": "code",
      "metadata": {
        "colab": {
          "base_uri": "https://localhost:8080/"
        },
        "id": "4pJ3X7lx1cme",
        "outputId": "8f51d457-afe2-4647-f0db-6ba571983a3b"
      },
      "source": [
        "from sklearn.tree import DecisionTreeClassifier\n",
        "tree_clf = DecisionTreeClassifier(max_depth=4, random_state=42)\n",
        "tree_clf.fit(X, y)"
      ],
      "execution_count": null,
      "outputs": [
        {
          "output_type": "execute_result",
          "data": {
            "text/plain": [
              "DecisionTreeClassifier(ccp_alpha=0.0, class_weight=None, criterion='gini',\n",
              "                       max_depth=4, max_features=None, max_leaf_nodes=None,\n",
              "                       min_impurity_decrease=0.0, min_impurity_split=None,\n",
              "                       min_samples_leaf=1, min_samples_split=2,\n",
              "                       min_weight_fraction_leaf=0.0, presort='deprecated',\n",
              "                       random_state=42, splitter='best')"
            ]
          },
          "metadata": {
            "tags": []
          },
          "execution_count": 118
        }
      ]
    },
    {
      "cell_type": "code",
      "metadata": {
        "id": "6HI0uhnR2BC2"
      },
      "source": [
        "# Python ≥3.5 is required\n",
        "import sys\n",
        "assert sys.version_info >= (3, 5)\n",
        "\n",
        "# Scikit-Learn ≥0.20 is required\n",
        "import sklearn\n",
        "assert sklearn.__version__ >= \"0.20\"\n",
        "\n",
        "# Common imports\n",
        "import numpy as np\n",
        "import os\n",
        "\n",
        "# to make this notebook's output stable across runs\n",
        "np.random.seed(42)\n",
        "\n",
        "# To plot pretty figures\n",
        "%matplotlib inline\n",
        "import matplotlib as mpl\n",
        "import matplotlib.pyplot as plt\n",
        "mpl.rc('axes', labelsize=14)\n",
        "mpl.rc('xtick', labelsize=12)\n",
        "mpl.rc('ytick', labelsize=12)\n",
        "\n",
        "# Where to save the figures\n",
        "PROJECT_ROOT_DIR = \".\"\n",
        "CHAPTER_ID = \"decision_trees\"\n",
        "IMAGES_PATH = os.path.join(PROJECT_ROOT_DIR, \"images\", CHAPTER_ID)\n",
        "os.makedirs(IMAGES_PATH, exist_ok=True)\n",
        "\n",
        "def save_fig(fig_id, tight_layout=True, fig_extension=\"png\", resolution=300):\n",
        "    path = os.path.join(IMAGES_PATH, fig_id + \".\" + fig_extension)\n",
        "    print(\"Saving figure\", fig_id)\n",
        "    if tight_layout:\n",
        "        plt.tight_layout()\n",
        "    plt.savefig(path, format=fig_extension, dpi=resolution)"
      ],
      "execution_count": null,
      "outputs": []
    },
    {
      "cell_type": "code",
      "metadata": {
        "colab": {
          "base_uri": "https://localhost:8080/"
        },
        "id": "zzP3-IWJ2Z0W",
        "outputId": "b4d6375f-e6e3-486c-9a37-8985796c0825"
      },
      "source": [
        "df.columns[1:]"
      ],
      "execution_count": null,
      "outputs": [
        {
          "output_type": "execute_result",
          "data": {
            "text/plain": [
              "Index(['handicapped-infants1', 'water-project-cost-sharing1',\n",
              "       'adoption-of-the-budget-resolution1', 'physician-fee-freeze1',\n",
              "       'el-salvador-aid1', 'religious-groups-in-schools1',\n",
              "       'anti-satellite-test-ban1', 'aid-to-nicaraguan-contras1', 'mx-missile1',\n",
              "       'immigration1', 'synfuels-corporation-cutback1', 'education-spending1',\n",
              "       'superfund-right-to-sue1', 'crime1', 'duty-free-exports1',\n",
              "       'export-administration-act-south-africa1'],\n",
              "      dtype='object')"
            ]
          },
          "metadata": {
            "tags": []
          },
          "execution_count": 95
        }
      ]
    },
    {
      "cell_type": "code",
      "metadata": {
        "id": "rWm-dwje2sDo"
      },
      "source": [
        "y_train"
      ],
      "execution_count": null,
      "outputs": []
    },
    {
      "cell_type": "code",
      "metadata": {
        "colab": {
          "base_uri": "https://localhost:8080/",
          "height": 777
        },
        "id": "FiXBF86s17E3",
        "outputId": "2bcca2a6-afbb-4ba5-c1c8-e69ed4b93ce7"
      },
      "source": [
        "from graphviz import Source\n",
        "from sklearn.tree import export_graphviz\n",
        "\n",
        "export_graphviz(\n",
        "        tree_clf,\n",
        "        out_file=os.path.join(IMAGES_PATH, \"party.dot\"),\n",
        "        feature_names=X_train.columns, # kolom dari fitur  \n",
        "        class_names=df.party,  # dari target\n",
        "        filled=True,\n",
        "        rounded=True\n",
        "    )\n",
        "\n",
        "Source.from_file(os.path.join(IMAGES_PATH, \"party.dot\"))"
      ],
      "execution_count": null,
      "outputs": [
        {
          "output_type": "execute_result",
          "data": {
            "text/plain": [
              "<graphviz.files.Source at 0x7f9ff4f1eed0>"
            ],
            "image/svg+xml": "<?xml version=\"1.0\" encoding=\"UTF-8\" standalone=\"no\"?>\n<!DOCTYPE svg PUBLIC \"-//W3C//DTD SVG 1.1//EN\"\n \"http://www.w3.org/Graphics/SVG/1.1/DTD/svg11.dtd\">\n<!-- Generated by graphviz version 2.40.1 (20161225.0304)\n -->\n<!-- Title: Tree Pages: 1 -->\n<svg width=\"1983pt\" height=\"552pt\"\n viewBox=\"0.00 0.00 1983.00 552.00\" xmlns=\"http://www.w3.org/2000/svg\" xmlns:xlink=\"http://www.w3.org/1999/xlink\">\n<g id=\"graph0\" class=\"graph\" transform=\"scale(1 1) rotate(0) translate(4 548)\">\n<title>Tree</title>\n<polygon fill=\"#ffffff\" stroke=\"transparent\" points=\"-4,4 -4,-548 1979,-548 1979,4 -4,4\"/>\n<!-- 0 -->\n<g id=\"node1\" class=\"node\">\n<title>0</title>\n<path fill=\"#b6dbf5\" stroke=\"#000000\" d=\"M931,-544C931,-544 755,-544 755,-544 749,-544 743,-538 743,-532 743,-532 743,-473 743,-473 743,-467 749,-461 755,-461 755,-461 931,-461 931,-461 937,-461 943,-467 943,-473 943,-473 943,-532 943,-532 943,-538 937,-544 931,-544\"/>\n<text text-anchor=\"middle\" x=\"843\" y=\"-528.8\" font-family=\"Helvetica,sans-Serif\" font-size=\"14.00\" fill=\"#000000\">physician&#45;fee&#45;freeze1 &lt;= 0.5</text>\n<text text-anchor=\"middle\" x=\"843\" y=\"-513.8\" font-family=\"Helvetica,sans-Serif\" font-size=\"14.00\" fill=\"#000000\">gini = 0.474</text>\n<text text-anchor=\"middle\" x=\"843\" y=\"-498.8\" font-family=\"Helvetica,sans-Serif\" font-size=\"14.00\" fill=\"#000000\">samples = 435</text>\n<text text-anchor=\"middle\" x=\"843\" y=\"-483.8\" font-family=\"Helvetica,sans-Serif\" font-size=\"14.00\" fill=\"#000000\">value = [168, 267]</text>\n<text text-anchor=\"middle\" x=\"843\" y=\"-468.8\" font-family=\"Helvetica,sans-Serif\" font-size=\"14.00\" fill=\"#000000\">class = republican</text>\n</g>\n<!-- 1 -->\n<g id=\"node2\" class=\"node\">\n<title>1</title>\n<path fill=\"#3d9fe6\" stroke=\"#000000\" d=\"M765,-425C765,-425 505,-425 505,-425 499,-425 493,-419 493,-413 493,-413 493,-354 493,-354 493,-348 499,-342 505,-342 505,-342 765,-342 765,-342 771,-342 777,-348 777,-354 777,-354 777,-413 777,-413 777,-419 771,-425 765,-425\"/>\n<text text-anchor=\"middle\" x=\"635\" y=\"-409.8\" font-family=\"Helvetica,sans-Serif\" font-size=\"14.00\" fill=\"#000000\">adoption&#45;of&#45;the&#45;budget&#45;resolution1 &lt;= 0.5</text>\n<text text-anchor=\"middle\" x=\"635\" y=\"-394.8\" font-family=\"Helvetica,sans-Serif\" font-size=\"14.00\" fill=\"#000000\">gini = 0.038</text>\n<text text-anchor=\"middle\" x=\"635\" y=\"-379.8\" font-family=\"Helvetica,sans-Serif\" font-size=\"14.00\" fill=\"#000000\">samples = 258</text>\n<text text-anchor=\"middle\" x=\"635\" y=\"-364.8\" font-family=\"Helvetica,sans-Serif\" font-size=\"14.00\" fill=\"#000000\">value = [5, 253]</text>\n<text text-anchor=\"middle\" x=\"635\" y=\"-349.8\" font-family=\"Helvetica,sans-Serif\" font-size=\"14.00\" fill=\"#000000\">class = republican</text>\n</g>\n<!-- 0&#45;&gt;1 -->\n<g id=\"edge1\" class=\"edge\">\n<title>0&#45;&gt;1</title>\n<path fill=\"none\" stroke=\"#000000\" d=\"M770.2517,-460.8796C752.993,-451.0056 734.4685,-440.4075 716.8355,-430.3193\"/>\n<polygon fill=\"#000000\" stroke=\"#000000\" points=\"718.1252,-427.0249 707.7072,-425.0969 714.649,-433.1008 718.1252,-427.0249\"/>\n<text text-anchor=\"middle\" x=\"714.2727\" y=\"-445.5194\" font-family=\"Helvetica,sans-Serif\" font-size=\"14.00\" fill=\"#000000\">True</text>\n</g>\n<!-- 12 -->\n<g id=\"node13\" class=\"node\">\n<title>12</title>\n<path fill=\"#e78c4a\" stroke=\"#000000\" d=\"M1207,-425C1207,-425 975,-425 975,-425 969,-425 963,-419 963,-413 963,-413 963,-354 963,-354 963,-348 969,-342 975,-342 975,-342 1207,-342 1207,-342 1213,-342 1219,-348 1219,-354 1219,-354 1219,-413 1219,-413 1219,-419 1213,-425 1207,-425\"/>\n<text text-anchor=\"middle\" x=\"1091\" y=\"-409.8\" font-family=\"Helvetica,sans-Serif\" font-size=\"14.00\" fill=\"#000000\">synfuels&#45;corporation&#45;cutback1 &lt;= 0.5</text>\n<text text-anchor=\"middle\" x=\"1091\" y=\"-394.8\" font-family=\"Helvetica,sans-Serif\" font-size=\"14.00\" fill=\"#000000\">gini = 0.146</text>\n<text text-anchor=\"middle\" x=\"1091\" y=\"-379.8\" font-family=\"Helvetica,sans-Serif\" font-size=\"14.00\" fill=\"#000000\">samples = 177</text>\n<text text-anchor=\"middle\" x=\"1091\" y=\"-364.8\" font-family=\"Helvetica,sans-Serif\" font-size=\"14.00\" fill=\"#000000\">value = [163, 14]</text>\n<text text-anchor=\"middle\" x=\"1091\" y=\"-349.8\" font-family=\"Helvetica,sans-Serif\" font-size=\"14.00\" fill=\"#000000\">class = republican</text>\n</g>\n<!-- 0&#45;&gt;12 -->\n<g id=\"edge12\" class=\"edge\">\n<title>0&#45;&gt;12</title>\n<path fill=\"none\" stroke=\"#000000\" d=\"M929.7384,-460.8796C950.8824,-450.7339 973.6199,-439.8235 995.1604,-429.4876\"/>\n<polygon fill=\"#000000\" stroke=\"#000000\" points=\"996.809,-432.5786 1004.3106,-425.0969 993.7806,-426.2676 996.809,-432.5786\"/>\n<text text-anchor=\"middle\" x=\"996.0204\" y=\"-444.9823\" font-family=\"Helvetica,sans-Serif\" font-size=\"14.00\" fill=\"#000000\">False</text>\n</g>\n<!-- 2 -->\n<g id=\"node3\" class=\"node\">\n<title>2</title>\n<path fill=\"#4aa6e7\" stroke=\"#000000\" d=\"M443,-306C443,-306 211,-306 211,-306 205,-306 199,-300 199,-294 199,-294 199,-235 199,-235 199,-229 205,-223 211,-223 211,-223 443,-223 443,-223 449,-223 455,-229 455,-235 455,-235 455,-294 455,-294 455,-300 449,-306 443,-306\"/>\n<text text-anchor=\"middle\" x=\"327\" y=\"-290.8\" font-family=\"Helvetica,sans-Serif\" font-size=\"14.00\" fill=\"#000000\">synfuels&#45;corporation&#45;cutback1 &lt;= 0.5</text>\n<text text-anchor=\"middle\" x=\"327\" y=\"-275.8\" font-family=\"Helvetica,sans-Serif\" font-size=\"14.00\" fill=\"#000000\">gini = 0.147</text>\n<text text-anchor=\"middle\" x=\"327\" y=\"-260.8\" font-family=\"Helvetica,sans-Serif\" font-size=\"14.00\" fill=\"#000000\">samples = 25</text>\n<text text-anchor=\"middle\" x=\"327\" y=\"-245.8\" font-family=\"Helvetica,sans-Serif\" font-size=\"14.00\" fill=\"#000000\">value = [2, 23]</text>\n<text text-anchor=\"middle\" x=\"327\" y=\"-230.8\" font-family=\"Helvetica,sans-Serif\" font-size=\"14.00\" fill=\"#000000\">class = republican</text>\n</g>\n<!-- 1&#45;&gt;2 -->\n<g id=\"edge2\" class=\"edge\">\n<title>1&#45;&gt;2</title>\n<path fill=\"none\" stroke=\"#000000\" d=\"M527.2765,-341.8796C500.4309,-331.5074 471.5169,-320.3361 444.2375,-309.7963\"/>\n<polygon fill=\"#000000\" stroke=\"#000000\" points=\"445.252,-306.4362 434.6626,-306.0969 442.7292,-312.9658 445.252,-306.4362\"/>\n</g>\n<!-- 7 -->\n<g id=\"node8\" class=\"node\">\n<title>7</title>\n<path fill=\"#3c9ee5\" stroke=\"#000000\" d=\"M729,-306C729,-306 541,-306 541,-306 535,-306 529,-300 529,-294 529,-294 529,-235 529,-235 529,-229 535,-223 541,-223 541,-223 729,-223 729,-223 735,-223 741,-229 741,-235 741,-235 741,-294 741,-294 741,-300 735,-306 729,-306\"/>\n<text text-anchor=\"middle\" x=\"635\" y=\"-290.8\" font-family=\"Helvetica,sans-Serif\" font-size=\"14.00\" fill=\"#000000\">superfund&#45;right&#45;to&#45;sue1 &lt;= 0.5</text>\n<text text-anchor=\"middle\" x=\"635\" y=\"-275.8\" font-family=\"Helvetica,sans-Serif\" font-size=\"14.00\" fill=\"#000000\">gini = 0.025</text>\n<text text-anchor=\"middle\" x=\"635\" y=\"-260.8\" font-family=\"Helvetica,sans-Serif\" font-size=\"14.00\" fill=\"#000000\">samples = 233</text>\n<text text-anchor=\"middle\" x=\"635\" y=\"-245.8\" font-family=\"Helvetica,sans-Serif\" font-size=\"14.00\" fill=\"#000000\">value = [3, 230]</text>\n<text text-anchor=\"middle\" x=\"635\" y=\"-230.8\" font-family=\"Helvetica,sans-Serif\" font-size=\"14.00\" fill=\"#000000\">class = republican</text>\n</g>\n<!-- 1&#45;&gt;7 -->\n<g id=\"edge7\" class=\"edge\">\n<title>1&#45;&gt;7</title>\n<path fill=\"none\" stroke=\"#000000\" d=\"M635,-341.8796C635,-333.6838 635,-324.9891 635,-316.5013\"/>\n<polygon fill=\"#000000\" stroke=\"#000000\" points=\"638.5001,-316.298 635,-306.2981 631.5001,-316.2981 638.5001,-316.298\"/>\n</g>\n<!-- 3 -->\n<g id=\"node4\" class=\"node\">\n<title>3</title>\n<path fill=\"#6ab6ec\" stroke=\"#000000\" d=\"M229.5,-187C229.5,-187 56.5,-187 56.5,-187 50.5,-187 44.5,-181 44.5,-175 44.5,-175 44.5,-116 44.5,-116 44.5,-110 50.5,-104 56.5,-104 56.5,-104 229.5,-104 229.5,-104 235.5,-104 241.5,-110 241.5,-116 241.5,-116 241.5,-175 241.5,-175 241.5,-181 235.5,-187 229.5,-187\"/>\n<text text-anchor=\"middle\" x=\"143\" y=\"-171.8\" font-family=\"Helvetica,sans-Serif\" font-size=\"14.00\" fill=\"#000000\">education&#45;spending1 &lt;= 0.5</text>\n<text text-anchor=\"middle\" x=\"143\" y=\"-156.8\" font-family=\"Helvetica,sans-Serif\" font-size=\"14.00\" fill=\"#000000\">gini = 0.32</text>\n<text text-anchor=\"middle\" x=\"143\" y=\"-141.8\" font-family=\"Helvetica,sans-Serif\" font-size=\"14.00\" fill=\"#000000\">samples = 10</text>\n<text text-anchor=\"middle\" x=\"143\" y=\"-126.8\" font-family=\"Helvetica,sans-Serif\" font-size=\"14.00\" fill=\"#000000\">value = [2, 8]</text>\n<text text-anchor=\"middle\" x=\"143\" y=\"-111.8\" font-family=\"Helvetica,sans-Serif\" font-size=\"14.00\" fill=\"#000000\">class = republican</text>\n</g>\n<!-- 2&#45;&gt;3 -->\n<g id=\"edge3\" class=\"edge\">\n<title>2&#45;&gt;3</title>\n<path fill=\"none\" stroke=\"#000000\" d=\"M262.6457,-222.8796C247.5185,-213.0962 231.2919,-202.6019 215.8224,-192.5971\"/>\n<polygon fill=\"#000000\" stroke=\"#000000\" points=\"217.6156,-189.5887 207.3179,-187.0969 213.8141,-195.4665 217.6156,-189.5887\"/>\n</g>\n<!-- 6 -->\n<g id=\"node7\" class=\"node\">\n<title>6</title>\n<path fill=\"#399de5\" stroke=\"#000000\" d=\"M382,-179.5C382,-179.5 272,-179.5 272,-179.5 266,-179.5 260,-173.5 260,-167.5 260,-167.5 260,-123.5 260,-123.5 260,-117.5 266,-111.5 272,-111.5 272,-111.5 382,-111.5 382,-111.5 388,-111.5 394,-117.5 394,-123.5 394,-123.5 394,-167.5 394,-167.5 394,-173.5 388,-179.5 382,-179.5\"/>\n<text text-anchor=\"middle\" x=\"327\" y=\"-164.3\" font-family=\"Helvetica,sans-Serif\" font-size=\"14.00\" fill=\"#000000\">gini = 0.0</text>\n<text text-anchor=\"middle\" x=\"327\" y=\"-149.3\" font-family=\"Helvetica,sans-Serif\" font-size=\"14.00\" fill=\"#000000\">samples = 15</text>\n<text text-anchor=\"middle\" x=\"327\" y=\"-134.3\" font-family=\"Helvetica,sans-Serif\" font-size=\"14.00\" fill=\"#000000\">value = [0, 15]</text>\n<text text-anchor=\"middle\" x=\"327\" y=\"-119.3\" font-family=\"Helvetica,sans-Serif\" font-size=\"14.00\" fill=\"#000000\">class = republican</text>\n</g>\n<!-- 2&#45;&gt;6 -->\n<g id=\"edge6\" class=\"edge\">\n<title>2&#45;&gt;6</title>\n<path fill=\"none\" stroke=\"#000000\" d=\"M327,-222.8796C327,-212.2134 327,-200.7021 327,-189.9015\"/>\n<polygon fill=\"#000000\" stroke=\"#000000\" points=\"330.5001,-189.8149 327,-179.8149 323.5001,-189.815 330.5001,-189.8149\"/>\n</g>\n<!-- 4 -->\n<g id=\"node5\" class=\"node\">\n<title>4</title>\n<path fill=\"#9ccef2\" stroke=\"#000000\" d=\"M122,-68C122,-68 12,-68 12,-68 6,-68 0,-62 0,-56 0,-56 0,-12 0,-12 0,-6 6,0 12,0 12,0 122,0 122,0 128,0 134,-6 134,-12 134,-12 134,-56 134,-56 134,-62 128,-68 122,-68\"/>\n<text text-anchor=\"middle\" x=\"67\" y=\"-52.8\" font-family=\"Helvetica,sans-Serif\" font-size=\"14.00\" fill=\"#000000\">gini = 0.444</text>\n<text text-anchor=\"middle\" x=\"67\" y=\"-37.8\" font-family=\"Helvetica,sans-Serif\" font-size=\"14.00\" fill=\"#000000\">samples = 6</text>\n<text text-anchor=\"middle\" x=\"67\" y=\"-22.8\" font-family=\"Helvetica,sans-Serif\" font-size=\"14.00\" fill=\"#000000\">value = [2, 4]</text>\n<text text-anchor=\"middle\" x=\"67\" y=\"-7.8\" font-family=\"Helvetica,sans-Serif\" font-size=\"14.00\" fill=\"#000000\">class = republican</text>\n</g>\n<!-- 3&#45;&gt;4 -->\n<g id=\"edge4\" class=\"edge\">\n<title>3&#45;&gt;4</title>\n<path fill=\"none\" stroke=\"#000000\" d=\"M114.7004,-103.9815C108.6238,-95.0666 102.1926,-85.6313 96.0868,-76.6734\"/>\n<polygon fill=\"#000000\" stroke=\"#000000\" points=\"98.8789,-74.5555 90.3546,-68.2637 93.0948,-78.498 98.8789,-74.5555\"/>\n</g>\n<!-- 5 -->\n<g id=\"node6\" class=\"node\">\n<title>5</title>\n<path fill=\"#399de5\" stroke=\"#000000\" d=\"M274,-68C274,-68 164,-68 164,-68 158,-68 152,-62 152,-56 152,-56 152,-12 152,-12 152,-6 158,0 164,0 164,0 274,0 274,0 280,0 286,-6 286,-12 286,-12 286,-56 286,-56 286,-62 280,-68 274,-68\"/>\n<text text-anchor=\"middle\" x=\"219\" y=\"-52.8\" font-family=\"Helvetica,sans-Serif\" font-size=\"14.00\" fill=\"#000000\">gini = 0.0</text>\n<text text-anchor=\"middle\" x=\"219\" y=\"-37.8\" font-family=\"Helvetica,sans-Serif\" font-size=\"14.00\" fill=\"#000000\">samples = 4</text>\n<text text-anchor=\"middle\" x=\"219\" y=\"-22.8\" font-family=\"Helvetica,sans-Serif\" font-size=\"14.00\" fill=\"#000000\">value = [0, 4]</text>\n<text text-anchor=\"middle\" x=\"219\" y=\"-7.8\" font-family=\"Helvetica,sans-Serif\" font-size=\"14.00\" fill=\"#000000\">class = republican</text>\n</g>\n<!-- 3&#45;&gt;5 -->\n<g id=\"edge5\" class=\"edge\">\n<title>3&#45;&gt;5</title>\n<path fill=\"none\" stroke=\"#000000\" d=\"M171.2996,-103.9815C177.3762,-95.0666 183.8074,-85.6313 189.9132,-76.6734\"/>\n<polygon fill=\"#000000\" stroke=\"#000000\" points=\"192.9052,-78.498 195.6454,-68.2637 187.1211,-74.5555 192.9052,-78.498\"/>\n</g>\n<!-- 8 -->\n<g id=\"node9\" class=\"node\">\n<title>8</title>\n<path fill=\"#399de5\" stroke=\"#000000\" d=\"M534,-179.5C534,-179.5 424,-179.5 424,-179.5 418,-179.5 412,-173.5 412,-167.5 412,-167.5 412,-123.5 412,-123.5 412,-117.5 418,-111.5 424,-111.5 424,-111.5 534,-111.5 534,-111.5 540,-111.5 546,-117.5 546,-123.5 546,-123.5 546,-167.5 546,-167.5 546,-173.5 540,-179.5 534,-179.5\"/>\n<text text-anchor=\"middle\" x=\"479\" y=\"-164.3\" font-family=\"Helvetica,sans-Serif\" font-size=\"14.00\" fill=\"#000000\">gini = 0.0</text>\n<text text-anchor=\"middle\" x=\"479\" y=\"-149.3\" font-family=\"Helvetica,sans-Serif\" font-size=\"14.00\" fill=\"#000000\">samples = 164</text>\n<text text-anchor=\"middle\" x=\"479\" y=\"-134.3\" font-family=\"Helvetica,sans-Serif\" font-size=\"14.00\" fill=\"#000000\">value = [0, 164]</text>\n<text text-anchor=\"middle\" x=\"479\" y=\"-119.3\" font-family=\"Helvetica,sans-Serif\" font-size=\"14.00\" fill=\"#000000\">class = republican</text>\n</g>\n<!-- 7&#45;&gt;8 -->\n<g id=\"edge8\" class=\"edge\">\n<title>7&#45;&gt;8</title>\n<path fill=\"none\" stroke=\"#000000\" d=\"M580.4388,-222.8796C564.6516,-210.8368 547.4521,-197.7167 531.7759,-185.7586\"/>\n<polygon fill=\"#000000\" stroke=\"#000000\" points=\"533.8063,-182.9053 523.7327,-179.623 529.5608,-188.4709 533.8063,-182.9053\"/>\n</g>\n<!-- 9 -->\n<g id=\"node10\" class=\"node\">\n<title>9</title>\n<path fill=\"#42a1e6\" stroke=\"#000000\" d=\"M808,-187C808,-187 576,-187 576,-187 570,-187 564,-181 564,-175 564,-175 564,-116 564,-116 564,-110 570,-104 576,-104 576,-104 808,-104 808,-104 814,-104 820,-110 820,-116 820,-116 820,-175 820,-175 820,-181 814,-187 808,-187\"/>\n<text text-anchor=\"middle\" x=\"692\" y=\"-171.8\" font-family=\"Helvetica,sans-Serif\" font-size=\"14.00\" fill=\"#000000\">synfuels&#45;corporation&#45;cutback1 &lt;= 0.5</text>\n<text text-anchor=\"middle\" x=\"692\" y=\"-156.8\" font-family=\"Helvetica,sans-Serif\" font-size=\"14.00\" fill=\"#000000\">gini = 0.083</text>\n<text text-anchor=\"middle\" x=\"692\" y=\"-141.8\" font-family=\"Helvetica,sans-Serif\" font-size=\"14.00\" fill=\"#000000\">samples = 69</text>\n<text text-anchor=\"middle\" x=\"692\" y=\"-126.8\" font-family=\"Helvetica,sans-Serif\" font-size=\"14.00\" fill=\"#000000\">value = [3, 66]</text>\n<text text-anchor=\"middle\" x=\"692\" y=\"-111.8\" font-family=\"Helvetica,sans-Serif\" font-size=\"14.00\" fill=\"#000000\">class = republican</text>\n</g>\n<!-- 7&#45;&gt;9 -->\n<g id=\"edge9\" class=\"edge\">\n<title>7&#45;&gt;9</title>\n<path fill=\"none\" stroke=\"#000000\" d=\"M654.9358,-222.8796C659.0341,-214.3236 663.3928,-205.2238 667.6273,-196.3833\"/>\n<polygon fill=\"#000000\" stroke=\"#000000\" points=\"670.8157,-197.8288 671.9791,-187.2981 664.5025,-194.8049 670.8157,-197.8288\"/>\n</g>\n<!-- 10 -->\n<g id=\"node11\" class=\"node\">\n<title>10</title>\n<path fill=\"#4da7e8\" stroke=\"#000000\" d=\"M595,-68C595,-68 485,-68 485,-68 479,-68 473,-62 473,-56 473,-56 473,-12 473,-12 473,-6 479,0 485,0 485,0 595,0 595,0 601,0 607,-6 607,-12 607,-12 607,-56 607,-56 607,-62 601,-68 595,-68\"/>\n<text text-anchor=\"middle\" x=\"540\" y=\"-52.8\" font-family=\"Helvetica,sans-Serif\" font-size=\"14.00\" fill=\"#000000\">gini = 0.17</text>\n<text text-anchor=\"middle\" x=\"540\" y=\"-37.8\" font-family=\"Helvetica,sans-Serif\" font-size=\"14.00\" fill=\"#000000\">samples = 32</text>\n<text text-anchor=\"middle\" x=\"540\" y=\"-22.8\" font-family=\"Helvetica,sans-Serif\" font-size=\"14.00\" fill=\"#000000\">value = [3, 29]</text>\n<text text-anchor=\"middle\" x=\"540\" y=\"-7.8\" font-family=\"Helvetica,sans-Serif\" font-size=\"14.00\" fill=\"#000000\">class = republican</text>\n</g>\n<!-- 9&#45;&gt;10 -->\n<g id=\"edge10\" class=\"edge\">\n<title>9&#45;&gt;10</title>\n<path fill=\"none\" stroke=\"#000000\" d=\"M635.4008,-103.9815C622.1201,-94.2394 607.9923,-83.8759 594.7923,-74.193\"/>\n<polygon fill=\"#000000\" stroke=\"#000000\" points=\"596.8426,-71.3564 586.7092,-68.2637 592.7023,-77.0006 596.8426,-71.3564\"/>\n</g>\n<!-- 11 -->\n<g id=\"node12\" class=\"node\">\n<title>11</title>\n<path fill=\"#399de5\" stroke=\"#000000\" d=\"M747,-68C747,-68 637,-68 637,-68 631,-68 625,-62 625,-56 625,-56 625,-12 625,-12 625,-6 631,0 637,0 637,0 747,0 747,0 753,0 759,-6 759,-12 759,-12 759,-56 759,-56 759,-62 753,-68 747,-68\"/>\n<text text-anchor=\"middle\" x=\"692\" y=\"-52.8\" font-family=\"Helvetica,sans-Serif\" font-size=\"14.00\" fill=\"#000000\">gini = 0.0</text>\n<text text-anchor=\"middle\" x=\"692\" y=\"-37.8\" font-family=\"Helvetica,sans-Serif\" font-size=\"14.00\" fill=\"#000000\">samples = 37</text>\n<text text-anchor=\"middle\" x=\"692\" y=\"-22.8\" font-family=\"Helvetica,sans-Serif\" font-size=\"14.00\" fill=\"#000000\">value = [0, 37]</text>\n<text text-anchor=\"middle\" x=\"692\" y=\"-7.8\" font-family=\"Helvetica,sans-Serif\" font-size=\"14.00\" fill=\"#000000\">class = republican</text>\n</g>\n<!-- 9&#45;&gt;11 -->\n<g id=\"edge11\" class=\"edge\">\n<title>9&#45;&gt;11</title>\n<path fill=\"none\" stroke=\"#000000\" d=\"M692,-103.9815C692,-95.618 692,-86.7965 692,-78.3409\"/>\n<polygon fill=\"#000000\" stroke=\"#000000\" points=\"695.5001,-78.2636 692,-68.2637 688.5001,-78.2637 695.5001,-78.2636\"/>\n</g>\n<!-- 13 -->\n<g id=\"node14\" class=\"node\">\n<title>13</title>\n<path fill=\"#e6843d\" stroke=\"#000000\" d=\"M1168.5,-306C1168.5,-306 1013.5,-306 1013.5,-306 1007.5,-306 1001.5,-300 1001.5,-294 1001.5,-294 1001.5,-235 1001.5,-235 1001.5,-229 1007.5,-223 1013.5,-223 1013.5,-223 1168.5,-223 1168.5,-223 1174.5,-223 1180.5,-229 1180.5,-235 1180.5,-235 1180.5,-294 1180.5,-294 1180.5,-300 1174.5,-306 1168.5,-306\"/>\n<text text-anchor=\"middle\" x=\"1091\" y=\"-290.8\" font-family=\"Helvetica,sans-Serif\" font-size=\"14.00\" fill=\"#000000\">duty&#45;free&#45;exports1 &lt;= 0.5</text>\n<text text-anchor=\"middle\" x=\"1091\" y=\"-275.8\" font-family=\"Helvetica,sans-Serif\" font-size=\"14.00\" fill=\"#000000\">gini = 0.041</text>\n<text text-anchor=\"middle\" x=\"1091\" y=\"-260.8\" font-family=\"Helvetica,sans-Serif\" font-size=\"14.00\" fill=\"#000000\">samples = 145</text>\n<text text-anchor=\"middle\" x=\"1091\" y=\"-245.8\" font-family=\"Helvetica,sans-Serif\" font-size=\"14.00\" fill=\"#000000\">value = [142, 3]</text>\n<text text-anchor=\"middle\" x=\"1091\" y=\"-230.8\" font-family=\"Helvetica,sans-Serif\" font-size=\"14.00\" fill=\"#000000\">class = republican</text>\n</g>\n<!-- 12&#45;&gt;13 -->\n<g id=\"edge13\" class=\"edge\">\n<title>12&#45;&gt;13</title>\n<path fill=\"none\" stroke=\"#000000\" d=\"M1091,-341.8796C1091,-333.6838 1091,-324.9891 1091,-316.5013\"/>\n<polygon fill=\"#000000\" stroke=\"#000000\" points=\"1094.5001,-316.298 1091,-306.2981 1087.5001,-316.2981 1094.5001,-316.298\"/>\n</g>\n<!-- 20 -->\n<g id=\"node21\" class=\"node\">\n<title>20</title>\n<path fill=\"#f3c3a1\" stroke=\"#000000\" d=\"M1633,-306C1633,-306 1373,-306 1373,-306 1367,-306 1361,-300 1361,-294 1361,-294 1361,-235 1361,-235 1361,-229 1367,-223 1373,-223 1373,-223 1633,-223 1633,-223 1639,-223 1645,-229 1645,-235 1645,-235 1645,-294 1645,-294 1645,-300 1639,-306 1633,-306\"/>\n<text text-anchor=\"middle\" x=\"1503\" y=\"-290.8\" font-family=\"Helvetica,sans-Serif\" font-size=\"14.00\" fill=\"#000000\">adoption&#45;of&#45;the&#45;budget&#45;resolution1 &lt;= 0.5</text>\n<text text-anchor=\"middle\" x=\"1503\" y=\"-275.8\" font-family=\"Helvetica,sans-Serif\" font-size=\"14.00\" fill=\"#000000\">gini = 0.451</text>\n<text text-anchor=\"middle\" x=\"1503\" y=\"-260.8\" font-family=\"Helvetica,sans-Serif\" font-size=\"14.00\" fill=\"#000000\">samples = 32</text>\n<text text-anchor=\"middle\" x=\"1503\" y=\"-245.8\" font-family=\"Helvetica,sans-Serif\" font-size=\"14.00\" fill=\"#000000\">value = [21, 11]</text>\n<text text-anchor=\"middle\" x=\"1503\" y=\"-230.8\" font-family=\"Helvetica,sans-Serif\" font-size=\"14.00\" fill=\"#000000\">class = republican</text>\n</g>\n<!-- 12&#45;&gt;20 -->\n<g id=\"edge20\" class=\"edge\">\n<title>12&#45;&gt;20</title>\n<path fill=\"none\" stroke=\"#000000\" d=\"M1219.101,-346.5C1260.9364,-334.4164 1307.7988,-320.8809 1351.2045,-308.3438\"/>\n<polygon fill=\"#000000\" stroke=\"#000000\" points=\"1352.3539,-311.655 1360.9899,-305.5175 1350.4114,-304.9299 1352.3539,-311.655\"/>\n</g>\n<!-- 14 -->\n<g id=\"node15\" class=\"node\">\n<title>14</title>\n<path fill=\"#e5823b\" stroke=\"#000000\" d=\"M1118,-187C1118,-187 858,-187 858,-187 852,-187 846,-181 846,-175 846,-175 846,-116 846,-116 846,-110 852,-104 858,-104 858,-104 1118,-104 1118,-104 1124,-104 1130,-110 1130,-116 1130,-116 1130,-175 1130,-175 1130,-181 1124,-187 1118,-187\"/>\n<text text-anchor=\"middle\" x=\"988\" y=\"-171.8\" font-family=\"Helvetica,sans-Serif\" font-size=\"14.00\" fill=\"#000000\">adoption&#45;of&#45;the&#45;budget&#45;resolution1 &lt;= 0.5</text>\n<text text-anchor=\"middle\" x=\"988\" y=\"-156.8\" font-family=\"Helvetica,sans-Serif\" font-size=\"14.00\" fill=\"#000000\">gini = 0.015</text>\n<text text-anchor=\"middle\" x=\"988\" y=\"-141.8\" font-family=\"Helvetica,sans-Serif\" font-size=\"14.00\" fill=\"#000000\">samples = 132</text>\n<text text-anchor=\"middle\" x=\"988\" y=\"-126.8\" font-family=\"Helvetica,sans-Serif\" font-size=\"14.00\" fill=\"#000000\">value = [131, 1]</text>\n<text text-anchor=\"middle\" x=\"988\" y=\"-111.8\" font-family=\"Helvetica,sans-Serif\" font-size=\"14.00\" fill=\"#000000\">class = republican</text>\n</g>\n<!-- 13&#45;&gt;14 -->\n<g id=\"edge14\" class=\"edge\">\n<title>13&#45;&gt;14</title>\n<path fill=\"none\" stroke=\"#000000\" d=\"M1054.9756,-222.8796C1047.1802,-213.8733 1038.8633,-204.2644 1030.8356,-194.9897\"/>\n<polygon fill=\"#000000\" stroke=\"#000000\" points=\"1033.3691,-192.5686 1024.1782,-187.2981 1028.0763,-197.1498 1033.3691,-192.5686\"/>\n</g>\n<!-- 17 -->\n<g id=\"node18\" class=\"node\">\n<title>17</title>\n<path fill=\"#ea985d\" stroke=\"#000000\" d=\"M1279.5,-187C1279.5,-187 1160.5,-187 1160.5,-187 1154.5,-187 1148.5,-181 1148.5,-175 1148.5,-175 1148.5,-116 1148.5,-116 1148.5,-110 1154.5,-104 1160.5,-104 1160.5,-104 1279.5,-104 1279.5,-104 1285.5,-104 1291.5,-110 1291.5,-116 1291.5,-116 1291.5,-175 1291.5,-175 1291.5,-181 1285.5,-187 1279.5,-187\"/>\n<text text-anchor=\"middle\" x=\"1220\" y=\"-171.8\" font-family=\"Helvetica,sans-Serif\" font-size=\"14.00\" fill=\"#000000\">immigration1 &lt;= 0.5</text>\n<text text-anchor=\"middle\" x=\"1220\" y=\"-156.8\" font-family=\"Helvetica,sans-Serif\" font-size=\"14.00\" fill=\"#000000\">gini = 0.26</text>\n<text text-anchor=\"middle\" x=\"1220\" y=\"-141.8\" font-family=\"Helvetica,sans-Serif\" font-size=\"14.00\" fill=\"#000000\">samples = 13</text>\n<text text-anchor=\"middle\" x=\"1220\" y=\"-126.8\" font-family=\"Helvetica,sans-Serif\" font-size=\"14.00\" fill=\"#000000\">value = [11, 2]</text>\n<text text-anchor=\"middle\" x=\"1220\" y=\"-111.8\" font-family=\"Helvetica,sans-Serif\" font-size=\"14.00\" fill=\"#000000\">class = republican</text>\n</g>\n<!-- 13&#45;&gt;17 -->\n<g id=\"edge17\" class=\"edge\">\n<title>13&#45;&gt;17</title>\n<path fill=\"none\" stroke=\"#000000\" d=\"M1136.1179,-222.8796C1146.174,-213.6031 1156.923,-203.6874 1167.2554,-194.1559\"/>\n<polygon fill=\"#000000\" stroke=\"#000000\" points=\"1169.7124,-196.6511 1174.6895,-187.2981 1164.9661,-191.506 1169.7124,-196.6511\"/>\n</g>\n<!-- 15 -->\n<g id=\"node16\" class=\"node\">\n<title>15</title>\n<path fill=\"#e58139\" stroke=\"#000000\" d=\"M899,-68C899,-68 789,-68 789,-68 783,-68 777,-62 777,-56 777,-56 777,-12 777,-12 777,-6 783,0 789,0 789,0 899,0 899,0 905,0 911,-6 911,-12 911,-12 911,-56 911,-56 911,-62 905,-68 899,-68\"/>\n<text text-anchor=\"middle\" x=\"844\" y=\"-52.8\" font-family=\"Helvetica,sans-Serif\" font-size=\"14.00\" fill=\"#000000\">gini = 0.0</text>\n<text text-anchor=\"middle\" x=\"844\" y=\"-37.8\" font-family=\"Helvetica,sans-Serif\" font-size=\"14.00\" fill=\"#000000\">samples = 117</text>\n<text text-anchor=\"middle\" x=\"844\" y=\"-22.8\" font-family=\"Helvetica,sans-Serif\" font-size=\"14.00\" fill=\"#000000\">value = [117, 0]</text>\n<text text-anchor=\"middle\" x=\"844\" y=\"-7.8\" font-family=\"Helvetica,sans-Serif\" font-size=\"14.00\" fill=\"#000000\">class = republican</text>\n</g>\n<!-- 14&#45;&gt;15 -->\n<g id=\"edge15\" class=\"edge\">\n<title>14&#45;&gt;15</title>\n<path fill=\"none\" stroke=\"#000000\" d=\"M934.3797,-103.9815C921.9167,-94.3313 908.6662,-84.0714 896.2627,-74.4673\"/>\n<polygon fill=\"#000000\" stroke=\"#000000\" points=\"898.3005,-71.6186 888.2508,-68.2637 894.0149,-77.1534 898.3005,-71.6186\"/>\n</g>\n<!-- 16 -->\n<g id=\"node17\" class=\"node\">\n<title>16</title>\n<path fill=\"#e78a47\" stroke=\"#000000\" d=\"M1051,-68C1051,-68 941,-68 941,-68 935,-68 929,-62 929,-56 929,-56 929,-12 929,-12 929,-6 935,0 941,0 941,0 1051,0 1051,0 1057,0 1063,-6 1063,-12 1063,-12 1063,-56 1063,-56 1063,-62 1057,-68 1051,-68\"/>\n<text text-anchor=\"middle\" x=\"996\" y=\"-52.8\" font-family=\"Helvetica,sans-Serif\" font-size=\"14.00\" fill=\"#000000\">gini = 0.124</text>\n<text text-anchor=\"middle\" x=\"996\" y=\"-37.8\" font-family=\"Helvetica,sans-Serif\" font-size=\"14.00\" fill=\"#000000\">samples = 15</text>\n<text text-anchor=\"middle\" x=\"996\" y=\"-22.8\" font-family=\"Helvetica,sans-Serif\" font-size=\"14.00\" fill=\"#000000\">value = [14, 1]</text>\n<text text-anchor=\"middle\" x=\"996\" y=\"-7.8\" font-family=\"Helvetica,sans-Serif\" font-size=\"14.00\" fill=\"#000000\">class = republican</text>\n</g>\n<!-- 14&#45;&gt;16 -->\n<g id=\"edge16\" class=\"edge\">\n<title>14&#45;&gt;16</title>\n<path fill=\"none\" stroke=\"#000000\" d=\"M990.9789,-103.9815C991.579,-95.618 992.2119,-86.7965 992.8186,-78.3409\"/>\n<polygon fill=\"#000000\" stroke=\"#000000\" points=\"996.3169,-78.4885 993.5416,-68.2637 989.3349,-77.9875 996.3169,-78.4885\"/>\n</g>\n<!-- 18 -->\n<g id=\"node19\" class=\"node\">\n<title>18</title>\n<path fill=\"#ffffff\" stroke=\"#000000\" d=\"M1203,-68C1203,-68 1093,-68 1093,-68 1087,-68 1081,-62 1081,-56 1081,-56 1081,-12 1081,-12 1081,-6 1087,0 1093,0 1093,0 1203,0 1203,0 1209,0 1215,-6 1215,-12 1215,-12 1215,-56 1215,-56 1215,-62 1209,-68 1203,-68\"/>\n<text text-anchor=\"middle\" x=\"1148\" y=\"-52.8\" font-family=\"Helvetica,sans-Serif\" font-size=\"14.00\" fill=\"#000000\">gini = 0.5</text>\n<text text-anchor=\"middle\" x=\"1148\" y=\"-37.8\" font-family=\"Helvetica,sans-Serif\" font-size=\"14.00\" fill=\"#000000\">samples = 4</text>\n<text text-anchor=\"middle\" x=\"1148\" y=\"-22.8\" font-family=\"Helvetica,sans-Serif\" font-size=\"14.00\" fill=\"#000000\">value = [2, 2]</text>\n<text text-anchor=\"middle\" x=\"1148\" y=\"-7.8\" font-family=\"Helvetica,sans-Serif\" font-size=\"14.00\" fill=\"#000000\">class = republican</text>\n</g>\n<!-- 17&#45;&gt;18 -->\n<g id=\"edge18\" class=\"edge\">\n<title>17&#45;&gt;18</title>\n<path fill=\"none\" stroke=\"#000000\" d=\"M1193.1899,-103.9815C1187.4331,-95.0666 1181.3404,-85.6313 1175.5559,-76.6734\"/>\n<polygon fill=\"#000000\" stroke=\"#000000\" points=\"1178.4904,-74.7658 1170.1254,-68.2637 1172.6099,-78.5631 1178.4904,-74.7658\"/>\n</g>\n<!-- 19 -->\n<g id=\"node20\" class=\"node\">\n<title>19</title>\n<path fill=\"#e58139\" stroke=\"#000000\" d=\"M1355,-68C1355,-68 1245,-68 1245,-68 1239,-68 1233,-62 1233,-56 1233,-56 1233,-12 1233,-12 1233,-6 1239,0 1245,0 1245,0 1355,0 1355,0 1361,0 1367,-6 1367,-12 1367,-12 1367,-56 1367,-56 1367,-62 1361,-68 1355,-68\"/>\n<text text-anchor=\"middle\" x=\"1300\" y=\"-52.8\" font-family=\"Helvetica,sans-Serif\" font-size=\"14.00\" fill=\"#000000\">gini = 0.0</text>\n<text text-anchor=\"middle\" x=\"1300\" y=\"-37.8\" font-family=\"Helvetica,sans-Serif\" font-size=\"14.00\" fill=\"#000000\">samples = 9</text>\n<text text-anchor=\"middle\" x=\"1300\" y=\"-22.8\" font-family=\"Helvetica,sans-Serif\" font-size=\"14.00\" fill=\"#000000\">value = [9, 0]</text>\n<text text-anchor=\"middle\" x=\"1300\" y=\"-7.8\" font-family=\"Helvetica,sans-Serif\" font-size=\"14.00\" fill=\"#000000\">class = republican</text>\n</g>\n<!-- 17&#45;&gt;19 -->\n<g id=\"edge19\" class=\"edge\">\n<title>17&#45;&gt;19</title>\n<path fill=\"none\" stroke=\"#000000\" d=\"M1249.789,-103.9815C1256.2514,-94.9747 1263.0948,-85.4367 1269.581,-76.3965\"/>\n<polygon fill=\"#000000\" stroke=\"#000000\" points=\"1272.4303,-78.4291 1275.4162,-68.2637 1266.7428,-74.3483 1272.4303,-78.4291\"/>\n</g>\n<!-- 21 -->\n<g id=\"node22\" class=\"node\">\n<title>21</title>\n<path fill=\"#eca470\" stroke=\"#000000\" d=\"M1573,-187C1573,-187 1433,-187 1433,-187 1427,-187 1421,-181 1421,-175 1421,-175 1421,-116 1421,-116 1421,-110 1427,-104 1433,-104 1433,-104 1573,-104 1573,-104 1579,-104 1585,-110 1585,-116 1585,-116 1585,-175 1585,-175 1585,-181 1579,-187 1573,-187\"/>\n<text text-anchor=\"middle\" x=\"1503\" y=\"-171.8\" font-family=\"Helvetica,sans-Serif\" font-size=\"14.00\" fill=\"#000000\">el&#45;salvador&#45;aid1 &lt;= 0.5</text>\n<text text-anchor=\"middle\" x=\"1503\" y=\"-156.8\" font-family=\"Helvetica,sans-Serif\" font-size=\"14.00\" fill=\"#000000\">gini = 0.34</text>\n<text text-anchor=\"middle\" x=\"1503\" y=\"-141.8\" font-family=\"Helvetica,sans-Serif\" font-size=\"14.00\" fill=\"#000000\">samples = 23</text>\n<text text-anchor=\"middle\" x=\"1503\" y=\"-126.8\" font-family=\"Helvetica,sans-Serif\" font-size=\"14.00\" fill=\"#000000\">value = [18, 5]</text>\n<text text-anchor=\"middle\" x=\"1503\" y=\"-111.8\" font-family=\"Helvetica,sans-Serif\" font-size=\"14.00\" fill=\"#000000\">class = republican</text>\n</g>\n<!-- 20&#45;&gt;21 -->\n<g id=\"edge21\" class=\"edge\">\n<title>20&#45;&gt;21</title>\n<path fill=\"none\" stroke=\"#000000\" d=\"M1503,-222.8796C1503,-214.6838 1503,-205.9891 1503,-197.5013\"/>\n<polygon fill=\"#000000\" stroke=\"#000000\" points=\"1506.5001,-197.298 1503,-187.2981 1499.5001,-197.2981 1506.5001,-197.298\"/>\n</g>\n<!-- 24 -->\n<g id=\"node25\" class=\"node\">\n<title>24</title>\n<path fill=\"#9ccef2\" stroke=\"#000000\" d=\"M1845.5,-187C1845.5,-187 1666.5,-187 1666.5,-187 1660.5,-187 1654.5,-181 1654.5,-175 1654.5,-175 1654.5,-116 1654.5,-116 1654.5,-110 1660.5,-104 1666.5,-104 1666.5,-104 1845.5,-104 1845.5,-104 1851.5,-104 1857.5,-110 1857.5,-116 1857.5,-116 1857.5,-175 1857.5,-175 1857.5,-181 1851.5,-187 1845.5,-187\"/>\n<text text-anchor=\"middle\" x=\"1756\" y=\"-171.8\" font-family=\"Helvetica,sans-Serif\" font-size=\"14.00\" fill=\"#000000\">anti&#45;satellite&#45;test&#45;ban1 &lt;= 0.5</text>\n<text text-anchor=\"middle\" x=\"1756\" y=\"-156.8\" font-family=\"Helvetica,sans-Serif\" font-size=\"14.00\" fill=\"#000000\">gini = 0.444</text>\n<text text-anchor=\"middle\" x=\"1756\" y=\"-141.8\" font-family=\"Helvetica,sans-Serif\" font-size=\"14.00\" fill=\"#000000\">samples = 9</text>\n<text text-anchor=\"middle\" x=\"1756\" y=\"-126.8\" font-family=\"Helvetica,sans-Serif\" font-size=\"14.00\" fill=\"#000000\">value = [3, 6]</text>\n<text text-anchor=\"middle\" x=\"1756\" y=\"-111.8\" font-family=\"Helvetica,sans-Serif\" font-size=\"14.00\" fill=\"#000000\">class = republican</text>\n</g>\n<!-- 20&#45;&gt;24 -->\n<g id=\"edge24\" class=\"edge\">\n<title>20&#45;&gt;24</title>\n<path fill=\"none\" stroke=\"#000000\" d=\"M1591.4871,-222.8796C1613.0574,-212.7339 1636.2533,-201.8235 1658.2281,-191.4876\"/>\n<polygon fill=\"#000000\" stroke=\"#000000\" points=\"1660.0035,-194.5204 1667.5628,-187.0969 1657.0241,-188.1861 1660.0035,-194.5204\"/>\n</g>\n<!-- 22 -->\n<g id=\"node23\" class=\"node\">\n<title>22</title>\n<path fill=\"#399de5\" stroke=\"#000000\" d=\"M1507,-68C1507,-68 1397,-68 1397,-68 1391,-68 1385,-62 1385,-56 1385,-56 1385,-12 1385,-12 1385,-6 1391,0 1397,0 1397,0 1507,0 1507,0 1513,0 1519,-6 1519,-12 1519,-12 1519,-56 1519,-56 1519,-62 1513,-68 1507,-68\"/>\n<text text-anchor=\"middle\" x=\"1452\" y=\"-52.8\" font-family=\"Helvetica,sans-Serif\" font-size=\"14.00\" fill=\"#000000\">gini = 0.0</text>\n<text text-anchor=\"middle\" x=\"1452\" y=\"-37.8\" font-family=\"Helvetica,sans-Serif\" font-size=\"14.00\" fill=\"#000000\">samples = 2</text>\n<text text-anchor=\"middle\" x=\"1452\" y=\"-22.8\" font-family=\"Helvetica,sans-Serif\" font-size=\"14.00\" fill=\"#000000\">value = [0, 2]</text>\n<text text-anchor=\"middle\" x=\"1452\" y=\"-7.8\" font-family=\"Helvetica,sans-Serif\" font-size=\"14.00\" fill=\"#000000\">class = republican</text>\n</g>\n<!-- 21&#45;&gt;22 -->\n<g id=\"edge22\" class=\"edge\">\n<title>21&#45;&gt;22</title>\n<path fill=\"none\" stroke=\"#000000\" d=\"M1484.0095,-103.9815C1480.0579,-95.3423 1475.8828,-86.2144 1471.8995,-77.5059\"/>\n<polygon fill=\"#000000\" stroke=\"#000000\" points=\"1475.0146,-75.9017 1467.6722,-68.2637 1468.6489,-78.8134 1475.0146,-75.9017\"/>\n</g>\n<!-- 23 -->\n<g id=\"node24\" class=\"node\">\n<title>23</title>\n<path fill=\"#e9965a\" stroke=\"#000000\" d=\"M1659,-68C1659,-68 1549,-68 1549,-68 1543,-68 1537,-62 1537,-56 1537,-56 1537,-12 1537,-12 1537,-6 1543,0 1549,0 1549,0 1659,0 1659,0 1665,0 1671,-6 1671,-12 1671,-12 1671,-56 1671,-56 1671,-62 1665,-68 1659,-68\"/>\n<text text-anchor=\"middle\" x=\"1604\" y=\"-52.8\" font-family=\"Helvetica,sans-Serif\" font-size=\"14.00\" fill=\"#000000\">gini = 0.245</text>\n<text text-anchor=\"middle\" x=\"1604\" y=\"-37.8\" font-family=\"Helvetica,sans-Serif\" font-size=\"14.00\" fill=\"#000000\">samples = 21</text>\n<text text-anchor=\"middle\" x=\"1604\" y=\"-22.8\" font-family=\"Helvetica,sans-Serif\" font-size=\"14.00\" fill=\"#000000\">value = [18, 3]</text>\n<text text-anchor=\"middle\" x=\"1604\" y=\"-7.8\" font-family=\"Helvetica,sans-Serif\" font-size=\"14.00\" fill=\"#000000\">class = republican</text>\n</g>\n<!-- 21&#45;&gt;23 -->\n<g id=\"edge23\" class=\"edge\">\n<title>21&#45;&gt;23</title>\n<path fill=\"none\" stroke=\"#000000\" d=\"M1540.6087,-103.9815C1548.9339,-94.7908 1557.76,-85.0472 1566.0968,-75.8436\"/>\n<polygon fill=\"#000000\" stroke=\"#000000\" points=\"1568.8434,-78.0248 1572.963,-68.2637 1563.6554,-73.3254 1568.8434,-78.0248\"/>\n</g>\n<!-- 25 -->\n<g id=\"node26\" class=\"node\">\n<title>25</title>\n<path fill=\"#399de5\" stroke=\"#000000\" d=\"M1811,-68C1811,-68 1701,-68 1701,-68 1695,-68 1689,-62 1689,-56 1689,-56 1689,-12 1689,-12 1689,-6 1695,0 1701,0 1701,0 1811,0 1811,0 1817,0 1823,-6 1823,-12 1823,-12 1823,-56 1823,-56 1823,-62 1817,-68 1811,-68\"/>\n<text text-anchor=\"middle\" x=\"1756\" y=\"-52.8\" font-family=\"Helvetica,sans-Serif\" font-size=\"14.00\" fill=\"#000000\">gini = 0.0</text>\n<text text-anchor=\"middle\" x=\"1756\" y=\"-37.8\" font-family=\"Helvetica,sans-Serif\" font-size=\"14.00\" fill=\"#000000\">samples = 6</text>\n<text text-anchor=\"middle\" x=\"1756\" y=\"-22.8\" font-family=\"Helvetica,sans-Serif\" font-size=\"14.00\" fill=\"#000000\">value = [0, 6]</text>\n<text text-anchor=\"middle\" x=\"1756\" y=\"-7.8\" font-family=\"Helvetica,sans-Serif\" font-size=\"14.00\" fill=\"#000000\">class = republican</text>\n</g>\n<!-- 24&#45;&gt;25 -->\n<g id=\"edge25\" class=\"edge\">\n<title>24&#45;&gt;25</title>\n<path fill=\"none\" stroke=\"#000000\" d=\"M1756,-103.9815C1756,-95.618 1756,-86.7965 1756,-78.3409\"/>\n<polygon fill=\"#000000\" stroke=\"#000000\" points=\"1759.5001,-78.2636 1756,-68.2637 1752.5001,-78.2637 1759.5001,-78.2636\"/>\n</g>\n<!-- 26 -->\n<g id=\"node27\" class=\"node\">\n<title>26</title>\n<path fill=\"#e58139\" stroke=\"#000000\" d=\"M1963,-68C1963,-68 1853,-68 1853,-68 1847,-68 1841,-62 1841,-56 1841,-56 1841,-12 1841,-12 1841,-6 1847,0 1853,0 1853,0 1963,0 1963,0 1969,0 1975,-6 1975,-12 1975,-12 1975,-56 1975,-56 1975,-62 1969,-68 1963,-68\"/>\n<text text-anchor=\"middle\" x=\"1908\" y=\"-52.8\" font-family=\"Helvetica,sans-Serif\" font-size=\"14.00\" fill=\"#000000\">gini = 0.0</text>\n<text text-anchor=\"middle\" x=\"1908\" y=\"-37.8\" font-family=\"Helvetica,sans-Serif\" font-size=\"14.00\" fill=\"#000000\">samples = 3</text>\n<text text-anchor=\"middle\" x=\"1908\" y=\"-22.8\" font-family=\"Helvetica,sans-Serif\" font-size=\"14.00\" fill=\"#000000\">value = [3, 0]</text>\n<text text-anchor=\"middle\" x=\"1908\" y=\"-7.8\" font-family=\"Helvetica,sans-Serif\" font-size=\"14.00\" fill=\"#000000\">class = republican</text>\n</g>\n<!-- 24&#45;&gt;26 -->\n<g id=\"edge26\" class=\"edge\">\n<title>24&#45;&gt;26</title>\n<path fill=\"none\" stroke=\"#000000\" d=\"M1812.5992,-103.9815C1825.8799,-94.2394 1840.0077,-83.8759 1853.2077,-74.193\"/>\n<polygon fill=\"#000000\" stroke=\"#000000\" points=\"1855.2977,-77.0006 1861.2908,-68.2637 1851.1574,-71.3564 1855.2977,-77.0006\"/>\n</g>\n</g>\n</svg>\n"
          },
          "metadata": {
            "tags": []
          },
          "execution_count": 120
        }
      ]
    },
    {
      "cell_type": "markdown",
      "metadata": {
        "id": "qPrd_KzAEpPp"
      },
      "source": [
        "**Prediksi dan Accuracy**"
      ]
    },
    {
      "cell_type": "code",
      "metadata": {
        "colab": {
          "base_uri": "https://localhost:8080/"
        },
        "id": "RUw-GrRk8xrs",
        "outputId": "50893ada-92c5-4c49-a7a7-879199c31fba"
      },
      "source": [
        "\n",
        "tree_clf.predict_proba([[0.0, 1.0, 0.0, 1.0, 1.0, 1.0, 0.0, 0.0, 0.0, 1.0, 0.0, 1.0, 1.0, 1.0, 0.0, 1.0]])"
      ],
      "execution_count": null,
      "outputs": [
        {
          "output_type": "execute_result",
          "data": {
            "text/plain": [
              "array([[1., 0.]])"
            ]
          },
          "metadata": {
            "tags": []
          },
          "execution_count": 122
        }
      ]
    },
    {
      "cell_type": "markdown",
      "metadata": {
        "id": "H_MNL52L-_eC"
      },
      "source": [
        "dari data diatas berarti 100% untuk party republic dan 0% untuk party democrat"
      ]
    },
    {
      "cell_type": "code",
      "metadata": {
        "colab": {
          "base_uri": "https://localhost:8080/"
        },
        "id": "YtkGimw4-lNa",
        "outputId": "9fd60c0a-f7d2-4168-c76e-6054eb8d30ee"
      },
      "source": [
        "new_prediction= tree_clf.predict([[0.0, 1.0, 0.0, 1.0, 1.0, 1.0, 0.0, 0.0, 0.0, 1.0, 0.0, 1.0, 1.0, 1.0, 0.0, 1.0]])\n",
        "if new_prediction == [1.]:\n",
        "  print(\"Prediction: {democrat}\")\n",
        "else:\n",
        "  print(\"Prediction: {republic}\")"
      ],
      "execution_count": null,
      "outputs": [
        {
          "output_type": "stream",
          "text": [
            "Prediction: {republic}\n"
          ],
          "name": "stdout"
        }
      ]
    },
    {
      "cell_type": "code",
      "metadata": {
        "colab": {
          "base_uri": "https://localhost:8080/"
        },
        "id": "Ns8hHK20_f2I",
        "outputId": "cfa64868-daa3-4cdb-cae2-2a974c4ead7f"
      },
      "source": [
        "new_prediction2= tree_clf.predict([[0.0,\t1.0,\t1.0,\t0.0,\t1.0,\t1.0,\t0.0,\t0.0,\t0.0,\t0.0,\t1.0,\t0.0,\t1.0,\t1.0,\t0.0,\t0.0]])\n",
        "if new_prediction2 == [1.]:\n",
        "  print(\"Prediction: {democrat}\")\n",
        "else:\n",
        "  print(\"Prediction: {republic}\")"
      ],
      "execution_count": null,
      "outputs": [
        {
          "output_type": "stream",
          "text": [
            "Prediction: {democrat}\n"
          ],
          "name": "stdout"
        }
      ]
    },
    {
      "cell_type": "markdown",
      "metadata": {
        "id": "aSTyMYOOG3F2"
      },
      "source": [
        "Compare the train-set and test-set accuracy"
      ]
    },
    {
      "cell_type": "markdown",
      "metadata": {
        "id": "XM3FQSzTHe8c"
      },
      "source": [
        "TEST"
      ]
    },
    {
      "cell_type": "code",
      "metadata": {
        "id": "7HzI1f3nDxXi"
      },
      "source": [
        "# Predict\n",
        "y_pred = tree_clf.predict(X_test)\n",
        "# y_pred"
      ],
      "execution_count": null,
      "outputs": []
    },
    {
      "cell_type": "code",
      "metadata": {
        "colab": {
          "base_uri": "https://localhost:8080/"
        },
        "id": "NwibH8pBGWxq",
        "outputId": "36e2609e-e046-4885-8144-e10e741853d1"
      },
      "source": [
        "from sklearn.metrics import accuracy_score\n",
        "\n",
        "print('Model accuracy score: {0:0.4f}'. format(accuracy_score(y_test, y_pred)))"
      ],
      "execution_count": null,
      "outputs": [
        {
          "output_type": "stream",
          "text": [
            "Model accuracy score: 0.9847\n"
          ],
          "name": "stdout"
        }
      ]
    },
    {
      "cell_type": "markdown",
      "metadata": {
        "id": "xg6vTq-yHgde"
      },
      "source": [
        "TRAIN"
      ]
    },
    {
      "cell_type": "code",
      "metadata": {
        "id": "UbqrcK27HCO1"
      },
      "source": [
        "y_pred_train = tree_clf.predict(X_train)"
      ],
      "execution_count": null,
      "outputs": []
    },
    {
      "cell_type": "code",
      "metadata": {
        "colab": {
          "base_uri": "https://localhost:8080/"
        },
        "id": "4lBakAt_HBtu",
        "outputId": "c7e2b6f0-61e3-4594-ccd9-7d453b115bfa"
      },
      "source": [
        "print('Training-set accuracy score: {0:0.4f}'. format(accuracy_score(y_train, y_pred_train)))"
      ],
      "execution_count": null,
      "outputs": [
        {
          "output_type": "stream",
          "text": [
            "Training-set accuracy score: 0.9704\n"
          ],
          "name": "stdout"
        }
      ]
    },
    {
      "cell_type": "markdown",
      "metadata": {
        "id": "La5kv1nyHibn"
      },
      "source": [
        "TRAIN & TEST SCORE"
      ]
    },
    {
      "cell_type": "code",
      "metadata": {
        "colab": {
          "base_uri": "https://localhost:8080/"
        },
        "id": "fRr3JomyAPzw",
        "outputId": "7b69e115-4f8b-463c-c0aa-6cf666a3a97c"
      },
      "source": [
        "print('Training set score: {:.4f}'.format(tree_clf.score(X_train, y_train)))\n",
        "\n",
        "print('Test set score: {:.4f}'.format(tree_clf.score(X_test, y_test)))"
      ],
      "execution_count": null,
      "outputs": [
        {
          "output_type": "stream",
          "text": [
            "Training set score: 0.9704\n",
            "Test set score: 0.9847\n"
          ],
          "name": "stdout"
        }
      ]
    },
    {
      "cell_type": "markdown",
      "metadata": {
        "id": "Rc7g7IbfH6js"
      },
      "source": [
        "TEST"
      ]
    },
    {
      "cell_type": "code",
      "metadata": {
        "colab": {
          "base_uri": "https://localhost:8080/"
        },
        "id": "qAQXhKsFBOZ3",
        "outputId": "f47c0b08-147a-456d-f680-20e77f50e663"
      },
      "source": [
        "# MSE, MAE, R2, RMSE Method One\n",
        "from sklearn.metrics import mean_squared_error #MSE\n",
        "from sklearn.metrics import mean_absolute_error #MAE\n",
        "from sklearn.metrics import r2_score#R 2\n",
        " #transfer \n",
        "print('MSE:', mean_squared_error(y_test,y_pred))\n",
        "print('MAE:', mean_absolute_error(y_test,y_pred))\n",
        "print('RMSE:', np.sqrt(mean_squared_error(y_test,y_pred)))  # RMSE\n",
        "print('r2:', r2_score(y_test,y_pred))"
      ],
      "execution_count": null,
      "outputs": [
        {
          "output_type": "stream",
          "text": [
            "MSE: 0.015267175572519083\n",
            "MAE: 0.015267175572519083\n",
            "RMSE: 0.1235604126430431\n",
            "r2: 0.9329923273657289\n"
          ],
          "name": "stdout"
        }
      ]
    },
    {
      "cell_type": "markdown",
      "metadata": {
        "id": "Gv8kI-K0H9M_"
      },
      "source": [
        "TRAIN"
      ]
    },
    {
      "cell_type": "code",
      "metadata": {
        "colab": {
          "base_uri": "https://localhost:8080/"
        },
        "id": "DYt57BnrH-Jc",
        "outputId": "b3799cc7-6ba8-4439-f016-ae5c66ad7dad"
      },
      "source": [
        "# MSE, MAE, R2, RMSE Method One\n",
        "from sklearn.metrics import mean_squared_error #MSE\n",
        "from sklearn.metrics import mean_absolute_error #MAE\n",
        "from sklearn.metrics import r2_score#R 2\n",
        " #transfer \n",
        "print('MSE:', mean_squared_error(y_train,y_pred_train))\n",
        "print('MAE:', mean_absolute_error(y_train,y_pred_train))\n",
        "print('RMSE:', np.sqrt(mean_squared_error(y_train,y_pred_train)))  # RMSE\n",
        "print('r2:', r2_score(y_test,y_pred))"
      ],
      "execution_count": null,
      "outputs": [
        {
          "output_type": "stream",
          "text": [
            "MSE: 0.029605263157894735\n",
            "MAE: 0.029605263157894735\n",
            "RMSE: 0.17206180040292132\n",
            "r2: 0.9329923273657289\n"
          ],
          "name": "stdout"
        }
      ]
    },
    {
      "cell_type": "markdown",
      "metadata": {
        "id": "TRoDT3LSK_Uo"
      },
      "source": [
        "Classification Report"
      ]
    },
    {
      "cell_type": "code",
      "metadata": {
        "colab": {
          "base_uri": "https://localhost:8080/"
        },
        "id": "tXzYgYoFKzib",
        "outputId": "eee0283a-1bdc-4b2e-d0c9-a614e51c1842"
      },
      "source": [
        "from sklearn.metrics import classification_report\n",
        "\n",
        "print(classification_report(y_test, y_pred))"
      ],
      "execution_count": null,
      "outputs": [
        {
          "output_type": "stream",
          "text": [
            "              precision    recall  f1-score   support\n",
            "\n",
            "           0       0.98      0.98      0.98        46\n",
            "           1       0.99      0.99      0.99        85\n",
            "\n",
            "    accuracy                           0.98       131\n",
            "   macro avg       0.98      0.98      0.98       131\n",
            "weighted avg       0.98      0.98      0.98       131\n",
            "\n"
          ],
          "name": "stdout"
        }
      ]
    },
    {
      "cell_type": "markdown",
      "metadata": {
        "id": "S9A2wjSjF1Yv"
      },
      "source": [
        "Referensi:\n",
        "\n",
        "https://www.kaggle.com/prashant111/decision-tree-classifier-tutorial\n",
        "\n",
        "https://www.kaggle.com/faressayah/decision-trees-and-random-forest-for-beginners"
      ]
    },
    {
      "cell_type": "markdown",
      "metadata": {
        "id": "qhjI04d6DwMF"
      },
      "source": [
        "**Decision Tree Classifier Hyperparameter tuning**"
      ]
    },
    {
      "cell_type": "code",
      "metadata": {
        "id": "tBIPhk7cJmlV"
      },
      "source": [
        "#fungsi print_score\n",
        "from sklearn.metrics import accuracy_score, confusion_matrix, classification_report\n",
        "\n",
        "def print_score(clf, X_train, y_train, X_test, y_test, train=True):\n",
        "    if train:\n",
        "        pred = clf.predict(X_train)\n",
        "        clf_report = pd.DataFrame(classification_report(y_train, pred, output_dict=True))\n",
        "        print(\"Train Result:\\n================================================\")\n",
        "        print(f\"Accuracy Score: {accuracy_score(y_train, pred) * 100:.2f}%\")\n",
        "        print(\"_______________________________________________\")\n",
        "        print(f\"CLASSIFICATION REPORT:\\n{clf_report}\")\n",
        "        print(\"_______________________________________________\")\n",
        "        print(f\"Confusion Matrix: \\n {confusion_matrix(y_train, pred)}\\n\")\n",
        "        \n",
        "    elif train==False:\n",
        "        pred = clf.predict(X_test)\n",
        "        clf_report = pd.DataFrame(classification_report(y_test, pred, output_dict=True))\n",
        "        print(\"Test Result:\\n================================================\")        \n",
        "        print(f\"Accuracy Score: {accuracy_score(y_test, pred) * 100:.2f}%\")\n",
        "        print(\"_______________________________________________\")\n",
        "        print(f\"CLASSIFICATION REPORT:\\n{clf_report}\")\n",
        "        print(\"_______________________________________________\")\n",
        "        print(f\"Confusion Matrix: \\n {confusion_matrix(y_test, pred)}\\n\")"
      ],
      "execution_count": null,
      "outputs": []
    },
    {
      "cell_type": "code",
      "metadata": {
        "colab": {
          "base_uri": "https://localhost:8080/"
        },
        "id": "cnshpr4_I8hD",
        "outputId": "2599ce31-eebd-4d70-fd5e-fa24b46e4b4d"
      },
      "source": [
        "from sklearn.tree import DecisionTreeClassifier\n",
        "from sklearn.model_selection import GridSearchCV\n",
        "\n",
        "params = {\n",
        "    \"criterion\":(\"gini\", \"entropy\"), \n",
        "    \"splitter\":(\"best\", \"random\"), \n",
        "    \"max_depth\":(list(range(1, 20))), \n",
        "    \"min_samples_split\":[2, 3, 4], \n",
        "    \"min_samples_leaf\":list(range(1, 20)), \n",
        "}\n",
        "\n",
        "\n",
        "tree_clf = DecisionTreeClassifier(random_state=42)\n",
        "tree_cv = GridSearchCV(tree_clf, params, scoring=\"accuracy\", n_jobs=-1, verbose=1, cv=3)\n",
        "tree_cv.fit(X_train, y_train)\n",
        "best_params = tree_cv.best_params_\n",
        "print(f\"Best paramters: {best_params})\")\n",
        "\n",
        "tree_clf = DecisionTreeClassifier(**best_params)\n",
        "tree_clf.fit(X_train, y_train)\n",
        "print_score(tree_clf, X_train, y_train, X_test, y_test, train=True)\n",
        "print_score(tree_clf, X_train, y_train, X_test, y_test, train=False)"
      ],
      "execution_count": null,
      "outputs": [
        {
          "output_type": "stream",
          "text": [
            "Fitting 3 folds for each of 4332 candidates, totalling 12996 fits\n"
          ],
          "name": "stdout"
        },
        {
          "output_type": "stream",
          "text": [
            "[Parallel(n_jobs=-1)]: Using backend LokyBackend with 2 concurrent workers.\n",
            "[Parallel(n_jobs=-1)]: Done 956 tasks      | elapsed:    2.9s\n",
            "[Parallel(n_jobs=-1)]: Done 5756 tasks      | elapsed:   16.5s\n"
          ],
          "name": "stderr"
        },
        {
          "output_type": "stream",
          "text": [
            "Best paramters: {'criterion': 'gini', 'max_depth': 3, 'min_samples_leaf': 3, 'min_samples_split': 2, 'splitter': 'best'})\n",
            "Train Result:\n",
            "================================================\n",
            "Accuracy Score: 95.39%\n",
            "_______________________________________________\n",
            "CLASSIFICATION REPORT:\n",
            "                    0           1  accuracy   macro avg  weighted avg\n",
            "precision    0.965517    0.946809  0.953947    0.956163      0.954317\n",
            "recall       0.918033    0.978022  0.953947    0.948027      0.953947\n",
            "f1-score     0.941176    0.962162  0.953947    0.951669      0.953740\n",
            "support    122.000000  182.000000  0.953947  304.000000    304.000000\n",
            "_______________________________________________\n",
            "Confusion Matrix: \n",
            " [[112  10]\n",
            " [  4 178]]\n",
            "\n",
            "Test Result:\n",
            "================================================\n",
            "Accuracy Score: 94.66%\n",
            "_______________________________________________\n",
            "CLASSIFICATION REPORT:\n",
            "                   0          1  accuracy   macro avg  weighted avg\n",
            "precision   0.953488   0.943182  0.946565    0.948335      0.946801\n",
            "recall      0.891304   0.976471  0.946565    0.933887      0.946565\n",
            "f1-score    0.921348   0.959538  0.946565    0.940443      0.946128\n",
            "support    46.000000  85.000000  0.946565  131.000000    131.000000\n",
            "_______________________________________________\n",
            "Confusion Matrix: \n",
            " [[41  5]\n",
            " [ 2 83]]\n",
            "\n"
          ],
          "name": "stdout"
        },
        {
          "output_type": "stream",
          "text": [
            "[Parallel(n_jobs=-1)]: Done 12996 out of 12996 | elapsed:   37.1s finished\n"
          ],
          "name": "stderr"
        }
      ]
    },
    {
      "cell_type": "markdown",
      "metadata": {
        "id": "qf9e7UDM0UtL"
      },
      "source": [
        "https://towardsdatascience.com/how-to-find-decision-tree-depth-via-cross-validation-2bf143f0f3d6 "
      ]
    },
    {
      "cell_type": "markdown",
      "metadata": {
        "id": "IYq6aqjMLKqA"
      },
      "source": [
        "#RANDOM FOREST"
      ]
    },
    {
      "cell_type": "code",
      "metadata": {
        "colab": {
          "base_uri": "https://localhost:8080/"
        },
        "id": "eoq4M3BILNOP",
        "outputId": "4f069791-b0dc-4ff0-bf50-ea5f3f746a97"
      },
      "source": [
        "from sklearn.ensemble import RandomForestClassifier\n",
        "\n",
        "rf_clf = RandomForestClassifier(n_estimators=100)\n",
        "rf_clf.fit(X_train, y_train)\n",
        "\n",
        "print_score(rf_clf, X_train, y_train, X_test, y_test, train=True)\n",
        "print_score(rf_clf, X_train, y_train, X_test, y_test, train=False)"
      ],
      "execution_count": null,
      "outputs": [
        {
          "output_type": "stream",
          "text": [
            "Train Result:\n",
            "================================================\n",
            "Accuracy Score: 99.34%\n",
            "_______________________________________________\n",
            "CLASSIFICATION REPORT:\n",
            "                    0           1  accuracy   macro avg  weighted avg\n",
            "precision    0.991803    0.994505  0.993421    0.993154      0.993421\n",
            "recall       0.991803    0.994505  0.993421    0.993154      0.993421\n",
            "f1-score     0.991803    0.994505  0.993421    0.993154      0.993421\n",
            "support    122.000000  182.000000  0.993421  304.000000    304.000000\n",
            "_______________________________________________\n",
            "Confusion Matrix: \n",
            " [[121   1]\n",
            " [  1 181]]\n",
            "\n",
            "Test Result:\n",
            "================================================\n",
            "Accuracy Score: 96.18%\n",
            "_______________________________________________\n",
            "CLASSIFICATION REPORT:\n",
            "                   0          1  accuracy   macro avg  weighted avg\n",
            "precision   0.955556   0.965116  0.961832    0.960336      0.961759\n",
            "recall      0.934783   0.976471  0.961832    0.955627      0.961832\n",
            "f1-score    0.945055   0.970760  0.961832    0.957908      0.961734\n",
            "support    46.000000  85.000000  0.961832  131.000000    131.000000\n",
            "_______________________________________________\n",
            "Confusion Matrix: \n",
            " [[43  3]\n",
            " [ 2 83]]\n",
            "\n"
          ],
          "name": "stdout"
        }
      ]
    },
    {
      "cell_type": "markdown",
      "metadata": {
        "id": "VmPiByHkLgyX"
      },
      "source": [
        "**Random Forest hyperparameter tuning**"
      ]
    },
    {
      "cell_type": "markdown",
      "metadata": {
        "id": "d7V0h9qnLnTh"
      },
      "source": [
        "1. Randomized Search Cross Validation"
      ]
    },
    {
      "cell_type": "code",
      "metadata": {
        "colab": {
          "base_uri": "https://localhost:8080/"
        },
        "id": "UkSpc9S1LZqv",
        "outputId": "cd0c5502-751b-49ab-9554-d2f0c3de7d83"
      },
      "source": [
        "from sklearn.ensemble import RandomForestClassifier\n",
        "from sklearn.model_selection import RandomizedSearchCV\n",
        "\n",
        "n_estimators = [int(x) for x in np.linspace(start=200, stop=2000, num=10)]\n",
        "max_features = ['auto', 'sqrt']\n",
        "max_depth = [int(x) for x in np.linspace(10, 110, num=11)]\n",
        "max_depth.append(None)\n",
        "min_samples_split = [2, 5, 10]\n",
        "min_samples_leaf = [1, 2, 4]\n",
        "bootstrap = [True, False]\n",
        "\n",
        "random_grid = {'n_estimators': n_estimators, 'max_features': max_features,\n",
        "               'max_depth': max_depth, 'min_samples_split': min_samples_split,\n",
        "               'min_samples_leaf': min_samples_leaf, 'bootstrap': bootstrap}\n",
        "\n",
        "rf_clf = RandomForestClassifier(random_state=42)\n",
        "\n",
        "rf_cv = RandomizedSearchCV(estimator=rf_clf, scoring='f1',param_distributions=random_grid, n_iter=100, cv=3, \n",
        "                               verbose=2, random_state=42, n_jobs=-1)\n",
        "\n",
        "rf_cv.fit(X_train, y_train)\n",
        "rf_best_params = rf_cv.best_params_\n",
        "print(f\"Best paramters: {rf_best_params})\")\n",
        "\n",
        "rf_clf = RandomForestClassifier(**rf_best_params)\n",
        "rf_clf.fit(X_train, y_train)\n",
        "\n",
        "print_score(rf_clf, X_train, y_train, X_test, y_test, train=True)\n",
        "print_score(rf_clf, X_train, y_train, X_test, y_test, train=False)"
      ],
      "execution_count": null,
      "outputs": [
        {
          "output_type": "stream",
          "text": [
            "Fitting 3 folds for each of 100 candidates, totalling 300 fits\n"
          ],
          "name": "stdout"
        },
        {
          "output_type": "stream",
          "text": [
            "[Parallel(n_jobs=-1)]: Using backend LokyBackend with 2 concurrent workers.\n",
            "[Parallel(n_jobs=-1)]: Done  37 tasks      | elapsed:   46.8s\n",
            "[Parallel(n_jobs=-1)]: Done 158 tasks      | elapsed:  3.2min\n",
            "[Parallel(n_jobs=-1)]: Done 300 out of 300 | elapsed:  6.1min finished\n"
          ],
          "name": "stderr"
        },
        {
          "output_type": "stream",
          "text": [
            "Best paramters: {'n_estimators': 1800, 'min_samples_split': 5, 'min_samples_leaf': 4, 'max_features': 'auto', 'max_depth': 10, 'bootstrap': False})\n",
            "Train Result:\n",
            "================================================\n",
            "Accuracy Score: 97.04%\n",
            "_______________________________________________\n",
            "CLASSIFICATION REPORT:\n",
            "                    0           1  accuracy   macro avg  weighted avg\n",
            "precision    0.966942    0.972678  0.970395    0.969810      0.970376\n",
            "recall       0.959016    0.978022  0.970395    0.968519      0.970395\n",
            "f1-score     0.962963    0.975342  0.970395    0.969153      0.970374\n",
            "support    122.000000  182.000000  0.970395  304.000000    304.000000\n",
            "_______________________________________________\n",
            "Confusion Matrix: \n",
            " [[117   5]\n",
            " [  4 178]]\n",
            "\n",
            "Test Result:\n",
            "================================================\n",
            "Accuracy Score: 95.42%\n",
            "_______________________________________________\n",
            "CLASSIFICATION REPORT:\n",
            "                   0          1  accuracy   macro avg  weighted avg\n",
            "precision   0.934783   0.964706  0.954198    0.949744      0.954198\n",
            "recall      0.934783   0.964706  0.954198    0.949744      0.954198\n",
            "f1-score    0.934783   0.964706  0.954198    0.949744      0.954198\n",
            "support    46.000000  85.000000  0.954198  131.000000    131.000000\n",
            "_______________________________________________\n",
            "Confusion Matrix: \n",
            " [[43  3]\n",
            " [ 3 82]]\n",
            "\n"
          ],
          "name": "stdout"
        }
      ]
    },
    {
      "cell_type": "markdown",
      "metadata": {
        "id": "xkfZlFU7Lyo3"
      },
      "source": [
        "2. Grid Search Cross Validation (Kalau lama running di stop saja, gunakan cara yang pertama)\n",
        "\n"
      ]
    },
    {
      "cell_type": "code",
      "metadata": {
        "id": "pO-3iyyHLzh-"
      },
      "source": [
        "n_estimators = [100, 500, 1000, 1500]\n",
        "max_features = ['auto', 'sqrt']\n",
        "max_depth = [2, 3, 5]\n",
        "max_depth.append(None)\n",
        "min_samples_split = [2, 5, 10]\n",
        "min_samples_leaf = [1, 2, 4, 10]\n",
        "bootstrap = [True, False]\n",
        "\n",
        "params_grid = {'n_estimators': n_estimators, 'max_features': max_features,\n",
        "               'max_depth': max_depth, 'min_samples_split': min_samples_split,\n",
        "               'min_samples_leaf': min_samples_leaf, 'bootstrap': bootstrap}\n",
        "\n",
        "rf_clf = RandomForestClassifier(random_state=42)\n",
        "\n",
        "rf_cv = GridSearchCV(rf_clf, params_grid, scoring=\"f1\", cv=3, verbose=2, n_jobs=-1)\n",
        "\n",
        "\n",
        "rf_cv.fit(X_train, y_train)\n",
        "best_params = rf_cv.best_params_\n",
        "print(f\"Best parameters: {best_params}\")\n",
        "\n",
        "rf_clf = RandomForestClassifier(**best_params)\n",
        "rf_clf.fit(X_train, y_train)\n",
        "\n",
        "print_score(rf_clf, X_train, y_train, X_test, y_test, train=True)\n",
        "print_score(rf_clf, X_train, y_train, X_test, y_test, train=False)"
      ],
      "execution_count": null,
      "outputs": []
    },
    {
      "cell_type": "markdown",
      "metadata": {
        "id": "dC9ozPVEP4U6"
      },
      "source": [
        "penerapan RF"
      ]
    },
    {
      "cell_type": "markdown",
      "metadata": {
        "id": "NJuUhwU6QLL5"
      },
      "source": [
        "https://www.kaggle.com/faressayah/ensemble-ml-algorithms-bagging-boosting-voting"
      ]
    },
    {
      "cell_type": "code",
      "metadata": {
        "id": "-HLXn5kgPcoa"
      },
      "source": [
        "from sklearn.metrics import confusion_matrix, accuracy_score, classification_report\n",
        "\n",
        "\n",
        "def evaluate(model, X_train, X_test, y_train, y_test):\n",
        "    y_test_pred = model.predict(X_test)\n",
        "    y_train_pred = model.predict(X_train)\n",
        "\n",
        "    print(\"TRAINIG RESULTS: \\n===============================\")\n",
        "    clf_report = pd.DataFrame(classification_report(y_train, y_train_pred, output_dict=True))\n",
        "    print(f\"CONFUSION MATRIX:\\n{confusion_matrix(y_train, y_train_pred)}\")\n",
        "    print(f\"ACCURACY SCORE:\\n{accuracy_score(y_train, y_train_pred):.4f}\")\n",
        "    print(f\"CLASSIFICATION REPORT:\\n{clf_report}\")\n",
        "\n",
        "    print(\"TESTING RESULTS: \\n===============================\")\n",
        "    clf_report = pd.DataFrame(classification_report(y_test, y_test_pred, output_dict=True))\n",
        "    print(f\"CONFUSION MATRIX:\\n{confusion_matrix(y_test, y_test_pred)}\")\n",
        "    print(f\"ACCURACY SCORE:\\n{accuracy_score(y_test, y_test_pred):.4f}\")\n",
        "    print(f\"CLASSIFICATION REPORT:\\n{clf_report}\")"
      ],
      "execution_count": null,
      "outputs": []
    },
    {
      "cell_type": "code",
      "metadata": {
        "colab": {
          "base_uri": "https://localhost:8080/"
        },
        "id": "YDvsXR1NPzHR",
        "outputId": "81368436-95d6-4918-911a-89734d29d2cd"
      },
      "source": [
        "from sklearn.ensemble import RandomForestClassifier\n",
        "\n",
        "rf_clf = RandomForestClassifier(random_state=42, n_estimators=1000)\n",
        "rf_clf.fit(X_train, y_train)\n",
        "evaluate(rf_clf, X_train, X_test, y_train, y_test)"
      ],
      "execution_count": null,
      "outputs": [
        {
          "output_type": "stream",
          "text": [
            "TRAINIG RESULTS: \n",
            "===============================\n",
            "CONFUSION MATRIX:\n",
            "[[122   0]\n",
            " [  2 180]]\n",
            "ACCURACY SCORE:\n",
            "0.9934\n",
            "CLASSIFICATION REPORT:\n",
            "                    0           1  accuracy   macro avg  weighted avg\n",
            "precision    0.983871    1.000000  0.993421    0.991935      0.993527\n",
            "recall       1.000000    0.989011  0.993421    0.994505      0.993421\n",
            "f1-score     0.991870    0.994475  0.993421    0.993173      0.993430\n",
            "support    122.000000  182.000000  0.993421  304.000000    304.000000\n",
            "TESTING RESULTS: \n",
            "===============================\n",
            "CONFUSION MATRIX:\n",
            "[[45  1]\n",
            " [ 2 83]]\n",
            "ACCURACY SCORE:\n",
            "0.9771\n",
            "CLASSIFICATION REPORT:\n",
            "                   0          1  accuracy   macro avg  weighted avg\n",
            "precision   0.957447   0.988095  0.977099    0.972771      0.977333\n",
            "recall      0.978261   0.976471  0.977099    0.977366      0.977099\n",
            "f1-score    0.967742   0.982249  0.977099    0.974995      0.977155\n",
            "support    46.000000  85.000000  0.977099  131.000000    131.000000\n"
          ],
          "name": "stdout"
        }
      ]
    },
    {
      "cell_type": "code",
      "metadata": {
        "id": "hhWfH-rqQvfH"
      },
      "source": [
        "scores = {\n",
        "    'Random Forest': {\n",
        "        'Train': accuracy_score(y_train, rf_clf.predict(X_train)),\n",
        "        'Test': accuracy_score(y_test, rf_clf.predict(X_test)),\n",
        "    },\n",
        "}"
      ],
      "execution_count": null,
      "outputs": []
    },
    {
      "cell_type": "code",
      "metadata": {
        "id": "hiN31icyZi-C"
      },
      "source": [
        "scores['Random Forest'] = {\n",
        "        'Train': accuracy_score(y_train, rf_clf.predict(X_train)),\n",
        "        'Test': accuracy_score(y_test, rf_clf.predict(X_test)),\n",
        "}"
      ],
      "execution_count": null,
      "outputs": []
    },
    {
      "cell_type": "markdown",
      "metadata": {
        "id": "CRaPC2qhPNCB"
      },
      "source": [
        "**Voting**"
      ]
    },
    {
      "cell_type": "code",
      "metadata": {
        "colab": {
          "base_uri": "https://localhost:8080/"
        },
        "id": "V7A-JayyRcun",
        "outputId": "5ff51585-95ac-4c1f-94a9-915397f682f8"
      },
      "source": [
        "from sklearn.ensemble import RandomForestClassifier\n",
        "from sklearn.ensemble import VotingClassifier\n",
        "from sklearn.linear_model import LogisticRegression\n",
        "from sklearn.svm import SVC\n",
        "\n",
        "#soft voting\n",
        "log_clf = LogisticRegression(solver=\"lbfgs\", random_state=42)\n",
        "rnd_clf = RandomForestClassifier(n_estimators=1000, random_state=42)\n",
        "svm_clf = SVC(gamma=\"scale\", probability=True, random_state=42)\n",
        "\n",
        "voting_clf = VotingClassifier(\n",
        "    estimators=[('lr', log_clf), ('rf', rnd_clf), ('svc', svm_clf)],\n",
        "    voting='soft')\n",
        "voting_clf.fit(X_train, y_train)"
      ],
      "execution_count": null,
      "outputs": [
        {
          "output_type": "execute_result",
          "data": {
            "text/plain": [
              "VotingClassifier(estimators=[('lr',\n",
              "                              LogisticRegression(C=1.0, class_weight=None,\n",
              "                                                 dual=False, fit_intercept=True,\n",
              "                                                 intercept_scaling=1,\n",
              "                                                 l1_ratio=None, max_iter=100,\n",
              "                                                 multi_class='auto',\n",
              "                                                 n_jobs=None, penalty='l2',\n",
              "                                                 random_state=42,\n",
              "                                                 solver='lbfgs', tol=0.0001,\n",
              "                                                 verbose=0, warm_start=False)),\n",
              "                             ('rf',\n",
              "                              RandomForestClassifier(bootstrap=True,\n",
              "                                                     ccp_alpha=0.0,\n",
              "                                                     class_weight=None,\n",
              "                                                     crit...\n",
              "                                                     oob_score=False,\n",
              "                                                     random_state=42, verbose=0,\n",
              "                                                     warm_start=False)),\n",
              "                             ('svc',\n",
              "                              SVC(C=1.0, break_ties=False, cache_size=200,\n",
              "                                  class_weight=None, coef0=0.0,\n",
              "                                  decision_function_shape='ovr', degree=3,\n",
              "                                  gamma='scale', kernel='rbf', max_iter=-1,\n",
              "                                  probability=True, random_state=42,\n",
              "                                  shrinking=True, tol=0.001, verbose=False))],\n",
              "                 flatten_transform=True, n_jobs=None, voting='soft',\n",
              "                 weights=None)"
            ]
          },
          "metadata": {
            "tags": []
          },
          "execution_count": 159
        }
      ]
    },
    {
      "cell_type": "code",
      "metadata": {
        "colab": {
          "base_uri": "https://localhost:8080/"
        },
        "id": "eTTZiWuRSIJl",
        "outputId": "49b5a3ee-8354-4566-c7ba-faae9f419be2"
      },
      "source": [
        "voting_clf.fit(X_train, y_train)"
      ],
      "execution_count": null,
      "outputs": [
        {
          "output_type": "execute_result",
          "data": {
            "text/plain": [
              "VotingClassifier(estimators=[('lr',\n",
              "                              LogisticRegression(C=1.0, class_weight=None,\n",
              "                                                 dual=False, fit_intercept=True,\n",
              "                                                 intercept_scaling=1,\n",
              "                                                 l1_ratio=None, max_iter=100,\n",
              "                                                 multi_class='auto',\n",
              "                                                 n_jobs=None, penalty='l2',\n",
              "                                                 random_state=42,\n",
              "                                                 solver='lbfgs', tol=0.0001,\n",
              "                                                 verbose=0, warm_start=False)),\n",
              "                             ('rf',\n",
              "                              RandomForestClassifier(bootstrap=True,\n",
              "                                                     ccp_alpha=0.0,\n",
              "                                                     class_weight=None,\n",
              "                                                     crit...\n",
              "                                                     oob_score=False,\n",
              "                                                     random_state=42, verbose=0,\n",
              "                                                     warm_start=False)),\n",
              "                             ('svc',\n",
              "                              SVC(C=1.0, break_ties=False, cache_size=200,\n",
              "                                  class_weight=None, coef0=0.0,\n",
              "                                  decision_function_shape='ovr', degree=3,\n",
              "                                  gamma='scale', kernel='rbf', max_iter=-1,\n",
              "                                  probability=True, random_state=42,\n",
              "                                  shrinking=True, tol=0.001, verbose=False))],\n",
              "                 flatten_transform=True, n_jobs=None, voting='soft',\n",
              "                 weights=None)"
            ]
          },
          "metadata": {
            "tags": []
          },
          "execution_count": 160
        }
      ]
    },
    {
      "cell_type": "code",
      "metadata": {
        "colab": {
          "base_uri": "https://localhost:8080/"
        },
        "id": "T2c29QDsSvbm",
        "outputId": "7985a2e4-77dc-422e-90f4-399b32bf60df"
      },
      "source": [
        "evaluate(voting_clf, X_train, X_test, y_train, y_test)"
      ],
      "execution_count": null,
      "outputs": [
        {
          "output_type": "stream",
          "text": [
            "TRAINIG RESULTS: \n",
            "===============================\n",
            "CONFUSION MATRIX:\n",
            "[[117   5]\n",
            " [  4 178]]\n",
            "ACCURACY SCORE:\n",
            "0.9704\n",
            "CLASSIFICATION REPORT:\n",
            "                    0           1  accuracy   macro avg  weighted avg\n",
            "precision    0.966942    0.972678  0.970395    0.969810      0.970376\n",
            "recall       0.959016    0.978022  0.970395    0.968519      0.970395\n",
            "f1-score     0.962963    0.975342  0.970395    0.969153      0.970374\n",
            "support    122.000000  182.000000  0.970395  304.000000    304.000000\n",
            "TESTING RESULTS: \n",
            "===============================\n",
            "CONFUSION MATRIX:\n",
            "[[44  2]\n",
            " [ 3 82]]\n",
            "ACCURACY SCORE:\n",
            "0.9618\n",
            "CLASSIFICATION REPORT:\n",
            "                   0          1  accuracy   macro avg  weighted avg\n",
            "precision   0.936170   0.976190  0.961832    0.956180      0.962138\n",
            "recall      0.956522   0.964706  0.961832    0.960614      0.961832\n",
            "f1-score    0.946237   0.970414  0.961832    0.958325      0.961924\n",
            "support    46.000000  85.000000  0.961832  131.000000    131.000000\n"
          ],
          "name": "stdout"
        }
      ]
    },
    {
      "cell_type": "code",
      "metadata": {
        "colab": {
          "base_uri": "https://localhost:8080/"
        },
        "id": "29116UmuSc7_",
        "outputId": "2819f452-392c-4bd8-8b3a-1fadd6e936a0"
      },
      "source": [
        "from sklearn.metrics import accuracy_score\n",
        "\n",
        "for clf in (log_clf, rnd_clf, svm_clf, voting_clf):\n",
        "    clf.fit(X_train, y_train)\n",
        "    y_pred = clf.predict(X_test)\n",
        "    print(clf.__class__.__name__, accuracy_score(y_test, y_pred))"
      ],
      "execution_count": null,
      "outputs": [
        {
          "output_type": "stream",
          "text": [
            "LogisticRegression 0.9618320610687023\n",
            "RandomForestClassifier 0.9770992366412213\n",
            "SVC 0.9618320610687023\n",
            "VotingClassifier 0.9618320610687023\n"
          ],
          "name": "stdout"
        }
      ]
    },
    {
      "cell_type": "code",
      "metadata": {
        "id": "bElLeDJGTK5X"
      },
      "source": [
        "scores['Voting'] = {\n",
        "        'Train': accuracy_score(y_train, voting_clf.predict(X_train)),\n",
        "        'Test': accuracy_score(y_test, voting_clf.predict(X_test))\n",
        "    }"
      ],
      "execution_count": null,
      "outputs": []
    },
    {
      "cell_type": "code",
      "metadata": {
        "id": "b4L3O4ytNtcU"
      },
      "source": [
        "# from sklearn.ensemble import VotingClassifier\n",
        "# from sklearn.linear_model import LogisticRegression\n",
        "# from sklearn.svm import SVC\n",
        "\n",
        "# estimators = []\n",
        "# log_reg = LogisticRegression(solver='liblinear')\n",
        "# estimators.append(('Logistic', log_reg))\n",
        "\n",
        "# tree = DecisionTreeClassifier()\n",
        "# estimators.append(('Tree', tree))\n",
        "\n",
        "# svm_clf = SVC(gamma='scale')\n",
        "# estimators.append(('SVM', svm_clf))\n",
        "\n",
        "# voting = VotingClassifier(estimators=estimators)\n",
        "# voting.fit(X_train, y_train)\n",
        "\n",
        "# evaluate(voting, X_train, X_test, y_train, y_test)"
      ],
      "execution_count": null,
      "outputs": []
    },
    {
      "cell_type": "markdown",
      "metadata": {
        "id": "NCOqTmRlS9id"
      },
      "source": [
        "**BAGGING**"
      ]
    },
    {
      "cell_type": "code",
      "metadata": {
        "colab": {
          "base_uri": "https://localhost:8080/"
        },
        "id": "6I9D9_--TAWR",
        "outputId": "7c091441-faac-44ee-9880-bc22da6b135a"
      },
      "source": [
        "from sklearn.ensemble import BaggingClassifier\n",
        "from sklearn.tree import DecisionTreeClassifier\n",
        "\n",
        "tree = DecisionTreeClassifier()\n",
        "bagging_clf = BaggingClassifier(base_estimator=tree, n_estimators=1000, random_state=42)\n",
        "bagging_clf.fit(X_train, y_train)\n",
        "\n",
        "evaluate(bagging_clf, X_train, X_test, y_train, y_test)"
      ],
      "execution_count": null,
      "outputs": [
        {
          "output_type": "stream",
          "text": [
            "TRAINIG RESULTS: \n",
            "===============================\n",
            "CONFUSION MATRIX:\n",
            "[[122   0]\n",
            " [  2 180]]\n",
            "ACCURACY SCORE:\n",
            "0.9934\n",
            "CLASSIFICATION REPORT:\n",
            "                    0           1  accuracy   macro avg  weighted avg\n",
            "precision    0.983871    1.000000  0.993421    0.991935      0.993527\n",
            "recall       1.000000    0.989011  0.993421    0.994505      0.993421\n",
            "f1-score     0.991870    0.994475  0.993421    0.993173      0.993430\n",
            "support    122.000000  182.000000  0.993421  304.000000    304.000000\n",
            "TESTING RESULTS: \n",
            "===============================\n",
            "CONFUSION MATRIX:\n",
            "[[42  4]\n",
            " [ 1 84]]\n",
            "ACCURACY SCORE:\n",
            "0.9618\n",
            "CLASSIFICATION REPORT:\n",
            "                   0          1  accuracy   macro avg  weighted avg\n",
            "precision   0.976744   0.954545  0.961832    0.965645      0.962340\n",
            "recall      0.913043   0.988235  0.961832    0.950639      0.961832\n",
            "f1-score    0.943820   0.971098  0.961832    0.957459      0.961520\n",
            "support    46.000000  85.000000  0.961832  131.000000    131.000000\n"
          ],
          "name": "stdout"
        }
      ]
    },
    {
      "cell_type": "code",
      "metadata": {
        "id": "aDdoaTB3T_Gb"
      },
      "source": [
        "y_pred_bagging = bagging_clf.predict(X_test)"
      ],
      "execution_count": null,
      "outputs": []
    },
    {
      "cell_type": "code",
      "metadata": {
        "colab": {
          "base_uri": "https://localhost:8080/"
        },
        "id": "Jn-Fe19lT19r",
        "outputId": "fd8323fb-eb4f-40aa-c090-dfe160c85287"
      },
      "source": [
        "from sklearn.metrics import accuracy_score\n",
        "print(accuracy_score(y_test, y_pred_bagging))"
      ],
      "execution_count": null,
      "outputs": [
        {
          "output_type": "stream",
          "text": [
            "0.9618320610687023\n"
          ],
          "name": "stdout"
        }
      ]
    },
    {
      "cell_type": "code",
      "metadata": {
        "id": "qCZPxzVpUVBj"
      },
      "source": [
        "scores['Bagging Classifier']= {\n",
        "        'Train': accuracy_score(y_train, bagging_clf.predict(X_train)),\n",
        "        'Test': accuracy_score(y_test, bagging_clf.predict(X_test)),\n",
        "}"
      ],
      "execution_count": null,
      "outputs": []
    },
    {
      "cell_type": "markdown",
      "metadata": {
        "id": "kCLqSgf7Uwl5"
      },
      "source": [
        "**ADABOOTS**"
      ]
    },
    {
      "cell_type": "code",
      "metadata": {
        "colab": {
          "base_uri": "https://localhost:8080/"
        },
        "id": "krjwOa_oUb_q",
        "outputId": "f5d7a9a8-b204-47a6-f598-0d64f9338e47"
      },
      "source": [
        "from sklearn.ensemble import AdaBoostClassifier\n",
        "\n",
        "ada_clf = AdaBoostClassifier(\n",
        "    DecisionTreeClassifier(max_depth=1), n_estimators=200,\n",
        "    algorithm=\"SAMME.R\", learning_rate=0.5, random_state=42)\n",
        "ada_clf.fit(X_train, y_train)\n",
        "evaluate(ada_clf, X_train, X_test, y_train, y_test)"
      ],
      "execution_count": null,
      "outputs": [
        {
          "output_type": "stream",
          "text": [
            "TRAINIG RESULTS: \n",
            "===============================\n",
            "CONFUSION MATRIX:\n",
            "[[118   4]\n",
            " [  6 176]]\n",
            "ACCURACY SCORE:\n",
            "0.9671\n",
            "CLASSIFICATION REPORT:\n",
            "                    0           1  accuracy   macro avg  weighted avg\n",
            "precision    0.951613    0.977778  0.967105    0.964695      0.967277\n",
            "recall       0.967213    0.967033  0.967105    0.967123      0.967105\n",
            "f1-score     0.959350    0.972376  0.967105    0.965863      0.967148\n",
            "support    122.000000  182.000000  0.967105  304.000000    304.000000\n",
            "TESTING RESULTS: \n",
            "===============================\n",
            "CONFUSION MATRIX:\n",
            "[[44  2]\n",
            " [ 3 82]]\n",
            "ACCURACY SCORE:\n",
            "0.9618\n",
            "CLASSIFICATION REPORT:\n",
            "                   0          1  accuracy   macro avg  weighted avg\n",
            "precision   0.936170   0.976190  0.961832    0.956180      0.962138\n",
            "recall      0.956522   0.964706  0.961832    0.960614      0.961832\n",
            "f1-score    0.946237   0.970414  0.961832    0.958325      0.961924\n",
            "support    46.000000  85.000000  0.961832  131.000000    131.000000\n"
          ],
          "name": "stdout"
        }
      ]
    },
    {
      "cell_type": "code",
      "metadata": {
        "id": "_PMzbUZsVzXA"
      },
      "source": [
        "scores['AdaBoost'] = {\n",
        "        'Train': accuracy_score(y_train, ada_clf.predict(X_train)),\n",
        "        'Test': accuracy_score(y_test, ada_clf.predict(X_test)),\n",
        "    }"
      ],
      "execution_count": null,
      "outputs": []
    },
    {
      "cell_type": "markdown",
      "metadata": {
        "id": "tMuG_ASMWAe3"
      },
      "source": [
        "**GRADIENT BOOSTING**"
      ]
    },
    {
      "cell_type": "code",
      "metadata": {
        "colab": {
          "base_uri": "https://localhost:8080/"
        },
        "id": "7rHh5r3iV8fw",
        "outputId": "c93e99b5-5833-487a-e3c8-21b4e9e64443"
      },
      "source": [
        "from sklearn.ensemble import GradientBoostingClassifier\n",
        "\n",
        "grad_boost_clf = GradientBoostingClassifier(n_estimators=200, learning_rate=0.1, random_state=42)\n",
        "grad_boost_clf.fit(X_train, y_train)\n",
        "evaluate(grad_boost_clf, X_train, X_test, y_train, y_test)"
      ],
      "execution_count": null,
      "outputs": [
        {
          "output_type": "stream",
          "text": [
            "TRAINIG RESULTS: \n",
            "===============================\n",
            "CONFUSION MATRIX:\n",
            "[[122   0]\n",
            " [  2 180]]\n",
            "ACCURACY SCORE:\n",
            "0.9934\n",
            "CLASSIFICATION REPORT:\n",
            "                    0           1  accuracy   macro avg  weighted avg\n",
            "precision    0.983871    1.000000  0.993421    0.991935      0.993527\n",
            "recall       1.000000    0.989011  0.993421    0.994505      0.993421\n",
            "f1-score     0.991870    0.994475  0.993421    0.993173      0.993430\n",
            "support    122.000000  182.000000  0.993421  304.000000    304.000000\n",
            "TESTING RESULTS: \n",
            "===============================\n",
            "CONFUSION MATRIX:\n",
            "[[41  5]\n",
            " [ 1 84]]\n",
            "ACCURACY SCORE:\n",
            "0.9542\n",
            "CLASSIFICATION REPORT:\n",
            "                   0          1  accuracy   macro avg  weighted avg\n",
            "precision   0.976190   0.943820  0.954198    0.960005      0.955187\n",
            "recall      0.891304   0.988235  0.954198    0.939770      0.954198\n",
            "f1-score    0.931818   0.965517  0.954198    0.948668      0.953684\n",
            "support    46.000000  85.000000  0.954198  131.000000    131.000000\n"
          ],
          "name": "stdout"
        }
      ]
    },
    {
      "cell_type": "code",
      "metadata": {
        "id": "hBFmgfK9WZAI"
      },
      "source": [
        "scores['Gradient Boosting'] = {\n",
        "        'Train': accuracy_score(y_train, grad_boost_clf.predict(X_train)),\n",
        "        'Test': accuracy_score(y_test, grad_boost_clf.predict(X_test)),\n",
        "    }"
      ],
      "execution_count": null,
      "outputs": []
    },
    {
      "cell_type": "markdown",
      "metadata": {
        "id": "HiOMjdFzW4i_"
      },
      "source": [
        "**Early Stoping**"
      ]
    },
    {
      "cell_type": "code",
      "metadata": {
        "colab": {
          "base_uri": "https://localhost:8080/"
        },
        "id": "MUgvQQn0W1yI",
        "outputId": "2aab624f-5630-4992-bb91-951bf0a78397"
      },
      "source": [
        "import numpy as np\n",
        "from sklearn.model_selection import train_test_split\n",
        "from sklearn.metrics import mean_squared_error\n",
        "\n",
        "X_train, X_val, y_train, y_val = train_test_split(X, y, random_state=49)\n",
        "\n",
        "gbrt = GradientBoostingClassifier(max_depth=2, n_estimators=200, random_state=42)\n",
        "gbrt.fit(X_train, y_train)\n",
        "\n",
        "errors = [mean_squared_error(y_val, y_pred)\n",
        "          for y_pred in gbrt.staged_predict(X_val)]\n",
        "bst_n_estimators = np.argmin(errors) + 1\n",
        "\n",
        "gbrt_best = GradientBoostingClassifier(max_depth=2, n_estimators=bst_n_estimators, random_state=42)\n",
        "gbrt_best.fit(X_train, y_train)"
      ],
      "execution_count": null,
      "outputs": [
        {
          "output_type": "execute_result",
          "data": {
            "text/plain": [
              "GradientBoostingClassifier(ccp_alpha=0.0, criterion='friedman_mse', init=None,\n",
              "                           learning_rate=0.1, loss='deviance', max_depth=2,\n",
              "                           max_features=None, max_leaf_nodes=None,\n",
              "                           min_impurity_decrease=0.0, min_impurity_split=None,\n",
              "                           min_samples_leaf=1, min_samples_split=2,\n",
              "                           min_weight_fraction_leaf=0.0, n_estimators=71,\n",
              "                           n_iter_no_change=None, presort='deprecated',\n",
              "                           random_state=42, subsample=1.0, tol=0.0001,\n",
              "                           validation_fraction=0.1, verbose=0,\n",
              "                           warm_start=False)"
            ]
          },
          "metadata": {
            "tags": []
          },
          "execution_count": 183
        }
      ]
    },
    {
      "cell_type": "code",
      "metadata": {
        "colab": {
          "base_uri": "https://localhost:8080/"
        },
        "id": "X-pQ0mYMXUq_",
        "outputId": "62119dd3-f622-4dd4-cd85-ca1010a9a5c7"
      },
      "source": [
        "evaluate(gbrt_best, X_train, X_test, y_train, y_test)"
      ],
      "execution_count": null,
      "outputs": [
        {
          "output_type": "stream",
          "text": [
            "TRAINIG RESULTS: \n",
            "===============================\n",
            "CONFUSION MATRIX:\n",
            "[[128   2]\n",
            " [  5 191]]\n",
            "ACCURACY SCORE:\n",
            "0.9785\n",
            "CLASSIFICATION REPORT:\n",
            "                    0           1  accuracy   macro avg  weighted avg\n",
            "precision    0.962406    0.989637  0.978528    0.976022      0.978778\n",
            "recall       0.984615    0.974490  0.978528    0.979553      0.978528\n",
            "f1-score     0.973384    0.982005  0.978528    0.977695      0.978567\n",
            "support    130.000000  196.000000  0.978528  326.000000    326.000000\n",
            "TESTING RESULTS: \n",
            "===============================\n",
            "CONFUSION MATRIX:\n",
            "[[45  1]\n",
            " [ 1 84]]\n",
            "ACCURACY SCORE:\n",
            "0.9847\n",
            "CLASSIFICATION REPORT:\n",
            "                   0          1  accuracy   macro avg  weighted avg\n",
            "precision   0.978261   0.988235  0.984733    0.983248      0.984733\n",
            "recall      0.978261   0.988235  0.984733    0.983248      0.984733\n",
            "f1-score    0.978261   0.988235  0.984733    0.983248      0.984733\n",
            "support    46.000000  85.000000  0.984733  131.000000    131.000000\n"
          ],
          "name": "stdout"
        }
      ]
    },
    {
      "cell_type": "markdown",
      "metadata": {
        "id": "96F9IPlzXsdF"
      },
      "source": [
        "**XGBoost**"
      ]
    },
    {
      "cell_type": "code",
      "metadata": {
        "id": "sgStaCPkXtUN"
      },
      "source": [
        "try:\n",
        "    import xgboost\n",
        "except ImportError as ex:\n",
        "    print(\"Error: the xgboost library is not installed.\")\n",
        "    xgboost = None"
      ],
      "execution_count": null,
      "outputs": []
    },
    {
      "cell_type": "code",
      "metadata": {
        "colab": {
          "base_uri": "https://localhost:8080/"
        },
        "id": "iiyoRUQ0X0Yl",
        "outputId": "074f7022-dfab-40db-b133-c54ca038dd7b"
      },
      "source": [
        "if xgboost is not None:  # not shown in the book\n",
        "    xgb_reg = xgboost.XGBRegressor(random_state=42)\n",
        "    xgb_reg.fit(X_train, y_train)\n",
        "    y_pred = xgb_reg.predict(X_val)\n",
        "    val_error = mean_squared_error(y_val, y_pred) # Not shown\n",
        "    print(\"Validation MSE:\", val_error)           # Not shown"
      ],
      "execution_count": null,
      "outputs": [
        {
          "output_type": "stream",
          "text": [
            "[14:16:38] WARNING: /workspace/src/objective/regression_obj.cu:152: reg:linear is now deprecated in favor of reg:squarederror.\n",
            "Validation MSE: 0.04794826590625501\n"
          ],
          "name": "stdout"
        }
      ]
    },
    {
      "cell_type": "code",
      "metadata": {
        "id": "ASrd2eoRX249"
      },
      "source": [
        "if xgboost is not None:  # not shown in the book\n",
        "    xgb_reg.fit(X_train, y_train,\n",
        "                eval_set=[(X_val, y_val)], early_stopping_rounds=2)\n",
        "    y_pred = xgb_reg.predict(X_val)\n",
        "    val_error = mean_squared_error(y_val, y_pred)  # Not shown\n",
        "    print(\"Validation MSE:\", val_error)            # Not shown"
      ],
      "execution_count": null,
      "outputs": []
    },
    {
      "cell_type": "code",
      "metadata": {
        "id": "F9g4qhcDX40e"
      },
      "source": [
        "%timeit xgboost.XGBRegressor().fit(X_train, y_train) if xgboost is not None else None"
      ],
      "execution_count": null,
      "outputs": []
    },
    {
      "cell_type": "code",
      "metadata": {
        "colab": {
          "base_uri": "https://localhost:8080/"
        },
        "id": "Mj0kSakSYBne",
        "outputId": "7ede3a2b-6293-4b33-c431-eb22ec41a041"
      },
      "source": [
        "%timeit GradientBoostingClassifier().fit(X_train, y_train)"
      ],
      "execution_count": null,
      "outputs": [
        {
          "output_type": "stream",
          "text": [
            "10 loops, best of 5: 76.2 ms per loop\n"
          ],
          "name": "stdout"
        }
      ]
    },
    {
      "cell_type": "markdown",
      "metadata": {
        "id": "IgUlMmmqbXJs"
      },
      "source": [
        "XGBOOST"
      ]
    },
    {
      "cell_type": "markdown",
      "metadata": {
        "id": "aJLCw0Ilb_yy"
      },
      "source": [
        "https://www.kaggle.com/pragyanbo/ensemble-learning-methods-using-titanic-dataset#XGBoost-(Extreme-Gradient-Boosting)"
      ]
    },
    {
      "cell_type": "code",
      "metadata": {
        "id": "BSsc45RCaOKC"
      },
      "source": [
        "import xgboost as xgb"
      ],
      "execution_count": null,
      "outputs": []
    },
    {
      "cell_type": "code",
      "metadata": {
        "id": "kTwsStvHaiE4"
      },
      "source": [
        "xgb_clf = xgb.XGBClassifier(max_depth=5, n_estimators=1000, learning_rate=0.3, n_jobs=-1)"
      ],
      "execution_count": null,
      "outputs": []
    },
    {
      "cell_type": "code",
      "metadata": {
        "colab": {
          "base_uri": "https://localhost:8080/"
        },
        "id": "h7XXsuigbSzn",
        "outputId": "269f78d9-5301-4fa6-c72f-b09ac5ce7fb6"
      },
      "source": [
        "xgb_clf.fit(X_train, y_train)"
      ],
      "execution_count": null,
      "outputs": [
        {
          "output_type": "execute_result",
          "data": {
            "text/plain": [
              "XGBClassifier(base_score=0.5, booster='gbtree', colsample_bylevel=1,\n",
              "              colsample_bynode=1, colsample_bytree=1, gamma=0,\n",
              "              learning_rate=0.3, max_delta_step=0, max_depth=5,\n",
              "              min_child_weight=1, missing=None, n_estimators=1000, n_jobs=-1,\n",
              "              nthread=None, objective='binary:logistic', random_state=0,\n",
              "              reg_alpha=0, reg_lambda=1, scale_pos_weight=1, seed=None,\n",
              "              silent=None, subsample=1, verbosity=1)"
            ]
          },
          "metadata": {
            "tags": []
          },
          "execution_count": 207
        }
      ]
    },
    {
      "cell_type": "code",
      "metadata": {
        "colab": {
          "base_uri": "https://localhost:8080/"
        },
        "id": "HTv4dxNLbcmo",
        "outputId": "cfa78219-f909-4602-90b6-08b863859601"
      },
      "source": [
        "print_score(xgb_clf, X_train, y_train, X_test, y_test, train=True)"
      ],
      "execution_count": null,
      "outputs": [
        {
          "output_type": "stream",
          "text": [
            "Train Result:\n",
            "================================================\n",
            "Accuracy Score: 99.08%\n",
            "_______________________________________________\n",
            "CLASSIFICATION REPORT:\n",
            "                    0           1  accuracy   macro avg  weighted avg\n",
            "precision    0.992248    0.989848  0.990798    0.991048      0.990805\n",
            "recall       0.984615    0.994898  0.990798    0.989757      0.990798\n",
            "f1-score     0.988417    0.992366  0.990798    0.990392      0.990791\n",
            "support    130.000000  196.000000  0.990798  326.000000    326.000000\n",
            "_______________________________________________\n",
            "Confusion Matrix: \n",
            " [[128   2]\n",
            " [  1 195]]\n",
            "\n"
          ],
          "name": "stdout"
        }
      ]
    },
    {
      "cell_type": "code",
      "metadata": {
        "colab": {
          "base_uri": "https://localhost:8080/"
        },
        "id": "A9EboUYEbiRd",
        "outputId": "a8c8427c-2455-49e4-eb90-2ad9ce8fb7ff"
      },
      "source": [
        "evaluate(xgb_clf, X_train, X_test, y_train, y_test)"
      ],
      "execution_count": null,
      "outputs": [
        {
          "output_type": "stream",
          "text": [
            "TRAINIG RESULTS: \n",
            "===============================\n",
            "CONFUSION MATRIX:\n",
            "[[128   2]\n",
            " [  1 195]]\n",
            "ACCURACY SCORE:\n",
            "0.9908\n",
            "CLASSIFICATION REPORT:\n",
            "                    0           1  accuracy   macro avg  weighted avg\n",
            "precision    0.992248    0.989848  0.990798    0.991048      0.990805\n",
            "recall       0.984615    0.994898  0.990798    0.989757      0.990798\n",
            "f1-score     0.988417    0.992366  0.990798    0.990392      0.990791\n",
            "support    130.000000  196.000000  0.990798  326.000000    326.000000\n",
            "TESTING RESULTS: \n",
            "===============================\n",
            "CONFUSION MATRIX:\n",
            "[[44  2]\n",
            " [ 1 84]]\n",
            "ACCURACY SCORE:\n",
            "0.9771\n",
            "CLASSIFICATION REPORT:\n",
            "                   0          1  accuracy   macro avg  weighted avg\n",
            "precision   0.977778   0.976744  0.977099    0.977261      0.977107\n",
            "recall      0.956522   0.988235  0.977099    0.972379      0.977099\n",
            "f1-score    0.967033   0.982456  0.977099    0.974745      0.977040\n",
            "support    46.000000  85.000000  0.977099  131.000000    131.000000\n"
          ],
          "name": "stdout"
        }
      ]
    },
    {
      "cell_type": "code",
      "metadata": {
        "id": "IAU1zz4Rbouv"
      },
      "source": [
        "scores['XGBoost'] = {\n",
        "        'Train': accuracy_score(y_train, xgb_clf.predict(X_train)),\n",
        "        'Test': accuracy_score(y_test, xgb_clf.predict(X_test)),\n",
        "    }"
      ],
      "execution_count": null,
      "outputs": []
    },
    {
      "cell_type": "markdown",
      "metadata": {
        "id": "98UIavS_Yb11"
      },
      "source": [
        "**VISUALISASI PERBANDINGAN**"
      ]
    },
    {
      "cell_type": "code",
      "metadata": {
        "id": "yVUIOZ0XYkXc"
      },
      "source": [
        "import matplotlib.pyplot as plt\n",
        "# import seaborn as sns\n",
        "\n",
        "# %matplotlib inline\n",
        "# sns.set_style(\"whitegrid\")\n",
        "plt.style.use(\"fivethirtyeight\")"
      ],
      "execution_count": null,
      "outputs": []
    },
    {
      "cell_type": "code",
      "metadata": {
        "colab": {
          "base_uri": "https://localhost:8080/",
          "height": 531
        },
        "id": "fxGbeEatYed9",
        "outputId": "b1ea0193-9bf2-4825-9ec0-8cc903ad7bc0"
      },
      "source": [
        "scores_df = pd.DataFrame(scores)\n",
        "\n",
        "scores_df.plot(kind='barh', figsize=(15, 8))"
      ],
      "execution_count": null,
      "outputs": [
        {
          "output_type": "execute_result",
          "data": {
            "text/plain": [
              "<matplotlib.axes._subplots.AxesSubplot at 0x7f9feae94bd0>"
            ]
          },
          "metadata": {
            "tags": []
          },
          "execution_count": 213
        },
        {
          "output_type": "display_data",
          "data": {
            "image/png": "[encoded data removed]",
            "text/plain": [
              "<Figure size 1080x576 with 1 Axes>"
            ]
          },
          "metadata": {
            "tags": []
          }
        }
      ]
    },
    {
      "cell_type": "markdown",
      "metadata": {
        "id": "hdPjw3vndZtF"
      },
      "source": [
        "# K-NN"
      ]
    },
    {
      "cell_type": "markdown",
      "metadata": {
        "id": "GJk2XeFguOhC"
      },
      "source": [
        "https://www.kaggle.com/prashant111/knn-classifier-tutorial\n",
        "\n",
        "https://www.saedsayad.com/k_nearest_neighbors.htm#:~:text=K%20nearest%20neighbors%20is%20a,as%20a%20non%2Dparametric%20technique."
      ]
    },
    {
      "cell_type": "code",
      "metadata": {
        "id": "Sk8SD3T8ddCO"
      },
      "source": [
        "from sklearn.neighbors import KNeighborsClassifier \n",
        "from sklearn import metrics\n",
        "import matplotlib.pyplot as plt\n"
      ],
      "execution_count": null,
      "outputs": []
    },
    {
      "cell_type": "markdown",
      "metadata": {
        "id": "QcbVv0DZqOCd"
      },
      "source": [
        "find the value of K"
      ]
    },
    {
      "cell_type": "code",
      "metadata": {
        "colab": {
          "base_uri": "https://localhost:8080/",
          "height": 294
        },
        "id": "ug3sdQ3tqxcs",
        "outputId": "6f2dbf87-5210-40b5-da8b-90999168ef4e"
      },
      "source": [
        "# Setup arrays to store train and test accuracies\n",
        "neighbors = np.arange(1, 9)\n",
        "train_accuracy = np.empty(len(neighbors))\n",
        "test_accuracy = np.empty(len(neighbors))\n",
        "\n",
        "# Loop over different values of k\n",
        "for i, k in enumerate(neighbors):\n",
        "    # Setup a k-NN Classifier with k neighbors: knn\n",
        "    knn = KNeighborsClassifier(n_neighbors=k)\n",
        "\n",
        "    # Fit the classifier to the training data\n",
        "    knn.fit(X_train, y_train)\n",
        "    \n",
        "    #Compute accuracy on the training set\n",
        "    train_accuracy[i] = knn.score(X_train, y_train)\n",
        "\n",
        "    #Compute accuracy on the testing set\n",
        "    test_accuracy[i] = knn.score(X_test, y_test)\n",
        "\n",
        "# Generate plot\n",
        "plt.title('k-NN: Varying Number of Neighbors')\n",
        "plt.plot(neighbors, test_accuracy, label = 'Testing Accuracy')\n",
        "plt.plot(neighbors, train_accuracy, label = 'Training Accuracy')\n",
        "plt.legend()\n",
        "plt.xlabel('Number of Neighbors')\n",
        "plt.ylabel('Accuracy')\n",
        "plt.show()"
      ],
      "execution_count": null,
      "outputs": [
        {
          "output_type": "display_data",
          "data": {
            "image/png": "[encoded data removed]",
            "text/plain": [
              "<Figure size 432x288 with 1 Axes>"
            ]
          },
          "metadata": {
            "tags": [],
            "needs_background": "light"
          }
        }
      ]
    },
    {
      "cell_type": "code",
      "metadata": {
        "id": "4u-PwgSZpjle"
      },
      "source": [
        "# error1= []\n",
        "# error2= []\n",
        "# for k in range(1,15):\n",
        "#     knn= KNeighborsClassifier(n_neighbors=k)\n",
        "#     knn.fit(X_train,y_train)\n",
        "#     y_pred1= knn.predict(X_train)\n",
        "#     error1.append(np.mean(y_train!= y_pred1))\n",
        "#     y_pred2= knn.predict(X_test)\n",
        "#     error2.append(np.mean(y_test!= y_pred2))\n",
        "# # plt.figure(figsize(10,5))\n",
        "# plt.plot(range(1,15),error1,label=\"train\")\n",
        "# plt.plot(range(1,15),error2,label=\"test\")\n",
        "# plt.xlabel('k Value')\n",
        "# plt.ylabel('Error')\n",
        "# plt.legend()"
      ],
      "execution_count": null,
      "outputs": []
    },
    {
      "cell_type": "code",
      "metadata": {
        "id": "rnfgzZIXsIE2"
      },
      "source": [
        "X_new=np.array([[0.0, 1.0, 0.0, 1.0, 1.0, 1.0, 0.0, 0.0, 0.0, 1.0, 0.0, 1.0, 1.0, 1.0, 0.0, 1.0]])"
      ],
      "execution_count": null,
      "outputs": []
    },
    {
      "cell_type": "code",
      "metadata": {
        "colab": {
          "base_uri": "https://localhost:8080/"
        },
        "id": "eQNLqMhFqd-K",
        "outputId": "08e18349-b784-44aa-c21d-a8ce68c5e235"
      },
      "source": [
        "# Create a k-NN classifier with 8 neighbors: knn\n",
        "knn = KNeighborsClassifier(n_neighbors=8)\n",
        "\n",
        "# Fit the classifier to the data\n",
        "knn.fit(X_train, y_train)\n",
        "\n",
        "y_pred = knn.predict(X_test)\n",
        "# Predict and print the label for the new data point X_new\n",
        "new_prediction = knn.predict(X_new)\n",
        "print(\"Prediction: {}\".format(new_prediction))"
      ],
      "execution_count": null,
      "outputs": [
        {
          "output_type": "stream",
          "text": [
            "Prediction: [0]\n"
          ],
          "name": "stdout"
        }
      ]
    },
    {
      "cell_type": "code",
      "metadata": {
        "colab": {
          "base_uri": "https://localhost:8080/"
        },
        "id": "ZDa59lAdrL6Y",
        "outputId": "9037c3d2-1329-4dca-ba77-30dd71dffaac"
      },
      "source": [
        "metrics.accuracy_score(y_test,y_pred)"
      ],
      "execution_count": null,
      "outputs": [
        {
          "output_type": "execute_result",
          "data": {
            "text/plain": [
              "0.9312977099236641"
            ]
          },
          "metadata": {
            "tags": []
          },
          "execution_count": 21
        }
      ]
    },
    {
      "cell_type": "code",
      "metadata": {
        "colab": {
          "base_uri": "https://localhost:8080/"
        },
        "id": "W7N0G3VmsYOa",
        "outputId": "1ad468c6-cfd8-4b07-92d4-c885f818e5fd"
      },
      "source": [
        "print('Training set score: {:.4f}'.format(knn.score(X_train, y_train)))\n",
        "\n",
        "print('Test set score: {:.4f}'.format(knn.score(X_test, y_test)))"
      ],
      "execution_count": null,
      "outputs": [
        {
          "output_type": "stream",
          "text": [
            "Training set score: 0.9309\n",
            "Test set score: 0.9313\n"
          ],
          "name": "stdout"
        }
      ]
    },
    {
      "cell_type": "code",
      "metadata": {
        "colab": {
          "base_uri": "https://localhost:8080/"
        },
        "id": "HRTpLSeEuZp4",
        "outputId": "8a5f2eaf-a1cd-423b-ef22-c1afcea1d286"
      },
      "source": [
        "# from sklearn.metrics import classification_report\n",
        "# print(classification_report(y_test, y_pred))\n",
        "print(metrics.classification_report(y_test, y_pred))"
      ],
      "execution_count": null,
      "outputs": [
        {
          "output_type": "stream",
          "text": [
            "              precision    recall  f1-score   support\n",
            "\n",
            "           0       0.88      0.93      0.91        46\n",
            "           1       0.96      0.93      0.95        85\n",
            "\n",
            "    accuracy                           0.93       131\n",
            "   macro avg       0.92      0.93      0.93       131\n",
            "weighted avg       0.93      0.93      0.93       131\n",
            "\n"
          ],
          "name": "stdout"
        }
      ]
    },
    {
      "cell_type": "markdown",
      "metadata": {
        "id": "uOAHuH2S8Bk7"
      },
      "source": [
        "# NAIVE BAYES"
      ]
    },
    {
      "cell_type": "markdown",
      "metadata": {
        "id": "xEpmO4zt8z2-"
      },
      "source": [
        "https://www.kaggle.com/prashant111/naive-bayes-classifier-in-python"
      ]
    },
    {
      "cell_type": "code",
      "metadata": {
        "colab": {
          "base_uri": "https://localhost:8080/"
        },
        "id": "tEUIc3SI8DDj",
        "outputId": "b880f29c-17c2-4b9f-acf4-0008e4b3d3e1"
      },
      "source": [
        "# train a Gaussian Naive Bayes classifier on the training set\n",
        "from sklearn.naive_bayes import GaussianNB\n",
        "\n",
        "# instantiate the model\n",
        "gnb = GaussianNB()\n",
        "\n",
        "# fit the model\n",
        "gnb.fit(X_train, y_train)"
      ],
      "execution_count": null,
      "outputs": [
        {
          "output_type": "execute_result",
          "data": {
            "text/plain": [
              "GaussianNB(priors=None, var_smoothing=1e-09)"
            ]
          },
          "metadata": {
            "tags": []
          },
          "execution_count": 25
        }
      ]
    },
    {
      "cell_type": "code",
      "metadata": {
        "colab": {
          "base_uri": "https://localhost:8080/"
        },
        "id": "2v2OegMs8Kmy",
        "outputId": "b0347397-0dd0-46f4-8c75-ad3d28f7ccea"
      },
      "source": [
        "y_pred = gnb.predict(X_test)\n",
        "\n",
        "y_pred"
      ],
      "execution_count": null,
      "outputs": [
        {
          "output_type": "execute_result",
          "data": {
            "text/plain": [
              "array([1, 1, 0, 0, 0, 0, 1, 0, 0, 0, 0, 0, 1, 1, 0, 1, 0, 1, 0, 1, 1, 1,\n",
              "       0, 1, 0, 1, 1, 1, 1, 0, 0, 1, 0, 1, 1, 1, 1, 1, 1, 0, 1, 1, 0, 0,\n",
              "       1, 0, 1, 1, 0, 1, 1, 0, 1, 1, 0, 1, 0, 1, 0, 1, 1, 1, 1, 1, 1, 0,\n",
              "       1, 1, 1, 1, 1, 1, 1, 1, 1, 0, 0, 1, 1, 1, 1, 0, 1, 0, 0, 1, 1, 0,\n",
              "       0, 1, 1, 0, 1, 1, 0, 1, 0, 1, 1, 0, 1, 1, 1, 0, 0, 0, 1, 1, 1, 1,\n",
              "       1, 0, 1, 1, 0, 1, 1, 1, 0, 0, 1, 1, 1, 1, 1, 0, 1, 1, 1, 0, 1])"
            ]
          },
          "metadata": {
            "tags": []
          },
          "execution_count": 12
        }
      ]
    },
    {
      "cell_type": "code",
      "metadata": {
        "colab": {
          "base_uri": "https://localhost:8080/"
        },
        "id": "Y_SZHUoZ8OIj",
        "outputId": "7e7e888e-fbbb-4d50-e25e-5ccc1ec6d618"
      },
      "source": [
        "from sklearn.metrics import accuracy_score\n",
        "\n",
        "print('Model accuracy score: {0:0.4f}'. format(accuracy_score(y_test, y_pred)))"
      ],
      "execution_count": null,
      "outputs": [
        {
          "output_type": "stream",
          "text": [
            "Model accuracy score: 0.9313\n"
          ],
          "name": "stdout"
        }
      ]
    },
    {
      "cell_type": "code",
      "metadata": {
        "colab": {
          "base_uri": "https://localhost:8080/"
        },
        "id": "sxMfQC3g8Tnt",
        "outputId": "0ee94046-9304-478b-bfbf-490a0c8ae4d2"
      },
      "source": [
        "y_pred_train = gnb.predict(X_train)\n",
        "\n",
        "y_pred_train"
      ],
      "execution_count": null,
      "outputs": [
        {
          "output_type": "execute_result",
          "data": {
            "text/plain": [
              "array([1, 1, 1, 1, 1, 1, 1, 1, 1, 1, 1, 1, 1, 1, 1, 1, 1, 1, 0, 0, 1, 0,\n",
              "       1, 0, 1, 0, 0, 0, 1, 1, 0, 1, 1, 1, 0, 0, 1, 1, 0, 1, 0, 0, 0, 0,\n",
              "       0, 0, 0, 0, 0, 0, 1, 0, 1, 1, 1, 1, 0, 1, 1, 0, 1, 1, 1, 1, 0, 0,\n",
              "       0, 1, 1, 0, 1, 1, 0, 0, 1, 1, 1, 1, 1, 1, 1, 1, 1, 0, 1, 0, 0, 1,\n",
              "       1, 0, 1, 1, 0, 0, 0, 0, 1, 0, 0, 1, 1, 0, 0, 0, 0, 1, 0, 1, 0, 1,\n",
              "       1, 1, 1, 1, 0, 0, 1, 0, 0, 0, 1, 0, 0, 1, 1, 1, 1, 1, 1, 0, 0, 1,\n",
              "       1, 1, 0, 1, 1, 1, 0, 0, 0, 0, 1, 1, 1, 1, 0, 1, 1, 0, 0, 1, 1, 1,\n",
              "       1, 1, 0, 0, 1, 0, 0, 1, 1, 1, 0, 1, 1, 1, 1, 1, 1, 0, 0, 1, 1, 1,\n",
              "       0, 1, 1, 1, 1, 1, 0, 1, 1, 0, 0, 1, 1, 1, 1, 0, 1, 0, 0, 1, 1, 1,\n",
              "       1, 1, 1, 0, 1, 0, 1, 1, 0, 0, 0, 1, 0, 1, 1, 0, 0, 1, 1, 0, 1, 0,\n",
              "       1, 0, 1, 1, 0, 1, 1, 1, 0, 1, 0, 0, 1, 1, 1, 0, 0, 0, 0, 1, 1, 1,\n",
              "       1, 1, 1, 0, 1, 0, 1, 1, 1, 0, 1, 0, 0, 1, 1, 0, 0, 1, 1, 1, 1, 1,\n",
              "       1, 1, 1, 0, 1, 1, 0, 1, 1, 0, 1, 1, 0, 1, 0, 0, 0, 1, 0, 0, 0, 0,\n",
              "       1, 1, 0, 0, 0, 0, 0, 0, 0, 0, 0, 1, 0, 1, 0, 1, 1, 1])"
            ]
          },
          "metadata": {
            "tags": []
          },
          "execution_count": 14
        }
      ]
    },
    {
      "cell_type": "code",
      "metadata": {
        "colab": {
          "base_uri": "https://localhost:8080/"
        },
        "id": "Ra7z-l958VPy",
        "outputId": "08d1b729-b531-4117-a38f-f2da34c796f4"
      },
      "source": [
        "print('Training-set accuracy score: {0:0.4f}'. format(accuracy_score(y_train, y_pred_train)))"
      ],
      "execution_count": null,
      "outputs": [
        {
          "output_type": "stream",
          "text": [
            "Training-set accuracy score: 0.9243\n"
          ],
          "name": "stdout"
        }
      ]
    },
    {
      "cell_type": "markdown",
      "metadata": {
        "id": "d4GZDuZs8bfe"
      },
      "source": [
        "Check for overfitting and underfitting"
      ]
    },
    {
      "cell_type": "code",
      "metadata": {
        "colab": {
          "base_uri": "https://localhost:8080/"
        },
        "id": "LFB8cu5A8byq",
        "outputId": "9ef8cc5a-5fef-4038-8f86-008c99ec5118"
      },
      "source": [
        "# print the scores on training and test set\n",
        "\n",
        "print('Training set score: {:.4f}'.format(gnb.score(X_train, y_train)))\n",
        "\n",
        "print('Test set score: {:.4f}'.format(gnb.score(X_test, y_test)))"
      ],
      "execution_count": null,
      "outputs": [
        {
          "output_type": "stream",
          "text": [
            "Training set score: 0.9243\n",
            "Test set score: 0.9313\n"
          ],
          "name": "stdout"
        }
      ]
    },
    {
      "cell_type": "code",
      "metadata": {
        "colab": {
          "base_uri": "https://localhost:8080/"
        },
        "id": "YenK_5oK8rfR",
        "outputId": "b4ab14b5-e98c-46de-a817-7a8a9e2b080f"
      },
      "source": [
        "from sklearn.metrics import classification_report\n",
        "\n",
        "print(classification_report(y_test, y_pred))"
      ],
      "execution_count": null,
      "outputs": [
        {
          "output_type": "stream",
          "text": [
            "              precision    recall  f1-score   support\n",
            "\n",
            "           0       0.89      0.91      0.90        46\n",
            "           1       0.95      0.94      0.95        85\n",
            "\n",
            "    accuracy                           0.93       131\n",
            "   macro avg       0.92      0.93      0.92       131\n",
            "weighted avg       0.93      0.93      0.93       131\n",
            "\n"
          ],
          "name": "stdout"
        }
      ]
    },
    {
      "cell_type": "code",
      "metadata": {
        "id": "CBH1qe9z9wSq"
      },
      "source": [
        "from sklearn.metrics import confusion_matrix, accuracy_score, classification_report\n",
        "\n",
        "\n",
        "def evaluate(model, X_train, X_test, y_train, y_test):\n",
        "    y_test_pred = model.predict(X_test)\n",
        "    y_train_pred = model.predict(X_train)\n",
        "\n",
        "    print(\"TRAINIG RESULTS: \\n===============================\")\n",
        "    clf_report = pd.DataFrame(classification_report(y_train, y_train_pred, output_dict=True))\n",
        "    print(f\"CONFUSION MATRIX:\\n{confusion_matrix(y_train, y_train_pred)}\")\n",
        "    print(f\"ACCURACY SCORE:\\n{accuracy_score(y_train, y_train_pred):.4f}\")\n",
        "    print(f\"CLASSIFICATION REPORT:\\n{clf_report}\")\n",
        "\n",
        "    print(\"TESTING RESULTS: \\n===============================\")\n",
        "    clf_report = pd.DataFrame(classification_report(y_test, y_test_pred, output_dict=True))\n",
        "    print(f\"CONFUSION MATRIX:\\n{confusion_matrix(y_test, y_test_pred)}\")\n",
        "    print(f\"ACCURACY SCORE:\\n{accuracy_score(y_test, y_test_pred):.4f}\")\n",
        "    print(f\"CLASSIFICATION REPORT:\\n{clf_report}\")"
      ],
      "execution_count": null,
      "outputs": []
    },
    {
      "cell_type": "code",
      "metadata": {
        "colab": {
          "base_uri": "https://localhost:8080/"
        },
        "id": "U0YAMufk9xXQ",
        "outputId": "8933376b-074e-421e-b08f-8c44dd9a6002"
      },
      "source": [
        "evaluate(gnb, X_train, X_test, y_train, y_test)"
      ],
      "execution_count": null,
      "outputs": [
        {
          "output_type": "stream",
          "text": [
            "TRAINIG RESULTS: \n",
            "===============================\n",
            "CONFUSION MATRIX:\n",
            "[[112  10]\n",
            " [ 13 169]]\n",
            "ACCURACY SCORE:\n",
            "0.9243\n",
            "CLASSIFICATION REPORT:\n",
            "                    0           1  accuracy   macro avg  weighted avg\n",
            "precision    0.896000    0.944134  0.924342    0.920067      0.924817\n",
            "recall       0.918033    0.928571  0.924342    0.923302      0.924342\n",
            "f1-score     0.906883    0.936288  0.924342    0.921585      0.924487\n",
            "support    122.000000  182.000000  0.924342  304.000000    304.000000\n",
            "TESTING RESULTS: \n",
            "===============================\n",
            "CONFUSION MATRIX:\n",
            "[[42  4]\n",
            " [ 5 80]]\n",
            "ACCURACY SCORE:\n",
            "0.9313\n",
            "CLASSIFICATION REPORT:\n",
            "                   0          1  accuracy   macro avg  weighted avg\n",
            "precision   0.893617   0.952381  0.931298    0.922999      0.931746\n",
            "recall      0.913043   0.941176  0.931298    0.927110      0.931298\n",
            "f1-score    0.903226   0.946746  0.931298    0.924986      0.931464\n",
            "support    46.000000  85.000000  0.931298  131.000000    131.000000\n"
          ],
          "name": "stdout"
        }
      ]
    },
    {
      "cell_type": "code",
      "metadata": {
        "colab": {
          "base_uri": "https://localhost:8080/"
        },
        "id": "mk_eiFHy9StI",
        "outputId": "e682d00d-4c78-4adb-90d1-fbc4b0b22c82"
      },
      "source": [
        "# Applying 10-Fold Cross Validation\n",
        "\n",
        "from sklearn.model_selection import cross_val_score\n",
        "\n",
        "scores = cross_val_score(gnb, X_train, y_train, cv = 10, scoring='accuracy')\n",
        "\n",
        "print('Cross-validation scores:{}'.format(scores))"
      ],
      "execution_count": null,
      "outputs": [
        {
          "output_type": "stream",
          "text": [
            "Cross-validation scores:[0.93548387 0.83870968 0.96774194 1.         0.83333333 0.93333333\n",
            " 0.93333333 0.96666667 0.93333333 0.83333333]\n"
          ],
          "name": "stdout"
        }
      ]
    },
    {
      "cell_type": "code",
      "metadata": {
        "colab": {
          "base_uri": "https://localhost:8080/"
        },
        "id": "frBj8fFU9WTo",
        "outputId": "61de0d92-326e-45de-c938-83b74f47300b"
      },
      "source": [
        "# compute Average cross-validation score\n",
        "\n",
        "print('Average cross-validation score: {:.4f}'.format(scores.mean()))"
      ],
      "execution_count": null,
      "outputs": [
        {
          "output_type": "stream",
          "text": [
            "Average cross-validation score: 0.9175\n"
          ],
          "name": "stdout"
        }
      ]
    },
    {
      "cell_type": "markdown",
      "metadata": {
        "id": "3qSwtW_WBtPn"
      },
      "source": [
        "Tunning model:\n",
        "\n",
        "https://medium.com/analytics-vidhya/how-to-improve-naive-bayes-9fa698e14cba\n"
      ]
    },
    {
      "cell_type": "code",
      "metadata": {
        "id": "IvvjNWTkAZRI"
      },
      "source": [
        "param_grid_nb = {\n",
        "    'var_smoothing': np.logspace(0,-9, num=100)\n",
        "}"
      ],
      "execution_count": null,
      "outputs": []
    },
    {
      "cell_type": "code",
      "metadata": {
        "colab": {
          "base_uri": "https://localhost:8080/"
        },
        "id": "u8MaJZVy_1aN",
        "outputId": "bb594de2-7213-4f1a-d92c-4fe8ccd50e9f"
      },
      "source": [
        "from sklearn.naive_bayes import GaussianNB\n",
        "from sklearn.model_selection import GridSearchCV\n",
        "nbModel_grid = GridSearchCV(estimator=GaussianNB(), param_grid=param_grid_nb, verbose=1, cv=10, n_jobs=-1)\n",
        "nbModel_grid.fit(X_train, y_train)\n",
        "print(nbModel_grid.best_estimator_)\n"
      ],
      "execution_count": null,
      "outputs": [
        {
          "output_type": "stream",
          "text": [
            "Fitting 10 folds for each of 100 candidates, totalling 1000 fits\n"
          ],
          "name": "stdout"
        },
        {
          "output_type": "stream",
          "text": [
            "[Parallel(n_jobs=-1)]: Using backend LokyBackend with 2 concurrent workers.\n",
            "[Parallel(n_jobs=-1)]: Done 926 tasks      | elapsed:    3.1s\n"
          ],
          "name": "stderr"
        },
        {
          "output_type": "stream",
          "text": [
            "GaussianNB(priors=None, var_smoothing=0.0657933224657568)\n"
          ],
          "name": "stdout"
        },
        {
          "output_type": "stream",
          "text": [
            "[Parallel(n_jobs=-1)]: Done 1000 out of 1000 | elapsed:    3.3s finished\n"
          ],
          "name": "stderr"
        }
      ]
    },
    {
      "cell_type": "code",
      "metadata": {
        "colab": {
          "base_uri": "https://localhost:8080/"
        },
        "id": "70LcWYo7Aafo",
        "outputId": "76f79db1-ee5e-4a9a-cd1c-681fcd1de7e5"
      },
      "source": [
        "# train a Gaussian Naive Bayes classifier on the training set\n",
        "from sklearn.naive_bayes import GaussianNB\n",
        "\n",
        "# instantiate the model\n",
        "gnb_t = GaussianNB(priors=None, var_smoothing=0.0657933224657568)\n",
        "\n",
        "# fit the model\n",
        "gnb_t.fit(X_train, y_train)"
      ],
      "execution_count": null,
      "outputs": [
        {
          "output_type": "execute_result",
          "data": {
            "text/plain": [
              "GaussianNB(priors=None, var_smoothing=0.0657933224657568)"
            ]
          },
          "metadata": {
            "tags": []
          },
          "execution_count": 32
        }
      ]
    },
    {
      "cell_type": "code",
      "metadata": {
        "colab": {
          "base_uri": "https://localhost:8080/"
        },
        "id": "FtoKhH2e-5g2",
        "outputId": "bfefc62e-dc6c-4e86-e7cd-82c29c54b533"
      },
      "source": [
        "# print the scores on training and test set\n",
        "\n",
        "print('Training set score: {:.4f}'.format(gnb_t.score(X_train, y_train)))\n",
        "\n",
        "print('Test set score: {:.4f}'.format(gnb_t.score(X_test, y_test)))"
      ],
      "execution_count": null,
      "outputs": [
        {
          "output_type": "stream",
          "text": [
            "Training set score: 0.9243\n",
            "Test set score: 0.9313\n"
          ],
          "name": "stdout"
        }
      ]
    },
    {
      "cell_type": "markdown",
      "metadata": {
        "_cell_guid": "ea25cdf7-bdbc-3cf1-0737-bc51675e3374",
        "_uuid": "fed5696c67bf55a553d6d04313a77e8c617cad99",
        "id": "vy_AoAcD37NU"
      },
      "source": [
        "# Titanic Data Science Solutions\n",
        "\n",
        "\n",
        "### This notebook is a companion to the book [Data Science Solutions](https://www.amazon.com/Data-Science-Solutions-Startup-Workflow/dp/1520545312). \n",
        "\n",
        "The notebook walks us through a typical workflow for solving data science competitions at sites like Kaggle.\n",
        "\n",
        "There are several excellent notebooks to study data science competition entries. However many will skip some of the explanation on how the solution is developed as these notebooks are developed by experts for experts. The objective of this notebook is to follow a step-by-step workflow, explaining each step and rationale for every decision we take during solution development.\n",
        "\n",
        "## Workflow stages\n",
        "\n",
        "The competition solution workflow goes through seven stages described in the Data Science Solutions book.\n",
        "\n",
        "1. Question or problem definition.\n",
        "2. Acquire training and testing data.\n",
        "3. Wrangle, prepare, cleanse the data.\n",
        "4. Analyze, identify patterns, and explore the data.\n",
        "5. Model, predict and solve the problem.\n",
        "6. Visualize, report, and present the problem solving steps and final solution.\n",
        "7. Supply or submit the results.\n",
        "\n",
        "The workflow indicates general sequence of how each stage may follow the other. However there are use cases with exceptions.\n",
        "\n",
        "- We may combine mulitple workflow stages. We may analyze by visualizing data.\n",
        "- Perform a stage earlier than indicated. We may analyze data before and after wrangling.\n",
        "- Perform a stage multiple times in our workflow. Visualize stage may be used multiple times.\n",
        "- Drop a stage altogether. We may not need supply stage to productize or service enable our dataset for a competition.\n",
        "\n",
        "\n",
        "## Workflow goals\n",
        "\n",
        "The data science solutions workflow solves for seven major goals.\n",
        "\n",
        "**Classifying.** We may want to classify or categorize our samples. We may also want to understand the implications or correlation of different classes with our solution goal.\n",
        "\n",
        "**Correlating.** One can approach the problem based on available features within the training dataset. Which features within the dataset contribute significantly to our solution goal? Statistically speaking is there a [correlation](https://en.wikiversity.org/wiki/Correlation) among a feature and solution goal? As the feature values change does the solution state change as well, and visa-versa? This can be tested both for numerical and categorical features in the given dataset. We may also want to determine correlation among features other than survival for subsequent goals and workflow stages. Correlating certain features may help in creating, completing, or correcting features.\n",
        "\n",
        "**Converting.** For modeling stage, one needs to prepare the data. Depending on the choice of model algorithm one may require all features to be converted to numerical equivalent values. So for instance converting text categorical values to numeric values.\n",
        "\n",
        "**Completing.** Data preparation may also require us to estimate any missing values within a feature. Model algorithms may work best when there are no missing values.\n",
        "\n",
        "**Correcting.** We may also analyze the given training dataset for errors or possibly innacurate values within features and try to corrent these values or exclude the samples containing the errors. One way to do this is to detect any outliers among our samples or features. We may also completely discard a feature if it is not contribting to the analysis or may significantly skew the results.\n",
        "\n",
        "**Creating.** Can we create new features based on an existing feature or a set of features, such that the new feature follows the correlation, conversion, completeness goals.\n",
        "\n",
        "**Charting.** How to select the right visualization plots and charts depending on nature of the data and the solution goals."
      ]
    },
    {
      "cell_type": "markdown",
      "metadata": {
        "_cell_guid": "56a3be4e-76ef-20c6-25e8-da16147cf6d7",
        "_uuid": "960f8b1937dc4915ce1eb0f82614b1985c4321a4",
        "id": "WA4AtAp137NZ"
      },
      "source": [
        "## Refactor Release 2017-Jan-29\n",
        "\n",
        "We are significantly refactoring the notebook based on (a) comments received by readers, (b) issues in porting notebook from Jupyter kernel (2.7) to Kaggle kernel (3.5), and (c) review of few more best practice kernels.\n",
        "\n",
        "### User comments\n",
        "\n",
        "- Combine training and test data for certain operations like converting titles across dataset to numerical values. (thanks @Sharan Naribole)\n",
        "- Correct observation - nearly 30% of the passengers had siblings and/or spouses aboard. (thanks @Reinhard)\n",
        "- Correctly interpreting logistic regresssion coefficients. (thanks @Reinhard)\n",
        "\n",
        "### Porting issues\n",
        "\n",
        "- Specify plot dimensions, bring legend into plot.\n",
        "\n",
        "\n",
        "### Best practices\n",
        "\n",
        "- Performing feature correlation analysis early in the project.\n",
        "- Using multiple plots instead of overlays for readability."
      ]
    },
    {
      "cell_type": "code",
      "metadata": {
        "_cell_guid": "5767a33c-8f18-4034-e52d-bf7a8f7d8ab8",
        "_uuid": "847a9b3972a6be2d2f3346ff01fea976d92ecdb6",
        "collapsed": true,
        "id": "7_Siaesl37Nc"
      },
      "source": [
        "# data analysis and wrangling\n",
        "import pandas as pd\n",
        "import numpy as np\n",
        "import random as rnd\n",
        "\n",
        "# visualization\n",
        "import seaborn as sns\n",
        "import matplotlib.pyplot as plt\n",
        "%matplotlib inline\n",
        "\n",
        "# machine learning\n",
        "from sklearn.linear_model import LogisticRegression\n",
        "from sklearn.svm import SVC, LinearSVC\n",
        "from sklearn.ensemble import RandomForestClassifier\n",
        "from sklearn.neighbors import KNeighborsClassifier\n",
        "from sklearn.naive_bayes import GaussianNB\n",
        "from sklearn.linear_model import Perceptron\n",
        "from sklearn.linear_model import SGDClassifier\n",
        "from sklearn.tree import DecisionTreeClassifier"
      ],
      "execution_count": null,
      "outputs": []
    },
    {
      "cell_type": "markdown",
      "metadata": {
        "_cell_guid": "6b5dc743-15b1-aac6-405e-081def6ecca1",
        "_uuid": "2d307b99ee3d19da3c1cddf509ed179c21dec94a",
        "id": "GbbsZWIc37Nd"
      },
      "source": [
        "## Acquire data\n",
        "\n",
        "The Python Pandas packages helps us work with our datasets. We start by acquiring the training and testing datasets into Pandas DataFrames. We also combine these datasets to run certain operations on both datasets together."
      ]
    },
    {
      "cell_type": "code",
      "metadata": {
        "_cell_guid": "e7319668-86fe-8adc-438d-0eef3fd0a982",
        "_uuid": "13f38775c12ad6f914254a08f0d1ef948a2bd453",
        "collapsed": true,
        "id": "PU4ZVq7J37Nf"
      },
      "source": [
        "train_df = pd.read_csv('train.csv')\n",
        "test_df = pd.read_csv('test.csv')\n",
        "combine = [train_df, test_df]"
      ],
      "execution_count": null,
      "outputs": []
    },
    {
      "cell_type": "markdown",
      "metadata": {
        "_cell_guid": "3d6188f3-dc82-8ae6-dabd-83e28fcbf10d",
        "_uuid": "79282222056237a52bbbb1dbd831f057f1c23d69",
        "id": "T_LAhtoC37Nf"
      },
      "source": [
        "## Analyze by describing data\n",
        "\n",
        "Pandas also helps describe the datasets answering following questions early in our project.\n",
        "\n",
        "**Which features are available in the dataset?**\n",
        "\n",
        "Noting the feature names for directly manipulating or analyzing these. These feature names are described on the [Kaggle data page here](https://www.kaggle.com/c/titanic/data)."
      ]
    },
    {
      "cell_type": "code",
      "metadata": {
        "_cell_guid": "ce473d29-8d19-76b8-24a4-48c217286e42",
        "_uuid": "ef106f38a00e162a80c523778af6dcc778ccc1c2",
        "collapsed": true,
        "id": "HssqGxL337Ng",
        "outputId": "8be904ac-93e0-4f3f-f4d6-2493785d8e2c"
      },
      "source": [
        "print(train_df.columns.values)"
      ],
      "execution_count": null,
      "outputs": [
        {
          "output_type": "stream",
          "text": [
            "['PassengerId' 'Survived' 'Pclass' 'Name' 'Sex' 'Age' 'SibSp' 'Parch'\n",
            " 'Ticket' 'Fare' 'Cabin' 'Embarked']\n"
          ],
          "name": "stdout"
        }
      ]
    },
    {
      "cell_type": "markdown",
      "metadata": {
        "_cell_guid": "cd19a6f6-347f-be19-607b-dca950590b37",
        "_uuid": "1d7acf42af29a63bc038f14eded24e8b8146f541",
        "id": "cikGXN4537Nh"
      },
      "source": [
        "**Which features are categorical?**\n",
        "\n",
        "These values classify the samples into sets of similar samples. Within categorical features are the values nominal, ordinal, ratio, or interval based? Among other things this helps us select the appropriate plots for visualization.\n",
        "\n",
        "- Categorical: Survived, Sex, and Embarked. Ordinal: Pclass.\n",
        "\n",
        "**Which features are numerical?**\n",
        "\n",
        "Which features are numerical? These values change from sample to sample. Within numerical features are the values discrete, continuous, or timeseries based? Among other things this helps us select the appropriate plots for visualization.\n",
        "\n",
        "- Continous: Age, Fare. Discrete: SibSp, Parch."
      ]
    },
    {
      "cell_type": "code",
      "metadata": {
        "_cell_guid": "8d7ac195-ac1a-30a4-3f3f-80b8cf2c1c0f",
        "_uuid": "e068cd3a0465b65a0930a100cb348b9146d5fd2f",
        "collapsed": true,
        "id": "uLP0LAj037Ni",
        "outputId": "4c32396d-0dd2-4920-b532-4a1c748a9ef5"
      },
      "source": [
        "# preview the data\n",
        "train_df.head()"
      ],
      "execution_count": null,
      "outputs": [
        {
          "output_type": "execute_result",
          "data": {
            "text/html": [
              "<div>\n",
              "<style scoped>\n",
              "    .dataframe tbody tr th:only-of-type {\n",
              "        vertical-align: middle;\n",
              "    }\n",
              "\n",
              "    .dataframe tbody tr th {\n",
              "        vertical-align: top;\n",
              "    }\n",
              "\n",
              "    .dataframe thead th {\n",
              "        text-align: right;\n",
              "    }\n",
              "</style>\n",
              "<table border=\"1\" class=\"dataframe\">\n",
              "  <thead>\n",
              "    <tr style=\"text-align: right;\">\n",
              "      <th></th>\n",
              "      <th>PassengerId</th>\n",
              "      <th>Survived</th>\n",
              "      <th>Pclass</th>\n",
              "      <th>Name</th>\n",
              "      <th>Sex</th>\n",
              "      <th>Age</th>\n",
              "      <th>SibSp</th>\n",
              "      <th>Parch</th>\n",
              "      <th>Ticket</th>\n",
              "      <th>Fare</th>\n",
              "      <th>Cabin</th>\n",
              "      <th>Embarked</th>\n",
              "    </tr>\n",
              "  </thead>\n",
              "  <tbody>\n",
              "    <tr>\n",
              "      <th>0</th>\n",
              "      <td>1</td>\n",
              "      <td>0</td>\n",
              "      <td>3</td>\n",
              "      <td>Braund, Mr. Owen Harris</td>\n",
              "      <td>male</td>\n",
              "      <td>22.0</td>\n",
              "      <td>1</td>\n",
              "      <td>0</td>\n",
              "      <td>A/5 21171</td>\n",
              "      <td>7.2500</td>\n",
              "      <td>NaN</td>\n",
              "      <td>S</td>\n",
              "    </tr>\n",
              "    <tr>\n",
              "      <th>1</th>\n",
              "      <td>2</td>\n",
              "      <td>1</td>\n",
              "      <td>1</td>\n",
              "      <td>Cumings, Mrs. John Bradley (Florence Briggs Th...</td>\n",
              "      <td>female</td>\n",
              "      <td>38.0</td>\n",
              "      <td>1</td>\n",
              "      <td>0</td>\n",
              "      <td>PC 17599</td>\n",
              "      <td>71.2833</td>\n",
              "      <td>C85</td>\n",
              "      <td>C</td>\n",
              "    </tr>\n",
              "    <tr>\n",
              "      <th>2</th>\n",
              "      <td>3</td>\n",
              "      <td>1</td>\n",
              "      <td>3</td>\n",
              "      <td>Heikkinen, Miss. Laina</td>\n",
              "      <td>female</td>\n",
              "      <td>26.0</td>\n",
              "      <td>0</td>\n",
              "      <td>0</td>\n",
              "      <td>STON/O2. 3101282</td>\n",
              "      <td>7.9250</td>\n",
              "      <td>NaN</td>\n",
              "      <td>S</td>\n",
              "    </tr>\n",
              "    <tr>\n",
              "      <th>3</th>\n",
              "      <td>4</td>\n",
              "      <td>1</td>\n",
              "      <td>1</td>\n",
              "      <td>Futrelle, Mrs. Jacques Heath (Lily May Peel)</td>\n",
              "      <td>female</td>\n",
              "      <td>35.0</td>\n",
              "      <td>1</td>\n",
              "      <td>0</td>\n",
              "      <td>113803</td>\n",
              "      <td>53.1000</td>\n",
              "      <td>C123</td>\n",
              "      <td>S</td>\n",
              "    </tr>\n",
              "    <tr>\n",
              "      <th>4</th>\n",
              "      <td>5</td>\n",
              "      <td>0</td>\n",
              "      <td>3</td>\n",
              "      <td>Allen, Mr. William Henry</td>\n",
              "      <td>male</td>\n",
              "      <td>35.0</td>\n",
              "      <td>0</td>\n",
              "      <td>0</td>\n",
              "      <td>373450</td>\n",
              "      <td>8.0500</td>\n",
              "      <td>NaN</td>\n",
              "      <td>S</td>\n",
              "    </tr>\n",
              "  </tbody>\n",
              "</table>\n",
              "</div>"
            ],
            "text/plain": [
              "   PassengerId  Survived  Pclass    ...        Fare Cabin  Embarked\n",
              "0            1         0       3    ...      7.2500   NaN         S\n",
              "1            2         1       1    ...     71.2833   C85         C\n",
              "2            3         1       3    ...      7.9250   NaN         S\n",
              "3            4         1       1    ...     53.1000  C123         S\n",
              "4            5         0       3    ...      8.0500   NaN         S\n",
              "\n",
              "[5 rows x 12 columns]"
            ]
          },
          "metadata": {
            "tags": []
          },
          "execution_count": 4
        }
      ]
    },
    {
      "cell_type": "markdown",
      "metadata": {
        "_cell_guid": "97f4e6f8-2fea-46c4-e4e8-b69062ee3d46",
        "_uuid": "c34fa51a38336d97d5f6a184908cca37daebd584",
        "id": "3Q8XSVd237Nk"
      },
      "source": [
        "**Which features are mixed data types?**\n",
        "\n",
        "Numerical, alphanumeric data within same feature. These are candidates for correcting goal.\n",
        "\n",
        "- Ticket is a mix of numeric and alphanumeric data types. Cabin is alphanumeric.\n",
        "\n",
        "**Which features may contain errors or typos?**\n",
        "\n",
        "This is harder to review for a large dataset, however reviewing a few samples from a smaller dataset may just tell us outright, which features may require correcting.\n",
        "\n",
        "- Name feature may contain errors or typos as there are several ways used to describe a name including titles, round brackets, and quotes used for alternative or short names."
      ]
    },
    {
      "cell_type": "code",
      "metadata": {
        "_cell_guid": "f6e761c2-e2ff-d300-164c-af257083bb46",
        "_uuid": "3488e80f309d29f5b68bbcfaba8d78da84f4fb7d",
        "collapsed": true,
        "id": "mxcfTh8737Nk",
        "outputId": "b8c57611-59f8-413f-a4cb-1eb165d8ef8e"
      },
      "source": [
        "train_df.tail()"
      ],
      "execution_count": null,
      "outputs": [
        {
          "output_type": "execute_result",
          "data": {
            "text/html": [
              "<div>\n",
              "<style scoped>\n",
              "    .dataframe tbody tr th:only-of-type {\n",
              "        vertical-align: middle;\n",
              "    }\n",
              "\n",
              "    .dataframe tbody tr th {\n",
              "        vertical-align: top;\n",
              "    }\n",
              "\n",
              "    .dataframe thead th {\n",
              "        text-align: right;\n",
              "    }\n",
              "</style>\n",
              "<table border=\"1\" class=\"dataframe\">\n",
              "  <thead>\n",
              "    <tr style=\"text-align: right;\">\n",
              "      <th></th>\n",
              "      <th>PassengerId</th>\n",
              "      <th>Survived</th>\n",
              "      <th>Pclass</th>\n",
              "      <th>Name</th>\n",
              "      <th>Sex</th>\n",
              "      <th>Age</th>\n",
              "      <th>SibSp</th>\n",
              "      <th>Parch</th>\n",
              "      <th>Ticket</th>\n",
              "      <th>Fare</th>\n",
              "      <th>Cabin</th>\n",
              "      <th>Embarked</th>\n",
              "    </tr>\n",
              "  </thead>\n",
              "  <tbody>\n",
              "    <tr>\n",
              "      <th>886</th>\n",
              "      <td>887</td>\n",
              "      <td>0</td>\n",
              "      <td>2</td>\n",
              "      <td>Montvila, Rev. Juozas</td>\n",
              "      <td>male</td>\n",
              "      <td>27.0</td>\n",
              "      <td>0</td>\n",
              "      <td>0</td>\n",
              "      <td>211536</td>\n",
              "      <td>13.00</td>\n",
              "      <td>NaN</td>\n",
              "      <td>S</td>\n",
              "    </tr>\n",
              "    <tr>\n",
              "      <th>887</th>\n",
              "      <td>888</td>\n",
              "      <td>1</td>\n",
              "      <td>1</td>\n",
              "      <td>Graham, Miss. Margaret Edith</td>\n",
              "      <td>female</td>\n",
              "      <td>19.0</td>\n",
              "      <td>0</td>\n",
              "      <td>0</td>\n",
              "      <td>112053</td>\n",
              "      <td>30.00</td>\n",
              "      <td>B42</td>\n",
              "      <td>S</td>\n",
              "    </tr>\n",
              "    <tr>\n",
              "      <th>888</th>\n",
              "      <td>889</td>\n",
              "      <td>0</td>\n",
              "      <td>3</td>\n",
              "      <td>Johnston, Miss. Catherine Helen \"Carrie\"</td>\n",
              "      <td>female</td>\n",
              "      <td>NaN</td>\n",
              "      <td>1</td>\n",
              "      <td>2</td>\n",
              "      <td>W./C. 6607</td>\n",
              "      <td>23.45</td>\n",
              "      <td>NaN</td>\n",
              "      <td>S</td>\n",
              "    </tr>\n",
              "    <tr>\n",
              "      <th>889</th>\n",
              "      <td>890</td>\n",
              "      <td>1</td>\n",
              "      <td>1</td>\n",
              "      <td>Behr, Mr. Karl Howell</td>\n",
              "      <td>male</td>\n",
              "      <td>26.0</td>\n",
              "      <td>0</td>\n",
              "      <td>0</td>\n",
              "      <td>111369</td>\n",
              "      <td>30.00</td>\n",
              "      <td>C148</td>\n",
              "      <td>C</td>\n",
              "    </tr>\n",
              "    <tr>\n",
              "      <th>890</th>\n",
              "      <td>891</td>\n",
              "      <td>0</td>\n",
              "      <td>3</td>\n",
              "      <td>Dooley, Mr. Patrick</td>\n",
              "      <td>male</td>\n",
              "      <td>32.0</td>\n",
              "      <td>0</td>\n",
              "      <td>0</td>\n",
              "      <td>370376</td>\n",
              "      <td>7.75</td>\n",
              "      <td>NaN</td>\n",
              "      <td>Q</td>\n",
              "    </tr>\n",
              "  </tbody>\n",
              "</table>\n",
              "</div>"
            ],
            "text/plain": [
              "     PassengerId  Survived  Pclass    ...      Fare Cabin  Embarked\n",
              "886          887         0       2    ...     13.00   NaN         S\n",
              "887          888         1       1    ...     30.00   B42         S\n",
              "888          889         0       3    ...     23.45   NaN         S\n",
              "889          890         1       1    ...     30.00  C148         C\n",
              "890          891         0       3    ...      7.75   NaN         Q\n",
              "\n",
              "[5 rows x 12 columns]"
            ]
          },
          "metadata": {
            "tags": []
          },
          "execution_count": 5
        }
      ]
    },
    {
      "cell_type": "markdown",
      "metadata": {
        "_cell_guid": "8bfe9610-689a-29b2-26ee-f67cd4719079",
        "_uuid": "699c52b7a8d076ccd5ea5bc5d606313c558a6e8e",
        "id": "Bk93APp937Nl"
      },
      "source": [
        "**Which features contain blank, null or empty values?**\n",
        "\n",
        "These will require correcting.\n",
        "\n",
        "- Cabin > Age > Embarked features contain a number of null values in that order for the training dataset.\n",
        "- Cabin > Age are incomplete in case of test dataset.\n",
        "\n",
        "**What are the data types for various features?**\n",
        "\n",
        "Helping us during converting goal.\n",
        "\n",
        "- Seven features are integer or floats. Six in case of test dataset.\n",
        "- Five features are strings (object)."
      ]
    },
    {
      "cell_type": "code",
      "metadata": {
        "_cell_guid": "9b805f69-665a-2b2e-f31d-50d87d52865d",
        "_uuid": "817e1cf0ca1cb96c7a28bb81192d92261a8bf427",
        "collapsed": true,
        "id": "mZWChLJM37Nl",
        "outputId": "fee16981-f269-43ec-e8ab-048076e7a35c"
      },
      "source": [
        "train_df.info()\n",
        "print('_'*40)\n",
        "test_df.info()"
      ],
      "execution_count": null,
      "outputs": [
        {
          "output_type": "stream",
          "text": [
            "<class 'pandas.core.frame.DataFrame'>\n",
            "RangeIndex: 891 entries, 0 to 890\n",
            "Data columns (total 12 columns):\n",
            "PassengerId    891 non-null int64\n",
            "Survived       891 non-null int64\n",
            "Pclass         891 non-null int64\n",
            "Name           891 non-null object\n",
            "Sex            891 non-null object\n",
            "Age            714 non-null float64\n",
            "SibSp          891 non-null int64\n",
            "Parch          891 non-null int64\n",
            "Ticket         891 non-null object\n",
            "Fare           891 non-null float64\n",
            "Cabin          204 non-null object\n",
            "Embarked       889 non-null object\n",
            "dtypes: float64(2), int64(5), object(5)\n",
            "memory usage: 83.6+ KB\n",
            "________________________________________\n",
            "<class 'pandas.core.frame.DataFrame'>\n",
            "RangeIndex: 418 entries, 0 to 417\n",
            "Data columns (total 11 columns):\n",
            "PassengerId    418 non-null int64\n",
            "Pclass         418 non-null int64\n",
            "Name           418 non-null object\n",
            "Sex            418 non-null object\n",
            "Age            332 non-null float64\n",
            "SibSp          418 non-null int64\n",
            "Parch          418 non-null int64\n",
            "Ticket         418 non-null object\n",
            "Fare           417 non-null float64\n",
            "Cabin          91 non-null object\n",
            "Embarked       418 non-null object\n",
            "dtypes: float64(2), int64(4), object(5)\n",
            "memory usage: 36.0+ KB\n"
          ],
          "name": "stdout"
        }
      ]
    },
    {
      "cell_type": "markdown",
      "metadata": {
        "_cell_guid": "859102e1-10df-d451-2649-2d4571e5f082",
        "_uuid": "2b7c205bf25979e3242762bfebb0e3eb2fd63010",
        "id": "SV6D4jPY37Nm"
      },
      "source": [
        "**What is the distribution of numerical feature values across the samples?**\n",
        "\n",
        "This helps us determine, among other early insights, how representative is the training dataset of the actual problem domain.\n",
        "\n",
        "- Total samples are 891 or 40% of the actual number of passengers on board the Titanic (2,224).\n",
        "- Survived is a categorical feature with 0 or 1 values.\n",
        "- Around 38% samples survived representative of the actual survival rate at 32%.\n",
        "- Most passengers (> 75%) did not travel with parents or children.\n",
        "- Nearly 30% of the passengers had siblings and/or spouse aboard.\n",
        "- Fares varied significantly with few passengers (<1%) paying as high as $512.\n",
        "- Few elderly passengers (<1%) within age range 65-80."
      ]
    },
    {
      "cell_type": "code",
      "metadata": {
        "_cell_guid": "58e387fe-86e4-e068-8307-70e37fe3f37b",
        "_uuid": "380251a1c1e0b89147d321968dc739b6cc0eecf2",
        "collapsed": true,
        "id": "W4xJTZNY37Nm",
        "outputId": "35b2d3ce-7a46-4209-8203-3ff9e42cf5f2"
      },
      "source": [
        "train_df.describe()\n",
        "# Review survived rate using `percentiles=[.61, .62]` knowing our problem description mentions 38% survival rate.\n",
        "# Review Parch distribution using `percentiles=[.75, .8]`\n",
        "# SibSp distribution `[.68, .69]`\n",
        "# Age and Fare `[.1, .2, .3, .4, .5, .6, .7, .8, .9, .99]`"
      ],
      "execution_count": null,
      "outputs": [
        {
          "output_type": "execute_result",
          "data": {
            "text/html": [
              "<div>\n",
              "<style scoped>\n",
              "    .dataframe tbody tr th:only-of-type {\n",
              "        vertical-align: middle;\n",
              "    }\n",
              "\n",
              "    .dataframe tbody tr th {\n",
              "        vertical-align: top;\n",
              "    }\n",
              "\n",
              "    .dataframe thead th {\n",
              "        text-align: right;\n",
              "    }\n",
              "</style>\n",
              "<table border=\"1\" class=\"dataframe\">\n",
              "  <thead>\n",
              "    <tr style=\"text-align: right;\">\n",
              "      <th></th>\n",
              "      <th>PassengerId</th>\n",
              "      <th>Survived</th>\n",
              "      <th>Pclass</th>\n",
              "      <th>Age</th>\n",
              "      <th>SibSp</th>\n",
              "      <th>Parch</th>\n",
              "      <th>Fare</th>\n",
              "    </tr>\n",
              "  </thead>\n",
              "  <tbody>\n",
              "    <tr>\n",
              "      <th>count</th>\n",
              "      <td>891.000000</td>\n",
              "      <td>891.000000</td>\n",
              "      <td>891.000000</td>\n",
              "      <td>714.000000</td>\n",
              "      <td>891.000000</td>\n",
              "      <td>891.000000</td>\n",
              "      <td>891.000000</td>\n",
              "    </tr>\n",
              "    <tr>\n",
              "      <th>mean</th>\n",
              "      <td>446.000000</td>\n",
              "      <td>0.383838</td>\n",
              "      <td>2.308642</td>\n",
              "      <td>29.699118</td>\n",
              "      <td>0.523008</td>\n",
              "      <td>0.381594</td>\n",
              "      <td>32.204208</td>\n",
              "    </tr>\n",
              "    <tr>\n",
              "      <th>std</th>\n",
              "      <td>257.353842</td>\n",
              "      <td>0.486592</td>\n",
              "      <td>0.836071</td>\n",
              "      <td>14.526497</td>\n",
              "      <td>1.102743</td>\n",
              "      <td>0.806057</td>\n",
              "      <td>49.693429</td>\n",
              "    </tr>\n",
              "    <tr>\n",
              "      <th>min</th>\n",
              "      <td>1.000000</td>\n",
              "      <td>0.000000</td>\n",
              "      <td>1.000000</td>\n",
              "      <td>0.420000</td>\n",
              "      <td>0.000000</td>\n",
              "      <td>0.000000</td>\n",
              "      <td>0.000000</td>\n",
              "    </tr>\n",
              "    <tr>\n",
              "      <th>25%</th>\n",
              "      <td>223.500000</td>\n",
              "      <td>0.000000</td>\n",
              "      <td>2.000000</td>\n",
              "      <td>20.125000</td>\n",
              "      <td>0.000000</td>\n",
              "      <td>0.000000</td>\n",
              "      <td>7.910400</td>\n",
              "    </tr>\n",
              "    <tr>\n",
              "      <th>50%</th>\n",
              "      <td>446.000000</td>\n",
              "      <td>0.000000</td>\n",
              "      <td>3.000000</td>\n",
              "      <td>28.000000</td>\n",
              "      <td>0.000000</td>\n",
              "      <td>0.000000</td>\n",
              "      <td>14.454200</td>\n",
              "    </tr>\n",
              "    <tr>\n",
              "      <th>75%</th>\n",
              "      <td>668.500000</td>\n",
              "      <td>1.000000</td>\n",
              "      <td>3.000000</td>\n",
              "      <td>38.000000</td>\n",
              "      <td>1.000000</td>\n",
              "      <td>0.000000</td>\n",
              "      <td>31.000000</td>\n",
              "    </tr>\n",
              "    <tr>\n",
              "      <th>max</th>\n",
              "      <td>891.000000</td>\n",
              "      <td>1.000000</td>\n",
              "      <td>3.000000</td>\n",
              "      <td>80.000000</td>\n",
              "      <td>8.000000</td>\n",
              "      <td>6.000000</td>\n",
              "      <td>512.329200</td>\n",
              "    </tr>\n",
              "  </tbody>\n",
              "</table>\n",
              "</div>"
            ],
            "text/plain": [
              "       PassengerId    Survived     ...           Parch        Fare\n",
              "count   891.000000  891.000000     ...      891.000000  891.000000\n",
              "mean    446.000000    0.383838     ...        0.381594   32.204208\n",
              "std     257.353842    0.486592     ...        0.806057   49.693429\n",
              "min       1.000000    0.000000     ...        0.000000    0.000000\n",
              "25%     223.500000    0.000000     ...        0.000000    7.910400\n",
              "50%     446.000000    0.000000     ...        0.000000   14.454200\n",
              "75%     668.500000    1.000000     ...        0.000000   31.000000\n",
              "max     891.000000    1.000000     ...        6.000000  512.329200\n",
              "\n",
              "[8 rows x 7 columns]"
            ]
          },
          "metadata": {
            "tags": []
          },
          "execution_count": 7
        }
      ]
    },
    {
      "cell_type": "markdown",
      "metadata": {
        "_cell_guid": "5462bc60-258c-76bf-0a73-9adc00a2f493",
        "_uuid": "33bbd1709db622978c0c5879e7c5532d4734ade0",
        "id": "N2mScg4W37Nm"
      },
      "source": [
        "**What is the distribution of categorical features?**\n",
        "\n",
        "- Names are unique across the dataset (count=unique=891)\n",
        "- Sex variable as two possible values with 65% male (top=male, freq=577/count=891).\n",
        "- Cabin values have several dupicates across samples. Alternatively several passengers shared a cabin.\n",
        "- Embarked takes three possible values. S port used by most passengers (top=S)\n",
        "- Ticket feature has high ratio (22%) of duplicate values (unique=681)."
      ]
    },
    {
      "cell_type": "code",
      "metadata": {
        "_cell_guid": "8066b378-1964-92e8-1352-dcac934c6af3",
        "_uuid": "daa8663f577f9c1a478496cf14fe363570457191",
        "collapsed": true,
        "id": "eEVIf_i837Nn",
        "outputId": "06961268-9fc5-4a96-c762-9f7fa978ee42"
      },
      "source": [
        "train_df.describe(include=['O'])"
      ],
      "execution_count": null,
      "outputs": [
        {
          "output_type": "execute_result",
          "data": {
            "text/html": [
              "<div>\n",
              "<style scoped>\n",
              "    .dataframe tbody tr th:only-of-type {\n",
              "        vertical-align: middle;\n",
              "    }\n",
              "\n",
              "    .dataframe tbody tr th {\n",
              "        vertical-align: top;\n",
              "    }\n",
              "\n",
              "    .dataframe thead th {\n",
              "        text-align: right;\n",
              "    }\n",
              "</style>\n",
              "<table border=\"1\" class=\"dataframe\">\n",
              "  <thead>\n",
              "    <tr style=\"text-align: right;\">\n",
              "      <th></th>\n",
              "      <th>Name</th>\n",
              "      <th>Sex</th>\n",
              "      <th>Ticket</th>\n",
              "      <th>Cabin</th>\n",
              "      <th>Embarked</th>\n",
              "    </tr>\n",
              "  </thead>\n",
              "  <tbody>\n",
              "    <tr>\n",
              "      <th>count</th>\n",
              "      <td>891</td>\n",
              "      <td>891</td>\n",
              "      <td>891</td>\n",
              "      <td>204</td>\n",
              "      <td>889</td>\n",
              "    </tr>\n",
              "    <tr>\n",
              "      <th>unique</th>\n",
              "      <td>891</td>\n",
              "      <td>2</td>\n",
              "      <td>681</td>\n",
              "      <td>147</td>\n",
              "      <td>3</td>\n",
              "    </tr>\n",
              "    <tr>\n",
              "      <th>top</th>\n",
              "      <td>Panula, Master. Juha Niilo</td>\n",
              "      <td>male</td>\n",
              "      <td>1601</td>\n",
              "      <td>C23 C25 C27</td>\n",
              "      <td>S</td>\n",
              "    </tr>\n",
              "    <tr>\n",
              "      <th>freq</th>\n",
              "      <td>1</td>\n",
              "      <td>577</td>\n",
              "      <td>7</td>\n",
              "      <td>4</td>\n",
              "      <td>644</td>\n",
              "    </tr>\n",
              "  </tbody>\n",
              "</table>\n",
              "</div>"
            ],
            "text/plain": [
              "                              Name   Sex Ticket        Cabin Embarked\n",
              "count                          891   891    891          204      889\n",
              "unique                         891     2    681          147        3\n",
              "top     Panula, Master. Juha Niilo  male   1601  C23 C25 C27        S\n",
              "freq                             1   577      7            4      644"
            ]
          },
          "metadata": {
            "tags": []
          },
          "execution_count": 8
        }
      ]
    },
    {
      "cell_type": "markdown",
      "metadata": {
        "_cell_guid": "2cb22b88-937d-6f14-8b06-ea3361357889",
        "_uuid": "c1d35ebd89a0cf7d7b409470bbb9ecaffd2a9680",
        "id": "_JKCwZzj37Nn"
      },
      "source": [
        "### Assumtions based on data analysis\n",
        "\n",
        "We arrive at following assumptions based on data analysis done so far. We may validate these assumptions further before taking appropriate actions.\n",
        "\n",
        "**Correlating.**\n",
        "\n",
        "We want to know how well does each feature correlate with Survival. We want to do this early in our project and match these quick correlations with modelled correlations later in the project.\n",
        "\n",
        "**Completing.**\n",
        "\n",
        "1. We may want to complete Age feature as it is definitely correlated to survival.\n",
        "2. We may want to complete the Embarked feature as it may also correlate with survival or another important feature.\n",
        "\n",
        "**Correcting.**\n",
        "\n",
        "1. Ticket feature may be dropped from our analysis as it contains high ratio of duplicates (22%) and there may not be a correlation between Ticket and survival.\n",
        "2. Cabin feature may be dropped as it is highly incomplete or contains many null values both in training and test dataset.\n",
        "3. PassengerId may be dropped from training dataset as it does not contribute to survival.\n",
        "4. Name feature is relatively non-standard, may not contribute directly to survival, so maybe dropped.\n",
        "\n",
        "**Creating.**\n",
        "\n",
        "1. We may want to create a new feature called Family based on Parch and SibSp to get total count of family members on board.\n",
        "2. We may want to engineer the Name feature to extract Title as a new feature.\n",
        "3. We may want to create new feature for Age bands. This turns a continous numerical feature into an ordinal categorical feature.\n",
        "4. We may also want to create a Fare range feature if it helps our analysis.\n",
        "\n",
        "**Classifying.**\n",
        "\n",
        "We may also add to our assumptions based on the problem description noted earlier.\n",
        "\n",
        "1. Women (Sex=female) were more likely to have survived.\n",
        "2. Children (Age<?) were more likely to have survived. \n",
        "3. The upper-class passengers (Pclass=1) were more likely to have survived."
      ]
    },
    {
      "cell_type": "markdown",
      "metadata": {
        "_cell_guid": "6db63a30-1d86-266e-2799-dded03c45816",
        "_uuid": "946ee6ca01a3e4eecfa373ca00f88042b683e2ad",
        "id": "yK8Tnak337Nn"
      },
      "source": [
        "## Analyze by pivoting features\n",
        "\n",
        "To confirm some of our observations and assumptions, we can quickly analyze our feature correlations by pivoting features against each other. We can only do so at this stage for features which do not have any empty values. It also makes sense doing so only for features which are categorical (Sex), ordinal (Pclass) or discrete (SibSp, Parch) type.\n",
        "\n",
        "- **Pclass** We observe significant correlation (>0.5) among Pclass=1 and Survived (classifying #3). We decide to include this feature in our model.\n",
        "- **Sex** We confirm the observation during problem definition that Sex=female had very high survival rate at 74% (classifying #1).\n",
        "- **SibSp and Parch** These features have zero correlation for certain values. It may be best to derive a feature or a set of features from these individual features (creating #1)."
      ]
    },
    {
      "cell_type": "code",
      "metadata": {
        "_cell_guid": "0964832a-a4be-2d6f-a89e-63526389cee9",
        "_uuid": "97a845528ce9f76e85055a4bb9e97c27091f6aa1",
        "collapsed": true,
        "id": "_gRYoGM237No",
        "outputId": "4b3a3e2b-6094-42d3-ba40-ee867ff36d0b"
      },
      "source": [
        "train_df[['Pclass', 'Survived']].groupby(['Pclass'], as_index=False).mean().sort_values(by='Survived', ascending=False)"
      ],
      "execution_count": null,
      "outputs": [
        {
          "output_type": "execute_result",
          "data": {
            "text/html": [
              "<div>\n",
              "<style scoped>\n",
              "    .dataframe tbody tr th:only-of-type {\n",
              "        vertical-align: middle;\n",
              "    }\n",
              "\n",
              "    .dataframe tbody tr th {\n",
              "        vertical-align: top;\n",
              "    }\n",
              "\n",
              "    .dataframe thead th {\n",
              "        text-align: right;\n",
              "    }\n",
              "</style>\n",
              "<table border=\"1\" class=\"dataframe\">\n",
              "  <thead>\n",
              "    <tr style=\"text-align: right;\">\n",
              "      <th></th>\n",
              "      <th>Pclass</th>\n",
              "      <th>Survived</th>\n",
              "    </tr>\n",
              "  </thead>\n",
              "  <tbody>\n",
              "    <tr>\n",
              "      <th>0</th>\n",
              "      <td>1</td>\n",
              "      <td>0.629630</td>\n",
              "    </tr>\n",
              "    <tr>\n",
              "      <th>1</th>\n",
              "      <td>2</td>\n",
              "      <td>0.472826</td>\n",
              "    </tr>\n",
              "    <tr>\n",
              "      <th>2</th>\n",
              "      <td>3</td>\n",
              "      <td>0.242363</td>\n",
              "    </tr>\n",
              "  </tbody>\n",
              "</table>\n",
              "</div>"
            ],
            "text/plain": [
              "   Pclass  Survived\n",
              "0       1  0.629630\n",
              "1       2  0.472826\n",
              "2       3  0.242363"
            ]
          },
          "metadata": {
            "tags": []
          },
          "execution_count": 9
        }
      ]
    },
    {
      "cell_type": "code",
      "metadata": {
        "_cell_guid": "68908ba6-bfe9-5b31-cfde-6987fc0fbe9a",
        "_uuid": "00a2f2bca094c5984e6a232c730c8b232e7e20bb",
        "collapsed": true,
        "id": "7_S8P08c37No",
        "outputId": "8f64b240-028e-4e61-fe25-10a362b49cba"
      },
      "source": [
        "train_df[[\"Sex\", \"Survived\"]].groupby(['Sex'], as_index=False).mean().sort_values(by='Survived', ascending=False)"
      ],
      "execution_count": null,
      "outputs": [
        {
          "output_type": "execute_result",
          "data": {
            "text/html": [
              "<div>\n",
              "<style scoped>\n",
              "    .dataframe tbody tr th:only-of-type {\n",
              "        vertical-align: middle;\n",
              "    }\n",
              "\n",
              "    .dataframe tbody tr th {\n",
              "        vertical-align: top;\n",
              "    }\n",
              "\n",
              "    .dataframe thead th {\n",
              "        text-align: right;\n",
              "    }\n",
              "</style>\n",
              "<table border=\"1\" class=\"dataframe\">\n",
              "  <thead>\n",
              "    <tr style=\"text-align: right;\">\n",
              "      <th></th>\n",
              "      <th>Sex</th>\n",
              "      <th>Survived</th>\n",
              "    </tr>\n",
              "  </thead>\n",
              "  <tbody>\n",
              "    <tr>\n",
              "      <th>0</th>\n",
              "      <td>female</td>\n",
              "      <td>0.742038</td>\n",
              "    </tr>\n",
              "    <tr>\n",
              "      <th>1</th>\n",
              "      <td>male</td>\n",
              "      <td>0.188908</td>\n",
              "    </tr>\n",
              "  </tbody>\n",
              "</table>\n",
              "</div>"
            ],
            "text/plain": [
              "      Sex  Survived\n",
              "0  female  0.742038\n",
              "1    male  0.188908"
            ]
          },
          "metadata": {
            "tags": []
          },
          "execution_count": 10
        }
      ]
    },
    {
      "cell_type": "code",
      "metadata": {
        "_cell_guid": "01c06927-c5a6-342a-5aa8-2e486ec3fd7c",
        "_uuid": "a8f7a16c54417dcd86fc48aeef0c4b240d47d71b",
        "collapsed": true,
        "id": "e3RkgxWg37No",
        "outputId": "cc613f7a-a6fb-4e24-df06-89a2726bb4cd"
      },
      "source": [
        "train_df[[\"SibSp\", \"Survived\"]].groupby(['SibSp'], as_index=False).mean().sort_values(by='Survived', ascending=False)"
      ],
      "execution_count": null,
      "outputs": [
        {
          "output_type": "execute_result",
          "data": {
            "text/html": [
              "<div>\n",
              "<style scoped>\n",
              "    .dataframe tbody tr th:only-of-type {\n",
              "        vertical-align: middle;\n",
              "    }\n",
              "\n",
              "    .dataframe tbody tr th {\n",
              "        vertical-align: top;\n",
              "    }\n",
              "\n",
              "    .dataframe thead th {\n",
              "        text-align: right;\n",
              "    }\n",
              "</style>\n",
              "<table border=\"1\" class=\"dataframe\">\n",
              "  <thead>\n",
              "    <tr style=\"text-align: right;\">\n",
              "      <th></th>\n",
              "      <th>SibSp</th>\n",
              "      <th>Survived</th>\n",
              "    </tr>\n",
              "  </thead>\n",
              "  <tbody>\n",
              "    <tr>\n",
              "      <th>1</th>\n",
              "      <td>1</td>\n",
              "      <td>0.535885</td>\n",
              "    </tr>\n",
              "    <tr>\n",
              "      <th>2</th>\n",
              "      <td>2</td>\n",
              "      <td>0.464286</td>\n",
              "    </tr>\n",
              "    <tr>\n",
              "      <th>0</th>\n",
              "      <td>0</td>\n",
              "      <td>0.345395</td>\n",
              "    </tr>\n",
              "    <tr>\n",
              "      <th>3</th>\n",
              "      <td>3</td>\n",
              "      <td>0.250000</td>\n",
              "    </tr>\n",
              "    <tr>\n",
              "      <th>4</th>\n",
              "      <td>4</td>\n",
              "      <td>0.166667</td>\n",
              "    </tr>\n",
              "    <tr>\n",
              "      <th>5</th>\n",
              "      <td>5</td>\n",
              "      <td>0.000000</td>\n",
              "    </tr>\n",
              "    <tr>\n",
              "      <th>6</th>\n",
              "      <td>8</td>\n",
              "      <td>0.000000</td>\n",
              "    </tr>\n",
              "  </tbody>\n",
              "</table>\n",
              "</div>"
            ],
            "text/plain": [
              "   SibSp  Survived\n",
              "1      1  0.535885\n",
              "2      2  0.464286\n",
              "0      0  0.345395\n",
              "3      3  0.250000\n",
              "4      4  0.166667\n",
              "5      5  0.000000\n",
              "6      8  0.000000"
            ]
          },
          "metadata": {
            "tags": []
          },
          "execution_count": 11
        }
      ]
    },
    {
      "cell_type": "code",
      "metadata": {
        "_cell_guid": "e686f98b-a8c9-68f8-36a4-d4598638bbd5",
        "_uuid": "5d953a6779b00b7f3794757dec8744a03162c8fd",
        "collapsed": true,
        "id": "6bL8VFOz37Np",
        "outputId": "5aa81b96-6210-4f88-cf95-0876c60f6975"
      },
      "source": [
        "train_df[[\"Parch\", \"Survived\"]].groupby(['Parch'], as_index=False).mean().sort_values(by='Survived', ascending=False)"
      ],
      "execution_count": null,
      "outputs": [
        {
          "output_type": "execute_result",
          "data": {
            "text/html": [
              "<div>\n",
              "<style scoped>\n",
              "    .dataframe tbody tr th:only-of-type {\n",
              "        vertical-align: middle;\n",
              "    }\n",
              "\n",
              "    .dataframe tbody tr th {\n",
              "        vertical-align: top;\n",
              "    }\n",
              "\n",
              "    .dataframe thead th {\n",
              "        text-align: right;\n",
              "    }\n",
              "</style>\n",
              "<table border=\"1\" class=\"dataframe\">\n",
              "  <thead>\n",
              "    <tr style=\"text-align: right;\">\n",
              "      <th></th>\n",
              "      <th>Parch</th>\n",
              "      <th>Survived</th>\n",
              "    </tr>\n",
              "  </thead>\n",
              "  <tbody>\n",
              "    <tr>\n",
              "      <th>3</th>\n",
              "      <td>3</td>\n",
              "      <td>0.600000</td>\n",
              "    </tr>\n",
              "    <tr>\n",
              "      <th>1</th>\n",
              "      <td>1</td>\n",
              "      <td>0.550847</td>\n",
              "    </tr>\n",
              "    <tr>\n",
              "      <th>2</th>\n",
              "      <td>2</td>\n",
              "      <td>0.500000</td>\n",
              "    </tr>\n",
              "    <tr>\n",
              "      <th>0</th>\n",
              "      <td>0</td>\n",
              "      <td>0.343658</td>\n",
              "    </tr>\n",
              "    <tr>\n",
              "      <th>5</th>\n",
              "      <td>5</td>\n",
              "      <td>0.200000</td>\n",
              "    </tr>\n",
              "    <tr>\n",
              "      <th>4</th>\n",
              "      <td>4</td>\n",
              "      <td>0.000000</td>\n",
              "    </tr>\n",
              "    <tr>\n",
              "      <th>6</th>\n",
              "      <td>6</td>\n",
              "      <td>0.000000</td>\n",
              "    </tr>\n",
              "  </tbody>\n",
              "</table>\n",
              "</div>"
            ],
            "text/plain": [
              "   Parch  Survived\n",
              "3      3  0.600000\n",
              "1      1  0.550847\n",
              "2      2  0.500000\n",
              "0      0  0.343658\n",
              "5      5  0.200000\n",
              "4      4  0.000000\n",
              "6      6  0.000000"
            ]
          },
          "metadata": {
            "tags": []
          },
          "execution_count": 12
        }
      ]
    },
    {
      "cell_type": "markdown",
      "metadata": {
        "_cell_guid": "0d43550e-9eff-3859-3568-8856570eff76",
        "_uuid": "5c6204d01f5a9040cf0bb7c678686ae48daa201f",
        "id": "pYvETzFs37Np"
      },
      "source": [
        "## Analyze by visualizing data\n",
        "\n",
        "Now we can continue confirming some of our assumptions using visualizations for analyzing the data.\n",
        "\n",
        "### Correlating numerical features\n",
        "\n",
        "Let us start by understanding correlations between numerical features and our solution goal (Survived).\n",
        "\n",
        "A histogram chart is useful for analyzing continous numerical variables like Age where banding or ranges will help identify useful patterns. The histogram can indicate distribution of samples using automatically defined bins or equally ranged bands. This helps us answer questions relating to specific bands (Did infants have better survival rate?)\n",
        "\n",
        "Note that x-axis in historgram visualizations represents the count of samples or passengers.\n",
        "\n",
        "**Observations.**\n",
        "\n",
        "- Infants (Age <=4) had high survival rate.\n",
        "- Oldest passengers (Age = 80) survived.\n",
        "- Large number of 15-25 year olds did not survive.\n",
        "- Most passengers are in 15-35 age range.\n",
        "\n",
        "**Decisions.**\n",
        "\n",
        "This simple analysis confirms our assumptions as decisions for subsequent workflow stages.\n",
        "\n",
        "- We should consider Age (our assumption classifying #2) in our model training.\n",
        "- Complete the Age feature for null values (completing #1).\n",
        "- We should band age groups (creating #3)."
      ]
    },
    {
      "cell_type": "code",
      "metadata": {
        "_cell_guid": "50294eac-263a-af78-cb7e-3778eb9ad41f",
        "_uuid": "d3a1fa63e9dd4f8a810086530a6363c94b36d030",
        "collapsed": true,
        "id": "KIp2awID37Np",
        "outputId": "df81536f-7481-4059-a227-2300945a0bfb"
      },
      "source": [
        "g = sns.FacetGrid(train_df, col='Survived')\n",
        "g.map(plt.hist, 'Age', bins=20)"
      ],
      "execution_count": null,
      "outputs": [
        {
          "output_type": "execute_result",
          "data": {
            "text/plain": [
              "<seaborn.axisgrid.FacetGrid at 0x7fa19ed21390>"
            ]
          },
          "metadata": {
            "tags": []
          },
          "execution_count": 13
        },
        {
          "output_type": "display_data",
          "data": {
            "image/png": "[encoded data removed]",
            "text/plain": [
              "<Figure size 432x216 with 2 Axes>"
            ]
          },
          "metadata": {
            "tags": []
          }
        }
      ]
    },
    {
      "cell_type": "markdown",
      "metadata": {
        "_cell_guid": "87096158-4017-9213-7225-a19aea67a800",
        "_uuid": "892259f68c2ecf64fd258965cff1ecfe77dd73a9",
        "id": "G4QdFoWN37Nq"
      },
      "source": [
        "### Correlating numerical and ordinal features\n",
        "\n",
        "We can combine multiple features for identifying correlations using a single plot. This can be done with numerical and categorical features which have numeric values.\n",
        "\n",
        "**Observations.**\n",
        "\n",
        "- Pclass=3 had most passengers, however most did not survive. Confirms our classifying assumption #2.\n",
        "- Infant passengers in Pclass=2 and Pclass=3 mostly survived. Further qualifies our classifying assumption #2.\n",
        "- Most passengers in Pclass=1 survived. Confirms our classifying assumption #3.\n",
        "- Pclass varies in terms of Age distribution of passengers.\n",
        "\n",
        "**Decisions.**\n",
        "\n",
        "- Consider Pclass for model training."
      ]
    },
    {
      "cell_type": "code",
      "metadata": {
        "_cell_guid": "916fdc6b-0190-9267-1ea9-907a3d87330d",
        "_uuid": "4f5bcfa97c8a72f8b413c786954f3a68e135e05a",
        "collapsed": true,
        "id": "YjAQBJK137Nq",
        "outputId": "2ae297f8-bbd8-4f0a-d5aa-5660f8c07a9a"
      },
      "source": [
        "# grid = sns.FacetGrid(train_df, col='Pclass', hue='Survived')\n",
        "grid = sns.FacetGrid(train_df, col='Survived', row='Pclass', size=2.2, aspect=1.6)\n",
        "grid.map(plt.hist, 'Age', alpha=.5, bins=20)\n",
        "grid.add_legend();"
      ],
      "execution_count": null,
      "outputs": [
        {
          "output_type": "stream",
          "text": [
            "/opt/conda/lib/python3.6/site-packages/seaborn/axisgrid.py:230: UserWarning: The `size` paramter has been renamed to `height`; please update your code.\n",
            "  warnings.warn(msg, UserWarning)\n"
          ],
          "name": "stderr"
        },
        {
          "output_type": "display_data",
          "data": {
            "image/png": "[encoded data removed]",
            "text/plain": [
              "<Figure size 514.88x475.2 with 6 Axes>"
            ]
          },
          "metadata": {
            "tags": []
          }
        }
      ]
    },
    {
      "cell_type": "markdown",
      "metadata": {
        "_cell_guid": "36f5a7c0-c55c-f76f-fdf8-945a32a68cb0",
        "_uuid": "892ab7ee88b1b1c5f1ac987884fa31e111bb0507",
        "id": "gQ-76mkk37Nq"
      },
      "source": [
        "### Correlating categorical features\n",
        "\n",
        "Now we can correlate categorical features with our solution goal.\n",
        "\n",
        "**Observations.**\n",
        "\n",
        "- Female passengers had much better survival rate than males. Confirms classifying (#1).\n",
        "- Exception in Embarked=C where males had higher survival rate. This could be a correlation between Pclass and Embarked and in turn Pclass and Survived, not necessarily direct correlation between Embarked and Survived.\n",
        "- Males had better survival rate in Pclass=3 when compared with Pclass=2 for C and Q ports. Completing (#2).\n",
        "- Ports of embarkation have varying survival rates for Pclass=3 and among male passengers. Correlating (#1).\n",
        "\n",
        "**Decisions.**\n",
        "\n",
        "- Add Sex feature to model training.\n",
        "- Complete and add Embarked feature to model training."
      ]
    },
    {
      "cell_type": "code",
      "metadata": {
        "_cell_guid": "db57aabd-0e26-9ff9-9ebd-56d401cdf6e8",
        "_uuid": "c0e1f01b3f58e8f31b938b0e5eb1733132edc8ad",
        "collapsed": true,
        "id": "2FkHoy4Q37Nq",
        "outputId": "03aa1e2d-1a2e-488a-b8db-506536985f46"
      },
      "source": [
        "# grid = sns.FacetGrid(train_df, col='Embarked')\n",
        "grid = sns.FacetGrid(train_df, row='Embarked', size=2.2, aspect=1.6)\n",
        "grid.map(sns.pointplot, 'Pclass', 'Survived', 'Sex', palette='deep')\n",
        "grid.add_legend()"
      ],
      "execution_count": null,
      "outputs": [
        {
          "output_type": "stream",
          "text": [
            "/opt/conda/lib/python3.6/site-packages/seaborn/axisgrid.py:230: UserWarning: The `size` paramter has been renamed to `height`; please update your code.\n",
            "  warnings.warn(msg, UserWarning)\n",
            "/opt/conda/lib/python3.6/site-packages/seaborn/axisgrid.py:715: UserWarning: Using the pointplot function without specifying `order` is likely to produce an incorrect plot.\n",
            "  warnings.warn(warning)\n",
            "/opt/conda/lib/python3.6/site-packages/seaborn/axisgrid.py:720: UserWarning: Using the pointplot function without specifying `hue_order` is likely to produce an incorrect plot.\n",
            "  warnings.warn(warning)\n",
            "/opt/conda/lib/python3.6/site-packages/scipy/stats/stats.py:1713: FutureWarning: Using a non-tuple sequence for multidimensional indexing is deprecated; use `arr[tuple(seq)]` instead of `arr[seq]`. In the future this will be interpreted as an array index, `arr[np.array(seq)]`, which will result either in an error or a different result.\n",
            "  return np.add.reduce(sorted[indexer] * weights, axis=axis) / sumval\n"
          ],
          "name": "stderr"
        },
        {
          "output_type": "execute_result",
          "data": {
            "text/plain": [
              "<seaborn.axisgrid.FacetGrid at 0x7fa19b1b0668>"
            ]
          },
          "metadata": {
            "tags": []
          },
          "execution_count": 15
        },
        {
          "output_type": "display_data",
          "data": {
            "image/png": "[encoded data removed]",
            "text/plain": [
              "<Figure size 323.94x475.2 with 3 Axes>"
            ]
          },
          "metadata": {
            "tags": []
          }
        }
      ]
    },
    {
      "cell_type": "markdown",
      "metadata": {
        "_cell_guid": "6b3f73f4-4600-c1ce-34e0-bd7d9eeb074a",
        "_uuid": "fd824f937dcb80edd4117a2927cc0d7f99d934b8",
        "id": "cau4cqjn37Nr"
      },
      "source": [
        "### Correlating categorical and numerical features\n",
        "\n",
        "We may also want to correlate categorical features (with non-numeric values) and numeric features. We can consider correlating Embarked (Categorical non-numeric), Sex (Categorical non-numeric), Fare (Numeric continuous), with Survived (Categorical numeric).\n",
        "\n",
        "**Observations.**\n",
        "\n",
        "- Higher fare paying passengers had better survival. Confirms our assumption for creating (#4) fare ranges.\n",
        "- Port of embarkation correlates with survival rates. Confirms correlating (#1) and completing (#2).\n",
        "\n",
        "**Decisions.**\n",
        "\n",
        "- Consider banding Fare feature."
      ]
    },
    {
      "cell_type": "code",
      "metadata": {
        "_cell_guid": "a21f66ac-c30d-f429-cc64-1da5460d16a9",
        "_uuid": "c8fd535ac1bc90127369027c2101dbc939db118e",
        "collapsed": true,
        "id": "4IjvuZeO37Nr",
        "outputId": "50a3d795-4492-4ebe-9a3c-7eec1aea88fd"
      },
      "source": [
        "# grid = sns.FacetGrid(train_df, col='Embarked', hue='Survived', palette={0: 'k', 1: 'w'})\n",
        "grid = sns.FacetGrid(train_df, row='Embarked', col='Survived', size=2.2, aspect=1.6)\n",
        "grid.map(sns.barplot, 'Sex', 'Fare', alpha=.5, ci=None)\n",
        "grid.add_legend()"
      ],
      "execution_count": null,
      "outputs": [
        {
          "output_type": "stream",
          "text": [
            "/opt/conda/lib/python3.6/site-packages/seaborn/axisgrid.py:230: UserWarning: The `size` paramter has been renamed to `height`; please update your code.\n",
            "  warnings.warn(msg, UserWarning)\n",
            "/opt/conda/lib/python3.6/site-packages/seaborn/axisgrid.py:715: UserWarning: Using the barplot function without specifying `order` is likely to produce an incorrect plot.\n",
            "  warnings.warn(warning)\n"
          ],
          "name": "stderr"
        },
        {
          "output_type": "execute_result",
          "data": {
            "text/plain": [
              "<seaborn.axisgrid.FacetGrid at 0x7fa19aef39b0>"
            ]
          },
          "metadata": {
            "tags": []
          },
          "execution_count": 16
        },
        {
          "output_type": "display_data",
          "data": {
            "image/png": "[encoded data removed]",
            "text/plain": [
              "<Figure size 514.88x475.2 with 6 Axes>"
            ]
          },
          "metadata": {
            "tags": []
          }
        }
      ]
    },
    {
      "cell_type": "markdown",
      "metadata": {
        "_cell_guid": "cfac6291-33cc-506e-e548-6cad9408623d",
        "_uuid": "73a9111a8dc2a6b8b6c78ef628b6cae2a63fc33f",
        "id": "0lfx_Gzt37Nr"
      },
      "source": [
        "## Wrangle data\n",
        "\n",
        "We have collected several assumptions and decisions regarding our datasets and solution requirements. So far we did not have to change a single feature or value to arrive at these. Let us now execute our decisions and assumptions for correcting, creating, and completing goals.\n",
        "\n",
        "### Correcting by dropping features\n",
        "\n",
        "This is a good starting goal to execute. By dropping features we are dealing with fewer data points. Speeds up our notebook and eases the analysis.\n",
        "\n",
        "Based on our assumptions and decisions we want to drop the Cabin (correcting #2) and Ticket (correcting #1) features.\n",
        "\n",
        "Note that where applicable we perform operations on both training and testing datasets together to stay consistent."
      ]
    },
    {
      "cell_type": "code",
      "metadata": {
        "_cell_guid": "da057efe-88f0-bf49-917b-bb2fec418ed9",
        "_uuid": "e328d9882affedcfc4c167aa5bb1ac132547558c",
        "collapsed": true,
        "id": "uHiM5kwj37Nr",
        "outputId": "b32cc7ee-f206-4ec7-c9c0-f4706be76a94"
      },
      "source": [
        "print(\"Before\", train_df.shape, test_df.shape, combine[0].shape, combine[1].shape)\n",
        "\n",
        "train_df = train_df.drop(['Ticket', 'Cabin'], axis=1)\n",
        "test_df = test_df.drop(['Ticket', 'Cabin'], axis=1)\n",
        "combine = [train_df, test_df]\n",
        "\n",
        "\"After\", train_df.shape, test_df.shape, combine[0].shape, combine[1].shape"
      ],
      "execution_count": null,
      "outputs": [
        {
          "output_type": "stream",
          "text": [
            "Before (891, 12) (418, 11) (891, 12) (418, 11)\n"
          ],
          "name": "stdout"
        },
        {
          "output_type": "execute_result",
          "data": {
            "text/plain": [
              "('After', (891, 10), (418, 9), (891, 10), (418, 9))"
            ]
          },
          "metadata": {
            "tags": []
          },
          "execution_count": 17
        }
      ]
    },
    {
      "cell_type": "markdown",
      "metadata": {
        "_cell_guid": "6b3a1216-64b6-7fe2-50bc-e89cc964a41c",
        "_uuid": "21d5c47ee69f8fbef967f6f41d736b5d4eb6596f",
        "id": "u0tD9Ezj37Nr"
      },
      "source": [
        "### Creating new feature extracting from existing\n",
        "\n",
        "We want to analyze if Name feature can be engineered to extract titles and test correlation between titles and survival, before dropping Name and PassengerId features.\n",
        "\n",
        "In the following code we extract Title feature using regular expressions. The RegEx pattern `(\\w+\\.)` matches the first word which ends with a dot character within Name feature. The `expand=False` flag returns a DataFrame.\n",
        "\n",
        "**Observations.**\n",
        "\n",
        "When we plot Title, Age, and Survived, we note the following observations.\n",
        "\n",
        "- Most titles band Age groups accurately. For example: Master title has Age mean of 5 years.\n",
        "- Survival among Title Age bands varies slightly.\n",
        "- Certain titles mostly survived (Mme, Lady, Sir) or did not (Don, Rev, Jonkheer).\n",
        "\n",
        "**Decision.**\n",
        "\n",
        "- We decide to retain the new Title feature for model training."
      ]
    },
    {
      "cell_type": "code",
      "metadata": {
        "_cell_guid": "df7f0cd4-992c-4a79-fb19-bf6f0c024d4b",
        "_uuid": "c916644bd151f3dc8fca900f656d415b4c55e2bc",
        "collapsed": true,
        "id": "_zKqjrXY37Ns",
        "outputId": "33b5778f-7d2d-4f4f-f86c-3fe8af77c8db"
      },
      "source": [
        "for dataset in combine:\n",
        "    dataset['Title'] = dataset.Name.str.extract(' ([A-Za-z]+)\\.', expand=False)\n",
        "\n",
        "pd.crosstab(train_df['Title'], train_df['Sex'])"
      ],
      "execution_count": null,
      "outputs": [
        {
          "output_type": "execute_result",
          "data": {
            "text/html": [
              "<div>\n",
              "<style scoped>\n",
              "    .dataframe tbody tr th:only-of-type {\n",
              "        vertical-align: middle;\n",
              "    }\n",
              "\n",
              "    .dataframe tbody tr th {\n",
              "        vertical-align: top;\n",
              "    }\n",
              "\n",
              "    .dataframe thead th {\n",
              "        text-align: right;\n",
              "    }\n",
              "</style>\n",
              "<table border=\"1\" class=\"dataframe\">\n",
              "  <thead>\n",
              "    <tr style=\"text-align: right;\">\n",
              "      <th>Sex</th>\n",
              "      <th>female</th>\n",
              "      <th>male</th>\n",
              "    </tr>\n",
              "    <tr>\n",
              "      <th>Title</th>\n",
              "      <th></th>\n",
              "      <th></th>\n",
              "    </tr>\n",
              "  </thead>\n",
              "  <tbody>\n",
              "    <tr>\n",
              "      <th>Capt</th>\n",
              "      <td>0</td>\n",
              "      <td>1</td>\n",
              "    </tr>\n",
              "    <tr>\n",
              "      <th>Col</th>\n",
              "      <td>0</td>\n",
              "      <td>2</td>\n",
              "    </tr>\n",
              "    <tr>\n",
              "      <th>Countess</th>\n",
              "      <td>1</td>\n",
              "      <td>0</td>\n",
              "    </tr>\n",
              "    <tr>\n",
              "      <th>Don</th>\n",
              "      <td>0</td>\n",
              "      <td>1</td>\n",
              "    </tr>\n",
              "    <tr>\n",
              "      <th>Dr</th>\n",
              "      <td>1</td>\n",
              "      <td>6</td>\n",
              "    </tr>\n",
              "    <tr>\n",
              "      <th>Jonkheer</th>\n",
              "      <td>0</td>\n",
              "      <td>1</td>\n",
              "    </tr>\n",
              "    <tr>\n",
              "      <th>Lady</th>\n",
              "      <td>1</td>\n",
              "      <td>0</td>\n",
              "    </tr>\n",
              "    <tr>\n",
              "      <th>Major</th>\n",
              "      <td>0</td>\n",
              "      <td>2</td>\n",
              "    </tr>\n",
              "    <tr>\n",
              "      <th>Master</th>\n",
              "      <td>0</td>\n",
              "      <td>40</td>\n",
              "    </tr>\n",
              "    <tr>\n",
              "      <th>Miss</th>\n",
              "      <td>182</td>\n",
              "      <td>0</td>\n",
              "    </tr>\n",
              "    <tr>\n",
              "      <th>Mlle</th>\n",
              "      <td>2</td>\n",
              "      <td>0</td>\n",
              "    </tr>\n",
              "    <tr>\n",
              "      <th>Mme</th>\n",
              "      <td>1</td>\n",
              "      <td>0</td>\n",
              "    </tr>\n",
              "    <tr>\n",
              "      <th>Mr</th>\n",
              "      <td>0</td>\n",
              "      <td>517</td>\n",
              "    </tr>\n",
              "    <tr>\n",
              "      <th>Mrs</th>\n",
              "      <td>125</td>\n",
              "      <td>0</td>\n",
              "    </tr>\n",
              "    <tr>\n",
              "      <th>Ms</th>\n",
              "      <td>1</td>\n",
              "      <td>0</td>\n",
              "    </tr>\n",
              "    <tr>\n",
              "      <th>Rev</th>\n",
              "      <td>0</td>\n",
              "      <td>6</td>\n",
              "    </tr>\n",
              "    <tr>\n",
              "      <th>Sir</th>\n",
              "      <td>0</td>\n",
              "      <td>1</td>\n",
              "    </tr>\n",
              "  </tbody>\n",
              "</table>\n",
              "</div>"
            ],
            "text/plain": [
              "Sex       female  male\n",
              "Title                 \n",
              "Capt           0     1\n",
              "Col            0     2\n",
              "Countess       1     0\n",
              "Don            0     1\n",
              "Dr             1     6\n",
              "Jonkheer       0     1\n",
              "Lady           1     0\n",
              "Major          0     2\n",
              "Master         0    40\n",
              "Miss         182     0\n",
              "Mlle           2     0\n",
              "Mme            1     0\n",
              "Mr             0   517\n",
              "Mrs          125     0\n",
              "Ms             1     0\n",
              "Rev            0     6\n",
              "Sir            0     1"
            ]
          },
          "metadata": {
            "tags": []
          },
          "execution_count": 18
        }
      ]
    },
    {
      "cell_type": "markdown",
      "metadata": {
        "_cell_guid": "908c08a6-3395-19a5-0cd7-13341054012a",
        "_uuid": "f766d512ea5bfe60b5eb7a816f482f2ab688fd2f",
        "id": "9PbiFdr237Ns"
      },
      "source": [
        "We can replace many titles with a more common name or classify them as `Rare`."
      ]
    },
    {
      "cell_type": "code",
      "metadata": {
        "_cell_guid": "553f56d7-002a-ee63-21a4-c0efad10cfe9",
        "_uuid": "b8cd938fba61fb4e226c77521b012f4bb8aa01d0",
        "collapsed": true,
        "id": "wX98-0QX37Ns",
        "outputId": "cad97e19-4361-4f0b-ca5c-273f791411e6"
      },
      "source": [
        "for dataset in combine:\n",
        "    dataset['Title'] = dataset['Title'].replace(['Lady', 'Countess','Capt', 'Col',\\\n",
        " \t'Don', 'Dr', 'Major', 'Rev', 'Sir', 'Jonkheer', 'Dona'], 'Rare')\n",
        "\n",
        "    dataset['Title'] = dataset['Title'].replace('Mlle', 'Miss')\n",
        "    dataset['Title'] = dataset['Title'].replace('Ms', 'Miss')\n",
        "    dataset['Title'] = dataset['Title'].replace('Mme', 'Mrs')\n",
        "    \n",
        "train_df[['Title', 'Survived']].groupby(['Title'], as_index=False).mean()"
      ],
      "execution_count": null,
      "outputs": [
        {
          "output_type": "execute_result",
          "data": {
            "text/html": [
              "<div>\n",
              "<style scoped>\n",
              "    .dataframe tbody tr th:only-of-type {\n",
              "        vertical-align: middle;\n",
              "    }\n",
              "\n",
              "    .dataframe tbody tr th {\n",
              "        vertical-align: top;\n",
              "    }\n",
              "\n",
              "    .dataframe thead th {\n",
              "        text-align: right;\n",
              "    }\n",
              "</style>\n",
              "<table border=\"1\" class=\"dataframe\">\n",
              "  <thead>\n",
              "    <tr style=\"text-align: right;\">\n",
              "      <th></th>\n",
              "      <th>Title</th>\n",
              "      <th>Survived</th>\n",
              "    </tr>\n",
              "  </thead>\n",
              "  <tbody>\n",
              "    <tr>\n",
              "      <th>0</th>\n",
              "      <td>Master</td>\n",
              "      <td>0.575000</td>\n",
              "    </tr>\n",
              "    <tr>\n",
              "      <th>1</th>\n",
              "      <td>Miss</td>\n",
              "      <td>0.702703</td>\n",
              "    </tr>\n",
              "    <tr>\n",
              "      <th>2</th>\n",
              "      <td>Mr</td>\n",
              "      <td>0.156673</td>\n",
              "    </tr>\n",
              "    <tr>\n",
              "      <th>3</th>\n",
              "      <td>Mrs</td>\n",
              "      <td>0.793651</td>\n",
              "    </tr>\n",
              "    <tr>\n",
              "      <th>4</th>\n",
              "      <td>Rare</td>\n",
              "      <td>0.347826</td>\n",
              "    </tr>\n",
              "  </tbody>\n",
              "</table>\n",
              "</div>"
            ],
            "text/plain": [
              "    Title  Survived\n",
              "0  Master  0.575000\n",
              "1    Miss  0.702703\n",
              "2      Mr  0.156673\n",
              "3     Mrs  0.793651\n",
              "4    Rare  0.347826"
            ]
          },
          "metadata": {
            "tags": []
          },
          "execution_count": 19
        }
      ]
    },
    {
      "cell_type": "markdown",
      "metadata": {
        "_cell_guid": "6d46be9a-812a-f334-73b9-56ed912c9eca",
        "_uuid": "de245fe76474d46995a5acc31b905b8aaa5893f6",
        "id": "MPSYoL2Q37Ns"
      },
      "source": [
        "We can convert the categorical titles to ordinal."
      ]
    },
    {
      "cell_type": "code",
      "metadata": {
        "_cell_guid": "67444ebc-4d11-bac1-74a6-059133b6e2e8",
        "_uuid": "e805ad52f0514497b67c3726104ba46d361eb92c",
        "collapsed": true,
        "id": "_4nbH4K337Ns",
        "outputId": "6bbdda10-c580-41be-d3b1-67e0e9af52eb"
      },
      "source": [
        "title_mapping = {\"Mr\": 1, \"Miss\": 2, \"Mrs\": 3, \"Master\": 4, \"Rare\": 5}\n",
        "for dataset in combine:\n",
        "    dataset['Title'] = dataset['Title'].map(title_mapping)\n",
        "    dataset['Title'] = dataset['Title'].fillna(0)\n",
        "\n",
        "train_df.head()"
      ],
      "execution_count": null,
      "outputs": [
        {
          "output_type": "execute_result",
          "data": {
            "text/html": [
              "<div>\n",
              "<style scoped>\n",
              "    .dataframe tbody tr th:only-of-type {\n",
              "        vertical-align: middle;\n",
              "    }\n",
              "\n",
              "    .dataframe tbody tr th {\n",
              "        vertical-align: top;\n",
              "    }\n",
              "\n",
              "    .dataframe thead th {\n",
              "        text-align: right;\n",
              "    }\n",
              "</style>\n",
              "<table border=\"1\" class=\"dataframe\">\n",
              "  <thead>\n",
              "    <tr style=\"text-align: right;\">\n",
              "      <th></th>\n",
              "      <th>PassengerId</th>\n",
              "      <th>Survived</th>\n",
              "      <th>Pclass</th>\n",
              "      <th>Name</th>\n",
              "      <th>Sex</th>\n",
              "      <th>Age</th>\n",
              "      <th>SibSp</th>\n",
              "      <th>Parch</th>\n",
              "      <th>Fare</th>\n",
              "      <th>Embarked</th>\n",
              "      <th>Title</th>\n",
              "    </tr>\n",
              "  </thead>\n",
              "  <tbody>\n",
              "    <tr>\n",
              "      <th>0</th>\n",
              "      <td>1</td>\n",
              "      <td>0</td>\n",
              "      <td>3</td>\n",
              "      <td>Braund, Mr. Owen Harris</td>\n",
              "      <td>male</td>\n",
              "      <td>22.0</td>\n",
              "      <td>1</td>\n",
              "      <td>0</td>\n",
              "      <td>7.2500</td>\n",
              "      <td>S</td>\n",
              "      <td>1</td>\n",
              "    </tr>\n",
              "    <tr>\n",
              "      <th>1</th>\n",
              "      <td>2</td>\n",
              "      <td>1</td>\n",
              "      <td>1</td>\n",
              "      <td>Cumings, Mrs. John Bradley (Florence Briggs Th...</td>\n",
              "      <td>female</td>\n",
              "      <td>38.0</td>\n",
              "      <td>1</td>\n",
              "      <td>0</td>\n",
              "      <td>71.2833</td>\n",
              "      <td>C</td>\n",
              "      <td>3</td>\n",
              "    </tr>\n",
              "    <tr>\n",
              "      <th>2</th>\n",
              "      <td>3</td>\n",
              "      <td>1</td>\n",
              "      <td>3</td>\n",
              "      <td>Heikkinen, Miss. Laina</td>\n",
              "      <td>female</td>\n",
              "      <td>26.0</td>\n",
              "      <td>0</td>\n",
              "      <td>0</td>\n",
              "      <td>7.9250</td>\n",
              "      <td>S</td>\n",
              "      <td>2</td>\n",
              "    </tr>\n",
              "    <tr>\n",
              "      <th>3</th>\n",
              "      <td>4</td>\n",
              "      <td>1</td>\n",
              "      <td>1</td>\n",
              "      <td>Futrelle, Mrs. Jacques Heath (Lily May Peel)</td>\n",
              "      <td>female</td>\n",
              "      <td>35.0</td>\n",
              "      <td>1</td>\n",
              "      <td>0</td>\n",
              "      <td>53.1000</td>\n",
              "      <td>S</td>\n",
              "      <td>3</td>\n",
              "    </tr>\n",
              "    <tr>\n",
              "      <th>4</th>\n",
              "      <td>5</td>\n",
              "      <td>0</td>\n",
              "      <td>3</td>\n",
              "      <td>Allen, Mr. William Henry</td>\n",
              "      <td>male</td>\n",
              "      <td>35.0</td>\n",
              "      <td>0</td>\n",
              "      <td>0</td>\n",
              "      <td>8.0500</td>\n",
              "      <td>S</td>\n",
              "      <td>1</td>\n",
              "    </tr>\n",
              "  </tbody>\n",
              "</table>\n",
              "</div>"
            ],
            "text/plain": [
              "   PassengerId  Survived  Pclass  ...       Fare Embarked  Title\n",
              "0            1         0       3  ...     7.2500        S      1\n",
              "1            2         1       1  ...    71.2833        C      3\n",
              "2            3         1       3  ...     7.9250        S      2\n",
              "3            4         1       1  ...    53.1000        S      3\n",
              "4            5         0       3  ...     8.0500        S      1\n",
              "\n",
              "[5 rows x 11 columns]"
            ]
          },
          "metadata": {
            "tags": []
          },
          "execution_count": 20
        }
      ]
    },
    {
      "cell_type": "markdown",
      "metadata": {
        "_cell_guid": "f27bb974-a3d7-07a1-f7e4-876f6da87e62",
        "_uuid": "5fefaa1b37c537dda164c87a757fe705a99815d9",
        "id": "IzS_CMgL37Ns"
      },
      "source": [
        "Now we can safely drop the Name feature from training and testing datasets. We also do not need the PassengerId feature in the training dataset."
      ]
    },
    {
      "cell_type": "code",
      "metadata": {
        "_cell_guid": "9d61dded-5ff0-5018-7580-aecb4ea17506",
        "_uuid": "1da299cf2ffd399fd5b37d74fb40665d16ba5347",
        "collapsed": true,
        "id": "alaw_5SM37Nt",
        "outputId": "692e53df-cae1-45e6-8033-df32826a03d0"
      },
      "source": [
        "train_df = train_df.drop(['Name', 'PassengerId'], axis=1)\n",
        "test_df = test_df.drop(['Name'], axis=1)\n",
        "combine = [train_df, test_df]\n",
        "train_df.shape, test_df.shape"
      ],
      "execution_count": null,
      "outputs": [
        {
          "output_type": "execute_result",
          "data": {
            "text/plain": [
              "((891, 9), (418, 9))"
            ]
          },
          "metadata": {
            "tags": []
          },
          "execution_count": 21
        }
      ]
    },
    {
      "cell_type": "markdown",
      "metadata": {
        "_cell_guid": "2c8e84bb-196d-bd4a-4df9-f5213561b5d3",
        "_uuid": "a1ac66c79b279d94860e66996d3d8dba801a6d9a",
        "id": "LOybFUmr37Nt"
      },
      "source": [
        "### Converting a categorical feature\n",
        "\n",
        "Now we can convert features which contain strings to numerical values. This is required by most model algorithms. Doing so will also help us in achieving the feature completing goal.\n",
        "\n",
        "Let us start by converting Sex feature to a new feature called Gender where female=1 and male=0."
      ]
    },
    {
      "cell_type": "code",
      "metadata": {
        "_cell_guid": "c20c1df2-157c-e5a0-3e24-15a828095c96",
        "_uuid": "840498eaee7baaca228499b0a5652da9d4edaf37",
        "collapsed": true,
        "id": "yuC0g8Ov37Nt",
        "outputId": "73679b17-7fa9-4d2c-9d07-09d931f8e87b"
      },
      "source": [
        "for dataset in combine:\n",
        "    dataset['Sex'] = dataset['Sex'].map( {'female': 1, 'male': 0} ).astype(int)\n",
        "\n",
        "train_df.head()"
      ],
      "execution_count": null,
      "outputs": [
        {
          "output_type": "execute_result",
          "data": {
            "text/html": [
              "<div>\n",
              "<style scoped>\n",
              "    .dataframe tbody tr th:only-of-type {\n",
              "        vertical-align: middle;\n",
              "    }\n",
              "\n",
              "    .dataframe tbody tr th {\n",
              "        vertical-align: top;\n",
              "    }\n",
              "\n",
              "    .dataframe thead th {\n",
              "        text-align: right;\n",
              "    }\n",
              "</style>\n",
              "<table border=\"1\" class=\"dataframe\">\n",
              "  <thead>\n",
              "    <tr style=\"text-align: right;\">\n",
              "      <th></th>\n",
              "      <th>Survived</th>\n",
              "      <th>Pclass</th>\n",
              "      <th>Sex</th>\n",
              "      <th>Age</th>\n",
              "      <th>SibSp</th>\n",
              "      <th>Parch</th>\n",
              "      <th>Fare</th>\n",
              "      <th>Embarked</th>\n",
              "      <th>Title</th>\n",
              "    </tr>\n",
              "  </thead>\n",
              "  <tbody>\n",
              "    <tr>\n",
              "      <th>0</th>\n",
              "      <td>0</td>\n",
              "      <td>3</td>\n",
              "      <td>0</td>\n",
              "      <td>22.0</td>\n",
              "      <td>1</td>\n",
              "      <td>0</td>\n",
              "      <td>7.2500</td>\n",
              "      <td>S</td>\n",
              "      <td>1</td>\n",
              "    </tr>\n",
              "    <tr>\n",
              "      <th>1</th>\n",
              "      <td>1</td>\n",
              "      <td>1</td>\n",
              "      <td>1</td>\n",
              "      <td>38.0</td>\n",
              "      <td>1</td>\n",
              "      <td>0</td>\n",
              "      <td>71.2833</td>\n",
              "      <td>C</td>\n",
              "      <td>3</td>\n",
              "    </tr>\n",
              "    <tr>\n",
              "      <th>2</th>\n",
              "      <td>1</td>\n",
              "      <td>3</td>\n",
              "      <td>1</td>\n",
              "      <td>26.0</td>\n",
              "      <td>0</td>\n",
              "      <td>0</td>\n",
              "      <td>7.9250</td>\n",
              "      <td>S</td>\n",
              "      <td>2</td>\n",
              "    </tr>\n",
              "    <tr>\n",
              "      <th>3</th>\n",
              "      <td>1</td>\n",
              "      <td>1</td>\n",
              "      <td>1</td>\n",
              "      <td>35.0</td>\n",
              "      <td>1</td>\n",
              "      <td>0</td>\n",
              "      <td>53.1000</td>\n",
              "      <td>S</td>\n",
              "      <td>3</td>\n",
              "    </tr>\n",
              "    <tr>\n",
              "      <th>4</th>\n",
              "      <td>0</td>\n",
              "      <td>3</td>\n",
              "      <td>0</td>\n",
              "      <td>35.0</td>\n",
              "      <td>0</td>\n",
              "      <td>0</td>\n",
              "      <td>8.0500</td>\n",
              "      <td>S</td>\n",
              "      <td>1</td>\n",
              "    </tr>\n",
              "  </tbody>\n",
              "</table>\n",
              "</div>"
            ],
            "text/plain": [
              "   Survived  Pclass  Sex   Age  SibSp  Parch     Fare Embarked  Title\n",
              "0         0       3    0  22.0      1      0   7.2500        S      1\n",
              "1         1       1    1  38.0      1      0  71.2833        C      3\n",
              "2         1       3    1  26.0      0      0   7.9250        S      2\n",
              "3         1       1    1  35.0      1      0  53.1000        S      3\n",
              "4         0       3    0  35.0      0      0   8.0500        S      1"
            ]
          },
          "metadata": {
            "tags": []
          },
          "execution_count": 22
        }
      ]
    },
    {
      "cell_type": "markdown",
      "metadata": {
        "_cell_guid": "d72cb29e-5034-1597-b459-83a9640d3d3a",
        "_uuid": "6da8bfe6c832f4bd2aa1312bdd6b8b4af48a012e",
        "id": "Wb4qbD-a37Nt"
      },
      "source": [
        "### Completing a numerical continuous feature\n",
        "\n",
        "Now we should start estimating and completing features with missing or null values. We will first do this for the Age feature.\n",
        "\n",
        "We can consider three methods to complete a numerical continuous feature.\n",
        "\n",
        "1. A simple way is to generate random numbers between mean and [standard deviation](https://en.wikipedia.org/wiki/Standard_deviation).\n",
        "\n",
        "2. More accurate way of guessing missing values is to use other correlated features. In our case we note correlation among Age, Gender, and Pclass. Guess Age values using [median](https://en.wikipedia.org/wiki/Median) values for Age across sets of Pclass and Gender feature combinations. So, median Age for Pclass=1 and Gender=0, Pclass=1 and Gender=1, and so on...\n",
        "\n",
        "3. Combine methods 1 and 2. So instead of guessing age values based on median, use random numbers between mean and standard deviation, based on sets of Pclass and Gender combinations.\n",
        "\n",
        "Method 1 and 3 will introduce random noise into our models. The results from multiple executions might vary. We will prefer method 2."
      ]
    },
    {
      "cell_type": "code",
      "metadata": {
        "_cell_guid": "c311c43d-6554-3b52-8ef8-533ca08b2f68",
        "_uuid": "345038c8dd1bac9a9bc5e2cfee13fcc1f833eee0",
        "collapsed": true,
        "id": "ursp5Gc437Nt",
        "outputId": "5d3083d9-1763-40e7-8f64-8e3b70548bb2"
      },
      "source": [
        "# grid = sns.FacetGrid(train_df, col='Pclass', hue='Gender')\n",
        "grid = sns.FacetGrid(train_df, row='Pclass', col='Sex', size=2.2, aspect=1.6)\n",
        "grid.map(plt.hist, 'Age', alpha=.5, bins=20)\n",
        "grid.add_legend()"
      ],
      "execution_count": null,
      "outputs": [
        {
          "output_type": "stream",
          "text": [
            "/opt/conda/lib/python3.6/site-packages/seaborn/axisgrid.py:230: UserWarning: The `size` paramter has been renamed to `height`; please update your code.\n",
            "  warnings.warn(msg, UserWarning)\n"
          ],
          "name": "stderr"
        },
        {
          "output_type": "execute_result",
          "data": {
            "text/plain": [
              "<seaborn.axisgrid.FacetGrid at 0x7fa19b26a588>"
            ]
          },
          "metadata": {
            "tags": []
          },
          "execution_count": 23
        },
        {
          "output_type": "display_data",
          "data": {
            "image/png": "[encoded data removed]",
            "text/plain": [
              "<Figure size 514.88x475.2 with 6 Axes>"
            ]
          },
          "metadata": {
            "tags": []
          }
        }
      ]
    },
    {
      "cell_type": "markdown",
      "metadata": {
        "_cell_guid": "a4f166f9-f5f9-1819-66c3-d89dd5b0d8ff",
        "_uuid": "6b22ac53d95c7979d5f4580bd5fd29d27155c347",
        "id": "LDW6lxTT37Nt"
      },
      "source": [
        "Let us start by preparing an empty array to contain guessed Age values based on Pclass x Gender combinations."
      ]
    },
    {
      "cell_type": "code",
      "metadata": {
        "_cell_guid": "9299523c-dcf1-fb00-e52f-e2fb860a3920",
        "_uuid": "24a0971daa4cbc3aa700bae42e68c17ce9f3a6e2",
        "collapsed": true,
        "id": "7ZRW1VUQ37Nu",
        "outputId": "c1afe00b-cebf-4ef8-811f-d146ea04ab15"
      },
      "source": [
        "guess_ages = np.zeros((2,3))\n",
        "guess_ages"
      ],
      "execution_count": null,
      "outputs": [
        {
          "output_type": "execute_result",
          "data": {
            "text/plain": [
              "array([[0., 0., 0.],\n",
              "       [0., 0., 0.]])"
            ]
          },
          "metadata": {
            "tags": []
          },
          "execution_count": 24
        }
      ]
    },
    {
      "cell_type": "markdown",
      "metadata": {
        "_cell_guid": "ec9fed37-16b1-5518-4fa8-0a7f579dbc82",
        "_uuid": "8acd90569767b544f055d573bbbb8f6012853385",
        "id": "Whw4ftJB37Nu"
      },
      "source": [
        "Now we iterate over Sex (0 or 1) and Pclass (1, 2, 3) to calculate guessed values of Age for the six combinations."
      ]
    },
    {
      "cell_type": "code",
      "metadata": {
        "_cell_guid": "a4015dfa-a0ab-65bc-0cbe-efecf1eb2569",
        "_uuid": "31198f0ad0dbbb74290ebe135abffa994b8f58f3",
        "collapsed": true,
        "id": "IBzLbzAt37Nu",
        "outputId": "6f191b02-cd48-4806-dc83-9b0a33c92c9f"
      },
      "source": [
        "for dataset in combine:\n",
        "    for i in range(0, 2):\n",
        "        for j in range(0, 3):\n",
        "            guess_df = dataset[(dataset['Sex'] == i) & \\\n",
        "                                  (dataset['Pclass'] == j+1)]['Age'].dropna()\n",
        "\n",
        "            # age_mean = guess_df.mean()\n",
        "            # age_std = guess_df.std()\n",
        "            # age_guess = rnd.uniform(age_mean - age_std, age_mean + age_std)\n",
        "\n",
        "            age_guess = guess_df.median()\n",
        "\n",
        "            # Convert random age float to nearest .5 age\n",
        "            guess_ages[i,j] = int( age_guess/0.5 + 0.5 ) * 0.5\n",
        "            \n",
        "    for i in range(0, 2):\n",
        "        for j in range(0, 3):\n",
        "            dataset.loc[ (dataset.Age.isnull()) & (dataset.Sex == i) & (dataset.Pclass == j+1),\\\n",
        "                    'Age'] = guess_ages[i,j]\n",
        "\n",
        "    dataset['Age'] = dataset['Age'].astype(int)\n",
        "\n",
        "train_df.head()"
      ],
      "execution_count": null,
      "outputs": [
        {
          "output_type": "execute_result",
          "data": {
            "text/html": [
              "<div>\n",
              "<style scoped>\n",
              "    .dataframe tbody tr th:only-of-type {\n",
              "        vertical-align: middle;\n",
              "    }\n",
              "\n",
              "    .dataframe tbody tr th {\n",
              "        vertical-align: top;\n",
              "    }\n",
              "\n",
              "    .dataframe thead th {\n",
              "        text-align: right;\n",
              "    }\n",
              "</style>\n",
              "<table border=\"1\" class=\"dataframe\">\n",
              "  <thead>\n",
              "    <tr style=\"text-align: right;\">\n",
              "      <th></th>\n",
              "      <th>Survived</th>\n",
              "      <th>Pclass</th>\n",
              "      <th>Sex</th>\n",
              "      <th>Age</th>\n",
              "      <th>SibSp</th>\n",
              "      <th>Parch</th>\n",
              "      <th>Fare</th>\n",
              "      <th>Embarked</th>\n",
              "      <th>Title</th>\n",
              "    </tr>\n",
              "  </thead>\n",
              "  <tbody>\n",
              "    <tr>\n",
              "      <th>0</th>\n",
              "      <td>0</td>\n",
              "      <td>3</td>\n",
              "      <td>0</td>\n",
              "      <td>22</td>\n",
              "      <td>1</td>\n",
              "      <td>0</td>\n",
              "      <td>7.2500</td>\n",
              "      <td>S</td>\n",
              "      <td>1</td>\n",
              "    </tr>\n",
              "    <tr>\n",
              "      <th>1</th>\n",
              "      <td>1</td>\n",
              "      <td>1</td>\n",
              "      <td>1</td>\n",
              "      <td>38</td>\n",
              "      <td>1</td>\n",
              "      <td>0</td>\n",
              "      <td>71.2833</td>\n",
              "      <td>C</td>\n",
              "      <td>3</td>\n",
              "    </tr>\n",
              "    <tr>\n",
              "      <th>2</th>\n",
              "      <td>1</td>\n",
              "      <td>3</td>\n",
              "      <td>1</td>\n",
              "      <td>26</td>\n",
              "      <td>0</td>\n",
              "      <td>0</td>\n",
              "      <td>7.9250</td>\n",
              "      <td>S</td>\n",
              "      <td>2</td>\n",
              "    </tr>\n",
              "    <tr>\n",
              "      <th>3</th>\n",
              "      <td>1</td>\n",
              "      <td>1</td>\n",
              "      <td>1</td>\n",
              "      <td>35</td>\n",
              "      <td>1</td>\n",
              "      <td>0</td>\n",
              "      <td>53.1000</td>\n",
              "      <td>S</td>\n",
              "      <td>3</td>\n",
              "    </tr>\n",
              "    <tr>\n",
              "      <th>4</th>\n",
              "      <td>0</td>\n",
              "      <td>3</td>\n",
              "      <td>0</td>\n",
              "      <td>35</td>\n",
              "      <td>0</td>\n",
              "      <td>0</td>\n",
              "      <td>8.0500</td>\n",
              "      <td>S</td>\n",
              "      <td>1</td>\n",
              "    </tr>\n",
              "  </tbody>\n",
              "</table>\n",
              "</div>"
            ],
            "text/plain": [
              "   Survived  Pclass  Sex  Age  SibSp  Parch     Fare Embarked  Title\n",
              "0         0       3    0   22      1      0   7.2500        S      1\n",
              "1         1       1    1   38      1      0  71.2833        C      3\n",
              "2         1       3    1   26      0      0   7.9250        S      2\n",
              "3         1       1    1   35      1      0  53.1000        S      3\n",
              "4         0       3    0   35      0      0   8.0500        S      1"
            ]
          },
          "metadata": {
            "tags": []
          },
          "execution_count": 25
        }
      ]
    },
    {
      "cell_type": "markdown",
      "metadata": {
        "_cell_guid": "dbe0a8bf-40bc-c581-e10e-76f07b3b71d4",
        "_uuid": "e7c52b44b703f28e4b6f4ddba67ab65f40274550",
        "id": "lzNF4FL237Nu"
      },
      "source": [
        "Let us create Age bands and determine correlations with Survived."
      ]
    },
    {
      "cell_type": "code",
      "metadata": {
        "_cell_guid": "725d1c84-6323-9d70-5812-baf9994d3aa1",
        "_uuid": "5c8b4cbb302f439ef0d6278dcfbdafd952675353",
        "collapsed": true,
        "id": "45M9lAUg37Nu",
        "outputId": "24390caf-d3f0-4c4a-d2a4-ac30debb70e0"
      },
      "source": [
        "train_df['AgeBand'] = pd.cut(train_df['Age'], 5)\n",
        "train_df[['AgeBand', 'Survived']].groupby(['AgeBand'], as_index=False).mean().sort_values(by='AgeBand', ascending=True)"
      ],
      "execution_count": null,
      "outputs": [
        {
          "output_type": "execute_result",
          "data": {
            "text/html": [
              "<div>\n",
              "<style scoped>\n",
              "    .dataframe tbody tr th:only-of-type {\n",
              "        vertical-align: middle;\n",
              "    }\n",
              "\n",
              "    .dataframe tbody tr th {\n",
              "        vertical-align: top;\n",
              "    }\n",
              "\n",
              "    .dataframe thead th {\n",
              "        text-align: right;\n",
              "    }\n",
              "</style>\n",
              "<table border=\"1\" class=\"dataframe\">\n",
              "  <thead>\n",
              "    <tr style=\"text-align: right;\">\n",
              "      <th></th>\n",
              "      <th>AgeBand</th>\n",
              "      <th>Survived</th>\n",
              "    </tr>\n",
              "  </thead>\n",
              "  <tbody>\n",
              "    <tr>\n",
              "      <th>0</th>\n",
              "      <td>(-0.08, 16.0]</td>\n",
              "      <td>0.550000</td>\n",
              "    </tr>\n",
              "    <tr>\n",
              "      <th>1</th>\n",
              "      <td>(16.0, 32.0]</td>\n",
              "      <td>0.337374</td>\n",
              "    </tr>\n",
              "    <tr>\n",
              "      <th>2</th>\n",
              "      <td>(32.0, 48.0]</td>\n",
              "      <td>0.412037</td>\n",
              "    </tr>\n",
              "    <tr>\n",
              "      <th>3</th>\n",
              "      <td>(48.0, 64.0]</td>\n",
              "      <td>0.434783</td>\n",
              "    </tr>\n",
              "    <tr>\n",
              "      <th>4</th>\n",
              "      <td>(64.0, 80.0]</td>\n",
              "      <td>0.090909</td>\n",
              "    </tr>\n",
              "  </tbody>\n",
              "</table>\n",
              "</div>"
            ],
            "text/plain": [
              "         AgeBand  Survived\n",
              "0  (-0.08, 16.0]  0.550000\n",
              "1   (16.0, 32.0]  0.337374\n",
              "2   (32.0, 48.0]  0.412037\n",
              "3   (48.0, 64.0]  0.434783\n",
              "4   (64.0, 80.0]  0.090909"
            ]
          },
          "metadata": {
            "tags": []
          },
          "execution_count": 26
        }
      ]
    },
    {
      "cell_type": "markdown",
      "metadata": {
        "_cell_guid": "ba4be3a0-e524-9c57-fbec-c8ecc5cde5c6",
        "_uuid": "856392dd415ac14ab74a885a37d068fc7a58f3a5",
        "id": "TNp9bpxD37Nu"
      },
      "source": [
        "Let us replace Age with ordinals based on these bands."
      ]
    },
    {
      "cell_type": "code",
      "metadata": {
        "_cell_guid": "797b986d-2c45-a9ee-e5b5-088de817c8b2",
        "_uuid": "ee13831345f389db407c178f66c19cc8331445b0",
        "collapsed": true,
        "id": "F5JxJRov37Nu",
        "outputId": "af714c2e-6c03-486d-9527-0a6694ecc05e"
      },
      "source": [
        "for dataset in combine:    \n",
        "    dataset.loc[ dataset['Age'] <= 16, 'Age'] = 0\n",
        "    dataset.loc[(dataset['Age'] > 16) & (dataset['Age'] <= 32), 'Age'] = 1\n",
        "    dataset.loc[(dataset['Age'] > 32) & (dataset['Age'] <= 48), 'Age'] = 2\n",
        "    dataset.loc[(dataset['Age'] > 48) & (dataset['Age'] <= 64), 'Age'] = 3\n",
        "    dataset.loc[ dataset['Age'] > 64, 'Age']\n",
        "train_df.head()"
      ],
      "execution_count": null,
      "outputs": [
        {
          "output_type": "execute_result",
          "data": {
            "text/html": [
              "<div>\n",
              "<style scoped>\n",
              "    .dataframe tbody tr th:only-of-type {\n",
              "        vertical-align: middle;\n",
              "    }\n",
              "\n",
              "    .dataframe tbody tr th {\n",
              "        vertical-align: top;\n",
              "    }\n",
              "\n",
              "    .dataframe thead th {\n",
              "        text-align: right;\n",
              "    }\n",
              "</style>\n",
              "<table border=\"1\" class=\"dataframe\">\n",
              "  <thead>\n",
              "    <tr style=\"text-align: right;\">\n",
              "      <th></th>\n",
              "      <th>Survived</th>\n",
              "      <th>Pclass</th>\n",
              "      <th>Sex</th>\n",
              "      <th>Age</th>\n",
              "      <th>SibSp</th>\n",
              "      <th>Parch</th>\n",
              "      <th>Fare</th>\n",
              "      <th>Embarked</th>\n",
              "      <th>Title</th>\n",
              "      <th>AgeBand</th>\n",
              "    </tr>\n",
              "  </thead>\n",
              "  <tbody>\n",
              "    <tr>\n",
              "      <th>0</th>\n",
              "      <td>0</td>\n",
              "      <td>3</td>\n",
              "      <td>0</td>\n",
              "      <td>1</td>\n",
              "      <td>1</td>\n",
              "      <td>0</td>\n",
              "      <td>7.2500</td>\n",
              "      <td>S</td>\n",
              "      <td>1</td>\n",
              "      <td>(16.0, 32.0]</td>\n",
              "    </tr>\n",
              "    <tr>\n",
              "      <th>1</th>\n",
              "      <td>1</td>\n",
              "      <td>1</td>\n",
              "      <td>1</td>\n",
              "      <td>2</td>\n",
              "      <td>1</td>\n",
              "      <td>0</td>\n",
              "      <td>71.2833</td>\n",
              "      <td>C</td>\n",
              "      <td>3</td>\n",
              "      <td>(32.0, 48.0]</td>\n",
              "    </tr>\n",
              "    <tr>\n",
              "      <th>2</th>\n",
              "      <td>1</td>\n",
              "      <td>3</td>\n",
              "      <td>1</td>\n",
              "      <td>1</td>\n",
              "      <td>0</td>\n",
              "      <td>0</td>\n",
              "      <td>7.9250</td>\n",
              "      <td>S</td>\n",
              "      <td>2</td>\n",
              "      <td>(16.0, 32.0]</td>\n",
              "    </tr>\n",
              "    <tr>\n",
              "      <th>3</th>\n",
              "      <td>1</td>\n",
              "      <td>1</td>\n",
              "      <td>1</td>\n",
              "      <td>2</td>\n",
              "      <td>1</td>\n",
              "      <td>0</td>\n",
              "      <td>53.1000</td>\n",
              "      <td>S</td>\n",
              "      <td>3</td>\n",
              "      <td>(32.0, 48.0]</td>\n",
              "    </tr>\n",
              "    <tr>\n",
              "      <th>4</th>\n",
              "      <td>0</td>\n",
              "      <td>3</td>\n",
              "      <td>0</td>\n",
              "      <td>2</td>\n",
              "      <td>0</td>\n",
              "      <td>0</td>\n",
              "      <td>8.0500</td>\n",
              "      <td>S</td>\n",
              "      <td>1</td>\n",
              "      <td>(32.0, 48.0]</td>\n",
              "    </tr>\n",
              "  </tbody>\n",
              "</table>\n",
              "</div>"
            ],
            "text/plain": [
              "   Survived  Pclass  Sex      ...       Embarked  Title       AgeBand\n",
              "0         0       3    0      ...              S      1  (16.0, 32.0]\n",
              "1         1       1    1      ...              C      3  (32.0, 48.0]\n",
              "2         1       3    1      ...              S      2  (16.0, 32.0]\n",
              "3         1       1    1      ...              S      3  (32.0, 48.0]\n",
              "4         0       3    0      ...              S      1  (32.0, 48.0]\n",
              "\n",
              "[5 rows x 10 columns]"
            ]
          },
          "metadata": {
            "tags": []
          },
          "execution_count": 27
        }
      ]
    },
    {
      "cell_type": "markdown",
      "metadata": {
        "_cell_guid": "004568b6-dd9a-ff89-43d5-13d4e9370b1d",
        "_uuid": "8e3fbc95e0fd6600e28347567416d3f0d77a24cc",
        "id": "UyTnEjV837Nv"
      },
      "source": [
        "We can not remove the AgeBand feature."
      ]
    },
    {
      "cell_type": "code",
      "metadata": {
        "_cell_guid": "875e55d4-51b0-5061-b72c-8a23946133a3",
        "_uuid": "1ea01ccc4a24e8951556d97c990aa0136da19721",
        "collapsed": true,
        "id": "SlfbjQTj37Nv",
        "outputId": "cdebf82a-22ec-4a97-fa9a-4a2c22ab029a"
      },
      "source": [
        "train_df = train_df.drop(['AgeBand'], axis=1)\n",
        "combine = [train_df, test_df]\n",
        "train_df.head()"
      ],
      "execution_count": null,
      "outputs": [
        {
          "output_type": "execute_result",
          "data": {
            "text/html": [
              "<div>\n",
              "<style scoped>\n",
              "    .dataframe tbody tr th:only-of-type {\n",
              "        vertical-align: middle;\n",
              "    }\n",
              "\n",
              "    .dataframe tbody tr th {\n",
              "        vertical-align: top;\n",
              "    }\n",
              "\n",
              "    .dataframe thead th {\n",
              "        text-align: right;\n",
              "    }\n",
              "</style>\n",
              "<table border=\"1\" class=\"dataframe\">\n",
              "  <thead>\n",
              "    <tr style=\"text-align: right;\">\n",
              "      <th></th>\n",
              "      <th>Survived</th>\n",
              "      <th>Pclass</th>\n",
              "      <th>Sex</th>\n",
              "      <th>Age</th>\n",
              "      <th>SibSp</th>\n",
              "      <th>Parch</th>\n",
              "      <th>Fare</th>\n",
              "      <th>Embarked</th>\n",
              "      <th>Title</th>\n",
              "    </tr>\n",
              "  </thead>\n",
              "  <tbody>\n",
              "    <tr>\n",
              "      <th>0</th>\n",
              "      <td>0</td>\n",
              "      <td>3</td>\n",
              "      <td>0</td>\n",
              "      <td>1</td>\n",
              "      <td>1</td>\n",
              "      <td>0</td>\n",
              "      <td>7.2500</td>\n",
              "      <td>S</td>\n",
              "      <td>1</td>\n",
              "    </tr>\n",
              "    <tr>\n",
              "      <th>1</th>\n",
              "      <td>1</td>\n",
              "      <td>1</td>\n",
              "      <td>1</td>\n",
              "      <td>2</td>\n",
              "      <td>1</td>\n",
              "      <td>0</td>\n",
              "      <td>71.2833</td>\n",
              "      <td>C</td>\n",
              "      <td>3</td>\n",
              "    </tr>\n",
              "    <tr>\n",
              "      <th>2</th>\n",
              "      <td>1</td>\n",
              "      <td>3</td>\n",
              "      <td>1</td>\n",
              "      <td>1</td>\n",
              "      <td>0</td>\n",
              "      <td>0</td>\n",
              "      <td>7.9250</td>\n",
              "      <td>S</td>\n",
              "      <td>2</td>\n",
              "    </tr>\n",
              "    <tr>\n",
              "      <th>3</th>\n",
              "      <td>1</td>\n",
              "      <td>1</td>\n",
              "      <td>1</td>\n",
              "      <td>2</td>\n",
              "      <td>1</td>\n",
              "      <td>0</td>\n",
              "      <td>53.1000</td>\n",
              "      <td>S</td>\n",
              "      <td>3</td>\n",
              "    </tr>\n",
              "    <tr>\n",
              "      <th>4</th>\n",
              "      <td>0</td>\n",
              "      <td>3</td>\n",
              "      <td>0</td>\n",
              "      <td>2</td>\n",
              "      <td>0</td>\n",
              "      <td>0</td>\n",
              "      <td>8.0500</td>\n",
              "      <td>S</td>\n",
              "      <td>1</td>\n",
              "    </tr>\n",
              "  </tbody>\n",
              "</table>\n",
              "</div>"
            ],
            "text/plain": [
              "   Survived  Pclass  Sex  Age  SibSp  Parch     Fare Embarked  Title\n",
              "0         0       3    0    1      1      0   7.2500        S      1\n",
              "1         1       1    1    2      1      0  71.2833        C      3\n",
              "2         1       3    1    1      0      0   7.9250        S      2\n",
              "3         1       1    1    2      1      0  53.1000        S      3\n",
              "4         0       3    0    2      0      0   8.0500        S      1"
            ]
          },
          "metadata": {
            "tags": []
          },
          "execution_count": 28
        }
      ]
    },
    {
      "cell_type": "markdown",
      "metadata": {
        "_cell_guid": "1c237b76-d7ac-098f-0156-480a838a64a9",
        "_uuid": "e3d4a2040c053fbd0486c8cfc4fec3224bd3ebb3",
        "id": "oAyaJ98937Nv"
      },
      "source": [
        "### Create new feature combining existing features\n",
        "\n",
        "We can create a new feature for FamilySize which combines Parch and SibSp. This will enable us to drop Parch and SibSp from our datasets."
      ]
    },
    {
      "cell_type": "code",
      "metadata": {
        "_cell_guid": "7e6c04ed-cfaa-3139-4378-574fd095d6ba",
        "_uuid": "33d1236ce4a8ab888b9fac2d5af1c78d174b32c7",
        "collapsed": true,
        "id": "TcVx1smS37Nv",
        "outputId": "1f56332e-119c-4436-835a-928bbab0d353"
      },
      "source": [
        "for dataset in combine:\n",
        "    dataset['FamilySize'] = dataset['SibSp'] + dataset['Parch'] + 1\n",
        "\n",
        "train_df[['FamilySize', 'Survived']].groupby(['FamilySize'], as_index=False).mean().sort_values(by='Survived', ascending=False)"
      ],
      "execution_count": null,
      "outputs": [
        {
          "output_type": "execute_result",
          "data": {
            "text/html": [
              "<div>\n",
              "<style scoped>\n",
              "    .dataframe tbody tr th:only-of-type {\n",
              "        vertical-align: middle;\n",
              "    }\n",
              "\n",
              "    .dataframe tbody tr th {\n",
              "        vertical-align: top;\n",
              "    }\n",
              "\n",
              "    .dataframe thead th {\n",
              "        text-align: right;\n",
              "    }\n",
              "</style>\n",
              "<table border=\"1\" class=\"dataframe\">\n",
              "  <thead>\n",
              "    <tr style=\"text-align: right;\">\n",
              "      <th></th>\n",
              "      <th>FamilySize</th>\n",
              "      <th>Survived</th>\n",
              "    </tr>\n",
              "  </thead>\n",
              "  <tbody>\n",
              "    <tr>\n",
              "      <th>3</th>\n",
              "      <td>4</td>\n",
              "      <td>0.724138</td>\n",
              "    </tr>\n",
              "    <tr>\n",
              "      <th>2</th>\n",
              "      <td>3</td>\n",
              "      <td>0.578431</td>\n",
              "    </tr>\n",
              "    <tr>\n",
              "      <th>1</th>\n",
              "      <td>2</td>\n",
              "      <td>0.552795</td>\n",
              "    </tr>\n",
              "    <tr>\n",
              "      <th>6</th>\n",
              "      <td>7</td>\n",
              "      <td>0.333333</td>\n",
              "    </tr>\n",
              "    <tr>\n",
              "      <th>0</th>\n",
              "      <td>1</td>\n",
              "      <td>0.303538</td>\n",
              "    </tr>\n",
              "    <tr>\n",
              "      <th>4</th>\n",
              "      <td>5</td>\n",
              "      <td>0.200000</td>\n",
              "    </tr>\n",
              "    <tr>\n",
              "      <th>5</th>\n",
              "      <td>6</td>\n",
              "      <td>0.136364</td>\n",
              "    </tr>\n",
              "    <tr>\n",
              "      <th>7</th>\n",
              "      <td>8</td>\n",
              "      <td>0.000000</td>\n",
              "    </tr>\n",
              "    <tr>\n",
              "      <th>8</th>\n",
              "      <td>11</td>\n",
              "      <td>0.000000</td>\n",
              "    </tr>\n",
              "  </tbody>\n",
              "</table>\n",
              "</div>"
            ],
            "text/plain": [
              "   FamilySize  Survived\n",
              "3           4  0.724138\n",
              "2           3  0.578431\n",
              "1           2  0.552795\n",
              "6           7  0.333333\n",
              "0           1  0.303538\n",
              "4           5  0.200000\n",
              "5           6  0.136364\n",
              "7           8  0.000000\n",
              "8          11  0.000000"
            ]
          },
          "metadata": {
            "tags": []
          },
          "execution_count": 29
        }
      ]
    },
    {
      "cell_type": "markdown",
      "metadata": {
        "_cell_guid": "842188e6-acf8-2476-ccec-9e3451e4fa86",
        "_uuid": "67f8e4474cd1ecf4261c153ce8b40ea23cf659e4",
        "id": "A7v0XLpa37Nv"
      },
      "source": [
        "We can create another feature called IsAlone."
      ]
    },
    {
      "cell_type": "code",
      "metadata": {
        "_cell_guid": "5c778c69-a9ae-1b6b-44fe-a0898d07be7a",
        "_uuid": "3b8db81cc3513b088c6bcd9cd1938156fe77992f",
        "collapsed": true,
        "id": "gbAsitdU37Nv",
        "outputId": "656fc9b3-40cf-4677-e9b7-451a324fb543"
      },
      "source": [
        "for dataset in combine:\n",
        "    dataset['IsAlone'] = 0\n",
        "    dataset.loc[dataset['FamilySize'] == 1, 'IsAlone'] = 1\n",
        "\n",
        "train_df[['IsAlone', 'Survived']].groupby(['IsAlone'], as_index=False).mean()"
      ],
      "execution_count": null,
      "outputs": [
        {
          "output_type": "execute_result",
          "data": {
            "text/html": [
              "<div>\n",
              "<style scoped>\n",
              "    .dataframe tbody tr th:only-of-type {\n",
              "        vertical-align: middle;\n",
              "    }\n",
              "\n",
              "    .dataframe tbody tr th {\n",
              "        vertical-align: top;\n",
              "    }\n",
              "\n",
              "    .dataframe thead th {\n",
              "        text-align: right;\n",
              "    }\n",
              "</style>\n",
              "<table border=\"1\" class=\"dataframe\">\n",
              "  <thead>\n",
              "    <tr style=\"text-align: right;\">\n",
              "      <th></th>\n",
              "      <th>IsAlone</th>\n",
              "      <th>Survived</th>\n",
              "    </tr>\n",
              "  </thead>\n",
              "  <tbody>\n",
              "    <tr>\n",
              "      <th>0</th>\n",
              "      <td>0</td>\n",
              "      <td>0.505650</td>\n",
              "    </tr>\n",
              "    <tr>\n",
              "      <th>1</th>\n",
              "      <td>1</td>\n",
              "      <td>0.303538</td>\n",
              "    </tr>\n",
              "  </tbody>\n",
              "</table>\n",
              "</div>"
            ],
            "text/plain": [
              "   IsAlone  Survived\n",
              "0        0  0.505650\n",
              "1        1  0.303538"
            ]
          },
          "metadata": {
            "tags": []
          },
          "execution_count": 30
        }
      ]
    },
    {
      "cell_type": "markdown",
      "metadata": {
        "_cell_guid": "e6b87c09-e7b2-f098-5b04-4360080d26bc",
        "_uuid": "3da4204b2c78faa54a94bbad78a8aa85fbf90c87",
        "id": "qNZq7J-k37Nv"
      },
      "source": [
        "Let us drop Parch, SibSp, and FamilySize features in favor of IsAlone."
      ]
    },
    {
      "cell_type": "code",
      "metadata": {
        "_cell_guid": "74ee56a6-7357-f3bc-b605-6c41f8aa6566",
        "_uuid": "1e3479690ef7cd8ee10538d4f39d7117246887f0",
        "collapsed": true,
        "id": "wa4gbI_i37Nw",
        "outputId": "cbcf40ab-edea-475d-f9c2-7cab3a962021"
      },
      "source": [
        "train_df = train_df.drop(['Parch', 'SibSp', 'FamilySize'], axis=1)\n",
        "test_df = test_df.drop(['Parch', 'SibSp', 'FamilySize'], axis=1)\n",
        "combine = [train_df, test_df]\n",
        "\n",
        "train_df.head()"
      ],
      "execution_count": null,
      "outputs": [
        {
          "output_type": "execute_result",
          "data": {
            "text/html": [
              "<div>\n",
              "<style scoped>\n",
              "    .dataframe tbody tr th:only-of-type {\n",
              "        vertical-align: middle;\n",
              "    }\n",
              "\n",
              "    .dataframe tbody tr th {\n",
              "        vertical-align: top;\n",
              "    }\n",
              "\n",
              "    .dataframe thead th {\n",
              "        text-align: right;\n",
              "    }\n",
              "</style>\n",
              "<table border=\"1\" class=\"dataframe\">\n",
              "  <thead>\n",
              "    <tr style=\"text-align: right;\">\n",
              "      <th></th>\n",
              "      <th>Survived</th>\n",
              "      <th>Pclass</th>\n",
              "      <th>Sex</th>\n",
              "      <th>Age</th>\n",
              "      <th>Fare</th>\n",
              "      <th>Embarked</th>\n",
              "      <th>Title</th>\n",
              "      <th>IsAlone</th>\n",
              "    </tr>\n",
              "  </thead>\n",
              "  <tbody>\n",
              "    <tr>\n",
              "      <th>0</th>\n",
              "      <td>0</td>\n",
              "      <td>3</td>\n",
              "      <td>0</td>\n",
              "      <td>1</td>\n",
              "      <td>7.2500</td>\n",
              "      <td>S</td>\n",
              "      <td>1</td>\n",
              "      <td>0</td>\n",
              "    </tr>\n",
              "    <tr>\n",
              "      <th>1</th>\n",
              "      <td>1</td>\n",
              "      <td>1</td>\n",
              "      <td>1</td>\n",
              "      <td>2</td>\n",
              "      <td>71.2833</td>\n",
              "      <td>C</td>\n",
              "      <td>3</td>\n",
              "      <td>0</td>\n",
              "    </tr>\n",
              "    <tr>\n",
              "      <th>2</th>\n",
              "      <td>1</td>\n",
              "      <td>3</td>\n",
              "      <td>1</td>\n",
              "      <td>1</td>\n",
              "      <td>7.9250</td>\n",
              "      <td>S</td>\n",
              "      <td>2</td>\n",
              "      <td>1</td>\n",
              "    </tr>\n",
              "    <tr>\n",
              "      <th>3</th>\n",
              "      <td>1</td>\n",
              "      <td>1</td>\n",
              "      <td>1</td>\n",
              "      <td>2</td>\n",
              "      <td>53.1000</td>\n",
              "      <td>S</td>\n",
              "      <td>3</td>\n",
              "      <td>0</td>\n",
              "    </tr>\n",
              "    <tr>\n",
              "      <th>4</th>\n",
              "      <td>0</td>\n",
              "      <td>3</td>\n",
              "      <td>0</td>\n",
              "      <td>2</td>\n",
              "      <td>8.0500</td>\n",
              "      <td>S</td>\n",
              "      <td>1</td>\n",
              "      <td>1</td>\n",
              "    </tr>\n",
              "  </tbody>\n",
              "</table>\n",
              "</div>"
            ],
            "text/plain": [
              "   Survived  Pclass  Sex  Age     Fare Embarked  Title  IsAlone\n",
              "0         0       3    0    1   7.2500        S      1        0\n",
              "1         1       1    1    2  71.2833        C      3        0\n",
              "2         1       3    1    1   7.9250        S      2        1\n",
              "3         1       1    1    2  53.1000        S      3        0\n",
              "4         0       3    0    2   8.0500        S      1        1"
            ]
          },
          "metadata": {
            "tags": []
          },
          "execution_count": 31
        }
      ]
    },
    {
      "cell_type": "markdown",
      "metadata": {
        "_cell_guid": "f890b730-b1fe-919e-fb07-352fbd7edd44",
        "_uuid": "71b800ed96407eba05220f76a1288366a22ec887",
        "id": "SMRgtXTm37Nw"
      },
      "source": [
        "We can also create an artificial feature combining Pclass and Age."
      ]
    },
    {
      "cell_type": "code",
      "metadata": {
        "_cell_guid": "305402aa-1ea1-c245-c367-056eef8fe453",
        "_uuid": "aac2c5340c06210a8b0199e15461e9049fbf2cff",
        "collapsed": true,
        "id": "9ctPizv537Nw",
        "outputId": "9206f935-4f0b-4218-b3b8-916c02ed33cf"
      },
      "source": [
        "for dataset in combine:\n",
        "    dataset['Age*Class'] = dataset.Age * dataset.Pclass\n",
        "\n",
        "train_df.loc[:, ['Age*Class', 'Age', 'Pclass']].head(10)"
      ],
      "execution_count": null,
      "outputs": [
        {
          "output_type": "execute_result",
          "data": {
            "text/html": [
              "<div>\n",
              "<style scoped>\n",
              "    .dataframe tbody tr th:only-of-type {\n",
              "        vertical-align: middle;\n",
              "    }\n",
              "\n",
              "    .dataframe tbody tr th {\n",
              "        vertical-align: top;\n",
              "    }\n",
              "\n",
              "    .dataframe thead th {\n",
              "        text-align: right;\n",
              "    }\n",
              "</style>\n",
              "<table border=\"1\" class=\"dataframe\">\n",
              "  <thead>\n",
              "    <tr style=\"text-align: right;\">\n",
              "      <th></th>\n",
              "      <th>Age*Class</th>\n",
              "      <th>Age</th>\n",
              "      <th>Pclass</th>\n",
              "    </tr>\n",
              "  </thead>\n",
              "  <tbody>\n",
              "    <tr>\n",
              "      <th>0</th>\n",
              "      <td>3</td>\n",
              "      <td>1</td>\n",
              "      <td>3</td>\n",
              "    </tr>\n",
              "    <tr>\n",
              "      <th>1</th>\n",
              "      <td>2</td>\n",
              "      <td>2</td>\n",
              "      <td>1</td>\n",
              "    </tr>\n",
              "    <tr>\n",
              "      <th>2</th>\n",
              "      <td>3</td>\n",
              "      <td>1</td>\n",
              "      <td>3</td>\n",
              "    </tr>\n",
              "    <tr>\n",
              "      <th>3</th>\n",
              "      <td>2</td>\n",
              "      <td>2</td>\n",
              "      <td>1</td>\n",
              "    </tr>\n",
              "    <tr>\n",
              "      <th>4</th>\n",
              "      <td>6</td>\n",
              "      <td>2</td>\n",
              "      <td>3</td>\n",
              "    </tr>\n",
              "    <tr>\n",
              "      <th>5</th>\n",
              "      <td>3</td>\n",
              "      <td>1</td>\n",
              "      <td>3</td>\n",
              "    </tr>\n",
              "    <tr>\n",
              "      <th>6</th>\n",
              "      <td>3</td>\n",
              "      <td>3</td>\n",
              "      <td>1</td>\n",
              "    </tr>\n",
              "    <tr>\n",
              "      <th>7</th>\n",
              "      <td>0</td>\n",
              "      <td>0</td>\n",
              "      <td>3</td>\n",
              "    </tr>\n",
              "    <tr>\n",
              "      <th>8</th>\n",
              "      <td>3</td>\n",
              "      <td>1</td>\n",
              "      <td>3</td>\n",
              "    </tr>\n",
              "    <tr>\n",
              "      <th>9</th>\n",
              "      <td>0</td>\n",
              "      <td>0</td>\n",
              "      <td>2</td>\n",
              "    </tr>\n",
              "  </tbody>\n",
              "</table>\n",
              "</div>"
            ],
            "text/plain": [
              "   Age*Class  Age  Pclass\n",
              "0          3    1       3\n",
              "1          2    2       1\n",
              "2          3    1       3\n",
              "3          2    2       1\n",
              "4          6    2       3\n",
              "5          3    1       3\n",
              "6          3    3       1\n",
              "7          0    0       3\n",
              "8          3    1       3\n",
              "9          0    0       2"
            ]
          },
          "metadata": {
            "tags": []
          },
          "execution_count": 32
        }
      ]
    },
    {
      "cell_type": "markdown",
      "metadata": {
        "_cell_guid": "13292c1b-020d-d9aa-525c-941331bb996a",
        "_uuid": "8264cc5676db8cd3e0b3e3f078cbaa74fd585a3c",
        "id": "2J1OaUCv37Nw"
      },
      "source": [
        "### Completing a categorical feature\n",
        "\n",
        "Embarked feature takes S, Q, C values based on port of embarkation. Our training dataset has two missing values. We simply fill these with the most common occurance."
      ]
    },
    {
      "cell_type": "code",
      "metadata": {
        "_cell_guid": "bf351113-9b7f-ef56-7211-e8dd00665b18",
        "_uuid": "1e3f8af166f60a1b3125a6b046eff5fff02d63cf",
        "collapsed": true,
        "id": "pnp5hhPh37Nw",
        "outputId": "59e4a6cb-330b-4ce0-d6ee-d4a0b6689477"
      },
      "source": [
        "freq_port = train_df.Embarked.dropna().mode()[0]\n",
        "freq_port"
      ],
      "execution_count": null,
      "outputs": [
        {
          "output_type": "execute_result",
          "data": {
            "text/plain": [
              "'S'"
            ]
          },
          "metadata": {
            "tags": []
          },
          "execution_count": 33
        }
      ]
    },
    {
      "cell_type": "code",
      "metadata": {
        "_cell_guid": "51c21fcc-f066-cd80-18c8-3d140be6cbae",
        "_uuid": "d85b5575fb45f25749298641f6a0a38803e1ff22",
        "collapsed": true,
        "id": "CHMTFfoL37Nw",
        "outputId": "42ed6a16-de39-4f87-a8ff-3446e3254599"
      },
      "source": [
        "for dataset in combine:\n",
        "    dataset['Embarked'] = dataset['Embarked'].fillna(freq_port)\n",
        "    \n",
        "train_df[['Embarked', 'Survived']].groupby(['Embarked'], as_index=False).mean().sort_values(by='Survived', ascending=False)"
      ],
      "execution_count": null,
      "outputs": [
        {
          "output_type": "execute_result",
          "data": {
            "text/html": [
              "<div>\n",
              "<style scoped>\n",
              "    .dataframe tbody tr th:only-of-type {\n",
              "        vertical-align: middle;\n",
              "    }\n",
              "\n",
              "    .dataframe tbody tr th {\n",
              "        vertical-align: top;\n",
              "    }\n",
              "\n",
              "    .dataframe thead th {\n",
              "        text-align: right;\n",
              "    }\n",
              "</style>\n",
              "<table border=\"1\" class=\"dataframe\">\n",
              "  <thead>\n",
              "    <tr style=\"text-align: right;\">\n",
              "      <th></th>\n",
              "      <th>Embarked</th>\n",
              "      <th>Survived</th>\n",
              "    </tr>\n",
              "  </thead>\n",
              "  <tbody>\n",
              "    <tr>\n",
              "      <th>0</th>\n",
              "      <td>C</td>\n",
              "      <td>0.553571</td>\n",
              "    </tr>\n",
              "    <tr>\n",
              "      <th>1</th>\n",
              "      <td>Q</td>\n",
              "      <td>0.389610</td>\n",
              "    </tr>\n",
              "    <tr>\n",
              "      <th>2</th>\n",
              "      <td>S</td>\n",
              "      <td>0.339009</td>\n",
              "    </tr>\n",
              "  </tbody>\n",
              "</table>\n",
              "</div>"
            ],
            "text/plain": [
              "  Embarked  Survived\n",
              "0        C  0.553571\n",
              "1        Q  0.389610\n",
              "2        S  0.339009"
            ]
          },
          "metadata": {
            "tags": []
          },
          "execution_count": 34
        }
      ]
    },
    {
      "cell_type": "markdown",
      "metadata": {
        "_cell_guid": "f6acf7b2-0db3-e583-de50-7e14b495de34",
        "_uuid": "d8830e997995145314328b6218b5606df04499b0",
        "id": "Kw65sKJa37Nx"
      },
      "source": [
        "### Converting categorical feature to numeric\n",
        "\n",
        "We can now convert the EmbarkedFill feature by creating a new numeric Port feature."
      ]
    },
    {
      "cell_type": "code",
      "metadata": {
        "_cell_guid": "89a91d76-2cc0-9bbb-c5c5-3c9ecae33c66",
        "_uuid": "e480a1ef145de0b023821134896391d568a6f4f9",
        "collapsed": true,
        "id": "3QtZ_ejk37Nx",
        "outputId": "385db58b-0bd0-40ed-efd7-8519991fb689"
      },
      "source": [
        "for dataset in combine:\n",
        "    dataset['Embarked'] = dataset['Embarked'].map( {'S': 0, 'C': 1, 'Q': 2} ).astype(int)\n",
        "\n",
        "train_df.head()"
      ],
      "execution_count": null,
      "outputs": [
        {
          "output_type": "execute_result",
          "data": {
            "text/html": [
              "<div>\n",
              "<style scoped>\n",
              "    .dataframe tbody tr th:only-of-type {\n",
              "        vertical-align: middle;\n",
              "    }\n",
              "\n",
              "    .dataframe tbody tr th {\n",
              "        vertical-align: top;\n",
              "    }\n",
              "\n",
              "    .dataframe thead th {\n",
              "        text-align: right;\n",
              "    }\n",
              "</style>\n",
              "<table border=\"1\" class=\"dataframe\">\n",
              "  <thead>\n",
              "    <tr style=\"text-align: right;\">\n",
              "      <th></th>\n",
              "      <th>Survived</th>\n",
              "      <th>Pclass</th>\n",
              "      <th>Sex</th>\n",
              "      <th>Age</th>\n",
              "      <th>Fare</th>\n",
              "      <th>Embarked</th>\n",
              "      <th>Title</th>\n",
              "      <th>IsAlone</th>\n",
              "      <th>Age*Class</th>\n",
              "    </tr>\n",
              "  </thead>\n",
              "  <tbody>\n",
              "    <tr>\n",
              "      <th>0</th>\n",
              "      <td>0</td>\n",
              "      <td>3</td>\n",
              "      <td>0</td>\n",
              "      <td>1</td>\n",
              "      <td>7.2500</td>\n",
              "      <td>0</td>\n",
              "      <td>1</td>\n",
              "      <td>0</td>\n",
              "      <td>3</td>\n",
              "    </tr>\n",
              "    <tr>\n",
              "      <th>1</th>\n",
              "      <td>1</td>\n",
              "      <td>1</td>\n",
              "      <td>1</td>\n",
              "      <td>2</td>\n",
              "      <td>71.2833</td>\n",
              "      <td>1</td>\n",
              "      <td>3</td>\n",
              "      <td>0</td>\n",
              "      <td>2</td>\n",
              "    </tr>\n",
              "    <tr>\n",
              "      <th>2</th>\n",
              "      <td>1</td>\n",
              "      <td>3</td>\n",
              "      <td>1</td>\n",
              "      <td>1</td>\n",
              "      <td>7.9250</td>\n",
              "      <td>0</td>\n",
              "      <td>2</td>\n",
              "      <td>1</td>\n",
              "      <td>3</td>\n",
              "    </tr>\n",
              "    <tr>\n",
              "      <th>3</th>\n",
              "      <td>1</td>\n",
              "      <td>1</td>\n",
              "      <td>1</td>\n",
              "      <td>2</td>\n",
              "      <td>53.1000</td>\n",
              "      <td>0</td>\n",
              "      <td>3</td>\n",
              "      <td>0</td>\n",
              "      <td>2</td>\n",
              "    </tr>\n",
              "    <tr>\n",
              "      <th>4</th>\n",
              "      <td>0</td>\n",
              "      <td>3</td>\n",
              "      <td>0</td>\n",
              "      <td>2</td>\n",
              "      <td>8.0500</td>\n",
              "      <td>0</td>\n",
              "      <td>1</td>\n",
              "      <td>1</td>\n",
              "      <td>6</td>\n",
              "    </tr>\n",
              "  </tbody>\n",
              "</table>\n",
              "</div>"
            ],
            "text/plain": [
              "   Survived  Pclass  Sex  Age    ...      Embarked  Title  IsAlone  Age*Class\n",
              "0         0       3    0    1    ...             0      1        0          3\n",
              "1         1       1    1    2    ...             1      3        0          2\n",
              "2         1       3    1    1    ...             0      2        1          3\n",
              "3         1       1    1    2    ...             0      3        0          2\n",
              "4         0       3    0    2    ...             0      1        1          6\n",
              "\n",
              "[5 rows x 9 columns]"
            ]
          },
          "metadata": {
            "tags": []
          },
          "execution_count": 35
        }
      ]
    },
    {
      "cell_type": "markdown",
      "metadata": {
        "_cell_guid": "e3dfc817-e1c1-a274-a111-62c1c814cecf",
        "_uuid": "d79834ebc4ab9d48ed404584711475dbf8611b91",
        "id": "XtjJSoQj37Nx"
      },
      "source": [
        "### Quick completing and converting a numeric feature\n",
        "\n",
        "We can now complete the Fare feature for single missing value in test dataset using mode to get the value that occurs most frequently for this feature. We do this in a single line of code.\n",
        "\n",
        "Note that we are not creating an intermediate new feature or doing any further analysis for correlation to guess missing feature as we are replacing only a single value. The completion goal achieves desired requirement for model algorithm to operate on non-null values.\n",
        "\n",
        "We may also want round off the fare to two decimals as it represents currency."
      ]
    },
    {
      "cell_type": "code",
      "metadata": {
        "_cell_guid": "3600cb86-cf5f-d87b-1b33-638dc8db1564",
        "_uuid": "aacb62f3526072a84795a178bd59222378bab180",
        "collapsed": true,
        "id": "k8Fy1JXU37Nx",
        "outputId": "aac47cdc-9810-4ef9-8bb3-3ad4e81e519f"
      },
      "source": [
        "test_df['Fare'].fillna(test_df['Fare'].dropna().median(), inplace=True)\n",
        "test_df.head()"
      ],
      "execution_count": null,
      "outputs": [
        {
          "output_type": "execute_result",
          "data": {
            "text/html": [
              "<div>\n",
              "<style scoped>\n",
              "    .dataframe tbody tr th:only-of-type {\n",
              "        vertical-align: middle;\n",
              "    }\n",
              "\n",
              "    .dataframe tbody tr th {\n",
              "        vertical-align: top;\n",
              "    }\n",
              "\n",
              "    .dataframe thead th {\n",
              "        text-align: right;\n",
              "    }\n",
              "</style>\n",
              "<table border=\"1\" class=\"dataframe\">\n",
              "  <thead>\n",
              "    <tr style=\"text-align: right;\">\n",
              "      <th></th>\n",
              "      <th>PassengerId</th>\n",
              "      <th>Pclass</th>\n",
              "      <th>Sex</th>\n",
              "      <th>Age</th>\n",
              "      <th>Fare</th>\n",
              "      <th>Embarked</th>\n",
              "      <th>Title</th>\n",
              "      <th>IsAlone</th>\n",
              "      <th>Age*Class</th>\n",
              "    </tr>\n",
              "  </thead>\n",
              "  <tbody>\n",
              "    <tr>\n",
              "      <th>0</th>\n",
              "      <td>892</td>\n",
              "      <td>3</td>\n",
              "      <td>0</td>\n",
              "      <td>2</td>\n",
              "      <td>7.8292</td>\n",
              "      <td>2</td>\n",
              "      <td>1</td>\n",
              "      <td>1</td>\n",
              "      <td>6</td>\n",
              "    </tr>\n",
              "    <tr>\n",
              "      <th>1</th>\n",
              "      <td>893</td>\n",
              "      <td>3</td>\n",
              "      <td>1</td>\n",
              "      <td>2</td>\n",
              "      <td>7.0000</td>\n",
              "      <td>0</td>\n",
              "      <td>3</td>\n",
              "      <td>0</td>\n",
              "      <td>6</td>\n",
              "    </tr>\n",
              "    <tr>\n",
              "      <th>2</th>\n",
              "      <td>894</td>\n",
              "      <td>2</td>\n",
              "      <td>0</td>\n",
              "      <td>3</td>\n",
              "      <td>9.6875</td>\n",
              "      <td>2</td>\n",
              "      <td>1</td>\n",
              "      <td>1</td>\n",
              "      <td>6</td>\n",
              "    </tr>\n",
              "    <tr>\n",
              "      <th>3</th>\n",
              "      <td>895</td>\n",
              "      <td>3</td>\n",
              "      <td>0</td>\n",
              "      <td>1</td>\n",
              "      <td>8.6625</td>\n",
              "      <td>0</td>\n",
              "      <td>1</td>\n",
              "      <td>1</td>\n",
              "      <td>3</td>\n",
              "    </tr>\n",
              "    <tr>\n",
              "      <th>4</th>\n",
              "      <td>896</td>\n",
              "      <td>3</td>\n",
              "      <td>1</td>\n",
              "      <td>1</td>\n",
              "      <td>12.2875</td>\n",
              "      <td>0</td>\n",
              "      <td>3</td>\n",
              "      <td>0</td>\n",
              "      <td>3</td>\n",
              "    </tr>\n",
              "  </tbody>\n",
              "</table>\n",
              "</div>"
            ],
            "text/plain": [
              "   PassengerId  Pclass  Sex  Age    ...      Embarked  Title  IsAlone  Age*Class\n",
              "0          892       3    0    2    ...             2      1        1          6\n",
              "1          893       3    1    2    ...             0      3        0          6\n",
              "2          894       2    0    3    ...             2      1        1          6\n",
              "3          895       3    0    1    ...             0      1        1          3\n",
              "4          896       3    1    1    ...             0      3        0          3\n",
              "\n",
              "[5 rows x 9 columns]"
            ]
          },
          "metadata": {
            "tags": []
          },
          "execution_count": 36
        }
      ]
    },
    {
      "cell_type": "markdown",
      "metadata": {
        "_cell_guid": "4b816bc7-d1fb-c02b-ed1d-ee34b819497d",
        "_uuid": "3466d98e83899d8b38a36ede794c68c5656f48e6",
        "id": "jidMhcb737Nx"
      },
      "source": [
        "We can not create FareBand."
      ]
    },
    {
      "cell_type": "code",
      "metadata": {
        "_cell_guid": "0e9018b1-ced5-9999-8ce1-258a0952cbf2",
        "_uuid": "b9a78f6b4c72520d4ad99d2c89c84c591216098d",
        "collapsed": true,
        "id": "Qv0XEt9W37Nx",
        "outputId": "0a94831e-5980-4ff8-ba71-5e8308546129"
      },
      "source": [
        "train_df['FareBand'] = pd.qcut(train_df['Fare'], 4)\n",
        "train_df[['FareBand', 'Survived']].groupby(['FareBand'], as_index=False).mean().sort_values(by='FareBand', ascending=True)"
      ],
      "execution_count": null,
      "outputs": [
        {
          "output_type": "execute_result",
          "data": {
            "text/html": [
              "<div>\n",
              "<style scoped>\n",
              "    .dataframe tbody tr th:only-of-type {\n",
              "        vertical-align: middle;\n",
              "    }\n",
              "\n",
              "    .dataframe tbody tr th {\n",
              "        vertical-align: top;\n",
              "    }\n",
              "\n",
              "    .dataframe thead th {\n",
              "        text-align: right;\n",
              "    }\n",
              "</style>\n",
              "<table border=\"1\" class=\"dataframe\">\n",
              "  <thead>\n",
              "    <tr style=\"text-align: right;\">\n",
              "      <th></th>\n",
              "      <th>FareBand</th>\n",
              "      <th>Survived</th>\n",
              "    </tr>\n",
              "  </thead>\n",
              "  <tbody>\n",
              "    <tr>\n",
              "      <th>0</th>\n",
              "      <td>(-0.001, 7.91]</td>\n",
              "      <td>0.197309</td>\n",
              "    </tr>\n",
              "    <tr>\n",
              "      <th>1</th>\n",
              "      <td>(7.91, 14.454]</td>\n",
              "      <td>0.303571</td>\n",
              "    </tr>\n",
              "    <tr>\n",
              "      <th>2</th>\n",
              "      <td>(14.454, 31.0]</td>\n",
              "      <td>0.454955</td>\n",
              "    </tr>\n",
              "    <tr>\n",
              "      <th>3</th>\n",
              "      <td>(31.0, 512.329]</td>\n",
              "      <td>0.581081</td>\n",
              "    </tr>\n",
              "  </tbody>\n",
              "</table>\n",
              "</div>"
            ],
            "text/plain": [
              "          FareBand  Survived\n",
              "0   (-0.001, 7.91]  0.197309\n",
              "1   (7.91, 14.454]  0.303571\n",
              "2   (14.454, 31.0]  0.454955\n",
              "3  (31.0, 512.329]  0.581081"
            ]
          },
          "metadata": {
            "tags": []
          },
          "execution_count": 37
        }
      ]
    },
    {
      "cell_type": "markdown",
      "metadata": {
        "_cell_guid": "d65901a5-3684-6869-e904-5f1a7cce8a6d",
        "_uuid": "89400fba71af02d09ff07adf399fb36ac4913db6",
        "id": "7DtrarcE37Nx"
      },
      "source": [
        "Convert the Fare feature to ordinal values based on the FareBand."
      ]
    },
    {
      "cell_type": "code",
      "metadata": {
        "_cell_guid": "385f217a-4e00-76dc-1570-1de4eec0c29c",
        "_uuid": "640f305061ec4221a45ba250f8d54bb391035a57",
        "collapsed": true,
        "id": "elwurVVK37Ny",
        "outputId": "92299c0f-7672-4265-8f74-799cafb0e717"
      },
      "source": [
        "for dataset in combine:\n",
        "    dataset.loc[ dataset['Fare'] <= 7.91, 'Fare'] = 0\n",
        "    dataset.loc[(dataset['Fare'] > 7.91) & (dataset['Fare'] <= 14.454), 'Fare'] = 1\n",
        "    dataset.loc[(dataset['Fare'] > 14.454) & (dataset['Fare'] <= 31), 'Fare']   = 2\n",
        "    dataset.loc[ dataset['Fare'] > 31, 'Fare'] = 3\n",
        "    dataset['Fare'] = dataset['Fare'].astype(int)\n",
        "\n",
        "train_df = train_df.drop(['FareBand'], axis=1)\n",
        "combine = [train_df, test_df]\n",
        "    \n",
        "train_df.head(10)"
      ],
      "execution_count": null,
      "outputs": [
        {
          "output_type": "execute_result",
          "data": {
            "text/html": [
              "<div>\n",
              "<style scoped>\n",
              "    .dataframe tbody tr th:only-of-type {\n",
              "        vertical-align: middle;\n",
              "    }\n",
              "\n",
              "    .dataframe tbody tr th {\n",
              "        vertical-align: top;\n",
              "    }\n",
              "\n",
              "    .dataframe thead th {\n",
              "        text-align: right;\n",
              "    }\n",
              "</style>\n",
              "<table border=\"1\" class=\"dataframe\">\n",
              "  <thead>\n",
              "    <tr style=\"text-align: right;\">\n",
              "      <th></th>\n",
              "      <th>Survived</th>\n",
              "      <th>Pclass</th>\n",
              "      <th>Sex</th>\n",
              "      <th>Age</th>\n",
              "      <th>Fare</th>\n",
              "      <th>Embarked</th>\n",
              "      <th>Title</th>\n",
              "      <th>IsAlone</th>\n",
              "      <th>Age*Class</th>\n",
              "    </tr>\n",
              "  </thead>\n",
              "  <tbody>\n",
              "    <tr>\n",
              "      <th>0</th>\n",
              "      <td>0</td>\n",
              "      <td>3</td>\n",
              "      <td>0</td>\n",
              "      <td>1</td>\n",
              "      <td>0</td>\n",
              "      <td>0</td>\n",
              "      <td>1</td>\n",
              "      <td>0</td>\n",
              "      <td>3</td>\n",
              "    </tr>\n",
              "    <tr>\n",
              "      <th>1</th>\n",
              "      <td>1</td>\n",
              "      <td>1</td>\n",
              "      <td>1</td>\n",
              "      <td>2</td>\n",
              "      <td>3</td>\n",
              "      <td>1</td>\n",
              "      <td>3</td>\n",
              "      <td>0</td>\n",
              "      <td>2</td>\n",
              "    </tr>\n",
              "    <tr>\n",
              "      <th>2</th>\n",
              "      <td>1</td>\n",
              "      <td>3</td>\n",
              "      <td>1</td>\n",
              "      <td>1</td>\n",
              "      <td>1</td>\n",
              "      <td>0</td>\n",
              "      <td>2</td>\n",
              "      <td>1</td>\n",
              "      <td>3</td>\n",
              "    </tr>\n",
              "    <tr>\n",
              "      <th>3</th>\n",
              "      <td>1</td>\n",
              "      <td>1</td>\n",
              "      <td>1</td>\n",
              "      <td>2</td>\n",
              "      <td>3</td>\n",
              "      <td>0</td>\n",
              "      <td>3</td>\n",
              "      <td>0</td>\n",
              "      <td>2</td>\n",
              "    </tr>\n",
              "    <tr>\n",
              "      <th>4</th>\n",
              "      <td>0</td>\n",
              "      <td>3</td>\n",
              "      <td>0</td>\n",
              "      <td>2</td>\n",
              "      <td>1</td>\n",
              "      <td>0</td>\n",
              "      <td>1</td>\n",
              "      <td>1</td>\n",
              "      <td>6</td>\n",
              "    </tr>\n",
              "    <tr>\n",
              "      <th>5</th>\n",
              "      <td>0</td>\n",
              "      <td>3</td>\n",
              "      <td>0</td>\n",
              "      <td>1</td>\n",
              "      <td>1</td>\n",
              "      <td>2</td>\n",
              "      <td>1</td>\n",
              "      <td>1</td>\n",
              "      <td>3</td>\n",
              "    </tr>\n",
              "    <tr>\n",
              "      <th>6</th>\n",
              "      <td>0</td>\n",
              "      <td>1</td>\n",
              "      <td>0</td>\n",
              "      <td>3</td>\n",
              "      <td>3</td>\n",
              "      <td>0</td>\n",
              "      <td>1</td>\n",
              "      <td>1</td>\n",
              "      <td>3</td>\n",
              "    </tr>\n",
              "    <tr>\n",
              "      <th>7</th>\n",
              "      <td>0</td>\n",
              "      <td>3</td>\n",
              "      <td>0</td>\n",
              "      <td>0</td>\n",
              "      <td>2</td>\n",
              "      <td>0</td>\n",
              "      <td>4</td>\n",
              "      <td>0</td>\n",
              "      <td>0</td>\n",
              "    </tr>\n",
              "    <tr>\n",
              "      <th>8</th>\n",
              "      <td>1</td>\n",
              "      <td>3</td>\n",
              "      <td>1</td>\n",
              "      <td>1</td>\n",
              "      <td>1</td>\n",
              "      <td>0</td>\n",
              "      <td>3</td>\n",
              "      <td>0</td>\n",
              "      <td>3</td>\n",
              "    </tr>\n",
              "    <tr>\n",
              "      <th>9</th>\n",
              "      <td>1</td>\n",
              "      <td>2</td>\n",
              "      <td>1</td>\n",
              "      <td>0</td>\n",
              "      <td>2</td>\n",
              "      <td>1</td>\n",
              "      <td>3</td>\n",
              "      <td>0</td>\n",
              "      <td>0</td>\n",
              "    </tr>\n",
              "  </tbody>\n",
              "</table>\n",
              "</div>"
            ],
            "text/plain": [
              "   Survived  Pclass  Sex  Age    ...      Embarked  Title  IsAlone  Age*Class\n",
              "0         0       3    0    1    ...             0      1        0          3\n",
              "1         1       1    1    2    ...             1      3        0          2\n",
              "2         1       3    1    1    ...             0      2        1          3\n",
              "3         1       1    1    2    ...             0      3        0          2\n",
              "4         0       3    0    2    ...             0      1        1          6\n",
              "5         0       3    0    1    ...             2      1        1          3\n",
              "6         0       1    0    3    ...             0      1        1          3\n",
              "7         0       3    0    0    ...             0      4        0          0\n",
              "8         1       3    1    1    ...             0      3        0          3\n",
              "9         1       2    1    0    ...             1      3        0          0\n",
              "\n",
              "[10 rows x 9 columns]"
            ]
          },
          "metadata": {
            "tags": []
          },
          "execution_count": 38
        }
      ]
    },
    {
      "cell_type": "markdown",
      "metadata": {
        "_cell_guid": "27272bb9-3c64-4f9a-4a3b-54f02e1c8289",
        "_uuid": "531994ed95a3002d1759ceb74d9396db706a41e2",
        "id": "5F6xX2Ev37Ny"
      },
      "source": [
        "And the test dataset."
      ]
    },
    {
      "cell_type": "code",
      "metadata": {
        "_cell_guid": "d2334d33-4fe5-964d-beac-6aa620066e15",
        "_uuid": "8453cecad81fcc44de3f4e4e4c3ce6afa977740d",
        "collapsed": true,
        "id": "TRdEbDlR37Ny",
        "outputId": "389e1b09-94cc-4754-b7f5-fe6556596a94"
      },
      "source": [
        "test_df.head(10)"
      ],
      "execution_count": null,
      "outputs": [
        {
          "output_type": "execute_result",
          "data": {
            "text/html": [
              "<div>\n",
              "<style scoped>\n",
              "    .dataframe tbody tr th:only-of-type {\n",
              "        vertical-align: middle;\n",
              "    }\n",
              "\n",
              "    .dataframe tbody tr th {\n",
              "        vertical-align: top;\n",
              "    }\n",
              "\n",
              "    .dataframe thead th {\n",
              "        text-align: right;\n",
              "    }\n",
              "</style>\n",
              "<table border=\"1\" class=\"dataframe\">\n",
              "  <thead>\n",
              "    <tr style=\"text-align: right;\">\n",
              "      <th></th>\n",
              "      <th>PassengerId</th>\n",
              "      <th>Pclass</th>\n",
              "      <th>Sex</th>\n",
              "      <th>Age</th>\n",
              "      <th>Fare</th>\n",
              "      <th>Embarked</th>\n",
              "      <th>Title</th>\n",
              "      <th>IsAlone</th>\n",
              "      <th>Age*Class</th>\n",
              "    </tr>\n",
              "  </thead>\n",
              "  <tbody>\n",
              "    <tr>\n",
              "      <th>0</th>\n",
              "      <td>892</td>\n",
              "      <td>3</td>\n",
              "      <td>0</td>\n",
              "      <td>2</td>\n",
              "      <td>0</td>\n",
              "      <td>2</td>\n",
              "      <td>1</td>\n",
              "      <td>1</td>\n",
              "      <td>6</td>\n",
              "    </tr>\n",
              "    <tr>\n",
              "      <th>1</th>\n",
              "      <td>893</td>\n",
              "      <td>3</td>\n",
              "      <td>1</td>\n",
              "      <td>2</td>\n",
              "      <td>0</td>\n",
              "      <td>0</td>\n",
              "      <td>3</td>\n",
              "      <td>0</td>\n",
              "      <td>6</td>\n",
              "    </tr>\n",
              "    <tr>\n",
              "      <th>2</th>\n",
              "      <td>894</td>\n",
              "      <td>2</td>\n",
              "      <td>0</td>\n",
              "      <td>3</td>\n",
              "      <td>1</td>\n",
              "      <td>2</td>\n",
              "      <td>1</td>\n",
              "      <td>1</td>\n",
              "      <td>6</td>\n",
              "    </tr>\n",
              "    <tr>\n",
              "      <th>3</th>\n",
              "      <td>895</td>\n",
              "      <td>3</td>\n",
              "      <td>0</td>\n",
              "      <td>1</td>\n",
              "      <td>1</td>\n",
              "      <td>0</td>\n",
              "      <td>1</td>\n",
              "      <td>1</td>\n",
              "      <td>3</td>\n",
              "    </tr>\n",
              "    <tr>\n",
              "      <th>4</th>\n",
              "      <td>896</td>\n",
              "      <td>3</td>\n",
              "      <td>1</td>\n",
              "      <td>1</td>\n",
              "      <td>1</td>\n",
              "      <td>0</td>\n",
              "      <td>3</td>\n",
              "      <td>0</td>\n",
              "      <td>3</td>\n",
              "    </tr>\n",
              "    <tr>\n",
              "      <th>5</th>\n",
              "      <td>897</td>\n",
              "      <td>3</td>\n",
              "      <td>0</td>\n",
              "      <td>0</td>\n",
              "      <td>1</td>\n",
              "      <td>0</td>\n",
              "      <td>1</td>\n",
              "      <td>1</td>\n",
              "      <td>0</td>\n",
              "    </tr>\n",
              "    <tr>\n",
              "      <th>6</th>\n",
              "      <td>898</td>\n",
              "      <td>3</td>\n",
              "      <td>1</td>\n",
              "      <td>1</td>\n",
              "      <td>0</td>\n",
              "      <td>2</td>\n",
              "      <td>2</td>\n",
              "      <td>1</td>\n",
              "      <td>3</td>\n",
              "    </tr>\n",
              "    <tr>\n",
              "      <th>7</th>\n",
              "      <td>899</td>\n",
              "      <td>2</td>\n",
              "      <td>0</td>\n",
              "      <td>1</td>\n",
              "      <td>2</td>\n",
              "      <td>0</td>\n",
              "      <td>1</td>\n",
              "      <td>0</td>\n",
              "      <td>2</td>\n",
              "    </tr>\n",
              "    <tr>\n",
              "      <th>8</th>\n",
              "      <td>900</td>\n",
              "      <td>3</td>\n",
              "      <td>1</td>\n",
              "      <td>1</td>\n",
              "      <td>0</td>\n",
              "      <td>1</td>\n",
              "      <td>3</td>\n",
              "      <td>1</td>\n",
              "      <td>3</td>\n",
              "    </tr>\n",
              "    <tr>\n",
              "      <th>9</th>\n",
              "      <td>901</td>\n",
              "      <td>3</td>\n",
              "      <td>0</td>\n",
              "      <td>1</td>\n",
              "      <td>2</td>\n",
              "      <td>0</td>\n",
              "      <td>1</td>\n",
              "      <td>0</td>\n",
              "      <td>3</td>\n",
              "    </tr>\n",
              "  </tbody>\n",
              "</table>\n",
              "</div>"
            ],
            "text/plain": [
              "   PassengerId  Pclass  Sex  Age    ...      Embarked  Title  IsAlone  Age*Class\n",
              "0          892       3    0    2    ...             2      1        1          6\n",
              "1          893       3    1    2    ...             0      3        0          6\n",
              "2          894       2    0    3    ...             2      1        1          6\n",
              "3          895       3    0    1    ...             0      1        1          3\n",
              "4          896       3    1    1    ...             0      3        0          3\n",
              "5          897       3    0    0    ...             0      1        1          0\n",
              "6          898       3    1    1    ...             2      2        1          3\n",
              "7          899       2    0    1    ...             0      1        0          2\n",
              "8          900       3    1    1    ...             1      3        1          3\n",
              "9          901       3    0    1    ...             0      1        0          3\n",
              "\n",
              "[10 rows x 9 columns]"
            ]
          },
          "metadata": {
            "tags": []
          },
          "execution_count": 39
        }
      ]
    },
    {
      "cell_type": "markdown",
      "metadata": {
        "_cell_guid": "69783c08-c8cc-a6ca-2a9a-5e75581c6d31",
        "_uuid": "a55f20dd6654610ff2d66c1bf3e4c6c73dcef9e5",
        "id": "1k1jf4ey37Ny"
      },
      "source": [
        "## Model, predict and solve\n",
        "\n",
        "Now we are ready to train a model and predict the required solution. There are 60+ predictive modelling algorithms to choose from. We must understand the type of problem and solution requirement to narrow down to a select few models which we can evaluate. Our problem is a classification and regression problem. We want to identify relationship between output (Survived or not) with other variables or features (Gender, Age, Port...). We are also perfoming a category of machine learning which is called supervised learning as we are training our model with a given dataset. With these two criteria - Supervised Learning plus Classification and Regression, we can narrow down our choice of models to a few. These include:\n",
        "\n",
        "- Logistic Regression\n",
        "- KNN or k-Nearest Neighbors\n",
        "- Support Vector Machines\n",
        "- Naive Bayes classifier\n",
        "- Decision Tree\n",
        "- Random Forrest\n",
        "- Perceptron\n",
        "- Artificial neural network\n",
        "- RVM or Relevance Vector Machine"
      ]
    },
    {
      "cell_type": "code",
      "metadata": {
        "_cell_guid": "0acf54f9-6cf5-24b5-72d9-29b30052823a",
        "_uuid": "04d2235855f40cffd81f76b977a500fceaae87ad",
        "collapsed": true,
        "id": "9ffKS1Bl37Ny",
        "outputId": "af575ebc-1456-46ed-b02e-51694b78a58e"
      },
      "source": [
        "X_train = train_df.drop(\"Survived\", axis=1)\n",
        "Y_train = train_df[\"Survived\"]\n",
        "X_test  = test_df.drop(\"PassengerId\", axis=1).copy()\n",
        "X_train.shape, Y_train.shape, X_test.shape"
      ],
      "execution_count": null,
      "outputs": [
        {
          "output_type": "execute_result",
          "data": {
            "text/plain": [
              "((891, 8), (891,), (418, 8))"
            ]
          },
          "metadata": {
            "tags": []
          },
          "execution_count": 40
        }
      ]
    },
    {
      "cell_type": "markdown",
      "metadata": {
        "_cell_guid": "579bc004-926a-bcfe-e9bb-c8df83356876",
        "_uuid": "782903c09ec9ee4b6f3e03f7c8b5a62c00461deb",
        "id": "uOE13e8637Ny"
      },
      "source": [
        "Logistic Regression is a useful model to run early in the workflow. Logistic regression measures the relationship between the categorical dependent variable (feature) and one or more independent variables (features) by estimating probabilities using a logistic function, which is the cumulative logistic distribution. Reference [Wikipedia](https://en.wikipedia.org/wiki/Logistic_regression).\n",
        "\n",
        "Note the confidence score generated by the model based on our training dataset."
      ]
    },
    {
      "cell_type": "code",
      "metadata": {
        "_cell_guid": "0edd9322-db0b-9c37-172d-a3a4f8dec229",
        "_uuid": "a649b9c53f4c7b40694f60f5c8dc14ec5ef519ec",
        "collapsed": true,
        "id": "0v2SmxAX37Ny",
        "outputId": "acf9daf7-8ef2-4d0c-e6d9-098681ba1030"
      },
      "source": [
        "# Logistic Regression\n",
        "\n",
        "logreg = LogisticRegression()\n",
        "logreg.fit(X_train, Y_train)\n",
        "Y_pred = logreg.predict(X_test)\n",
        "acc_log = round(logreg.score(X_train, Y_train) * 100, 2)\n",
        "acc_log"
      ],
      "execution_count": null,
      "outputs": [
        {
          "output_type": "stream",
          "text": [
            "/opt/conda/lib/python3.6/site-packages/sklearn/linear_model/logistic.py:433: FutureWarning: Default solver will be changed to 'lbfgs' in 0.22. Specify a solver to silence this warning.\n",
            "  FutureWarning)\n"
          ],
          "name": "stderr"
        },
        {
          "output_type": "execute_result",
          "data": {
            "text/plain": [
              "80.36"
            ]
          },
          "metadata": {
            "tags": []
          },
          "execution_count": 41
        }
      ]
    },
    {
      "cell_type": "markdown",
      "metadata": {
        "_cell_guid": "3af439ae-1f04-9236-cdc2-ec8170a0d4ee",
        "_uuid": "180e27c96c821656a84889f73986c6ddfff51ed3",
        "id": "xqEyde2A37Nz"
      },
      "source": [
        "We can use Logistic Regression to validate our assumptions and decisions for feature creating and completing goals. This can be done by calculating the coefficient of the features in the decision function.\n",
        "\n",
        "Positive coefficients increase the log-odds of the response (and thus increase the probability), and negative coefficients decrease the log-odds of the response (and thus decrease the probability).\n",
        "\n",
        "- Sex is highest positivie coefficient, implying as the Sex value increases (male: 0 to female: 1), the probability of Survived=1 increases the most.\n",
        "- Inversely as Pclass increases, probability of Survived=1 decreases the most.\n",
        "- This way Age*Class is a good artificial feature to model as it has second highest negative correlation with Survived.\n",
        "- So is Title as second highest positive correlation."
      ]
    },
    {
      "cell_type": "code",
      "metadata": {
        "_cell_guid": "e545d5aa-4767-7a41-5799-a4c5e529ce72",
        "_uuid": "6e6f58053fae405fc93d312fc999f3904e708dbe",
        "collapsed": true,
        "id": "eNQ6fsgX37Nz",
        "outputId": "22f41b87-c346-4dfa-cf7e-ff58fd2c554a"
      },
      "source": [
        "coeff_df = pd.DataFrame(train_df.columns.delete(0))\n",
        "coeff_df.columns = ['Feature']\n",
        "coeff_df[\"Correlation\"] = pd.Series(logreg.coef_[0])\n",
        "\n",
        "coeff_df.sort_values(by='Correlation', ascending=False)"
      ],
      "execution_count": null,
      "outputs": [
        {
          "output_type": "execute_result",
          "data": {
            "text/html": [
              "<div>\n",
              "<style scoped>\n",
              "    .dataframe tbody tr th:only-of-type {\n",
              "        vertical-align: middle;\n",
              "    }\n",
              "\n",
              "    .dataframe tbody tr th {\n",
              "        vertical-align: top;\n",
              "    }\n",
              "\n",
              "    .dataframe thead th {\n",
              "        text-align: right;\n",
              "    }\n",
              "</style>\n",
              "<table border=\"1\" class=\"dataframe\">\n",
              "  <thead>\n",
              "    <tr style=\"text-align: right;\">\n",
              "      <th></th>\n",
              "      <th>Feature</th>\n",
              "      <th>Correlation</th>\n",
              "    </tr>\n",
              "  </thead>\n",
              "  <tbody>\n",
              "    <tr>\n",
              "      <th>1</th>\n",
              "      <td>Sex</td>\n",
              "      <td>2.201527</td>\n",
              "    </tr>\n",
              "    <tr>\n",
              "      <th>5</th>\n",
              "      <td>Title</td>\n",
              "      <td>0.398234</td>\n",
              "    </tr>\n",
              "    <tr>\n",
              "      <th>2</th>\n",
              "      <td>Age</td>\n",
              "      <td>0.287163</td>\n",
              "    </tr>\n",
              "    <tr>\n",
              "      <th>4</th>\n",
              "      <td>Embarked</td>\n",
              "      <td>0.261762</td>\n",
              "    </tr>\n",
              "    <tr>\n",
              "      <th>6</th>\n",
              "      <td>IsAlone</td>\n",
              "      <td>0.129140</td>\n",
              "    </tr>\n",
              "    <tr>\n",
              "      <th>3</th>\n",
              "      <td>Fare</td>\n",
              "      <td>-0.085150</td>\n",
              "    </tr>\n",
              "    <tr>\n",
              "      <th>7</th>\n",
              "      <td>Age*Class</td>\n",
              "      <td>-0.311200</td>\n",
              "    </tr>\n",
              "    <tr>\n",
              "      <th>0</th>\n",
              "      <td>Pclass</td>\n",
              "      <td>-0.749007</td>\n",
              "    </tr>\n",
              "  </tbody>\n",
              "</table>\n",
              "</div>"
            ],
            "text/plain": [
              "     Feature  Correlation\n",
              "1        Sex     2.201527\n",
              "5      Title     0.398234\n",
              "2        Age     0.287163\n",
              "4   Embarked     0.261762\n",
              "6    IsAlone     0.129140\n",
              "3       Fare    -0.085150\n",
              "7  Age*Class    -0.311200\n",
              "0     Pclass    -0.749007"
            ]
          },
          "metadata": {
            "tags": []
          },
          "execution_count": 42
        }
      ]
    },
    {
      "cell_type": "markdown",
      "metadata": {
        "_cell_guid": "ac041064-1693-8584-156b-66674117e4d0",
        "_uuid": "ccba9ac0a9c3c648ef9bc778977ab99066ab3945",
        "id": "uwI6wyBJ37N1"
      },
      "source": [
        "Next we model using Support Vector Machines which are supervised learning models with associated learning algorithms that analyze data used for classification and regression analysis. Given a set of training samples, each marked as belonging to one or the other of **two categories**, an SVM training algorithm builds a model that assigns new test samples to one category or the other, making it a non-probabilistic binary linear classifier. Reference [Wikipedia](https://en.wikipedia.org/wiki/Support_vector_machine).\n",
        "\n",
        "Note that the model generates a confidence score which is higher than Logistics Regression model."
      ]
    },
    {
      "cell_type": "code",
      "metadata": {
        "_cell_guid": "7a63bf04-a410-9c81-5310-bdef7963298f",
        "_uuid": "60039d5377da49f1aa9ac4a924331328bd69add1",
        "collapsed": true,
        "id": "CTZzJ9rb37N2",
        "outputId": "4a28a38c-112f-47cd-9036-121c1c13e031"
      },
      "source": [
        "# Support Vector Machines\n",
        "\n",
        "svc = SVC()\n",
        "svc.fit(X_train, Y_train)\n",
        "Y_pred = svc.predict(X_test)\n",
        "acc_svc = round(svc.score(X_train, Y_train) * 100, 2)\n",
        "acc_svc"
      ],
      "execution_count": null,
      "outputs": [
        {
          "output_type": "stream",
          "text": [
            "/opt/conda/lib/python3.6/site-packages/sklearn/svm/base.py:196: FutureWarning: The default value of gamma will change from 'auto' to 'scale' in version 0.22 to account better for unscaled features. Set gamma explicitly to 'auto' or 'scale' to avoid this warning.\n",
            "  \"avoid this warning.\", FutureWarning)\n"
          ],
          "name": "stderr"
        },
        {
          "output_type": "execute_result",
          "data": {
            "text/plain": [
              "83.84"
            ]
          },
          "metadata": {
            "tags": []
          },
          "execution_count": 43
        }
      ]
    },
    {
      "cell_type": "markdown",
      "metadata": {
        "_cell_guid": "172a6286-d495-5ac4-1a9c-5b77b74ca6d2",
        "_uuid": "bb3ed027c45664148b61e3aa5e2ca8111aac8793",
        "id": "hSBpiJtt37N2"
      },
      "source": [
        "In pattern recognition, the k-Nearest Neighbors algorithm (or k-NN for short) is a non-parametric method used for classification and regression. A sample is classified by a majority vote of its neighbors, with the sample being assigned to the class most common among its k nearest neighbors (k is a positive integer, typically small). If k = 1, then the object is simply assigned to the class of that single nearest neighbor. Reference [Wikipedia](https://en.wikipedia.org/wiki/K-nearest_neighbors_algorithm).\n",
        "\n",
        "KNN confidence score is better than Logistics Regression but worse than SVM."
      ]
    },
    {
      "cell_type": "code",
      "metadata": {
        "_cell_guid": "ca14ae53-f05e-eb73-201c-064d7c3ed610",
        "_uuid": "54d86cd45703d459d452f89572771deaa8877999",
        "collapsed": true,
        "id": "_vPi7DBB37N2",
        "outputId": "2f776c36-a251-4425-ad58-3feb4a233dcb"
      },
      "source": [
        "knn = KNeighborsClassifier(n_neighbors = 3)\n",
        "knn.fit(X_train, Y_train)\n",
        "Y_pred = knn.predict(X_test)\n",
        "acc_knn = round(knn.score(X_train, Y_train) * 100, 2)\n",
        "acc_knn"
      ],
      "execution_count": null,
      "outputs": [
        {
          "output_type": "execute_result",
          "data": {
            "text/plain": [
              "84.74"
            ]
          },
          "metadata": {
            "tags": []
          },
          "execution_count": 44
        }
      ]
    },
    {
      "cell_type": "markdown",
      "metadata": {
        "_cell_guid": "810f723d-2313-8dfd-e3e2-26673b9caa90",
        "_uuid": "1535f18113f851e480cd53e0c612dc05835690f3",
        "id": "_bmWxyYg37N2"
      },
      "source": [
        "In machine learning, naive Bayes classifiers are a family of simple probabilistic classifiers based on applying Bayes' theorem with strong (naive) independence assumptions between the features. Naive Bayes classifiers are highly scalable, requiring a number of parameters linear in the number of variables (features) in a learning problem. Reference [Wikipedia](https://en.wikipedia.org/wiki/Naive_Bayes_classifier).\n",
        "\n",
        "The model generated confidence score is the lowest among the models evaluated so far."
      ]
    },
    {
      "cell_type": "code",
      "metadata": {
        "_cell_guid": "50378071-7043-ed8d-a782-70c947520dae",
        "_uuid": "723c835c29e8727bc9bad4b564731f2ca98025d0",
        "collapsed": true,
        "id": "lnMbhvlm37N2",
        "outputId": "177d5650-0478-4142-c67b-21d93034476b"
      },
      "source": [
        "# Gaussian Naive Bayes\n",
        "\n",
        "gaussian = GaussianNB()\n",
        "gaussian.fit(X_train, Y_train)\n",
        "Y_pred = gaussian.predict(X_test)\n",
        "acc_gaussian = round(gaussian.score(X_train, Y_train) * 100, 2)\n",
        "acc_gaussian"
      ],
      "execution_count": null,
      "outputs": [
        {
          "output_type": "execute_result",
          "data": {
            "text/plain": [
              "72.28"
            ]
          },
          "metadata": {
            "tags": []
          },
          "execution_count": 45
        }
      ]
    },
    {
      "cell_type": "markdown",
      "metadata": {
        "_cell_guid": "1e286e19-b714-385a-fcfa-8cf5ec19956a",
        "_uuid": "df148bf93e11c9ec2c97162d5c0c0605b75d9334",
        "id": "iCGgBQ5E37N2"
      },
      "source": [
        "The perceptron is an algorithm for supervised learning of binary classifiers (functions that can decide whether an input, represented by a vector of numbers, belongs to some specific class or not). It is a type of linear classifier, i.e. a classification algorithm that makes its predictions based on a linear predictor function combining a set of weights with the feature vector. The algorithm allows for online learning, in that it processes elements in the training set one at a time. Reference [Wikipedia](https://en.wikipedia.org/wiki/Perceptron)."
      ]
    },
    {
      "cell_type": "code",
      "metadata": {
        "_cell_guid": "ccc22a86-b7cb-c2dd-74bd-53b218d6ed0d",
        "_uuid": "c19d08949f9c3a26931e28adedc848b4deaa8ab6",
        "collapsed": true,
        "id": "O8DaZ6Eq37N3",
        "outputId": "79c38a30-8dae-48de-a392-4fb274287195"
      },
      "source": [
        "# Perceptron\n",
        "\n",
        "perceptron = Perceptron()\n",
        "perceptron.fit(X_train, Y_train)\n",
        "Y_pred = perceptron.predict(X_test)\n",
        "acc_perceptron = round(perceptron.score(X_train, Y_train) * 100, 2)\n",
        "acc_perceptron"
      ],
      "execution_count": null,
      "outputs": [
        {
          "output_type": "stream",
          "text": [
            "/opt/conda/lib/python3.6/site-packages/sklearn/linear_model/stochastic_gradient.py:166: FutureWarning: max_iter and tol parameters have been added in Perceptron in 0.19. If both are left unset, they default to max_iter=5 and tol=None. If tol is not None, max_iter defaults to max_iter=1000. From 0.21, default max_iter will be 1000, and default tol will be 1e-3.\n",
            "  FutureWarning)\n"
          ],
          "name": "stderr"
        },
        {
          "output_type": "execute_result",
          "data": {
            "text/plain": [
              "78.0"
            ]
          },
          "metadata": {
            "tags": []
          },
          "execution_count": 46
        }
      ]
    },
    {
      "cell_type": "code",
      "metadata": {
        "_cell_guid": "a4d56857-9432-55bb-14c0-52ebeb64d198",
        "_uuid": "52ea4f44dd626448dd2199cb284b592670b1394b",
        "collapsed": true,
        "id": "5TH7jHwW37N3",
        "outputId": "b919b016-4c57-42ef-f6c4-b3da326896a2"
      },
      "source": [
        "# Linear SVC\n",
        "\n",
        "linear_svc = LinearSVC()\n",
        "linear_svc.fit(X_train, Y_train)\n",
        "Y_pred = linear_svc.predict(X_test)\n",
        "acc_linear_svc = round(linear_svc.score(X_train, Y_train) * 100, 2)\n",
        "acc_linear_svc"
      ],
      "execution_count": null,
      "outputs": [
        {
          "output_type": "stream",
          "text": [
            "/opt/conda/lib/python3.6/site-packages/sklearn/svm/base.py:931: ConvergenceWarning: Liblinear failed to converge, increase the number of iterations.\n",
            "  \"the number of iterations.\", ConvergenceWarning)\n"
          ],
          "name": "stderr"
        },
        {
          "output_type": "execute_result",
          "data": {
            "text/plain": [
              "79.12"
            ]
          },
          "metadata": {
            "tags": []
          },
          "execution_count": 47
        }
      ]
    },
    {
      "cell_type": "code",
      "metadata": {
        "_cell_guid": "dc98ed72-3aeb-861f-804d-b6e3d178bf4b",
        "_uuid": "3a016c1f24da59c85648204302d61ea15920e740",
        "collapsed": true,
        "id": "l0U97vfe37N3",
        "outputId": "776f598f-6019-4748-a46e-2c664d1089c3"
      },
      "source": [
        "# Stochastic Gradient Descent\n",
        "\n",
        "sgd = SGDClassifier()\n",
        "sgd.fit(X_train, Y_train)\n",
        "Y_pred = sgd.predict(X_test)\n",
        "acc_sgd = round(sgd.score(X_train, Y_train) * 100, 2)\n",
        "acc_sgd"
      ],
      "execution_count": null,
      "outputs": [
        {
          "output_type": "stream",
          "text": [
            "/opt/conda/lib/python3.6/site-packages/sklearn/linear_model/stochastic_gradient.py:166: FutureWarning: max_iter and tol parameters have been added in SGDClassifier in 0.19. If both are left unset, they default to max_iter=5 and tol=None. If tol is not None, max_iter defaults to max_iter=1000. From 0.21, default max_iter will be 1000, and default tol will be 1e-3.\n",
            "  FutureWarning)\n"
          ],
          "name": "stderr"
        },
        {
          "output_type": "execute_result",
          "data": {
            "text/plain": [
              "78.56"
            ]
          },
          "metadata": {
            "tags": []
          },
          "execution_count": 48
        }
      ]
    },
    {
      "cell_type": "markdown",
      "metadata": {
        "_cell_guid": "bae7f8d7-9da0-f4fd-bdb1-d97e719a18d7",
        "_uuid": "1c70e99920ae34adce03aaef38d61e2b83ff6a9c",
        "id": "8IgM1QSW37N3"
      },
      "source": [
        "This model uses a decision tree as a predictive model which maps features (tree branches) to conclusions about the target value (tree leaves). Tree models where the target variable can take a finite set of values are called classification trees; in these tree structures, leaves represent class labels and branches represent conjunctions of features that lead to those class labels. Decision trees where the target variable can take continuous values (typically real numbers) are called regression trees. Reference [Wikipedia](https://en.wikipedia.org/wiki/Decision_tree_learning).\n",
        "\n",
        "The model confidence score is the highest among models evaluated so far."
      ]
    },
    {
      "cell_type": "code",
      "metadata": {
        "_cell_guid": "dd85f2b7-ace2-0306-b4ec-79c68cd3fea0",
        "_uuid": "1f94308b23b934123c03067e84027b507b989e52",
        "collapsed": true,
        "id": "g45THyL537N3",
        "outputId": "05ffb912-ca9b-40b9-f393-4a00e3bd1c49"
      },
      "source": [
        "# Decision Tree\n",
        "\n",
        "decision_tree = DecisionTreeClassifier()\n",
        "decision_tree.fit(X_train, Y_train)\n",
        "Y_pred = decision_tree.predict(X_test)\n",
        "acc_decision_tree = round(decision_tree.score(X_train, Y_train) * 100, 2)\n",
        "acc_decision_tree"
      ],
      "execution_count": null,
      "outputs": [
        {
          "output_type": "execute_result",
          "data": {
            "text/plain": [
              "86.76"
            ]
          },
          "metadata": {
            "tags": []
          },
          "execution_count": 49
        }
      ]
    },
    {
      "cell_type": "markdown",
      "metadata": {
        "_cell_guid": "85693668-0cd5-4319-7768-eddb62d2b7d0",
        "_uuid": "24f4e46f202a858076be91752170cad52aa9aefa",
        "id": "-j9p1GP137N3"
      },
      "source": [
        "The next model Random Forests is one of the most popular. Random forests or random decision forests are an ensemble learning method for classification, regression and other tasks, that operate by constructing a multitude of decision trees (n_estimators=100) at training time and outputting the class that is the mode of the classes (classification) or mean prediction (regression) of the individual trees. Reference [Wikipedia](https://en.wikipedia.org/wiki/Random_forest).\n",
        "\n",
        "The model confidence score is the highest among models evaluated so far. We decide to use this model's output (Y_pred) for creating our competition submission of results."
      ]
    },
    {
      "cell_type": "code",
      "metadata": {
        "_cell_guid": "f0694a8e-b618-8ed9-6f0d-8c6fba2c4567",
        "_uuid": "483c647d2759a2703d20785a44f51b6dee47d0db",
        "collapsed": true,
        "id": "Fd_0jGf237N3",
        "outputId": "e86a893a-1568-4e2e-f223-6f42f734f530"
      },
      "source": [
        "# Random Forest\n",
        "\n",
        "random_forest = RandomForestClassifier(n_estimators=100)\n",
        "random_forest.fit(X_train, Y_train)\n",
        "Y_pred = random_forest.predict(X_test)\n",
        "random_forest.score(X_train, Y_train)\n",
        "acc_random_forest = round(random_forest.score(X_train, Y_train) * 100, 2)\n",
        "acc_random_forest"
      ],
      "execution_count": null,
      "outputs": [
        {
          "output_type": "execute_result",
          "data": {
            "text/plain": [
              "86.76"
            ]
          },
          "metadata": {
            "tags": []
          },
          "execution_count": 50
        }
      ]
    },
    {
      "cell_type": "markdown",
      "metadata": {
        "_cell_guid": "f6c9eef8-83dd-581c-2d8e-ce932fe3a44d",
        "_uuid": "2c1428d022430ea594af983a433757e11b47c50c",
        "id": "Mrk8K2Zb37N4"
      },
      "source": [
        "### Model evaluation\n",
        "\n",
        "We can now rank our evaluation of all the models to choose the best one for our problem. While both Decision Tree and Random Forest score the same, we choose to use Random Forest as they correct for decision trees' habit of overfitting to their training set. "
      ]
    },
    {
      "cell_type": "code",
      "metadata": {
        "_cell_guid": "1f3cebe0-31af-70b2-1ce4-0fd406bcdfc6",
        "_uuid": "06a52babe50e0dd837b553c78fc73872168e1c7d",
        "collapsed": true,
        "id": "2HrOESSw37N4",
        "outputId": "8a1c6f90-598d-44db-a6aa-a45d7e3aaf5c"
      },
      "source": [
        "models = pd.DataFrame({\n",
        "    'Model': ['Support Vector Machines', 'KNN', 'Logistic Regression', \n",
        "              'Random Forest', 'Naive Bayes', 'Perceptron', \n",
        "              'Stochastic Gradient Decent', 'Linear SVC', \n",
        "              'Decision Tree'],\n",
        "    'Score': [acc_svc, acc_knn, acc_log, \n",
        "              acc_random_forest, acc_gaussian, acc_perceptron, \n",
        "              acc_sgd, acc_linear_svc, acc_decision_tree]})\n",
        "models.sort_values(by='Score', ascending=False)"
      ],
      "execution_count": null,
      "outputs": [
        {
          "output_type": "execute_result",
          "data": {
            "text/html": [
              "<div>\n",
              "<style scoped>\n",
              "    .dataframe tbody tr th:only-of-type {\n",
              "        vertical-align: middle;\n",
              "    }\n",
              "\n",
              "    .dataframe tbody tr th {\n",
              "        vertical-align: top;\n",
              "    }\n",
              "\n",
              "    .dataframe thead th {\n",
              "        text-align: right;\n",
              "    }\n",
              "</style>\n",
              "<table border=\"1\" class=\"dataframe\">\n",
              "  <thead>\n",
              "    <tr style=\"text-align: right;\">\n",
              "      <th></th>\n",
              "      <th>Model</th>\n",
              "      <th>Score</th>\n",
              "    </tr>\n",
              "  </thead>\n",
              "  <tbody>\n",
              "    <tr>\n",
              "      <th>3</th>\n",
              "      <td>Random Forest</td>\n",
              "      <td>86.76</td>\n",
              "    </tr>\n",
              "    <tr>\n",
              "      <th>8</th>\n",
              "      <td>Decision Tree</td>\n",
              "      <td>86.76</td>\n",
              "    </tr>\n",
              "    <tr>\n",
              "      <th>1</th>\n",
              "      <td>KNN</td>\n",
              "      <td>84.74</td>\n",
              "    </tr>\n",
              "    <tr>\n",
              "      <th>0</th>\n",
              "      <td>Support Vector Machines</td>\n",
              "      <td>83.84</td>\n",
              "    </tr>\n",
              "    <tr>\n",
              "      <th>2</th>\n",
              "      <td>Logistic Regression</td>\n",
              "      <td>80.36</td>\n",
              "    </tr>\n",
              "    <tr>\n",
              "      <th>7</th>\n",
              "      <td>Linear SVC</td>\n",
              "      <td>79.12</td>\n",
              "    </tr>\n",
              "    <tr>\n",
              "      <th>6</th>\n",
              "      <td>Stochastic Gradient Decent</td>\n",
              "      <td>78.56</td>\n",
              "    </tr>\n",
              "    <tr>\n",
              "      <th>5</th>\n",
              "      <td>Perceptron</td>\n",
              "      <td>78.00</td>\n",
              "    </tr>\n",
              "    <tr>\n",
              "      <th>4</th>\n",
              "      <td>Naive Bayes</td>\n",
              "      <td>72.28</td>\n",
              "    </tr>\n",
              "  </tbody>\n",
              "</table>\n",
              "</div>"
            ],
            "text/plain": [
              "                        Model  Score\n",
              "3               Random Forest  86.76\n",
              "8               Decision Tree  86.76\n",
              "1                         KNN  84.74\n",
              "0     Support Vector Machines  83.84\n",
              "2         Logistic Regression  80.36\n",
              "7                  Linear SVC  79.12\n",
              "6  Stochastic Gradient Decent  78.56\n",
              "5                  Perceptron  78.00\n",
              "4                 Naive Bayes  72.28"
            ]
          },
          "metadata": {
            "tags": []
          },
          "execution_count": 51
        }
      ]
    },
    {
      "cell_type": "code",
      "metadata": {
        "_cell_guid": "28854d36-051f-3ef0-5535-fa5ba6a9bef7",
        "_uuid": "82b31ea933b3026bd038a8370d651efdcdb3e4d7",
        "collapsed": true,
        "id": "dZcyJuO_37N4"
      },
      "source": [
        "submission = pd.DataFrame({\n",
        "        \"PassengerId\": test_df[\"PassengerId\"],\n",
        "        \"Survived\": Y_pred\n",
        "    })\n",
        "# submission.to_csv('../output/submission.csv', index=False)"
      ],
      "execution_count": null,
      "outputs": []
    },
    {
      "cell_type": "markdown",
      "metadata": {
        "_cell_guid": "fcfc8d9f-e955-cf70-5843-1fb764c54699",
        "_uuid": "0523a03b329df58c33ed672e5fb6cd2c9af1cae3",
        "id": "J4TcAjhr37N4"
      },
      "source": [
        "Our submission to the competition site Kaggle results in scoring 3,883 of 6,082 competition entries. This result is indicative while the competition is running. This result only accounts for part of the submission dataset. Not bad for our first attempt. Any suggestions to improve our score are most welcome."
      ]
    },
    {
      "cell_type": "markdown",
      "metadata": {
        "_cell_guid": "aeec9210-f9d8-cd7c-c4cf-a87376d5f693",
        "_uuid": "cdae56d6adbfb15ff9c491c645ae46e2c91d75ce",
        "id": "-agHEuRx37N4"
      },
      "source": [
        "## References\n",
        "\n",
        "This notebook has been created based on great work done solving the Titanic competition and other sources.\n",
        "\n",
        "- [A journey through Titanic](https://www.kaggle.com/omarelgabry/titanic/a-journey-through-titanic)\n",
        "- [Getting Started with Pandas: Kaggle's Titanic Competition](https://www.kaggle.com/c/titanic/details/getting-started-with-random-forests)\n",
        "- [Titanic Best Working Classifier](https://www.kaggle.com/sinakhorami/titanic/titanic-best-working-classifier)"
      ]
    },
    {
      "cell_type": "code",
      "metadata": {
        "id": "H-CEXagS4N-K"
      },
      "source": [
        ""
      ],
      "execution_count": null,
      "outputs": []
    }
  ]
}